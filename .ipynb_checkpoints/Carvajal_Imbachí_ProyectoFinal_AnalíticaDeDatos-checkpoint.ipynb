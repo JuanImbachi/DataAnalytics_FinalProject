{
 "cells": [
  {
   "cell_type": "markdown",
   "metadata": {},
   "source": [
    "# Proyecto Final Analítica de Datos"
   ]
  },
  {
   "cell_type": "markdown",
   "metadata": {},
   "source": [
    "#### Juan Diego Carvajal Castaño - A00135764\n",
    "#### Juan Manuel Imbachí Güengue - A00130580"
   ]
  },
  {
   "cell_type": "markdown",
   "metadata": {},
   "source": [
    "Importamos las librerías que vamos a usar"
   ]
  },
  {
   "cell_type": "code",
   "execution_count": 1,
   "metadata": {},
   "outputs": [],
   "source": [
    "import numpy as np #operaciones matriciales y con vectores\n",
    "import pandas as pd #tratamiento de datos\n",
    "import matplotlib.pyplot as plt #gráficos\n",
    "import seaborn as sns"
   ]
  },
  {
   "cell_type": "code",
   "execution_count": 2,
   "metadata": {},
   "outputs": [],
   "source": [
    "data = pd.read_csv('2017-18_NBA_salary.csv')"
   ]
  },
  {
   "cell_type": "markdown",
   "metadata": {},
   "source": [
    "## 1. Limpieza y EDA\n",
    "\n",
    "El objetivo de esta sección es evaluar la calidad de los datos y tener un entendimiento inicial de la relación entre las variables predictivas y la variable objetivo."
   ]
  },
  {
   "cell_type": "code",
   "execution_count": 3,
   "metadata": {},
   "outputs": [
    {
     "data": {
      "text/plain": [
       "(485, 28)"
      ]
     },
     "execution_count": 3,
     "metadata": {},
     "output_type": "execute_result"
    }
   ],
   "source": [
    "data.shape"
   ]
  },
  {
   "cell_type": "code",
   "execution_count": 4,
   "metadata": {},
   "outputs": [
    {
     "data": {
      "text/html": [
       "<div>\n",
       "<style scoped>\n",
       "    .dataframe tbody tr th:only-of-type {\n",
       "        vertical-align: middle;\n",
       "    }\n",
       "\n",
       "    .dataframe tbody tr th {\n",
       "        vertical-align: top;\n",
       "    }\n",
       "\n",
       "    .dataframe thead th {\n",
       "        text-align: right;\n",
       "    }\n",
       "</style>\n",
       "<table border=\"1\" class=\"dataframe\">\n",
       "  <thead>\n",
       "    <tr style=\"text-align: right;\">\n",
       "      <th></th>\n",
       "      <th>Player</th>\n",
       "      <th>Salary</th>\n",
       "      <th>NBA_Country</th>\n",
       "      <th>NBA_DraftNumber</th>\n",
       "      <th>Age</th>\n",
       "      <th>Tm</th>\n",
       "      <th>G</th>\n",
       "      <th>MP</th>\n",
       "      <th>PER</th>\n",
       "      <th>TS%</th>\n",
       "      <th>...</th>\n",
       "      <th>TOV%</th>\n",
       "      <th>USG%</th>\n",
       "      <th>OWS</th>\n",
       "      <th>DWS</th>\n",
       "      <th>WS</th>\n",
       "      <th>WS/48</th>\n",
       "      <th>OBPM</th>\n",
       "      <th>DBPM</th>\n",
       "      <th>BPM</th>\n",
       "      <th>VORP</th>\n",
       "    </tr>\n",
       "  </thead>\n",
       "  <tbody>\n",
       "    <tr>\n",
       "      <td>0</td>\n",
       "      <td>Zhou Qi</td>\n",
       "      <td>815615</td>\n",
       "      <td>China</td>\n",
       "      <td>43</td>\n",
       "      <td>22</td>\n",
       "      <td>HOU</td>\n",
       "      <td>16</td>\n",
       "      <td>87</td>\n",
       "      <td>0.6</td>\n",
       "      <td>0.303</td>\n",
       "      <td>...</td>\n",
       "      <td>18.2</td>\n",
       "      <td>19.5</td>\n",
       "      <td>-0.4</td>\n",
       "      <td>0.1</td>\n",
       "      <td>-0.2</td>\n",
       "      <td>-0.121</td>\n",
       "      <td>-10.6</td>\n",
       "      <td>0.5</td>\n",
       "      <td>-10.1</td>\n",
       "      <td>-0.2</td>\n",
       "    </tr>\n",
       "    <tr>\n",
       "      <td>1</td>\n",
       "      <td>Zaza Pachulia</td>\n",
       "      <td>3477600</td>\n",
       "      <td>Georgia</td>\n",
       "      <td>42</td>\n",
       "      <td>33</td>\n",
       "      <td>GSW</td>\n",
       "      <td>66</td>\n",
       "      <td>937</td>\n",
       "      <td>16.8</td>\n",
       "      <td>0.608</td>\n",
       "      <td>...</td>\n",
       "      <td>19.3</td>\n",
       "      <td>17.2</td>\n",
       "      <td>1.7</td>\n",
       "      <td>1.4</td>\n",
       "      <td>3.1</td>\n",
       "      <td>0.160</td>\n",
       "      <td>-0.6</td>\n",
       "      <td>1.3</td>\n",
       "      <td>0.8</td>\n",
       "      <td>0.7</td>\n",
       "    </tr>\n",
       "    <tr>\n",
       "      <td>2</td>\n",
       "      <td>Zach Randolph</td>\n",
       "      <td>12307692</td>\n",
       "      <td>USA</td>\n",
       "      <td>19</td>\n",
       "      <td>36</td>\n",
       "      <td>SAC</td>\n",
       "      <td>59</td>\n",
       "      <td>1508</td>\n",
       "      <td>17.3</td>\n",
       "      <td>0.529</td>\n",
       "      <td>...</td>\n",
       "      <td>12.5</td>\n",
       "      <td>27.6</td>\n",
       "      <td>0.3</td>\n",
       "      <td>1.1</td>\n",
       "      <td>1.4</td>\n",
       "      <td>0.046</td>\n",
       "      <td>-0.6</td>\n",
       "      <td>-1.3</td>\n",
       "      <td>-1.9</td>\n",
       "      <td>0.0</td>\n",
       "    </tr>\n",
       "    <tr>\n",
       "      <td>3</td>\n",
       "      <td>Zach LaVine</td>\n",
       "      <td>3202217</td>\n",
       "      <td>USA</td>\n",
       "      <td>13</td>\n",
       "      <td>22</td>\n",
       "      <td>CHI</td>\n",
       "      <td>24</td>\n",
       "      <td>656</td>\n",
       "      <td>14.6</td>\n",
       "      <td>0.499</td>\n",
       "      <td>...</td>\n",
       "      <td>9.7</td>\n",
       "      <td>29.5</td>\n",
       "      <td>-0.1</td>\n",
       "      <td>0.5</td>\n",
       "      <td>0.4</td>\n",
       "      <td>0.027</td>\n",
       "      <td>-0.7</td>\n",
       "      <td>-2.0</td>\n",
       "      <td>-2.6</td>\n",
       "      <td>-0.1</td>\n",
       "    </tr>\n",
       "    <tr>\n",
       "      <td>4</td>\n",
       "      <td>Zach Collins</td>\n",
       "      <td>3057240</td>\n",
       "      <td>USA</td>\n",
       "      <td>10</td>\n",
       "      <td>20</td>\n",
       "      <td>POR</td>\n",
       "      <td>62</td>\n",
       "      <td>979</td>\n",
       "      <td>8.2</td>\n",
       "      <td>0.487</td>\n",
       "      <td>...</td>\n",
       "      <td>15.6</td>\n",
       "      <td>15.5</td>\n",
       "      <td>-0.4</td>\n",
       "      <td>1.2</td>\n",
       "      <td>0.8</td>\n",
       "      <td>0.038</td>\n",
       "      <td>-3.7</td>\n",
       "      <td>0.9</td>\n",
       "      <td>-2.9</td>\n",
       "      <td>-0.2</td>\n",
       "    </tr>\n",
       "  </tbody>\n",
       "</table>\n",
       "<p>5 rows × 28 columns</p>\n",
       "</div>"
      ],
      "text/plain": [
       "          Player    Salary NBA_Country  NBA_DraftNumber  Age   Tm   G    MP  \\\n",
       "0        Zhou Qi    815615       China               43   22  HOU  16    87   \n",
       "1  Zaza Pachulia   3477600     Georgia               42   33  GSW  66   937   \n",
       "2  Zach Randolph  12307692         USA               19   36  SAC  59  1508   \n",
       "3    Zach LaVine   3202217         USA               13   22  CHI  24   656   \n",
       "4   Zach Collins   3057240         USA               10   20  POR  62   979   \n",
       "\n",
       "    PER    TS%  ...  TOV%  USG%  OWS  DWS   WS  WS/48  OBPM  DBPM   BPM  VORP  \n",
       "0   0.6  0.303  ...  18.2  19.5 -0.4  0.1 -0.2 -0.121 -10.6   0.5 -10.1  -0.2  \n",
       "1  16.8  0.608  ...  19.3  17.2  1.7  1.4  3.1  0.160  -0.6   1.3   0.8   0.7  \n",
       "2  17.3  0.529  ...  12.5  27.6  0.3  1.1  1.4  0.046  -0.6  -1.3  -1.9   0.0  \n",
       "3  14.6  0.499  ...   9.7  29.5 -0.1  0.5  0.4  0.027  -0.7  -2.0  -2.6  -0.1  \n",
       "4   8.2  0.487  ...  15.6  15.5 -0.4  1.2  0.8  0.038  -3.7   0.9  -2.9  -0.2  \n",
       "\n",
       "[5 rows x 28 columns]"
      ]
     },
     "execution_count": 4,
     "metadata": {},
     "output_type": "execute_result"
    }
   ],
   "source": [
    "data.head()"
   ]
  },
  {
   "cell_type": "markdown",
   "metadata": {},
   "source": [
    "Hay 485 registros con 28 variables.\n",
    "Ahora analizaremos si hay problemas de datos con respecto a valores faltantes y outliers."
   ]
  },
  {
   "cell_type": "code",
   "execution_count": 5,
   "metadata": {
    "scrolled": true
   },
   "outputs": [
    {
     "data": {
      "text/html": [
       "<div>\n",
       "<style scoped>\n",
       "    .dataframe tbody tr th:only-of-type {\n",
       "        vertical-align: middle;\n",
       "    }\n",
       "\n",
       "    .dataframe tbody tr th {\n",
       "        vertical-align: top;\n",
       "    }\n",
       "\n",
       "    .dataframe thead th {\n",
       "        text-align: right;\n",
       "    }\n",
       "</style>\n",
       "<table border=\"1\" class=\"dataframe\">\n",
       "  <thead>\n",
       "    <tr style=\"text-align: right;\">\n",
       "      <th></th>\n",
       "      <th>count</th>\n",
       "      <th>unique</th>\n",
       "      <th>top</th>\n",
       "      <th>freq</th>\n",
       "      <th>mean</th>\n",
       "      <th>std</th>\n",
       "      <th>min</th>\n",
       "      <th>25%</th>\n",
       "      <th>50%</th>\n",
       "      <th>75%</th>\n",
       "      <th>max</th>\n",
       "    </tr>\n",
       "  </thead>\n",
       "  <tbody>\n",
       "    <tr>\n",
       "      <td>Player</td>\n",
       "      <td>485</td>\n",
       "      <td>483</td>\n",
       "      <td>Kay Felder</td>\n",
       "      <td>3</td>\n",
       "      <td>NaN</td>\n",
       "      <td>NaN</td>\n",
       "      <td>NaN</td>\n",
       "      <td>NaN</td>\n",
       "      <td>NaN</td>\n",
       "      <td>NaN</td>\n",
       "      <td>NaN</td>\n",
       "    </tr>\n",
       "    <tr>\n",
       "      <td>Salary</td>\n",
       "      <td>485</td>\n",
       "      <td>NaN</td>\n",
       "      <td>NaN</td>\n",
       "      <td>NaN</td>\n",
       "      <td>6.63651e+06</td>\n",
       "      <td>7.3926e+06</td>\n",
       "      <td>46080</td>\n",
       "      <td>1.47138e+06</td>\n",
       "      <td>3.20222e+06</td>\n",
       "      <td>1e+07</td>\n",
       "      <td>3.46826e+07</td>\n",
       "    </tr>\n",
       "    <tr>\n",
       "      <td>NBA_Country</td>\n",
       "      <td>485</td>\n",
       "      <td>44</td>\n",
       "      <td>USA</td>\n",
       "      <td>374</td>\n",
       "      <td>NaN</td>\n",
       "      <td>NaN</td>\n",
       "      <td>NaN</td>\n",
       "      <td>NaN</td>\n",
       "      <td>NaN</td>\n",
       "      <td>NaN</td>\n",
       "      <td>NaN</td>\n",
       "    </tr>\n",
       "    <tr>\n",
       "      <td>NBA_DraftNumber</td>\n",
       "      <td>485</td>\n",
       "      <td>NaN</td>\n",
       "      <td>NaN</td>\n",
       "      <td>NaN</td>\n",
       "      <td>29.4515</td>\n",
       "      <td>21.1258</td>\n",
       "      <td>1</td>\n",
       "      <td>11</td>\n",
       "      <td>25</td>\n",
       "      <td>47</td>\n",
       "      <td>62</td>\n",
       "    </tr>\n",
       "    <tr>\n",
       "      <td>Age</td>\n",
       "      <td>485</td>\n",
       "      <td>NaN</td>\n",
       "      <td>NaN</td>\n",
       "      <td>NaN</td>\n",
       "      <td>26.2639</td>\n",
       "      <td>4.2723</td>\n",
       "      <td>19</td>\n",
       "      <td>23</td>\n",
       "      <td>26</td>\n",
       "      <td>29</td>\n",
       "      <td>41</td>\n",
       "    </tr>\n",
       "    <tr>\n",
       "      <td>Tm</td>\n",
       "      <td>485</td>\n",
       "      <td>31</td>\n",
       "      <td>TOT</td>\n",
       "      <td>55</td>\n",
       "      <td>NaN</td>\n",
       "      <td>NaN</td>\n",
       "      <td>NaN</td>\n",
       "      <td>NaN</td>\n",
       "      <td>NaN</td>\n",
       "      <td>NaN</td>\n",
       "      <td>NaN</td>\n",
       "    </tr>\n",
       "    <tr>\n",
       "      <td>G</td>\n",
       "      <td>485</td>\n",
       "      <td>NaN</td>\n",
       "      <td>NaN</td>\n",
       "      <td>NaN</td>\n",
       "      <td>50.167</td>\n",
       "      <td>24.8749</td>\n",
       "      <td>1</td>\n",
       "      <td>29</td>\n",
       "      <td>59</td>\n",
       "      <td>71</td>\n",
       "      <td>79</td>\n",
       "    </tr>\n",
       "    <tr>\n",
       "      <td>MP</td>\n",
       "      <td>485</td>\n",
       "      <td>NaN</td>\n",
       "      <td>NaN</td>\n",
       "      <td>NaN</td>\n",
       "      <td>1154.14</td>\n",
       "      <td>811.357</td>\n",
       "      <td>1</td>\n",
       "      <td>381</td>\n",
       "      <td>1134</td>\n",
       "      <td>1819</td>\n",
       "      <td>2898</td>\n",
       "    </tr>\n",
       "    <tr>\n",
       "      <td>PER</td>\n",
       "      <td>485</td>\n",
       "      <td>NaN</td>\n",
       "      <td>NaN</td>\n",
       "      <td>NaN</td>\n",
       "      <td>13.2608</td>\n",
       "      <td>8.76928</td>\n",
       "      <td>-41.1</td>\n",
       "      <td>9.8</td>\n",
       "      <td>13.2</td>\n",
       "      <td>16.5</td>\n",
       "      <td>134.1</td>\n",
       "    </tr>\n",
       "    <tr>\n",
       "      <td>TS%</td>\n",
       "      <td>483</td>\n",
       "      <td>NaN</td>\n",
       "      <td>NaN</td>\n",
       "      <td>NaN</td>\n",
       "      <td>0.535387</td>\n",
       "      <td>0.112352</td>\n",
       "      <td>0</td>\n",
       "      <td>0.5055</td>\n",
       "      <td>0.545</td>\n",
       "      <td>0.5825</td>\n",
       "      <td>1.5</td>\n",
       "    </tr>\n",
       "    <tr>\n",
       "      <td>3PAr</td>\n",
       "      <td>483</td>\n",
       "      <td>NaN</td>\n",
       "      <td>NaN</td>\n",
       "      <td>NaN</td>\n",
       "      <td>0.337383</td>\n",
       "      <td>0.226894</td>\n",
       "      <td>0</td>\n",
       "      <td>0.167</td>\n",
       "      <td>0.346</td>\n",
       "      <td>0.481</td>\n",
       "      <td>1</td>\n",
       "    </tr>\n",
       "    <tr>\n",
       "      <td>FTr</td>\n",
       "      <td>483</td>\n",
       "      <td>NaN</td>\n",
       "      <td>NaN</td>\n",
       "      <td>NaN</td>\n",
       "      <td>0.263404</td>\n",
       "      <td>0.294578</td>\n",
       "      <td>0</td>\n",
       "      <td>0.155</td>\n",
       "      <td>0.231</td>\n",
       "      <td>0.3195</td>\n",
       "      <td>5.333</td>\n",
       "    </tr>\n",
       "    <tr>\n",
       "      <td>ORB%</td>\n",
       "      <td>485</td>\n",
       "      <td>NaN</td>\n",
       "      <td>NaN</td>\n",
       "      <td>NaN</td>\n",
       "      <td>4.87381</td>\n",
       "      <td>4.58281</td>\n",
       "      <td>0</td>\n",
       "      <td>1.8</td>\n",
       "      <td>3.2</td>\n",
       "      <td>7</td>\n",
       "      <td>35.9</td>\n",
       "    </tr>\n",
       "    <tr>\n",
       "      <td>DRB%</td>\n",
       "      <td>485</td>\n",
       "      <td>NaN</td>\n",
       "      <td>NaN</td>\n",
       "      <td>NaN</td>\n",
       "      <td>14.9507</td>\n",
       "      <td>6.84753</td>\n",
       "      <td>0</td>\n",
       "      <td>10.2</td>\n",
       "      <td>14</td>\n",
       "      <td>18.8</td>\n",
       "      <td>37.6</td>\n",
       "    </tr>\n",
       "    <tr>\n",
       "      <td>TRB%</td>\n",
       "      <td>485</td>\n",
       "      <td>NaN</td>\n",
       "      <td>NaN</td>\n",
       "      <td>NaN</td>\n",
       "      <td>9.90825</td>\n",
       "      <td>4.95644</td>\n",
       "      <td>0</td>\n",
       "      <td>6.2</td>\n",
       "      <td>8.7</td>\n",
       "      <td>13.3</td>\n",
       "      <td>26.5</td>\n",
       "    </tr>\n",
       "    <tr>\n",
       "      <td>AST%</td>\n",
       "      <td>485</td>\n",
       "      <td>NaN</td>\n",
       "      <td>NaN</td>\n",
       "      <td>NaN</td>\n",
       "      <td>12.9478</td>\n",
       "      <td>9.11241</td>\n",
       "      <td>0</td>\n",
       "      <td>6.9</td>\n",
       "      <td>9.9</td>\n",
       "      <td>17.6</td>\n",
       "      <td>49.4</td>\n",
       "    </tr>\n",
       "    <tr>\n",
       "      <td>STL%</td>\n",
       "      <td>485</td>\n",
       "      <td>NaN</td>\n",
       "      <td>NaN</td>\n",
       "      <td>NaN</td>\n",
       "      <td>1.52948</td>\n",
       "      <td>0.989562</td>\n",
       "      <td>0</td>\n",
       "      <td>1</td>\n",
       "      <td>1.5</td>\n",
       "      <td>1.9</td>\n",
       "      <td>12.5</td>\n",
       "    </tr>\n",
       "    <tr>\n",
       "      <td>BLK%</td>\n",
       "      <td>485</td>\n",
       "      <td>NaN</td>\n",
       "      <td>NaN</td>\n",
       "      <td>NaN</td>\n",
       "      <td>1.7132</td>\n",
       "      <td>1.68379</td>\n",
       "      <td>0</td>\n",
       "      <td>0.6</td>\n",
       "      <td>1.2</td>\n",
       "      <td>2.2</td>\n",
       "      <td>13.4</td>\n",
       "    </tr>\n",
       "    <tr>\n",
       "      <td>TOV%</td>\n",
       "      <td>483</td>\n",
       "      <td>NaN</td>\n",
       "      <td>NaN</td>\n",
       "      <td>NaN</td>\n",
       "      <td>13.1404</td>\n",
       "      <td>6.11529</td>\n",
       "      <td>0</td>\n",
       "      <td>9.9</td>\n",
       "      <td>12.5</td>\n",
       "      <td>15.75</td>\n",
       "      <td>66.7</td>\n",
       "    </tr>\n",
       "    <tr>\n",
       "      <td>USG%</td>\n",
       "      <td>485</td>\n",
       "      <td>NaN</td>\n",
       "      <td>NaN</td>\n",
       "      <td>NaN</td>\n",
       "      <td>18.8973</td>\n",
       "      <td>5.94054</td>\n",
       "      <td>0</td>\n",
       "      <td>15</td>\n",
       "      <td>17.9</td>\n",
       "      <td>22.2</td>\n",
       "      <td>45.1</td>\n",
       "    </tr>\n",
       "    <tr>\n",
       "      <td>OWS</td>\n",
       "      <td>485</td>\n",
       "      <td>NaN</td>\n",
       "      <td>NaN</td>\n",
       "      <td>NaN</td>\n",
       "      <td>1.27546</td>\n",
       "      <td>1.88144</td>\n",
       "      <td>-2.3</td>\n",
       "      <td>0</td>\n",
       "      <td>0.8</td>\n",
       "      <td>2</td>\n",
       "      <td>11.4</td>\n",
       "    </tr>\n",
       "    <tr>\n",
       "      <td>DWS</td>\n",
       "      <td>485</td>\n",
       "      <td>NaN</td>\n",
       "      <td>NaN</td>\n",
       "      <td>NaN</td>\n",
       "      <td>1.17649</td>\n",
       "      <td>1.03458</td>\n",
       "      <td>0</td>\n",
       "      <td>0.3</td>\n",
       "      <td>1</td>\n",
       "      <td>1.8</td>\n",
       "      <td>5.6</td>\n",
       "    </tr>\n",
       "    <tr>\n",
       "      <td>WS</td>\n",
       "      <td>485</td>\n",
       "      <td>NaN</td>\n",
       "      <td>NaN</td>\n",
       "      <td>NaN</td>\n",
       "      <td>2.45526</td>\n",
       "      <td>2.67367</td>\n",
       "      <td>-1.2</td>\n",
       "      <td>0.3</td>\n",
       "      <td>1.8</td>\n",
       "      <td>3.6</td>\n",
       "      <td>15</td>\n",
       "    </tr>\n",
       "    <tr>\n",
       "      <td>WS/48</td>\n",
       "      <td>485</td>\n",
       "      <td>NaN</td>\n",
       "      <td>NaN</td>\n",
       "      <td>NaN</td>\n",
       "      <td>0.0799588</td>\n",
       "      <td>0.162992</td>\n",
       "      <td>-1.063</td>\n",
       "      <td>0.04</td>\n",
       "      <td>0.083</td>\n",
       "      <td>0.123</td>\n",
       "      <td>2.713</td>\n",
       "    </tr>\n",
       "    <tr>\n",
       "      <td>OBPM</td>\n",
       "      <td>485</td>\n",
       "      <td>NaN</td>\n",
       "      <td>NaN</td>\n",
       "      <td>NaN</td>\n",
       "      <td>-1.27072</td>\n",
       "      <td>5.02627</td>\n",
       "      <td>-36.5</td>\n",
       "      <td>-2.7</td>\n",
       "      <td>-1.1</td>\n",
       "      <td>0.4</td>\n",
       "      <td>68.7</td>\n",
       "    </tr>\n",
       "    <tr>\n",
       "      <td>DBPM</td>\n",
       "      <td>485</td>\n",
       "      <td>NaN</td>\n",
       "      <td>NaN</td>\n",
       "      <td>NaN</td>\n",
       "      <td>-0.489485</td>\n",
       "      <td>2.38934</td>\n",
       "      <td>-14.3</td>\n",
       "      <td>-1.7</td>\n",
       "      <td>-0.4</td>\n",
       "      <td>1</td>\n",
       "      <td>6.8</td>\n",
       "    </tr>\n",
       "    <tr>\n",
       "      <td>BPM</td>\n",
       "      <td>485</td>\n",
       "      <td>NaN</td>\n",
       "      <td>NaN</td>\n",
       "      <td>NaN</td>\n",
       "      <td>-1.76021</td>\n",
       "      <td>5.66145</td>\n",
       "      <td>-49.2</td>\n",
       "      <td>-3.6</td>\n",
       "      <td>-1.3</td>\n",
       "      <td>0.5</td>\n",
       "      <td>54.4</td>\n",
       "    </tr>\n",
       "    <tr>\n",
       "      <td>VORP</td>\n",
       "      <td>485</td>\n",
       "      <td>NaN</td>\n",
       "      <td>NaN</td>\n",
       "      <td>NaN</td>\n",
       "      <td>0.598763</td>\n",
       "      <td>1.24565</td>\n",
       "      <td>-1.3</td>\n",
       "      <td>-0.1</td>\n",
       "      <td>0.1</td>\n",
       "      <td>0.9</td>\n",
       "      <td>8.6</td>\n",
       "    </tr>\n",
       "  </tbody>\n",
       "</table>\n",
       "</div>"
      ],
      "text/plain": [
       "                count unique         top freq         mean         std    min  \\\n",
       "Player            485    483  Kay Felder    3          NaN         NaN    NaN   \n",
       "Salary            485    NaN         NaN  NaN  6.63651e+06  7.3926e+06  46080   \n",
       "NBA_Country       485     44         USA  374          NaN         NaN    NaN   \n",
       "NBA_DraftNumber   485    NaN         NaN  NaN      29.4515     21.1258      1   \n",
       "Age               485    NaN         NaN  NaN      26.2639      4.2723     19   \n",
       "Tm                485     31         TOT   55          NaN         NaN    NaN   \n",
       "G                 485    NaN         NaN  NaN       50.167     24.8749      1   \n",
       "MP                485    NaN         NaN  NaN      1154.14     811.357      1   \n",
       "PER               485    NaN         NaN  NaN      13.2608     8.76928  -41.1   \n",
       "TS%               483    NaN         NaN  NaN     0.535387    0.112352      0   \n",
       "3PAr              483    NaN         NaN  NaN     0.337383    0.226894      0   \n",
       "FTr               483    NaN         NaN  NaN     0.263404    0.294578      0   \n",
       "ORB%              485    NaN         NaN  NaN      4.87381     4.58281      0   \n",
       "DRB%              485    NaN         NaN  NaN      14.9507     6.84753      0   \n",
       "TRB%              485    NaN         NaN  NaN      9.90825     4.95644      0   \n",
       "AST%              485    NaN         NaN  NaN      12.9478     9.11241      0   \n",
       "STL%              485    NaN         NaN  NaN      1.52948    0.989562      0   \n",
       "BLK%              485    NaN         NaN  NaN       1.7132     1.68379      0   \n",
       "TOV%              483    NaN         NaN  NaN      13.1404     6.11529      0   \n",
       "USG%              485    NaN         NaN  NaN      18.8973     5.94054      0   \n",
       "OWS               485    NaN         NaN  NaN      1.27546     1.88144   -2.3   \n",
       "DWS               485    NaN         NaN  NaN      1.17649     1.03458      0   \n",
       "WS                485    NaN         NaN  NaN      2.45526     2.67367   -1.2   \n",
       "WS/48             485    NaN         NaN  NaN    0.0799588    0.162992 -1.063   \n",
       "OBPM              485    NaN         NaN  NaN     -1.27072     5.02627  -36.5   \n",
       "DBPM              485    NaN         NaN  NaN    -0.489485     2.38934  -14.3   \n",
       "BPM               485    NaN         NaN  NaN     -1.76021     5.66145  -49.2   \n",
       "VORP              485    NaN         NaN  NaN     0.598763     1.24565   -1.3   \n",
       "\n",
       "                         25%          50%     75%          max  \n",
       "Player                   NaN          NaN     NaN          NaN  \n",
       "Salary           1.47138e+06  3.20222e+06   1e+07  3.46826e+07  \n",
       "NBA_Country              NaN          NaN     NaN          NaN  \n",
       "NBA_DraftNumber           11           25      47           62  \n",
       "Age                       23           26      29           41  \n",
       "Tm                       NaN          NaN     NaN          NaN  \n",
       "G                         29           59      71           79  \n",
       "MP                       381         1134    1819         2898  \n",
       "PER                      9.8         13.2    16.5        134.1  \n",
       "TS%                   0.5055        0.545  0.5825          1.5  \n",
       "3PAr                   0.167        0.346   0.481            1  \n",
       "FTr                    0.155        0.231  0.3195        5.333  \n",
       "ORB%                     1.8          3.2       7         35.9  \n",
       "DRB%                    10.2           14    18.8         37.6  \n",
       "TRB%                     6.2          8.7    13.3         26.5  \n",
       "AST%                     6.9          9.9    17.6         49.4  \n",
       "STL%                       1          1.5     1.9         12.5  \n",
       "BLK%                     0.6          1.2     2.2         13.4  \n",
       "TOV%                     9.9         12.5   15.75         66.7  \n",
       "USG%                      15         17.9    22.2         45.1  \n",
       "OWS                        0          0.8       2         11.4  \n",
       "DWS                      0.3            1     1.8          5.6  \n",
       "WS                       0.3          1.8     3.6           15  \n",
       "WS/48                   0.04        0.083   0.123        2.713  \n",
       "OBPM                    -2.7         -1.1     0.4         68.7  \n",
       "DBPM                    -1.7         -0.4       1          6.8  \n",
       "BPM                     -3.6         -1.3     0.5         54.4  \n",
       "VORP                    -0.1          0.1     0.9          8.6  "
      ]
     },
     "execution_count": 5,
     "metadata": {},
     "output_type": "execute_result"
    }
   ],
   "source": [
    "data.describe(include=\"all\").transpose()"
   ]
  },
  {
   "cell_type": "markdown",
   "metadata": {},
   "source": [
    "Aparentemente no hay outliers, sin embargo, se puede observar que hay valores faltantes, puesto que el valor de la columna COUNT no es 485 para todas las variables."
   ]
  },
  {
   "cell_type": "code",
   "execution_count": 6,
   "metadata": {
    "scrolled": false
   },
   "outputs": [
    {
     "data": {
      "image/png": "[encoded data removed]",
      "text/plain": [
       "<Figure size 1080x1080 with 1 Axes>"
      ]
     },
     "metadata": {
      "needs_background": "light"
     },
     "output_type": "display_data"
    }
   ],
   "source": [
    "ax = data['Salary'].plot.hist(bins=100, orientation='horizontal', figsize = (15,15), edgecolor='white') \n",
    "ax.set_ylabel('Salaries') \n",
    "ax.ticklabel_format(useOffset=False, style='plain', axis='y')"
   ]
  },
  {
   "cell_type": "markdown",
   "metadata": {},
   "source": [
    "Como se puede observar en el histograma, los valores de la variable objetivo no están distribuidos simétricamente pues no vemos una distribución en forma de campana de Gauss."
   ]
  },
  {
   "cell_type": "code",
   "execution_count": 7,
   "metadata": {
    "scrolled": true
   },
   "outputs": [
    {
     "data": {
      "image/png": "[encoded data removed]",
      "text/plain": [
       "<Figure size 3960x180 with 22 Axes>"
      ]
     },
     "metadata": {
      "needs_background": "light"
     },
     "output_type": "display_data"
    }
   ],
   "source": [
    "import seaborn as sns\n",
    "pp = sns.pairplot(data=data,\n",
    "                  y_vars=['Salary'],\n",
    "                  x_vars=data.columns[6:])"
   ]
  },
  {
   "cell_type": "markdown",
   "metadata": {},
   "source": [
    "Con estos diagramas podemos ver la relación existente entre la variable dependiente y las variables independientes, si se observa con atención las variables independientes numéricas, podemos observar si existe una tendencia o correlación entre ella y la variable objetivo, esto puede darnos una idea de que tan bien podría explicar el comportamiento de Y."
   ]
  },
  {
   "cell_type": "markdown",
   "metadata": {},
   "source": [
    "### Variables que tienen valores faltantes\n"
   ]
  },
  {
   "cell_type": "code",
   "execution_count": 8,
   "metadata": {},
   "outputs": [
    {
     "name": "stdout",
     "output_type": "stream",
     "text": [
      "<class 'pandas.core.frame.DataFrame'>\n",
      "RangeIndex: 485 entries, 0 to 484\n",
      "Data columns (total 28 columns):\n",
      "Player             485 non-null object\n",
      "Salary             485 non-null int64\n",
      "NBA_Country        485 non-null object\n",
      "NBA_DraftNumber    485 non-null int64\n",
      "Age                485 non-null int64\n",
      "Tm                 485 non-null object\n",
      "G                  485 non-null int64\n",
      "MP                 485 non-null int64\n",
      "PER                485 non-null float64\n",
      "TS%                483 non-null float64\n",
      "3PAr               483 non-null float64\n",
      "FTr                483 non-null float64\n",
      "ORB%               485 non-null float64\n",
      "DRB%               485 non-null float64\n",
      "TRB%               485 non-null float64\n",
      "AST%               485 non-null float64\n",
      "STL%               485 non-null float64\n",
      "BLK%               485 non-null float64\n",
      "TOV%               483 non-null float64\n",
      "USG%               485 non-null float64\n",
      "OWS                485 non-null float64\n",
      "DWS                485 non-null float64\n",
      "WS                 485 non-null float64\n",
      "WS/48              485 non-null float64\n",
      "OBPM               485 non-null float64\n",
      "DBPM               485 non-null float64\n",
      "BPM                485 non-null float64\n",
      "VORP               485 non-null float64\n",
      "dtypes: float64(20), int64(5), object(3)\n",
      "memory usage: 106.2+ KB\n"
     ]
    }
   ],
   "source": [
    "data.info()"
   ]
  },
  {
   "cell_type": "code",
   "execution_count": 9,
   "metadata": {
    "scrolled": false
   },
   "outputs": [
    {
     "name": "stdout",
     "output_type": "stream",
     "text": [
      "Player             False\n",
      "Salary             False\n",
      "NBA_Country        False\n",
      "NBA_DraftNumber    False\n",
      "Age                False\n",
      "Tm                 False\n",
      "G                  False\n",
      "MP                 False\n",
      "PER                False\n",
      "TS%                 True\n",
      "3PAr                True\n",
      "FTr                 True\n",
      "ORB%               False\n",
      "DRB%               False\n",
      "TRB%               False\n",
      "AST%               False\n",
      "STL%               False\n",
      "BLK%               False\n",
      "TOV%                True\n",
      "USG%               False\n",
      "OWS                False\n",
      "DWS                False\n",
      "WS                 False\n",
      "WS/48              False\n",
      "OBPM               False\n",
      "DBPM               False\n",
      "BPM                False\n",
      "VORP               False\n",
      "dtype: bool\n",
      "Las columnas que tienen valores faltantes son:  [ 9 10 11 18]\n",
      "y corresponden a:  Index(['TS%', '3PAr', 'FTr', 'TOV%'], dtype='object')\n"
     ]
    }
   ],
   "source": [
    "print(pd.isnull(data).any(0)) #el 0 implica cualquier columna, si quisieramos las filas utilizamos 1\n",
    "print(\"Las columnas que tienen valores faltantes son: \",pd.isnull(data).any(0).to_numpy().nonzero()[0])\n",
    "print(\"y corresponden a: \", data.columns[pd.isnull(data).any(0).to_numpy().nonzero()[0]])"
   ]
  },
  {
   "cell_type": "markdown",
   "metadata": {},
   "source": [
    "#### Las columnas TS%, 3PAr, FTr, TOV% tienen valores faltantes. "
   ]
  },
  {
   "cell_type": "markdown",
   "metadata": {},
   "source": [
    "### Registros repetidos"
   ]
  },
  {
   "cell_type": "code",
   "execution_count": 10,
   "metadata": {
    "scrolled": true
   },
   "outputs": [
    {
     "data": {
      "text/plain": [
       "Kay Felder           3\n",
       "Marreese Speights    1\n",
       "Arron Afflalo        1\n",
       "Travis Wear          1\n",
       "Tony Allen           1\n",
       "                    ..\n",
       "Andre Iguodala       1\n",
       "Paul Millsap         1\n",
       "Glenn Robinson       1\n",
       "Russell Westbrook    1\n",
       "Derrick White        1\n",
       "Name: Player, Length: 483, dtype: int64"
      ]
     },
     "execution_count": 10,
     "metadata": {},
     "output_type": "execute_result"
    }
   ],
   "source": [
    "data['Player'].value_counts()"
   ]
  },
  {
   "cell_type": "code",
   "execution_count": 11,
   "metadata": {
    "scrolled": true
   },
   "outputs": [
    {
     "data": {
      "text/html": [
       "<div>\n",
       "<style scoped>\n",
       "    .dataframe tbody tr th:only-of-type {\n",
       "        vertical-align: middle;\n",
       "    }\n",
       "\n",
       "    .dataframe tbody tr th {\n",
       "        vertical-align: top;\n",
       "    }\n",
       "\n",
       "    .dataframe thead th {\n",
       "        text-align: right;\n",
       "    }\n",
       "</style>\n",
       "<table border=\"1\" class=\"dataframe\">\n",
       "  <thead>\n",
       "    <tr style=\"text-align: right;\">\n",
       "      <th></th>\n",
       "      <th>Player</th>\n",
       "      <th>Salary</th>\n",
       "      <th>NBA_Country</th>\n",
       "      <th>NBA_DraftNumber</th>\n",
       "      <th>Age</th>\n",
       "      <th>Tm</th>\n",
       "      <th>G</th>\n",
       "      <th>MP</th>\n",
       "      <th>PER</th>\n",
       "      <th>TS%</th>\n",
       "      <th>...</th>\n",
       "      <th>TOV%</th>\n",
       "      <th>USG%</th>\n",
       "      <th>OWS</th>\n",
       "      <th>DWS</th>\n",
       "      <th>WS</th>\n",
       "      <th>WS/48</th>\n",
       "      <th>OBPM</th>\n",
       "      <th>DBPM</th>\n",
       "      <th>BPM</th>\n",
       "      <th>VORP</th>\n",
       "    </tr>\n",
       "  </thead>\n",
       "  <tbody>\n",
       "    <tr>\n",
       "      <td>224</td>\n",
       "      <td>Kay Felder</td>\n",
       "      <td>1312611</td>\n",
       "      <td>USA</td>\n",
       "      <td>54</td>\n",
       "      <td>22</td>\n",
       "      <td>DET</td>\n",
       "      <td>1</td>\n",
       "      <td>3</td>\n",
       "      <td>-31.6</td>\n",
       "      <td>0.000</td>\n",
       "      <td>...</td>\n",
       "      <td>33.3</td>\n",
       "      <td>44.2</td>\n",
       "      <td>-0.1</td>\n",
       "      <td>0.0</td>\n",
       "      <td>-0.1</td>\n",
       "      <td>-1.005</td>\n",
       "      <td>-29.5</td>\n",
       "      <td>-11.9</td>\n",
       "      <td>-41.4</td>\n",
       "      <td>0.0</td>\n",
       "    </tr>\n",
       "    <tr>\n",
       "      <td>225</td>\n",
       "      <td>Kay Felder</td>\n",
       "      <td>1312611</td>\n",
       "      <td>USA</td>\n",
       "      <td>54</td>\n",
       "      <td>22</td>\n",
       "      <td>CHI</td>\n",
       "      <td>14</td>\n",
       "      <td>134</td>\n",
       "      <td>3.6</td>\n",
       "      <td>0.386</td>\n",
       "      <td>...</td>\n",
       "      <td>17.4</td>\n",
       "      <td>28.0</td>\n",
       "      <td>-0.5</td>\n",
       "      <td>0.1</td>\n",
       "      <td>-0.5</td>\n",
       "      <td>-0.166</td>\n",
       "      <td>-8.2</td>\n",
       "      <td>-3.3</td>\n",
       "      <td>-11.5</td>\n",
       "      <td>-0.3</td>\n",
       "    </tr>\n",
       "    <tr>\n",
       "      <td>226</td>\n",
       "      <td>Kay Felder</td>\n",
       "      <td>1312611</td>\n",
       "      <td>USA</td>\n",
       "      <td>54</td>\n",
       "      <td>22</td>\n",
       "      <td>TOT</td>\n",
       "      <td>15</td>\n",
       "      <td>137</td>\n",
       "      <td>2.9</td>\n",
       "      <td>0.375</td>\n",
       "      <td>...</td>\n",
       "      <td>17.9</td>\n",
       "      <td>28.4</td>\n",
       "      <td>-0.6</td>\n",
       "      <td>0.1</td>\n",
       "      <td>-0.5</td>\n",
       "      <td>-0.185</td>\n",
       "      <td>-8.7</td>\n",
       "      <td>-3.5</td>\n",
       "      <td>-12.1</td>\n",
       "      <td>-0.3</td>\n",
       "    </tr>\n",
       "  </tbody>\n",
       "</table>\n",
       "<p>3 rows × 28 columns</p>\n",
       "</div>"
      ],
      "text/plain": [
       "         Player   Salary NBA_Country  NBA_DraftNumber  Age   Tm   G   MP  \\\n",
       "224  Kay Felder  1312611         USA               54   22  DET   1    3   \n",
       "225  Kay Felder  1312611         USA               54   22  CHI  14  134   \n",
       "226  Kay Felder  1312611         USA               54   22  TOT  15  137   \n",
       "\n",
       "      PER    TS%  ...  TOV%  USG%  OWS  DWS   WS  WS/48  OBPM  DBPM   BPM  \\\n",
       "224 -31.6  0.000  ...  33.3  44.2 -0.1  0.0 -0.1 -1.005 -29.5 -11.9 -41.4   \n",
       "225   3.6  0.386  ...  17.4  28.0 -0.5  0.1 -0.5 -0.166  -8.2  -3.3 -11.5   \n",
       "226   2.9  0.375  ...  17.9  28.4 -0.6  0.1 -0.5 -0.185  -8.7  -3.5 -12.1   \n",
       "\n",
       "     VORP  \n",
       "224   0.0  \n",
       "225  -0.3  \n",
       "226  -0.3  \n",
       "\n",
       "[3 rows x 28 columns]"
      ]
     },
     "execution_count": 11,
     "metadata": {},
     "output_type": "execute_result"
    }
   ],
   "source": [
    "data[data['Player'].duplicated(keep=False)]"
   ]
  },
  {
   "cell_type": "markdown",
   "metadata": {},
   "source": [
    "#### Se encontró que el jugador Kay Felder tiene 3 registros asociados a 3 equipos diferentes durante la temporada"
   ]
  },
  {
   "cell_type": "markdown",
   "metadata": {},
   "source": [
    "# Valores atípicos\n",
    "\n",
    "Mediante diagramas de cajas y bigotes visualizamos la distribución de las variables predictoras, para así identificar los posibles valores atípicos. "
   ]
  },
  {
   "cell_type": "code",
   "execution_count": 12,
   "metadata": {
    "scrolled": false
   },
   "outputs": [
    {
     "data": {
      "image/png": "[encoded data removed]",
      "text/plain": [
       "<Figure size 1080x2880 with 20 Axes>"
      ]
     },
     "metadata": {
      "needs_background": "light"
     },
     "output_type": "display_data"
    }
   ],
   "source": [
    "fig = plt.figure(figsize=(15,40))\n",
    "i=1\n",
    "\n",
    "for var_num in data.columns[8:]:\n",
    "    ax = fig.add_subplot(8, 3, i) #Defino una tabla de 2 filas por 2 columnas, agrego el i-ésimo plot\n",
    "    sns.boxplot(y=var_num, data=data)\n",
    "    plt.title(var_num)\n",
    "    i+=1"
   ]
  },
  {
   "cell_type": "markdown",
   "metadata": {},
   "source": [
    "# Reporte Primera Entrega"
   ]
  },
  {
   "cell_type": "markdown",
   "metadata": {},
   "source": [
    "## Calidad de los Datos\n",
    "\n",
    "Al observar los datos se pudo evidenciar que:\n",
    "### Faltantes\n",
    "   Existen datos faltantes para 4 variables: TS%, 3PAr, FTr, TOV%, donde cada una tiene 2 valores nulos o NaN.\n",
    "### Atípicos\n",
    "* **PER**\n",
    "\tSe evidencia un dato atípico con valor de 134.1 , el cual se encuentre bastante alejado de su valor inmediatamente anterior que es de 38.1, por lo tanto se debe eliminar en la siguiente fase de la preparación de los datos.\n",
    "    \n",
    "    #### [-] Registro: 142.\n",
    "\n",
    "     Existen 2 datos negativos sospechosos con valores de -41.1 y -31.6, se deben evaluar más adelante y definir si se eliminarán o no.\n",
    "\n",
    "\t#### [-] Registros: 147, 224.\n",
    "\n",
    "\n",
    "* **TS%**\n",
    "\tHay un dato atípico de 1.5, se procederá a eliminarlo debido a que está bastante alejado del registro anterior, el cual tiene valor de 1.0.\n",
    "    \n",
    "\t#### [-] Registro: 142.\n",
    "\n",
    "\n",
    "* **FTr**\n",
    "\tExiste un valor atípico de 5.3, el cual está bastante alejado del registro anterior, el cual tiene valor de 2.0.\n",
    "\t Se debe eliminar el dato para que no afecte el modelo en proceso de entrenamiento.\n",
    "\t\n",
    "\tHay 2 registros con valores de 2.0, se consideran sospechosos y se definirá más adelante si borrarlos o no.\n",
    "\n",
    "\t#### [-] Registro: 165, 396, 84.\n",
    "\n",
    "\n",
    "* **ORB%**\n",
    "\tExisten 3 valores atípicos 35.9, 32.3 y 28.1. Sin embargo, no serán eliminados pues no están tan lejos ni tan aislados de los demás datos.\n",
    "\t\n",
    "\t#### [-] Registros: 224, 19, 239.\n",
    "\n",
    "* **STL%**\n",
    "\tSe eliminarán el valor atípicos más extremo, correspondiente a 12.5\n",
    "\t\n",
    "\t#### [-] Registros: 231.\n",
    "\n",
    "\n",
    "* **BLK%**\n",
    "\tSe eliminará el valor atípico más extremo, correspondiente a 13.4\n",
    "\t \n",
    "\t#### [-] Registros: 19.\n",
    "\n",
    "\n",
    "* **TOV%**\n",
    "\t\n",
    "\tSe eliminará el valor atípico más extremo, correspondiente a 66.7\n",
    "\t \n",
    "\t#### [-] Registros: 188.\n",
    "\n",
    "* **WS/48**\n",
    "\tSe eliminará el valor atípico más extremo, correspondientes a 2.713. Los valores atípicos -1.005 y -1.063 se evaluarán más adelante.\n",
    "\t \n",
    "\t#### [-] Registros: 142, 147, 224.\n",
    "\n",
    "\n",
    "* **OBPM**\n",
    "\tSe eliminará el valor atípico más extremo correspondiente a 68.7.\n",
    "\t \n",
    "\t#### [-] Registros: 142.\n",
    "\n",
    "* **BPM**\n",
    "\tSe eliminarán los valores atípicos más extremos, tantos positivos como negativos, correspondientes a 54.4, -41.4 y -49.2\n",
    "\t \n",
    "\t#### [-] Registros: 142, 147, 224.\n",
    "\n",
    "**Registros a eliminar**\n",
    "\n",
    "19,142,147,165,188,224,231\n",
    "\n",
    "**Total: 7**\n",
    "### Repetidos\n",
    "   Usando el atributo 'Player' como identificador del registro, se encontró que hay 3 registros repetidos con el valor'Kay Felder', aunque sabemos que es inusual que un jugador sea transferido más de una vez dentro de una misma temporada, dado que es posible realizar dicha transferencia, tomaremos estos 3 registros en el análisis.\n",
    "\n",
    "\n",
    "### Problemas de escala  \n",
    "* En el caso de los porcentajes, las variables varían en el orden de magnitud, unas presentan un orden de 10^0 y otras de 10^-1.\n",
    "* Las variables presentan diferencias significativas en sus promedios, valores mínimos y máximos.\n",
    "    \n",
    "   Estos problemas de escala pueden ser consecuencia de valores atípicos que están presentes en los datos.\n",
    "\n",
    "### Problemas de tipo\n",
    "* Las características 'NBA_Country', 'Tm' y 'Player' son las únicas de tipo string, por lo que deberían ser convertidas a variables numéricas para ser tomadas en cuenta en el estudio. Sin embargo, consideramos que 'Player' no es relevante para hacer inferencias sobre el posible salario de un jugador.\n",
    "    \n",
    "### Distribución de los datos\n",
    "* Los valores de los percentiles para cada variable varía significativamente, lo que podría indicar sesgos dentro de la distribución."
   ]
  },
  {
   "cell_type": "markdown",
   "metadata": {},
   "source": [
    "## Limpieza de los datos"
   ]
  },
  {
   "cell_type": "markdown",
   "metadata": {},
   "source": [
    "### Eliminación de registros con valores faltantes"
   ]
  },
  {
   "cell_type": "code",
   "execution_count": 13,
   "metadata": {
    "scrolled": true
   },
   "outputs": [
    {
     "name": "stdout",
     "output_type": "stream",
     "text": [
      "Datos originales:  (485, 28)\n",
      "Datos completos:  (483, 28)\n",
      "Se eliminaron 2 registos\n"
     ]
    }
   ],
   "source": [
    "cleanData = data.dropna()\n",
    "print(\"Datos originales: \", data.shape)\n",
    "print(\"Datos completos: \", cleanData.shape)\n",
    "print(\"Se eliminaron {} registos\".format(data.shape[0] - cleanData.shape[0]))"
   ]
  },
  {
   "cell_type": "markdown",
   "metadata": {},
   "source": [
    "### Eliminación de registros con valores atípicos"
   ]
  },
  {
   "cell_type": "code",
   "execution_count": 14,
   "metadata": {},
   "outputs": [
    {
     "name": "stdout",
     "output_type": "stream",
     "text": [
      "Datos resultantes:  (476, 28)\n",
      "Se eliminaron 7 registos\n"
     ]
    }
   ],
   "source": [
    "data = cleanData.drop([19,142,147,165,188,224,231],axis=0)\n",
    "print(\"Datos resultantes: \", data.shape)\n",
    "print(\"Se eliminaron {} registos\".format(cleanData.shape[0] - data.shape[0]))"
   ]
  },
  {
   "cell_type": "markdown",
   "metadata": {},
   "source": [
    "### Revisión de datos atípicos nuevo Dataset"
   ]
  },
  {
   "cell_type": "code",
   "execution_count": 15,
   "metadata": {
    "scrolled": true
   },
   "outputs": [
    {
     "data": {
      "text/plain": [
       "Text(0.5, 1.0, 'PER')"
      ]
     },
     "execution_count": 15,
     "metadata": {},
     "output_type": "execute_result"
    },
    {
     "data": {
      "image/png": "[encoded data removed]",
      "text/plain": [
       "<Figure size 360x360 with 1 Axes>"
      ]
     },
     "metadata": {
      "needs_background": "light"
     },
     "output_type": "display_data"
    }
   ],
   "source": [
    "fig = plt.figure(figsize=(5,5))\n",
    "ax = fig.add_subplot(1, 1, 1)\n",
    "sns.boxplot(y=data['PER'], data=data)\n",
    "plt.title('PER')"
   ]
  },
  {
   "cell_type": "markdown",
   "metadata": {},
   "source": [
    "Para la columna PER aún se encuentran valores atípicos, sin embargo, estan relativamente cerca a los límites y tienen sentido para el dominio de la variable, por lo tanto no se eliminarán."
   ]
  },
  {
   "cell_type": "code",
   "execution_count": 16,
   "metadata": {
    "scrolled": true
   },
   "outputs": [
    {
     "data": {
      "text/plain": [
       "Text(0.5, 1.0, 'TS%')"
      ]
     },
     "execution_count": 16,
     "metadata": {},
     "output_type": "execute_result"
    },
    {
     "data": {
      "image/png": "[encoded data removed]",
      "text/plain": [
       "<Figure size 360x360 with 1 Axes>"
      ]
     },
     "metadata": {
      "needs_background": "light"
     },
     "output_type": "display_data"
    }
   ],
   "source": [
    "fig = plt.figure(figsize=(5,5))\n",
    "ax = fig.add_subplot(1, 1, 1)\n",
    "sns.boxplot(y=data['TS%'], data=data)\n",
    "plt.title('TS%')"
   ]
  },
  {
   "cell_type": "markdown",
   "metadata": {},
   "source": [
    "Para la columna TS% aún se encuentran valores atípicos, sin embargo, estan relativamente cerca a los límites y tienen sentido para el dominio de la variable, por lo tanto no se eliminarán."
   ]
  },
  {
   "cell_type": "code",
   "execution_count": 17,
   "metadata": {
    "scrolled": true
   },
   "outputs": [
    {
     "data": {
      "text/plain": [
       "Text(0.5, 1.0, 'FTr')"
      ]
     },
     "execution_count": 17,
     "metadata": {},
     "output_type": "execute_result"
    },
    {
     "data": {
      "image/png": "[encoded data removed]",
      "text/plain": [
       "<Figure size 360x360 with 1 Axes>"
      ]
     },
     "metadata": {
      "needs_background": "light"
     },
     "output_type": "display_data"
    }
   ],
   "source": [
    "fig = plt.figure(figsize=(5,5))\n",
    "ax = fig.add_subplot(1, 1, 1)\n",
    "sns.boxplot(y=data['FTr'], data=data)\n",
    "plt.title('FTr')"
   ]
  },
  {
   "cell_type": "markdown",
   "metadata": {},
   "source": [
    "Para la columna FTr aún se encuentran valores atípicos, así que se eliminarán los registros asociados más extremos."
   ]
  },
  {
   "cell_type": "code",
   "execution_count": 18,
   "metadata": {},
   "outputs": [
    {
     "name": "stdout",
     "output_type": "stream",
     "text": [
      "Datos resultantes:  (474, 28)\n",
      "Se eliminaron 2 registos\n"
     ]
    }
   ],
   "source": [
    "cleanData = data[(data['FTr'] < 1.7)]\n",
    "print(\"Datos resultantes: \", cleanData.shape)\n",
    "print(\"Se eliminaron {} registos\".format(data.shape[0] - cleanData.shape[0]))"
   ]
  },
  {
   "cell_type": "code",
   "execution_count": 19,
   "metadata": {},
   "outputs": [
    {
     "data": {
      "text/plain": [
       "Text(0.5, 1.0, 'FTr')"
      ]
     },
     "execution_count": 19,
     "metadata": {},
     "output_type": "execute_result"
    },
    {
     "data": {
      "image/png": "[encoded data removed]",
      "text/plain": [
       "<Figure size 360x360 with 1 Axes>"
      ]
     },
     "metadata": {
      "needs_background": "light"
     },
     "output_type": "display_data"
    }
   ],
   "source": [
    "fig = plt.figure(figsize=(5,5))\n",
    "ax = fig.add_subplot(1, 1, 1)\n",
    "sns.boxplot(y=cleanData['FTr'], data=cleanData)\n",
    "plt.title('FTr')"
   ]
  },
  {
   "cell_type": "markdown",
   "metadata": {},
   "source": [
    "Aún se siguen viendo valores atípicos, sin embargo, son relativamente cercanos a los límites y no provocan que la caja se aplane. Por lo tanto se conservaron."
   ]
  },
  {
   "cell_type": "code",
   "execution_count": 20,
   "metadata": {},
   "outputs": [],
   "source": [
    "data = cleanData"
   ]
  },
  {
   "cell_type": "code",
   "execution_count": 21,
   "metadata": {
    "scrolled": true
   },
   "outputs": [
    {
     "data": {
      "text/plain": [
       "Text(0.5, 1.0, 'STL%')"
      ]
     },
     "execution_count": 21,
     "metadata": {},
     "output_type": "execute_result"
    },
    {
     "data": {
      "image/png": "[encoded data removed]",
      "text/plain": [
       "<Figure size 360x360 with 1 Axes>"
      ]
     },
     "metadata": {
      "needs_background": "light"
     },
     "output_type": "display_data"
    }
   ],
   "source": [
    "fig = plt.figure(figsize=(5,5))\n",
    "ax = fig.add_subplot(1, 1, 1)\n",
    "sns.boxplot(y=data['STL%'], data=data)\n",
    "plt.title('STL%')"
   ]
  },
  {
   "cell_type": "markdown",
   "metadata": {},
   "source": [
    "Aún se siguen viendo valores atípicos, sin embargo, son relativamente cercanos a los límites y no provocan que la caja se aplane. Por lo tanto se conservaron."
   ]
  },
  {
   "cell_type": "code",
   "execution_count": 22,
   "metadata": {
    "scrolled": true
   },
   "outputs": [
    {
     "data": {
      "text/plain": [
       "Text(0.5, 1.0, 'BLK%')"
      ]
     },
     "execution_count": 22,
     "metadata": {},
     "output_type": "execute_result"
    },
    {
     "data": {
      "image/png": "[encoded data removed]",
      "text/plain": [
       "<Figure size 360x360 with 1 Axes>"
      ]
     },
     "metadata": {
      "needs_background": "light"
     },
     "output_type": "display_data"
    }
   ],
   "source": [
    "fig = plt.figure(figsize=(5,5))\n",
    "ax = fig.add_subplot(1, 1, 1)\n",
    "sns.boxplot(y=data['BLK%'], data=data)\n",
    "plt.title('BLK%')"
   ]
  },
  {
   "cell_type": "markdown",
   "metadata": {},
   "source": [
    "Aún se siguen viendo valores atípicos, sin embargo, son relativamente cercanos a los límites y no provocan que la caja se aplane. Por lo tanto se conservaron."
   ]
  },
  {
   "cell_type": "code",
   "execution_count": 23,
   "metadata": {
    "scrolled": true
   },
   "outputs": [
    {
     "data": {
      "text/plain": [
       "Text(0.5, 1.0, 'TOV%')"
      ]
     },
     "execution_count": 23,
     "metadata": {},
     "output_type": "execute_result"
    },
    {
     "data": {
      "image/png": "[encoded data removed]",
      "text/plain": [
       "<Figure size 360x360 with 1 Axes>"
      ]
     },
     "metadata": {
      "needs_background": "light"
     },
     "output_type": "display_data"
    }
   ],
   "source": [
    "fig = plt.figure(figsize=(5,5))\n",
    "ax = fig.add_subplot(1, 1, 1)\n",
    "sns.boxplot(y=data['TOV%'], data=data)\n",
    "plt.title('TOV%')"
   ]
  },
  {
   "cell_type": "markdown",
   "metadata": {},
   "source": [
    "Aún se siguen viendo valores atípicos, sin embargo, son relativamente cercanos a los límites y no provocan que la caja se aplane. Por lo tanto se conservaron."
   ]
  },
  {
   "cell_type": "code",
   "execution_count": 24,
   "metadata": {
    "scrolled": true
   },
   "outputs": [
    {
     "data": {
      "text/plain": [
       "Text(0.5, 1.0, 'WS/48')"
      ]
     },
     "execution_count": 24,
     "metadata": {},
     "output_type": "execute_result"
    },
    {
     "data": {
      "image/png": "[encoded data removed]",
      "text/plain": [
       "<Figure size 360x360 with 1 Axes>"
      ]
     },
     "metadata": {
      "needs_background": "light"
     },
     "output_type": "display_data"
    }
   ],
   "source": [
    "fig = plt.figure(figsize=(5,5))\n",
    "ax = fig.add_subplot(1, 1, 1)\n",
    "sns.boxplot(y=data['WS/48'], data=data)\n",
    "plt.title('WS/48')"
   ]
  },
  {
   "cell_type": "markdown",
   "metadata": {},
   "source": [
    "Aún se siguen viendo valores atípicos, sin embargo, son relativamente cercanos a los límites y no provocan que la caja se aplane. Por lo tanto se conservaron."
   ]
  },
  {
   "cell_type": "code",
   "execution_count": 25,
   "metadata": {
    "scrolled": true
   },
   "outputs": [
    {
     "data": {
      "text/plain": [
       "Text(0.5, 1.0, 'OBPM')"
      ]
     },
     "execution_count": 25,
     "metadata": {},
     "output_type": "execute_result"
    },
    {
     "data": {
      "image/png": "[encoded data removed]",
      "text/plain": [
       "<Figure size 360x360 with 1 Axes>"
      ]
     },
     "metadata": {
      "needs_background": "light"
     },
     "output_type": "display_data"
    }
   ],
   "source": [
    "fig = plt.figure(figsize=(5,5))\n",
    "ax = fig.add_subplot(1, 1, 1)\n",
    "sns.boxplot(y=data['OBPM'], data=data)\n",
    "plt.title('OBPM')"
   ]
  },
  {
   "cell_type": "markdown",
   "metadata": {},
   "source": [
    "Aún se siguen viendo valores atípicos, sin embargo, son relativamente cercanos a los límites y no provocan que la caja se aplane. Por lo tanto se conservaron."
   ]
  },
  {
   "cell_type": "code",
   "execution_count": 26,
   "metadata": {
    "scrolled": true
   },
   "outputs": [
    {
     "data": {
      "text/plain": [
       "Text(0.5, 1.0, 'BPM')"
      ]
     },
     "execution_count": 26,
     "metadata": {},
     "output_type": "execute_result"
    },
    {
     "data": {
      "image/png": "[encoded data removed]",
      "text/plain": [
       "<Figure size 360x360 with 1 Axes>"
      ]
     },
     "metadata": {
      "needs_background": "light"
     },
     "output_type": "display_data"
    }
   ],
   "source": [
    "fig = plt.figure(figsize=(5,5))\n",
    "ax = fig.add_subplot(1, 1, 1)\n",
    "sns.boxplot(y=data['BPM'], data=data)\n",
    "plt.title('BPM')"
   ]
  },
  {
   "cell_type": "markdown",
   "metadata": {},
   "source": [
    "Aún se siguen viendo valores atípicos, sin embargo, son relativamente cercanos a los límites y no provocan que la caja se aplane. Por lo tanto se conservaron."
   ]
  },
  {
   "cell_type": "markdown",
   "metadata": {},
   "source": [
    "### Normalización de los datos\n",
    "\n",
    "Para normalizar los datos, se usará el Standard Scaler al momento de particionar el dataset de acuerdo con el protocolo de evaluación."
   ]
  },
  {
   "cell_type": "markdown",
   "metadata": {},
   "source": [
    "### Discretización de variables categóricas"
   ]
  },
  {
   "cell_type": "code",
   "execution_count": 27,
   "metadata": {
    "scrolled": true
   },
   "outputs": [
    {
     "data": {
      "text/html": [
       "<div>\n",
       "<style scoped>\n",
       "    .dataframe tbody tr th:only-of-type {\n",
       "        vertical-align: middle;\n",
       "    }\n",
       "\n",
       "    .dataframe tbody tr th {\n",
       "        vertical-align: top;\n",
       "    }\n",
       "\n",
       "    .dataframe thead th {\n",
       "        text-align: right;\n",
       "    }\n",
       "</style>\n",
       "<table border=\"1\" class=\"dataframe\">\n",
       "  <thead>\n",
       "    <tr style=\"text-align: right;\">\n",
       "      <th></th>\n",
       "      <th>Player</th>\n",
       "      <th>Salary</th>\n",
       "      <th>NBA_Country</th>\n",
       "      <th>NBA_DraftNumber</th>\n",
       "      <th>Age</th>\n",
       "      <th>Tm</th>\n",
       "      <th>G</th>\n",
       "      <th>MP</th>\n",
       "      <th>PER</th>\n",
       "      <th>TS%</th>\n",
       "      <th>...</th>\n",
       "      <th>OWS</th>\n",
       "      <th>DWS</th>\n",
       "      <th>WS</th>\n",
       "      <th>WS/48</th>\n",
       "      <th>OBPM</th>\n",
       "      <th>DBPM</th>\n",
       "      <th>BPM</th>\n",
       "      <th>VORP</th>\n",
       "      <th>NBA_Country2</th>\n",
       "      <th>Tm2</th>\n",
       "    </tr>\n",
       "  </thead>\n",
       "  <tbody>\n",
       "    <tr>\n",
       "      <td>0</td>\n",
       "      <td>Zhou Qi</td>\n",
       "      <td>815615</td>\n",
       "      <td>China</td>\n",
       "      <td>43</td>\n",
       "      <td>22</td>\n",
       "      <td>HOU</td>\n",
       "      <td>16</td>\n",
       "      <td>87</td>\n",
       "      <td>0.6</td>\n",
       "      <td>0.303</td>\n",
       "      <td>...</td>\n",
       "      <td>-0.4</td>\n",
       "      <td>0.1</td>\n",
       "      <td>-0.2</td>\n",
       "      <td>-0.121</td>\n",
       "      <td>-10.6</td>\n",
       "      <td>0.5</td>\n",
       "      <td>-10.1</td>\n",
       "      <td>-0.2</td>\n",
       "      <td>0</td>\n",
       "      <td>0</td>\n",
       "    </tr>\n",
       "    <tr>\n",
       "      <td>1</td>\n",
       "      <td>Zaza Pachulia</td>\n",
       "      <td>3477600</td>\n",
       "      <td>Georgia</td>\n",
       "      <td>42</td>\n",
       "      <td>33</td>\n",
       "      <td>GSW</td>\n",
       "      <td>66</td>\n",
       "      <td>937</td>\n",
       "      <td>16.8</td>\n",
       "      <td>0.608</td>\n",
       "      <td>...</td>\n",
       "      <td>1.7</td>\n",
       "      <td>1.4</td>\n",
       "      <td>3.1</td>\n",
       "      <td>0.160</td>\n",
       "      <td>-0.6</td>\n",
       "      <td>1.3</td>\n",
       "      <td>0.8</td>\n",
       "      <td>0.7</td>\n",
       "      <td>1</td>\n",
       "      <td>1</td>\n",
       "    </tr>\n",
       "    <tr>\n",
       "      <td>2</td>\n",
       "      <td>Zach Randolph</td>\n",
       "      <td>12307692</td>\n",
       "      <td>USA</td>\n",
       "      <td>19</td>\n",
       "      <td>36</td>\n",
       "      <td>SAC</td>\n",
       "      <td>59</td>\n",
       "      <td>1508</td>\n",
       "      <td>17.3</td>\n",
       "      <td>0.529</td>\n",
       "      <td>...</td>\n",
       "      <td>0.3</td>\n",
       "      <td>1.1</td>\n",
       "      <td>1.4</td>\n",
       "      <td>0.046</td>\n",
       "      <td>-0.6</td>\n",
       "      <td>-1.3</td>\n",
       "      <td>-1.9</td>\n",
       "      <td>0.0</td>\n",
       "      <td>2</td>\n",
       "      <td>2</td>\n",
       "    </tr>\n",
       "    <tr>\n",
       "      <td>3</td>\n",
       "      <td>Zach LaVine</td>\n",
       "      <td>3202217</td>\n",
       "      <td>USA</td>\n",
       "      <td>13</td>\n",
       "      <td>22</td>\n",
       "      <td>CHI</td>\n",
       "      <td>24</td>\n",
       "      <td>656</td>\n",
       "      <td>14.6</td>\n",
       "      <td>0.499</td>\n",
       "      <td>...</td>\n",
       "      <td>-0.1</td>\n",
       "      <td>0.5</td>\n",
       "      <td>0.4</td>\n",
       "      <td>0.027</td>\n",
       "      <td>-0.7</td>\n",
       "      <td>-2.0</td>\n",
       "      <td>-2.6</td>\n",
       "      <td>-0.1</td>\n",
       "      <td>2</td>\n",
       "      <td>3</td>\n",
       "    </tr>\n",
       "    <tr>\n",
       "      <td>4</td>\n",
       "      <td>Zach Collins</td>\n",
       "      <td>3057240</td>\n",
       "      <td>USA</td>\n",
       "      <td>10</td>\n",
       "      <td>20</td>\n",
       "      <td>POR</td>\n",
       "      <td>62</td>\n",
       "      <td>979</td>\n",
       "      <td>8.2</td>\n",
       "      <td>0.487</td>\n",
       "      <td>...</td>\n",
       "      <td>-0.4</td>\n",
       "      <td>1.2</td>\n",
       "      <td>0.8</td>\n",
       "      <td>0.038</td>\n",
       "      <td>-3.7</td>\n",
       "      <td>0.9</td>\n",
       "      <td>-2.9</td>\n",
       "      <td>-0.2</td>\n",
       "      <td>2</td>\n",
       "      <td>4</td>\n",
       "    </tr>\n",
       "  </tbody>\n",
       "</table>\n",
       "<p>5 rows × 30 columns</p>\n",
       "</div>"
      ],
      "text/plain": [
       "          Player    Salary NBA_Country  NBA_DraftNumber  Age   Tm   G    MP  \\\n",
       "0        Zhou Qi    815615       China               43   22  HOU  16    87   \n",
       "1  Zaza Pachulia   3477600     Georgia               42   33  GSW  66   937   \n",
       "2  Zach Randolph  12307692         USA               19   36  SAC  59  1508   \n",
       "3    Zach LaVine   3202217         USA               13   22  CHI  24   656   \n",
       "4   Zach Collins   3057240         USA               10   20  POR  62   979   \n",
       "\n",
       "    PER    TS%  ...  OWS  DWS   WS  WS/48  OBPM  DBPM   BPM  VORP  \\\n",
       "0   0.6  0.303  ... -0.4  0.1 -0.2 -0.121 -10.6   0.5 -10.1  -0.2   \n",
       "1  16.8  0.608  ...  1.7  1.4  3.1  0.160  -0.6   1.3   0.8   0.7   \n",
       "2  17.3  0.529  ...  0.3  1.1  1.4  0.046  -0.6  -1.3  -1.9   0.0   \n",
       "3  14.6  0.499  ... -0.1  0.5  0.4  0.027  -0.7  -2.0  -2.6  -0.1   \n",
       "4   8.2  0.487  ... -0.4  1.2  0.8  0.038  -3.7   0.9  -2.9  -0.2   \n",
       "\n",
       "   NBA_Country2  Tm2  \n",
       "0             0    0  \n",
       "1             1    1  \n",
       "2             2    2  \n",
       "3             2    3  \n",
       "4             2    4  \n",
       "\n",
       "[5 rows x 30 columns]"
      ]
     },
     "execution_count": 27,
     "metadata": {},
     "output_type": "execute_result"
    }
   ],
   "source": [
    "data['NBA_Country2'] = data.NBA_Country.factorize()[0]\n",
    "data['Tm2'] = data.Tm.factorize()[0]\n",
    "data.head(5)"
   ]
  },
  {
   "cell_type": "markdown",
   "metadata": {},
   "source": [
    "## Modelos Predictivos"
   ]
  },
  {
   "cell_type": "markdown",
   "metadata": {},
   "source": [
    "### Modelo de Referencia (Baseline)"
   ]
  },
  {
   "cell_type": "code",
   "execution_count": 28,
   "metadata": {
    "scrolled": true
   },
   "outputs": [
    {
     "name": "stdout",
     "output_type": "stream",
     "text": [
      "El baseline (promedio) para la variable objetivo será de: $USD 6,772,112\n"
     ]
    }
   ],
   "source": [
    "print('El baseline (promedio) para la variable objetivo será de: $USD {:,.0f}'.format(data['Salary'].mean()))"
   ]
  },
  {
   "cell_type": "markdown",
   "metadata": {},
   "source": [
    "### Protocolo de Evaluación"
   ]
  },
  {
   "cell_type": "code",
   "execution_count": 29,
   "metadata": {},
   "outputs": [],
   "source": [
    "from sklearn.model_selection import train_test_split #metodo de particionamiento de datasets para evaluación\n",
    "from sklearn.preprocessing import StandardScaler"
   ]
  },
  {
   "cell_type": "code",
   "execution_count": 30,
   "metadata": {},
   "outputs": [],
   "source": [
    "x = data.iloc[:,2:].drop(columns = ['NBA_Country', 'Tm'])\n",
    "y = data.iloc[:,1:2]\n",
    "x_train, x_test, y_train, y_test = train_test_split(x, y, test_size=0.30, random_state=12345)"
   ]
  },
  {
   "cell_type": "code",
   "execution_count": 31,
   "metadata": {},
   "outputs": [
    {
     "name": "stdout",
     "output_type": "stream",
     "text": [
      "x_train:  (331, 26)\n",
      "x_test:  (143, 26)\n",
      "y_train:  (331, 1)\n",
      "y_train:  (143, 1)\n"
     ]
    }
   ],
   "source": [
    "print(\"x_train: \",x_train.shape)\n",
    "print(\"x_test: \",x_test.shape)\n",
    "print(\"y_train: \",y_train.shape)\n",
    "print(\"y_train: \",y_test.shape)"
   ]
  },
  {
   "cell_type": "markdown",
   "metadata": {},
   "source": [
    "### Regresión Lineal"
   ]
  },
  {
   "cell_type": "code",
   "execution_count": 32,
   "metadata": {},
   "outputs": [],
   "source": [
    "from sklearn import datasets, linear_model #datasets y modelos de aprendizaje automático (ML)\n",
    "from sklearn.metrics import mean_squared_error, r2_score\n",
    "from scipy import stats #para poder hacer cálculos científicos --> valores p\n",
    "import statsmodels.api as sm"
   ]
  },
  {
   "cell_type": "code",
   "execution_count": 33,
   "metadata": {
    "scrolled": true
   },
   "outputs": [
    {
     "data": {
      "text/plain": [
       "LinearRegression(copy_X=True, fit_intercept=True, n_jobs=None, normalize=True)"
      ]
     },
     "execution_count": 33,
     "metadata": {},
     "output_type": "execute_result"
    }
   ],
   "source": [
    "linear_reg = linear_model.LinearRegression(normalize=True)\n",
    "linear_reg.fit(x_train, y_train)"
   ]
  },
  {
   "cell_type": "markdown",
   "metadata": {},
   "source": [
    "#### Predicción"
   ]
  },
  {
   "cell_type": "code",
   "execution_count": 34,
   "metadata": {},
   "outputs": [
    {
     "name": "stdout",
     "output_type": "stream",
     "text": [
      "(331, 1)\n",
      "(143, 1)\n"
     ]
    }
   ],
   "source": [
    "y_train_pred = linear_reg.predict(x_train)\n",
    "y_test_pred = linear_reg.predict(x_test)\n",
    "print(y_train_pred.shape)\n",
    "print(y_test_pred.shape)"
   ]
  },
  {
   "cell_type": "markdown",
   "metadata": {},
   "source": [
    "#### Métricas"
   ]
  },
  {
   "cell_type": "code",
   "execution_count": 35,
   "metadata": {},
   "outputs": [
    {
     "name": "stdout",
     "output_type": "stream",
     "text": [
      "MSE (train): 24078857339843.3125\n",
      "MSE (test) : 28729153976646.1680\n",
      "R2  (train): 0.5712\n",
      "R2  (test) : 0.4489\n"
     ]
    }
   ],
   "source": [
    "print(\"MSE (train): %.4f\" % mean_squared_error(y_train, y_train_pred))\n",
    "print(\"MSE (test) : %.4f\" % mean_squared_error(y_test, y_test_pred))\n",
    "print('R2  (train): %.4f' % r2_score(y_train, y_train_pred))\n",
    "print('R2  (test) : %.4f' % r2_score(y_test, y_test_pred))"
   ]
  },
  {
   "cell_type": "code",
   "execution_count": 36,
   "metadata": {
    "scrolled": true
   },
   "outputs": [
    {
     "name": "stdout",
     "output_type": "stream",
     "text": [
      "R2 adj (train): 0.5345\n",
      "R2 adj (test): 0.3253\n"
     ]
    }
   ],
   "source": [
    "r2_aj_train = 1 - (1-r2_score(y_train, y_train_pred))*(len(y_train)-1) / (len(y_train) - x_train.shape[1] - 1)\n",
    "print('R2 adj (train): %.4f' %r2_aj_train)\n",
    "r2_aj_test = 1 - (1-r2_score(y_test, y_test_pred))*(len(y_test)-1) / (len(y_test) - x_test.shape[1] - 1)\n",
    "print('R2 adj (test): %.4f' %r2_aj_test)"
   ]
  },
  {
   "cell_type": "markdown",
   "metadata": {},
   "source": [
    "#### Análisis de los coeficientes"
   ]
  },
  {
   "cell_type": "code",
   "execution_count": null,
   "metadata": {},
   "outputs": [],
   "source": []
  },
  {
   "cell_type": "code",
   "execution_count": 37,
   "metadata": {
    "scrolled": true
   },
   "outputs": [
    {
     "name": "stdout",
     "output_type": "stream",
     "text": [
      "     const  NBA_DraftNumber  Age   G    MP   PER    TS%   3PAr    FTr  ORB%  \\\n",
      "3      1.0               13   22  24   656  14.6  0.499  0.346  0.301   1.4   \n",
      "228    1.0                1   22  78  2770  24.8  0.645  0.249  0.351   9.3   \n",
      "301    1.0                9   22  78  1429  17.0  0.648  0.006  0.272  12.4   \n",
      "286    1.0               22   34  58  1483  11.2  0.487  0.193  0.167   1.5   \n",
      "399    1.0               27   29  19   141   8.4  0.559  0.489  0.064   2.4   \n",
      "\n",
      "     ...  OWS  DWS    WS  WS/48  OBPM  DBPM  BPM  VORP  NBA_Country2  Tm2  \n",
      "3    ... -0.1  0.5   0.4  0.027  -0.7  -2.0 -2.6  -0.1             2    3  \n",
      "228  ...  9.8  3.1  13.0  0.225   4.3   1.0  5.3   5.1             2   15  \n",
      "301  ...  2.9  2.2   5.1  0.170   0.3   2.9  3.2   1.9            34   30  \n",
      "286  ...  0.3  0.7   1.0  0.032  -2.0  -1.6 -3.6  -0.6             2   19  \n",
      "399  ... -0.2  0.1   0.0 -0.012  -3.5  -1.1 -4.6  -0.1             2    8  \n",
      "\n",
      "[5 rows x 27 columns]\n"
     ]
    },
    {
     "name": "stderr",
     "output_type": "stream",
     "text": [
      "C:\\Users\\juand\\Anaconda3\\lib\\site-packages\\numpy\\core\\fromnumeric.py:2389: FutureWarning: Method .ptp is deprecated and will be removed in a future version. Use numpy.ptp instead.\n",
      "  return ptp(axis=axis, out=out, **kwargs)\n"
     ]
    }
   ],
   "source": [
    "x2_train = sm.add_constant(x_train)\n",
    "print(x2_train.head())"
   ]
  },
  {
   "cell_type": "code",
   "execution_count": 38,
   "metadata": {
    "scrolled": true
   },
   "outputs": [
    {
     "data": {
      "text/html": [
       "<table class=\"simpletable\">\n",
       "<caption>OLS Regression Results</caption>\n",
       "<tr>\n",
       "  <th>Dep. Variable:</th>         <td>Salary</td>      <th>  R-squared:         </th> <td>   0.571</td> \n",
       "</tr>\n",
       "<tr>\n",
       "  <th>Model:</th>                   <td>OLS</td>       <th>  Adj. R-squared:    </th> <td>   0.535</td> \n",
       "</tr>\n",
       "<tr>\n",
       "  <th>Method:</th>             <td>Least Squares</td>  <th>  F-statistic:       </th> <td>   15.57</td> \n",
       "</tr>\n",
       "<tr>\n",
       "  <th>Date:</th>             <td>Tue, 27 Oct 2020</td> <th>  Prob (F-statistic):</th> <td>8.52e-42</td> \n",
       "</tr>\n",
       "<tr>\n",
       "  <th>Time:</th>                 <td>21:28:26</td>     <th>  Log-Likelihood:    </th> <td> -5569.1</td> \n",
       "</tr>\n",
       "<tr>\n",
       "  <th>No. Observations:</th>      <td>   331</td>      <th>  AIC:               </th> <td>1.119e+04</td>\n",
       "</tr>\n",
       "<tr>\n",
       "  <th>Df Residuals:</th>          <td>   304</td>      <th>  BIC:               </th> <td>1.129e+04</td>\n",
       "</tr>\n",
       "<tr>\n",
       "  <th>Df Model:</th>              <td>    26</td>      <th>                     </th>     <td> </td>    \n",
       "</tr>\n",
       "<tr>\n",
       "  <th>Covariance Type:</th>      <td>nonrobust</td>    <th>                     </th>     <td> </td>    \n",
       "</tr>\n",
       "</table>\n",
       "<table class=\"simpletable\">\n",
       "<tr>\n",
       "         <td></td>            <th>coef</th>     <th>std err</th>      <th>t</th>      <th>P>|t|</th>  <th>[0.025</th>    <th>0.975]</th>  \n",
       "</tr>\n",
       "<tr>\n",
       "  <th>const</th>           <td> 4.616e+06</td> <td> 7.16e+06</td> <td>    0.644</td> <td> 0.520</td> <td>-9.48e+06</td> <td> 1.87e+07</td>\n",
       "</tr>\n",
       "<tr>\n",
       "  <th>NBA_DraftNumber</th> <td>-6.471e+04</td> <td> 1.63e+04</td> <td>   -3.982</td> <td> 0.000</td> <td>-9.67e+04</td> <td>-3.27e+04</td>\n",
       "</tr>\n",
       "<tr>\n",
       "  <th>Age</th>             <td> 6.163e+05</td> <td> 7.06e+04</td> <td>    8.724</td> <td> 0.000</td> <td> 4.77e+05</td> <td> 7.55e+05</td>\n",
       "</tr>\n",
       "<tr>\n",
       "  <th>G</th>               <td>-1.805e+05</td> <td>  3.1e+04</td> <td>   -5.828</td> <td> 0.000</td> <td>-2.41e+05</td> <td> -1.2e+05</td>\n",
       "</tr>\n",
       "<tr>\n",
       "  <th>MP</th>              <td> 6651.9938</td> <td> 1418.699</td> <td>    4.689</td> <td> 0.000</td> <td> 3860.281</td> <td> 9443.706</td>\n",
       "</tr>\n",
       "<tr>\n",
       "  <th>PER</th>             <td>-5.214e+05</td> <td> 4.26e+05</td> <td>   -1.223</td> <td> 0.222</td> <td>-1.36e+06</td> <td> 3.18e+05</td>\n",
       "</tr>\n",
       "<tr>\n",
       "  <th>TS%</th>             <td>-1.797e+07</td> <td>  9.9e+06</td> <td>   -1.815</td> <td> 0.071</td> <td>-3.75e+07</td> <td> 1.51e+06</td>\n",
       "</tr>\n",
       "<tr>\n",
       "  <th>3PAr</th>            <td>-4.964e+06</td> <td> 3.21e+06</td> <td>   -1.545</td> <td> 0.123</td> <td>-1.13e+07</td> <td> 1.36e+06</td>\n",
       "</tr>\n",
       "<tr>\n",
       "  <th>FTr</th>             <td> 6.611e+05</td> <td> 2.91e+06</td> <td>    0.227</td> <td> 0.820</td> <td>-5.06e+06</td> <td> 6.38e+06</td>\n",
       "</tr>\n",
       "<tr>\n",
       "  <th>ORB%</th>            <td>-1.952e+05</td> <td> 1.11e+06</td> <td>   -0.175</td> <td> 0.861</td> <td>-2.39e+06</td> <td>    2e+06</td>\n",
       "</tr>\n",
       "<tr>\n",
       "  <th>DRB%</th>            <td> 2.774e+05</td> <td> 1.14e+06</td> <td>    0.244</td> <td> 0.808</td> <td>-1.96e+06</td> <td> 2.52e+06</td>\n",
       "</tr>\n",
       "<tr>\n",
       "  <th>TRB%</th>            <td>-1.604e+05</td> <td> 2.25e+06</td> <td>   -0.071</td> <td> 0.943</td> <td>-4.59e+06</td> <td> 4.26e+06</td>\n",
       "</tr>\n",
       "<tr>\n",
       "  <th>AST%</th>            <td>-1.788e+05</td> <td> 7.29e+04</td> <td>   -2.455</td> <td> 0.015</td> <td>-3.22e+05</td> <td>-3.55e+04</td>\n",
       "</tr>\n",
       "<tr>\n",
       "  <th>STL%</th>            <td>-5.573e+04</td> <td> 5.93e+05</td> <td>   -0.094</td> <td> 0.925</td> <td>-1.22e+06</td> <td> 1.11e+06</td>\n",
       "</tr>\n",
       "<tr>\n",
       "  <th>BLK%</th>            <td> 1.405e+05</td> <td> 4.01e+05</td> <td>    0.350</td> <td> 0.726</td> <td>-6.49e+05</td> <td>  9.3e+05</td>\n",
       "</tr>\n",
       "<tr>\n",
       "  <th>TOV%</th>            <td> 1.844e+05</td> <td> 1.11e+05</td> <td>    1.659</td> <td> 0.098</td> <td>-3.43e+04</td> <td> 4.03e+05</td>\n",
       "</tr>\n",
       "<tr>\n",
       "  <th>USG%</th>            <td> 2.127e+05</td> <td> 1.64e+05</td> <td>    1.296</td> <td> 0.196</td> <td> -1.1e+05</td> <td> 5.36e+05</td>\n",
       "</tr>\n",
       "<tr>\n",
       "  <th>OWS</th>             <td>  5.33e+06</td> <td>  5.5e+06</td> <td>    0.969</td> <td> 0.334</td> <td> -5.5e+06</td> <td> 1.62e+07</td>\n",
       "</tr>\n",
       "<tr>\n",
       "  <th>DWS</th>             <td> 5.207e+06</td> <td>  5.5e+06</td> <td>    0.947</td> <td> 0.344</td> <td>-5.61e+06</td> <td>  1.6e+07</td>\n",
       "</tr>\n",
       "<tr>\n",
       "  <th>WS</th>              <td>-5.564e+06</td> <td> 5.49e+06</td> <td>   -1.014</td> <td> 0.311</td> <td>-1.64e+07</td> <td> 5.23e+06</td>\n",
       "</tr>\n",
       "<tr>\n",
       "  <th>WS/48</th>           <td> 3.209e+07</td> <td> 2.33e+07</td> <td>    1.379</td> <td> 0.169</td> <td>-1.37e+07</td> <td> 7.79e+07</td>\n",
       "</tr>\n",
       "<tr>\n",
       "  <th>OBPM</th>            <td> 5.305e+06</td> <td>    6e+06</td> <td>    0.884</td> <td> 0.377</td> <td> -6.5e+06</td> <td> 1.71e+07</td>\n",
       "</tr>\n",
       "<tr>\n",
       "  <th>DBPM</th>            <td>  4.08e+06</td> <td> 5.91e+06</td> <td>    0.691</td> <td> 0.490</td> <td>-7.54e+06</td> <td> 1.57e+07</td>\n",
       "</tr>\n",
       "<tr>\n",
       "  <th>BPM</th>             <td> -4.33e+06</td> <td> 5.93e+06</td> <td>   -0.731</td> <td> 0.465</td> <td> -1.6e+07</td> <td> 7.33e+06</td>\n",
       "</tr>\n",
       "<tr>\n",
       "  <th>VORP</th>            <td> 1.466e+06</td> <td> 8.06e+05</td> <td>    1.818</td> <td> 0.070</td> <td> -1.2e+05</td> <td> 3.05e+06</td>\n",
       "</tr>\n",
       "<tr>\n",
       "  <th>NBA_Country2</th>    <td>-3362.0581</td> <td> 3.37e+04</td> <td>   -0.100</td> <td> 0.921</td> <td>-6.96e+04</td> <td> 6.29e+04</td>\n",
       "</tr>\n",
       "<tr>\n",
       "  <th>Tm2</th>             <td> 1.309e+04</td> <td>  3.3e+04</td> <td>    0.397</td> <td> 0.692</td> <td>-5.18e+04</td> <td>  7.8e+04</td>\n",
       "</tr>\n",
       "</table>\n",
       "<table class=\"simpletable\">\n",
       "<tr>\n",
       "  <th>Omnibus:</th>       <td>27.306</td> <th>  Durbin-Watson:     </th> <td>   1.936</td>\n",
       "</tr>\n",
       "<tr>\n",
       "  <th>Prob(Omnibus):</th> <td> 0.000</td> <th>  Jarque-Bera (JB):  </th> <td>  44.085</td>\n",
       "</tr>\n",
       "<tr>\n",
       "  <th>Skew:</th>          <td> 0.531</td> <th>  Prob(JB):          </th> <td>2.67e-10</td>\n",
       "</tr>\n",
       "<tr>\n",
       "  <th>Kurtosis:</th>      <td> 4.438</td> <th>  Cond. No.          </th> <td>1.16e+05</td>\n",
       "</tr>\n",
       "</table><br/><br/>Warnings:<br/>[1] Standard Errors assume that the covariance matrix of the errors is correctly specified.<br/>[2] The condition number is large, 1.16e+05. This might indicate that there are<br/>strong multicollinearity or other numerical problems."
      ],
      "text/plain": [
       "<class 'statsmodels.iolib.summary.Summary'>\n",
       "\"\"\"\n",
       "                            OLS Regression Results                            \n",
       "==============================================================================\n",
       "Dep. Variable:                 Salary   R-squared:                       0.571\n",
       "Model:                            OLS   Adj. R-squared:                  0.535\n",
       "Method:                 Least Squares   F-statistic:                     15.57\n",
       "Date:                Tue, 27 Oct 2020   Prob (F-statistic):           8.52e-42\n",
       "Time:                        21:28:26   Log-Likelihood:                -5569.1\n",
       "No. Observations:                 331   AIC:                         1.119e+04\n",
       "Df Residuals:                     304   BIC:                         1.129e+04\n",
       "Df Model:                          26                                         \n",
       "Covariance Type:            nonrobust                                         \n",
       "===================================================================================\n",
       "                      coef    std err          t      P>|t|      [0.025      0.975]\n",
       "-----------------------------------------------------------------------------------\n",
       "const            4.616e+06   7.16e+06      0.644      0.520   -9.48e+06    1.87e+07\n",
       "NBA_DraftNumber -6.471e+04   1.63e+04     -3.982      0.000   -9.67e+04   -3.27e+04\n",
       "Age              6.163e+05   7.06e+04      8.724      0.000    4.77e+05    7.55e+05\n",
       "G               -1.805e+05    3.1e+04     -5.828      0.000   -2.41e+05    -1.2e+05\n",
       "MP               6651.9938   1418.699      4.689      0.000    3860.281    9443.706\n",
       "PER             -5.214e+05   4.26e+05     -1.223      0.222   -1.36e+06    3.18e+05\n",
       "TS%             -1.797e+07    9.9e+06     -1.815      0.071   -3.75e+07    1.51e+06\n",
       "3PAr            -4.964e+06   3.21e+06     -1.545      0.123   -1.13e+07    1.36e+06\n",
       "FTr              6.611e+05   2.91e+06      0.227      0.820   -5.06e+06    6.38e+06\n",
       "ORB%            -1.952e+05   1.11e+06     -0.175      0.861   -2.39e+06       2e+06\n",
       "DRB%             2.774e+05   1.14e+06      0.244      0.808   -1.96e+06    2.52e+06\n",
       "TRB%            -1.604e+05   2.25e+06     -0.071      0.943   -4.59e+06    4.26e+06\n",
       "AST%            -1.788e+05   7.29e+04     -2.455      0.015   -3.22e+05   -3.55e+04\n",
       "STL%            -5.573e+04   5.93e+05     -0.094      0.925   -1.22e+06    1.11e+06\n",
       "BLK%             1.405e+05   4.01e+05      0.350      0.726   -6.49e+05     9.3e+05\n",
       "TOV%             1.844e+05   1.11e+05      1.659      0.098   -3.43e+04    4.03e+05\n",
       "USG%             2.127e+05   1.64e+05      1.296      0.196    -1.1e+05    5.36e+05\n",
       "OWS               5.33e+06    5.5e+06      0.969      0.334    -5.5e+06    1.62e+07\n",
       "DWS              5.207e+06    5.5e+06      0.947      0.344   -5.61e+06     1.6e+07\n",
       "WS              -5.564e+06   5.49e+06     -1.014      0.311   -1.64e+07    5.23e+06\n",
       "WS/48            3.209e+07   2.33e+07      1.379      0.169   -1.37e+07    7.79e+07\n",
       "OBPM             5.305e+06      6e+06      0.884      0.377    -6.5e+06    1.71e+07\n",
       "DBPM              4.08e+06   5.91e+06      0.691      0.490   -7.54e+06    1.57e+07\n",
       "BPM              -4.33e+06   5.93e+06     -0.731      0.465    -1.6e+07    7.33e+06\n",
       "VORP             1.466e+06   8.06e+05      1.818      0.070    -1.2e+05    3.05e+06\n",
       "NBA_Country2    -3362.0581   3.37e+04     -0.100      0.921   -6.96e+04    6.29e+04\n",
       "Tm2              1.309e+04    3.3e+04      0.397      0.692   -5.18e+04     7.8e+04\n",
       "==============================================================================\n",
       "Omnibus:                       27.306   Durbin-Watson:                   1.936\n",
       "Prob(Omnibus):                  0.000   Jarque-Bera (JB):               44.085\n",
       "Skew:                           0.531   Prob(JB):                     2.67e-10\n",
       "Kurtosis:                       4.438   Cond. No.                     1.16e+05\n",
       "==============================================================================\n",
       "\n",
       "Warnings:\n",
       "[1] Standard Errors assume that the covariance matrix of the errors is correctly specified.\n",
       "[2] The condition number is large, 1.16e+05. This might indicate that there are\n",
       "strong multicollinearity or other numerical problems.\n",
       "\"\"\""
      ]
     },
     "execution_count": 38,
     "metadata": {},
     "output_type": "execute_result"
    }
   ],
   "source": [
    "modeloStats = sm.OLS(y_train, x2_train)\n",
    "results = modeloStats.fit();\n",
    "#Consultamos la calidad del modelo a partir de sus estadísticas\n",
    "results.summary()"
   ]
  },
  {
   "cell_type": "markdown",
   "metadata": {},
   "source": [
    "Como puede verse en el resultado de las pruebas de hipótesis los coeficientes que son significativos para el modelo son:\n",
    "NBA_DraftNumber, Age, G, MP, AST%.\n",
    "\n",
    "También es posible que haya problemas de multicolinealidad como lo especifica la advertencia #2. A continuación construiremos una matriz de correlación para dar mayor claridad sobre la relación entre las variables."
   ]
  },
  {
   "cell_type": "code",
   "execution_count": 44,
   "metadata": {},
   "outputs": [
    {
     "data": {
      "text/html": [
       "<div>\n",
       "<style scoped>\n",
       "    .dataframe tbody tr th:only-of-type {\n",
       "        vertical-align: middle;\n",
       "    }\n",
       "\n",
       "    .dataframe tbody tr th {\n",
       "        vertical-align: top;\n",
       "    }\n",
       "\n",
       "    .dataframe thead th {\n",
       "        text-align: right;\n",
       "    }\n",
       "</style>\n",
       "<table border=\"1\" class=\"dataframe\">\n",
       "  <thead>\n",
       "    <tr style=\"text-align: right;\">\n",
       "      <th></th>\n",
       "      <th>NBA_DraftNumber</th>\n",
       "      <th>Age</th>\n",
       "      <th>G</th>\n",
       "      <th>MP</th>\n",
       "      <th>PER</th>\n",
       "      <th>TS%</th>\n",
       "      <th>3PAr</th>\n",
       "      <th>FTr</th>\n",
       "      <th>ORB%</th>\n",
       "      <th>DRB%</th>\n",
       "      <th>...</th>\n",
       "      <th>DWS</th>\n",
       "      <th>WS</th>\n",
       "      <th>WS/48</th>\n",
       "      <th>OBPM</th>\n",
       "      <th>DBPM</th>\n",
       "      <th>BPM</th>\n",
       "      <th>VORP</th>\n",
       "      <th>NBA_Country2</th>\n",
       "      <th>Tm2</th>\n",
       "      <th>Salary</th>\n",
       "    </tr>\n",
       "  </thead>\n",
       "  <tbody>\n",
       "    <tr>\n",
       "      <td>NBA_DraftNumber</td>\n",
       "      <td>1.000000</td>\n",
       "      <td>0.027979</td>\n",
       "      <td>-0.282847</td>\n",
       "      <td>-0.346984</td>\n",
       "      <td>-0.366332</td>\n",
       "      <td>-0.164489</td>\n",
       "      <td>0.223567</td>\n",
       "      <td>-0.088247</td>\n",
       "      <td>-0.086241</td>\n",
       "      <td>-0.176484</td>\n",
       "      <td>...</td>\n",
       "      <td>-0.323039</td>\n",
       "      <td>-0.324691</td>\n",
       "      <td>-0.272885</td>\n",
       "      <td>-0.311156</td>\n",
       "      <td>-0.144516</td>\n",
       "      <td>-0.313881</td>\n",
       "      <td>-0.269370</td>\n",
       "      <td>0.046761</td>\n",
       "      <td>0.010675</td>\n",
       "      <td>-0.349851</td>\n",
       "    </tr>\n",
       "    <tr>\n",
       "      <td>Age</td>\n",
       "      <td>0.027979</td>\n",
       "      <td>1.000000</td>\n",
       "      <td>0.093667</td>\n",
       "      <td>0.116491</td>\n",
       "      <td>0.101049</td>\n",
       "      <td>0.090524</td>\n",
       "      <td>0.012019</td>\n",
       "      <td>-0.005010</td>\n",
       "      <td>0.007495</td>\n",
       "      <td>0.012696</td>\n",
       "      <td>...</td>\n",
       "      <td>0.103481</td>\n",
       "      <td>0.155976</td>\n",
       "      <td>0.116450</td>\n",
       "      <td>0.139185</td>\n",
       "      <td>0.009553</td>\n",
       "      <td>0.110655</td>\n",
       "      <td>0.129026</td>\n",
       "      <td>-0.021452</td>\n",
       "      <td>-0.075753</td>\n",
       "      <td>0.396991</td>\n",
       "    </tr>\n",
       "    <tr>\n",
       "      <td>G</td>\n",
       "      <td>-0.282847</td>\n",
       "      <td>0.093667</td>\n",
       "      <td>1.000000</td>\n",
       "      <td>0.862070</td>\n",
       "      <td>0.384300</td>\n",
       "      <td>0.350116</td>\n",
       "      <td>-0.050334</td>\n",
       "      <td>0.041416</td>\n",
       "      <td>-0.071499</td>\n",
       "      <td>0.116889</td>\n",
       "      <td>...</td>\n",
       "      <td>0.715296</td>\n",
       "      <td>0.609628</td>\n",
       "      <td>0.433377</td>\n",
       "      <td>0.524234</td>\n",
       "      <td>0.363787</td>\n",
       "      <td>0.597482</td>\n",
       "      <td>0.399211</td>\n",
       "      <td>0.046334</td>\n",
       "      <td>0.026233</td>\n",
       "      <td>0.236444</td>\n",
       "    </tr>\n",
       "    <tr>\n",
       "      <td>MP</td>\n",
       "      <td>-0.346984</td>\n",
       "      <td>0.116491</td>\n",
       "      <td>0.862070</td>\n",
       "      <td>1.000000</td>\n",
       "      <td>0.480185</td>\n",
       "      <td>0.312502</td>\n",
       "      <td>-0.027325</td>\n",
       "      <td>0.050476</td>\n",
       "      <td>-0.121408</td>\n",
       "      <td>0.088846</td>\n",
       "      <td>...</td>\n",
       "      <td>0.827779</td>\n",
       "      <td>0.770320</td>\n",
       "      <td>0.420969</td>\n",
       "      <td>0.622569</td>\n",
       "      <td>0.288868</td>\n",
       "      <td>0.631052</td>\n",
       "      <td>0.622455</td>\n",
       "      <td>0.015245</td>\n",
       "      <td>0.010725</td>\n",
       "      <td>0.474630</td>\n",
       "    </tr>\n",
       "    <tr>\n",
       "      <td>PER</td>\n",
       "      <td>-0.366332</td>\n",
       "      <td>0.101049</td>\n",
       "      <td>0.384300</td>\n",
       "      <td>0.480185</td>\n",
       "      <td>1.000000</td>\n",
       "      <td>0.698256</td>\n",
       "      <td>-0.458469</td>\n",
       "      <td>0.436331</td>\n",
       "      <td>0.295666</td>\n",
       "      <td>0.399348</td>\n",
       "      <td>...</td>\n",
       "      <td>0.547306</td>\n",
       "      <td>0.687396</td>\n",
       "      <td>0.879845</td>\n",
       "      <td>0.823685</td>\n",
       "      <td>0.289361</td>\n",
       "      <td>0.783842</td>\n",
       "      <td>0.627185</td>\n",
       "      <td>0.120323</td>\n",
       "      <td>0.033889</td>\n",
       "      <td>0.430147</td>\n",
       "    </tr>\n",
       "    <tr>\n",
       "      <td>TS%</td>\n",
       "      <td>-0.164489</td>\n",
       "      <td>0.090524</td>\n",
       "      <td>0.350116</td>\n",
       "      <td>0.312502</td>\n",
       "      <td>0.698256</td>\n",
       "      <td>1.000000</td>\n",
       "      <td>-0.267145</td>\n",
       "      <td>0.293733</td>\n",
       "      <td>0.186795</td>\n",
       "      <td>0.131359</td>\n",
       "      <td>...</td>\n",
       "      <td>0.307520</td>\n",
       "      <td>0.407011</td>\n",
       "      <td>0.772303</td>\n",
       "      <td>0.715744</td>\n",
       "      <td>0.128692</td>\n",
       "      <td>0.614508</td>\n",
       "      <td>0.316493</td>\n",
       "      <td>0.075709</td>\n",
       "      <td>0.072167</td>\n",
       "      <td>0.199065</td>\n",
       "    </tr>\n",
       "    <tr>\n",
       "      <td>3PAr</td>\n",
       "      <td>0.223567</td>\n",
       "      <td>0.012019</td>\n",
       "      <td>-0.050334</td>\n",
       "      <td>-0.027325</td>\n",
       "      <td>-0.458469</td>\n",
       "      <td>-0.267145</td>\n",
       "      <td>1.000000</td>\n",
       "      <td>-0.487637</td>\n",
       "      <td>-0.649981</td>\n",
       "      <td>-0.406625</td>\n",
       "      <td>...</td>\n",
       "      <td>-0.165107</td>\n",
       "      <td>-0.177394</td>\n",
       "      <td>-0.356335</td>\n",
       "      <td>-0.039190</td>\n",
       "      <td>-0.311530</td>\n",
       "      <td>-0.200303</td>\n",
       "      <td>-0.117409</td>\n",
       "      <td>-0.089969</td>\n",
       "      <td>-0.028918</td>\n",
       "      <td>-0.082234</td>\n",
       "    </tr>\n",
       "    <tr>\n",
       "      <td>FTr</td>\n",
       "      <td>-0.088247</td>\n",
       "      <td>-0.005010</td>\n",
       "      <td>0.041416</td>\n",
       "      <td>0.050476</td>\n",
       "      <td>0.436331</td>\n",
       "      <td>0.293733</td>\n",
       "      <td>-0.487637</td>\n",
       "      <td>1.000000</td>\n",
       "      <td>0.376237</td>\n",
       "      <td>0.374880</td>\n",
       "      <td>...</td>\n",
       "      <td>0.175601</td>\n",
       "      <td>0.253749</td>\n",
       "      <td>0.431972</td>\n",
       "      <td>0.174290</td>\n",
       "      <td>0.275865</td>\n",
       "      <td>0.283443</td>\n",
       "      <td>0.227880</td>\n",
       "      <td>0.078293</td>\n",
       "      <td>0.081604</td>\n",
       "      <td>0.148761</td>\n",
       "    </tr>\n",
       "    <tr>\n",
       "      <td>ORB%</td>\n",
       "      <td>-0.086241</td>\n",
       "      <td>0.007495</td>\n",
       "      <td>-0.071499</td>\n",
       "      <td>-0.121408</td>\n",
       "      <td>0.295666</td>\n",
       "      <td>0.186795</td>\n",
       "      <td>-0.649981</td>\n",
       "      <td>0.376237</td>\n",
       "      <td>1.000000</td>\n",
       "      <td>0.516542</td>\n",
       "      <td>...</td>\n",
       "      <td>0.078804</td>\n",
       "      <td>0.128061</td>\n",
       "      <td>0.298359</td>\n",
       "      <td>-0.043829</td>\n",
       "      <td>0.218056</td>\n",
       "      <td>0.086198</td>\n",
       "      <td>0.091348</td>\n",
       "      <td>0.152930</td>\n",
       "      <td>0.008741</td>\n",
       "      <td>0.010086</td>\n",
       "    </tr>\n",
       "    <tr>\n",
       "      <td>DRB%</td>\n",
       "      <td>-0.176484</td>\n",
       "      <td>0.012696</td>\n",
       "      <td>0.116889</td>\n",
       "      <td>0.088846</td>\n",
       "      <td>0.399348</td>\n",
       "      <td>0.131359</td>\n",
       "      <td>-0.406625</td>\n",
       "      <td>0.374880</td>\n",
       "      <td>0.516542</td>\n",
       "      <td>1.000000</td>\n",
       "      <td>...</td>\n",
       "      <td>0.330343</td>\n",
       "      <td>0.301070</td>\n",
       "      <td>0.355371</td>\n",
       "      <td>0.011491</td>\n",
       "      <td>0.468630</td>\n",
       "      <td>0.264630</td>\n",
       "      <td>0.263941</td>\n",
       "      <td>0.229703</td>\n",
       "      <td>-0.025278</td>\n",
       "      <td>0.189913</td>\n",
       "    </tr>\n",
       "    <tr>\n",
       "      <td>TRB%</td>\n",
       "      <td>-0.162394</td>\n",
       "      <td>0.014169</td>\n",
       "      <td>0.050298</td>\n",
       "      <td>0.009255</td>\n",
       "      <td>0.412085</td>\n",
       "      <td>0.178457</td>\n",
       "      <td>-0.572047</td>\n",
       "      <td>0.427664</td>\n",
       "      <td>0.804058</td>\n",
       "      <td>0.923803</td>\n",
       "      <td>...</td>\n",
       "      <td>0.270174</td>\n",
       "      <td>0.272229</td>\n",
       "      <td>0.385500</td>\n",
       "      <td>-0.007683</td>\n",
       "      <td>0.424439</td>\n",
       "      <td>0.226123</td>\n",
       "      <td>0.229989</td>\n",
       "      <td>0.228279</td>\n",
       "      <td>-0.011337</td>\n",
       "      <td>0.139816</td>\n",
       "    </tr>\n",
       "    <tr>\n",
       "      <td>AST%</td>\n",
       "      <td>-0.158010</td>\n",
       "      <td>0.142118</td>\n",
       "      <td>0.151270</td>\n",
       "      <td>0.317834</td>\n",
       "      <td>0.419010</td>\n",
       "      <td>0.134270</td>\n",
       "      <td>-0.064131</td>\n",
       "      <td>0.041309</td>\n",
       "      <td>-0.325799</td>\n",
       "      <td>-0.179509</td>\n",
       "      <td>...</td>\n",
       "      <td>0.254229</td>\n",
       "      <td>0.296369</td>\n",
       "      <td>0.230548</td>\n",
       "      <td>0.499529</td>\n",
       "      <td>0.035182</td>\n",
       "      <td>0.398376</td>\n",
       "      <td>0.388312</td>\n",
       "      <td>-0.038992</td>\n",
       "      <td>-0.009693</td>\n",
       "      <td>0.265646</td>\n",
       "    </tr>\n",
       "    <tr>\n",
       "      <td>STL%</td>\n",
       "      <td>0.056804</td>\n",
       "      <td>-0.017142</td>\n",
       "      <td>-0.013477</td>\n",
       "      <td>0.036045</td>\n",
       "      <td>0.027833</td>\n",
       "      <td>-0.173507</td>\n",
       "      <td>0.029335</td>\n",
       "      <td>0.065095</td>\n",
       "      <td>-0.136726</td>\n",
       "      <td>-0.124681</td>\n",
       "      <td>...</td>\n",
       "      <td>0.113204</td>\n",
       "      <td>0.045958</td>\n",
       "      <td>-0.033803</td>\n",
       "      <td>0.040692</td>\n",
       "      <td>0.413208</td>\n",
       "      <td>0.258236</td>\n",
       "      <td>0.154708</td>\n",
       "      <td>-0.112294</td>\n",
       "      <td>-0.041235</td>\n",
       "      <td>0.003143</td>\n",
       "    </tr>\n",
       "    <tr>\n",
       "      <td>BLK%</td>\n",
       "      <td>-0.155943</td>\n",
       "      <td>-0.016172</td>\n",
       "      <td>0.096625</td>\n",
       "      <td>0.026337</td>\n",
       "      <td>0.344947</td>\n",
       "      <td>0.209140</td>\n",
       "      <td>-0.400307</td>\n",
       "      <td>0.345928</td>\n",
       "      <td>0.438741</td>\n",
       "      <td>0.478901</td>\n",
       "      <td>...</td>\n",
       "      <td>0.268555</td>\n",
       "      <td>0.211225</td>\n",
       "      <td>0.347432</td>\n",
       "      <td>0.026496</td>\n",
       "      <td>0.628922</td>\n",
       "      <td>0.364251</td>\n",
       "      <td>0.226049</td>\n",
       "      <td>0.149483</td>\n",
       "      <td>0.037560</td>\n",
       "      <td>0.075643</td>\n",
       "    </tr>\n",
       "    <tr>\n",
       "      <td>TOV%</td>\n",
       "      <td>0.094204</td>\n",
       "      <td>0.091413</td>\n",
       "      <td>-0.098175</td>\n",
       "      <td>-0.089888</td>\n",
       "      <td>0.016545</td>\n",
       "      <td>0.297401</td>\n",
       "      <td>-0.234648</td>\n",
       "      <td>0.215346</td>\n",
       "      <td>0.088774</td>\n",
       "      <td>-0.013454</td>\n",
       "      <td>...</td>\n",
       "      <td>-0.012292</td>\n",
       "      <td>-0.088163</td>\n",
       "      <td>-0.023987</td>\n",
       "      <td>-0.054442</td>\n",
       "      <td>0.216181</td>\n",
       "      <td>0.077767</td>\n",
       "      <td>0.001221</td>\n",
       "      <td>0.030680</td>\n",
       "      <td>-0.003942</td>\n",
       "      <td>-0.022240</td>\n",
       "    </tr>\n",
       "    <tr>\n",
       "      <td>USG%</td>\n",
       "      <td>-0.295603</td>\n",
       "      <td>0.030952</td>\n",
       "      <td>0.097326</td>\n",
       "      <td>0.323294</td>\n",
       "      <td>0.574616</td>\n",
       "      <td>0.137761</td>\n",
       "      <td>-0.164851</td>\n",
       "      <td>0.146550</td>\n",
       "      <td>-0.061331</td>\n",
       "      <td>0.108120</td>\n",
       "      <td>...</td>\n",
       "      <td>0.288771</td>\n",
       "      <td>0.343452</td>\n",
       "      <td>0.192047</td>\n",
       "      <td>0.430451</td>\n",
       "      <td>-0.174300</td>\n",
       "      <td>0.231104</td>\n",
       "      <td>0.365696</td>\n",
       "      <td>0.015903</td>\n",
       "      <td>-0.031058</td>\n",
       "      <td>0.352269</td>\n",
       "    </tr>\n",
       "    <tr>\n",
       "      <td>OWS</td>\n",
       "      <td>-0.284015</td>\n",
       "      <td>0.164191</td>\n",
       "      <td>0.476901</td>\n",
       "      <td>0.643131</td>\n",
       "      <td>0.677412</td>\n",
       "      <td>0.410018</td>\n",
       "      <td>-0.163125</td>\n",
       "      <td>0.264655</td>\n",
       "      <td>0.139018</td>\n",
       "      <td>0.248228</td>\n",
       "      <td>...</td>\n",
       "      <td>0.654334</td>\n",
       "      <td>0.957613</td>\n",
       "      <td>0.669799</td>\n",
       "      <td>0.695771</td>\n",
       "      <td>0.242684</td>\n",
       "      <td>0.661754</td>\n",
       "      <td>0.875522</td>\n",
       "      <td>0.088285</td>\n",
       "      <td>0.018544</td>\n",
       "      <td>0.528523</td>\n",
       "    </tr>\n",
       "    <tr>\n",
       "      <td>DWS</td>\n",
       "      <td>-0.323039</td>\n",
       "      <td>0.103481</td>\n",
       "      <td>0.715296</td>\n",
       "      <td>0.827779</td>\n",
       "      <td>0.547306</td>\n",
       "      <td>0.307520</td>\n",
       "      <td>-0.165107</td>\n",
       "      <td>0.175601</td>\n",
       "      <td>0.078804</td>\n",
       "      <td>0.330343</td>\n",
       "      <td>...</td>\n",
       "      <td>1.000000</td>\n",
       "      <td>0.843893</td>\n",
       "      <td>0.546566</td>\n",
       "      <td>0.529354</td>\n",
       "      <td>0.531191</td>\n",
       "      <td>0.692819</td>\n",
       "      <td>0.755026</td>\n",
       "      <td>0.099165</td>\n",
       "      <td>0.066164</td>\n",
       "      <td>0.474727</td>\n",
       "    </tr>\n",
       "    <tr>\n",
       "      <td>WS</td>\n",
       "      <td>-0.324691</td>\n",
       "      <td>0.155976</td>\n",
       "      <td>0.609628</td>\n",
       "      <td>0.770320</td>\n",
       "      <td>0.687396</td>\n",
       "      <td>0.407011</td>\n",
       "      <td>-0.177394</td>\n",
       "      <td>0.253749</td>\n",
       "      <td>0.128061</td>\n",
       "      <td>0.301070</td>\n",
       "      <td>...</td>\n",
       "      <td>0.843893</td>\n",
       "      <td>1.000000</td>\n",
       "      <td>0.681652</td>\n",
       "      <td>0.693634</td>\n",
       "      <td>0.374497</td>\n",
       "      <td>0.732123</td>\n",
       "      <td>0.908269</td>\n",
       "      <td>0.099908</td>\n",
       "      <td>0.039192</td>\n",
       "      <td>0.554719</td>\n",
       "    </tr>\n",
       "    <tr>\n",
       "      <td>WS/48</td>\n",
       "      <td>-0.272885</td>\n",
       "      <td>0.116450</td>\n",
       "      <td>0.433377</td>\n",
       "      <td>0.420969</td>\n",
       "      <td>0.879845</td>\n",
       "      <td>0.772303</td>\n",
       "      <td>-0.356335</td>\n",
       "      <td>0.431972</td>\n",
       "      <td>0.298359</td>\n",
       "      <td>0.355371</td>\n",
       "      <td>...</td>\n",
       "      <td>0.546566</td>\n",
       "      <td>0.681652</td>\n",
       "      <td>1.000000</td>\n",
       "      <td>0.807184</td>\n",
       "      <td>0.378904</td>\n",
       "      <td>0.820515</td>\n",
       "      <td>0.587863</td>\n",
       "      <td>0.133790</td>\n",
       "      <td>0.095805</td>\n",
       "      <td>0.352352</td>\n",
       "    </tr>\n",
       "    <tr>\n",
       "      <td>OBPM</td>\n",
       "      <td>-0.311156</td>\n",
       "      <td>0.139185</td>\n",
       "      <td>0.524234</td>\n",
       "      <td>0.622569</td>\n",
       "      <td>0.823685</td>\n",
       "      <td>0.715744</td>\n",
       "      <td>-0.039190</td>\n",
       "      <td>0.174290</td>\n",
       "      <td>-0.043829</td>\n",
       "      <td>0.011491</td>\n",
       "      <td>...</td>\n",
       "      <td>0.529354</td>\n",
       "      <td>0.693634</td>\n",
       "      <td>0.807184</td>\n",
       "      <td>1.000000</td>\n",
       "      <td>0.147155</td>\n",
       "      <td>0.840391</td>\n",
       "      <td>0.643501</td>\n",
       "      <td>0.035593</td>\n",
       "      <td>0.045787</td>\n",
       "      <td>0.436432</td>\n",
       "    </tr>\n",
       "    <tr>\n",
       "      <td>DBPM</td>\n",
       "      <td>-0.144516</td>\n",
       "      <td>0.009553</td>\n",
       "      <td>0.363787</td>\n",
       "      <td>0.288868</td>\n",
       "      <td>0.289361</td>\n",
       "      <td>0.128692</td>\n",
       "      <td>-0.311530</td>\n",
       "      <td>0.275865</td>\n",
       "      <td>0.218056</td>\n",
       "      <td>0.468630</td>\n",
       "      <td>...</td>\n",
       "      <td>0.531191</td>\n",
       "      <td>0.374497</td>\n",
       "      <td>0.378904</td>\n",
       "      <td>0.147155</td>\n",
       "      <td>1.000000</td>\n",
       "      <td>0.659602</td>\n",
       "      <td>0.404210</td>\n",
       "      <td>0.084392</td>\n",
       "      <td>0.016976</td>\n",
       "      <td>0.150196</td>\n",
       "    </tr>\n",
       "    <tr>\n",
       "      <td>BPM</td>\n",
       "      <td>-0.313881</td>\n",
       "      <td>0.110655</td>\n",
       "      <td>0.597482</td>\n",
       "      <td>0.631052</td>\n",
       "      <td>0.783842</td>\n",
       "      <td>0.614508</td>\n",
       "      <td>-0.200303</td>\n",
       "      <td>0.283443</td>\n",
       "      <td>0.086198</td>\n",
       "      <td>0.264630</td>\n",
       "      <td>...</td>\n",
       "      <td>0.692819</td>\n",
       "      <td>0.732123</td>\n",
       "      <td>0.820515</td>\n",
       "      <td>0.840391</td>\n",
       "      <td>0.659602</td>\n",
       "      <td>1.000000</td>\n",
       "      <td>0.710433</td>\n",
       "      <td>0.073053</td>\n",
       "      <td>0.045068</td>\n",
       "      <td>0.413073</td>\n",
       "    </tr>\n",
       "    <tr>\n",
       "      <td>VORP</td>\n",
       "      <td>-0.269370</td>\n",
       "      <td>0.129026</td>\n",
       "      <td>0.399211</td>\n",
       "      <td>0.622455</td>\n",
       "      <td>0.627185</td>\n",
       "      <td>0.316493</td>\n",
       "      <td>-0.117409</td>\n",
       "      <td>0.227880</td>\n",
       "      <td>0.091348</td>\n",
       "      <td>0.263941</td>\n",
       "      <td>...</td>\n",
       "      <td>0.755026</td>\n",
       "      <td>0.908269</td>\n",
       "      <td>0.587863</td>\n",
       "      <td>0.643501</td>\n",
       "      <td>0.404210</td>\n",
       "      <td>0.710433</td>\n",
       "      <td>1.000000</td>\n",
       "      <td>0.088962</td>\n",
       "      <td>0.035477</td>\n",
       "      <td>0.561972</td>\n",
       "    </tr>\n",
       "    <tr>\n",
       "      <td>NBA_Country2</td>\n",
       "      <td>0.046761</td>\n",
       "      <td>-0.021452</td>\n",
       "      <td>0.046334</td>\n",
       "      <td>0.015245</td>\n",
       "      <td>0.120323</td>\n",
       "      <td>0.075709</td>\n",
       "      <td>-0.089969</td>\n",
       "      <td>0.078293</td>\n",
       "      <td>0.152930</td>\n",
       "      <td>0.229703</td>\n",
       "      <td>...</td>\n",
       "      <td>0.099165</td>\n",
       "      <td>0.099908</td>\n",
       "      <td>0.133790</td>\n",
       "      <td>0.035593</td>\n",
       "      <td>0.084392</td>\n",
       "      <td>0.073053</td>\n",
       "      <td>0.088962</td>\n",
       "      <td>1.000000</td>\n",
       "      <td>0.017994</td>\n",
       "      <td>0.013785</td>\n",
       "    </tr>\n",
       "    <tr>\n",
       "      <td>Tm2</td>\n",
       "      <td>0.010675</td>\n",
       "      <td>-0.075753</td>\n",
       "      <td>0.026233</td>\n",
       "      <td>0.010725</td>\n",
       "      <td>0.033889</td>\n",
       "      <td>0.072167</td>\n",
       "      <td>-0.028918</td>\n",
       "      <td>0.081604</td>\n",
       "      <td>0.008741</td>\n",
       "      <td>-0.025278</td>\n",
       "      <td>...</td>\n",
       "      <td>0.066164</td>\n",
       "      <td>0.039192</td>\n",
       "      <td>0.095805</td>\n",
       "      <td>0.045787</td>\n",
       "      <td>0.016976</td>\n",
       "      <td>0.045068</td>\n",
       "      <td>0.035477</td>\n",
       "      <td>0.017994</td>\n",
       "      <td>1.000000</td>\n",
       "      <td>-0.004918</td>\n",
       "    </tr>\n",
       "    <tr>\n",
       "      <td>Salary</td>\n",
       "      <td>-0.349851</td>\n",
       "      <td>0.396991</td>\n",
       "      <td>0.236444</td>\n",
       "      <td>0.474630</td>\n",
       "      <td>0.430147</td>\n",
       "      <td>0.199065</td>\n",
       "      <td>-0.082234</td>\n",
       "      <td>0.148761</td>\n",
       "      <td>0.010086</td>\n",
       "      <td>0.189913</td>\n",
       "      <td>...</td>\n",
       "      <td>0.474727</td>\n",
       "      <td>0.554719</td>\n",
       "      <td>0.352352</td>\n",
       "      <td>0.436432</td>\n",
       "      <td>0.150196</td>\n",
       "      <td>0.413073</td>\n",
       "      <td>0.561972</td>\n",
       "      <td>0.013785</td>\n",
       "      <td>-0.004918</td>\n",
       "      <td>1.000000</td>\n",
       "    </tr>\n",
       "  </tbody>\n",
       "</table>\n",
       "<p>27 rows × 27 columns</p>\n",
       "</div>"
      ],
      "text/plain": [
       "                 NBA_DraftNumber       Age         G        MP       PER  \\\n",
       "NBA_DraftNumber         1.000000  0.027979 -0.282847 -0.346984 -0.366332   \n",
       "Age                     0.027979  1.000000  0.093667  0.116491  0.101049   \n",
       "G                      -0.282847  0.093667  1.000000  0.862070  0.384300   \n",
       "MP                     -0.346984  0.116491  0.862070  1.000000  0.480185   \n",
       "PER                    -0.366332  0.101049  0.384300  0.480185  1.000000   \n",
       "TS%                    -0.164489  0.090524  0.350116  0.312502  0.698256   \n",
       "3PAr                    0.223567  0.012019 -0.050334 -0.027325 -0.458469   \n",
       "FTr                    -0.088247 -0.005010  0.041416  0.050476  0.436331   \n",
       "ORB%                   -0.086241  0.007495 -0.071499 -0.121408  0.295666   \n",
       "DRB%                   -0.176484  0.012696  0.116889  0.088846  0.399348   \n",
       "TRB%                   -0.162394  0.014169  0.050298  0.009255  0.412085   \n",
       "AST%                   -0.158010  0.142118  0.151270  0.317834  0.419010   \n",
       "STL%                    0.056804 -0.017142 -0.013477  0.036045  0.027833   \n",
       "BLK%                   -0.155943 -0.016172  0.096625  0.026337  0.344947   \n",
       "TOV%                    0.094204  0.091413 -0.098175 -0.089888  0.016545   \n",
       "USG%                   -0.295603  0.030952  0.097326  0.323294  0.574616   \n",
       "OWS                    -0.284015  0.164191  0.476901  0.643131  0.677412   \n",
       "DWS                    -0.323039  0.103481  0.715296  0.827779  0.547306   \n",
       "WS                     -0.324691  0.155976  0.609628  0.770320  0.687396   \n",
       "WS/48                  -0.272885  0.116450  0.433377  0.420969  0.879845   \n",
       "OBPM                   -0.311156  0.139185  0.524234  0.622569  0.823685   \n",
       "DBPM                   -0.144516  0.009553  0.363787  0.288868  0.289361   \n",
       "BPM                    -0.313881  0.110655  0.597482  0.631052  0.783842   \n",
       "VORP                   -0.269370  0.129026  0.399211  0.622455  0.627185   \n",
       "NBA_Country2            0.046761 -0.021452  0.046334  0.015245  0.120323   \n",
       "Tm2                     0.010675 -0.075753  0.026233  0.010725  0.033889   \n",
       "Salary                 -0.349851  0.396991  0.236444  0.474630  0.430147   \n",
       "\n",
       "                      TS%      3PAr       FTr      ORB%      DRB%  ...  \\\n",
       "NBA_DraftNumber -0.164489  0.223567 -0.088247 -0.086241 -0.176484  ...   \n",
       "Age              0.090524  0.012019 -0.005010  0.007495  0.012696  ...   \n",
       "G                0.350116 -0.050334  0.041416 -0.071499  0.116889  ...   \n",
       "MP               0.312502 -0.027325  0.050476 -0.121408  0.088846  ...   \n",
       "PER              0.698256 -0.458469  0.436331  0.295666  0.399348  ...   \n",
       "TS%              1.000000 -0.267145  0.293733  0.186795  0.131359  ...   \n",
       "3PAr            -0.267145  1.000000 -0.487637 -0.649981 -0.406625  ...   \n",
       "FTr              0.293733 -0.487637  1.000000  0.376237  0.374880  ...   \n",
       "ORB%             0.186795 -0.649981  0.376237  1.000000  0.516542  ...   \n",
       "DRB%             0.131359 -0.406625  0.374880  0.516542  1.000000  ...   \n",
       "TRB%             0.178457 -0.572047  0.427664  0.804058  0.923803  ...   \n",
       "AST%             0.134270 -0.064131  0.041309 -0.325799 -0.179509  ...   \n",
       "STL%            -0.173507  0.029335  0.065095 -0.136726 -0.124681  ...   \n",
       "BLK%             0.209140 -0.400307  0.345928  0.438741  0.478901  ...   \n",
       "TOV%             0.297401 -0.234648  0.215346  0.088774 -0.013454  ...   \n",
       "USG%             0.137761 -0.164851  0.146550 -0.061331  0.108120  ...   \n",
       "OWS              0.410018 -0.163125  0.264655  0.139018  0.248228  ...   \n",
       "DWS              0.307520 -0.165107  0.175601  0.078804  0.330343  ...   \n",
       "WS               0.407011 -0.177394  0.253749  0.128061  0.301070  ...   \n",
       "WS/48            0.772303 -0.356335  0.431972  0.298359  0.355371  ...   \n",
       "OBPM             0.715744 -0.039190  0.174290 -0.043829  0.011491  ...   \n",
       "DBPM             0.128692 -0.311530  0.275865  0.218056  0.468630  ...   \n",
       "BPM              0.614508 -0.200303  0.283443  0.086198  0.264630  ...   \n",
       "VORP             0.316493 -0.117409  0.227880  0.091348  0.263941  ...   \n",
       "NBA_Country2     0.075709 -0.089969  0.078293  0.152930  0.229703  ...   \n",
       "Tm2              0.072167 -0.028918  0.081604  0.008741 -0.025278  ...   \n",
       "Salary           0.199065 -0.082234  0.148761  0.010086  0.189913  ...   \n",
       "\n",
       "                      DWS        WS     WS/48      OBPM      DBPM       BPM  \\\n",
       "NBA_DraftNumber -0.323039 -0.324691 -0.272885 -0.311156 -0.144516 -0.313881   \n",
       "Age              0.103481  0.155976  0.116450  0.139185  0.009553  0.110655   \n",
       "G                0.715296  0.609628  0.433377  0.524234  0.363787  0.597482   \n",
       "MP               0.827779  0.770320  0.420969  0.622569  0.288868  0.631052   \n",
       "PER              0.547306  0.687396  0.879845  0.823685  0.289361  0.783842   \n",
       "TS%              0.307520  0.407011  0.772303  0.715744  0.128692  0.614508   \n",
       "3PAr            -0.165107 -0.177394 -0.356335 -0.039190 -0.311530 -0.200303   \n",
       "FTr              0.175601  0.253749  0.431972  0.174290  0.275865  0.283443   \n",
       "ORB%             0.078804  0.128061  0.298359 -0.043829  0.218056  0.086198   \n",
       "DRB%             0.330343  0.301070  0.355371  0.011491  0.468630  0.264630   \n",
       "TRB%             0.270174  0.272229  0.385500 -0.007683  0.424439  0.226123   \n",
       "AST%             0.254229  0.296369  0.230548  0.499529  0.035182  0.398376   \n",
       "STL%             0.113204  0.045958 -0.033803  0.040692  0.413208  0.258236   \n",
       "BLK%             0.268555  0.211225  0.347432  0.026496  0.628922  0.364251   \n",
       "TOV%            -0.012292 -0.088163 -0.023987 -0.054442  0.216181  0.077767   \n",
       "USG%             0.288771  0.343452  0.192047  0.430451 -0.174300  0.231104   \n",
       "OWS              0.654334  0.957613  0.669799  0.695771  0.242684  0.661754   \n",
       "DWS              1.000000  0.843893  0.546566  0.529354  0.531191  0.692819   \n",
       "WS               0.843893  1.000000  0.681652  0.693634  0.374497  0.732123   \n",
       "WS/48            0.546566  0.681652  1.000000  0.807184  0.378904  0.820515   \n",
       "OBPM             0.529354  0.693634  0.807184  1.000000  0.147155  0.840391   \n",
       "DBPM             0.531191  0.374497  0.378904  0.147155  1.000000  0.659602   \n",
       "BPM              0.692819  0.732123  0.820515  0.840391  0.659602  1.000000   \n",
       "VORP             0.755026  0.908269  0.587863  0.643501  0.404210  0.710433   \n",
       "NBA_Country2     0.099165  0.099908  0.133790  0.035593  0.084392  0.073053   \n",
       "Tm2              0.066164  0.039192  0.095805  0.045787  0.016976  0.045068   \n",
       "Salary           0.474727  0.554719  0.352352  0.436432  0.150196  0.413073   \n",
       "\n",
       "                     VORP  NBA_Country2       Tm2    Salary  \n",
       "NBA_DraftNumber -0.269370      0.046761  0.010675 -0.349851  \n",
       "Age              0.129026     -0.021452 -0.075753  0.396991  \n",
       "G                0.399211      0.046334  0.026233  0.236444  \n",
       "MP               0.622455      0.015245  0.010725  0.474630  \n",
       "PER              0.627185      0.120323  0.033889  0.430147  \n",
       "TS%              0.316493      0.075709  0.072167  0.199065  \n",
       "3PAr            -0.117409     -0.089969 -0.028918 -0.082234  \n",
       "FTr              0.227880      0.078293  0.081604  0.148761  \n",
       "ORB%             0.091348      0.152930  0.008741  0.010086  \n",
       "DRB%             0.263941      0.229703 -0.025278  0.189913  \n",
       "TRB%             0.229989      0.228279 -0.011337  0.139816  \n",
       "AST%             0.388312     -0.038992 -0.009693  0.265646  \n",
       "STL%             0.154708     -0.112294 -0.041235  0.003143  \n",
       "BLK%             0.226049      0.149483  0.037560  0.075643  \n",
       "TOV%             0.001221      0.030680 -0.003942 -0.022240  \n",
       "USG%             0.365696      0.015903 -0.031058  0.352269  \n",
       "OWS              0.875522      0.088285  0.018544  0.528523  \n",
       "DWS              0.755026      0.099165  0.066164  0.474727  \n",
       "WS               0.908269      0.099908  0.039192  0.554719  \n",
       "WS/48            0.587863      0.133790  0.095805  0.352352  \n",
       "OBPM             0.643501      0.035593  0.045787  0.436432  \n",
       "DBPM             0.404210      0.084392  0.016976  0.150196  \n",
       "BPM              0.710433      0.073053  0.045068  0.413073  \n",
       "VORP             1.000000      0.088962  0.035477  0.561972  \n",
       "NBA_Country2     0.088962      1.000000  0.017994  0.013785  \n",
       "Tm2              0.035477      0.017994  1.000000 -0.004918  \n",
       "Salary           0.561972      0.013785 -0.004918  1.000000  \n",
       "\n",
       "[27 rows x 27 columns]"
      ]
     },
     "execution_count": 44,
     "metadata": {},
     "output_type": "execute_result"
    }
   ],
   "source": [
    "# Calculamos la matriz de correlaciones\n",
    "corr_matrix = x_train.join(y_train).corr()\n",
    "corr_matrix"
   ]
  },
  {
   "cell_type": "code",
   "execution_count": 46,
   "metadata": {},
   "outputs": [
    {
     "data": {
      "text/plain": [
       "<matplotlib.axes._subplots.AxesSubplot at 0x1d771317f48>"
      ]
     },
     "execution_count": 46,
     "metadata": {},
     "output_type": "execute_result"
    },
    {
     "data": {
      "image/png": "[encoded data removed]",
      "text/plain": [
       "<Figure size 792x648 with 2 Axes>"
      ]
     },
     "metadata": {
      "needs_background": "light"
     },
     "output_type": "display_data"
    }
   ],
   "source": [
    "# Set up the matplotlib figure\n",
    "f, ax = plt.subplots(figsize=(11, 9))\n",
    "\n",
    "# Generate a custom diverging colormap\n",
    "cmap = sns.diverging_palette(220, 10, as_cmap=True)\n",
    "\n",
    "sns.heatmap(corr_matrix, cmap=cmap, vmax=.3, center=0,\n",
    "            square=True, linewidths=.5, cbar_kws={\"shrink\": .5})"
   ]
  },
  {
   "cell_type": "markdown",
   "metadata": {},
   "source": [
    "Como se puede observar, las variables 3PAr y NBA_DraftNumber son las que están más correlacionadas con las demás variables independientes, por lo que es recomendable eliminarlas al momento de construir el modelo. Sin embargo, se realizará un proceso de selección de variables por medio de forward stepwise."
   ]
  },
  {
   "cell_type": "markdown",
   "metadata": {},
   "source": [
    "#### Selección de variables"
   ]
  },
  {
   "cell_type": "code",
   "execution_count": 65,
   "metadata": {},
   "outputs": [
    {
     "data": {
      "text/plain": [
       "Salary             1.000000\n",
       "VORP               0.561972\n",
       "WS                 0.554719\n",
       "OWS                0.528523\n",
       "DWS                0.474727\n",
       "MP                 0.474630\n",
       "OBPM               0.436432\n",
       "PER                0.430147\n",
       "BPM                0.413073\n",
       "Age                0.396991\n",
       "WS/48              0.352352\n",
       "USG%               0.352269\n",
       "AST%               0.265646\n",
       "G                  0.236444\n",
       "TS%                0.199065\n",
       "DRB%               0.189913\n",
       "DBPM               0.150196\n",
       "FTr                0.148761\n",
       "TRB%               0.139816\n",
       "BLK%               0.075643\n",
       "NBA_Country2       0.013785\n",
       "ORB%               0.010086\n",
       "STL%               0.003143\n",
       "Tm2               -0.004918\n",
       "TOV%              -0.022240\n",
       "3PAr              -0.082234\n",
       "NBA_DraftNumber   -0.349851\n",
       "Name: Salary, dtype: float64"
      ]
     },
     "execution_count": 65,
     "metadata": {},
     "output_type": "execute_result"
    }
   ],
   "source": [
    "corr_matrix['Salary'].sort_values(ascending=False)"
   ]
  },
  {
   "cell_type": "markdown",
   "metadata": {},
   "source": [
    "##### Forward Stepwise"
   ]
  },
  {
   "cell_type": "code",
   "execution_count": 160,
   "metadata": {
    "scrolled": false
   },
   "outputs": [
    {
     "data": {
      "text/plain": [
       "array(['VORP', 'WS', 'OWS', 'DWS', 'MP', 'OBPM', 'PER', 'BPM', 'Age',\n",
       "       'WS/48', 'USG%', 'AST%', 'G', 'TS%', 'DRB%', 'DBPM', 'FTr', 'TRB%',\n",
       "       'BLK%', 'NBA_Country2', 'ORB%', 'STL%', 'Tm2', 'TOV%', '3PAr',\n",
       "       'NBA_DraftNumber'], dtype=object)"
      ]
     },
     "execution_count": 160,
     "metadata": {},
     "output_type": "execute_result"
    }
   ],
   "source": [
    "variables = corr_matrix['Salary'].sort_values(ascending=False).index[1:].values\n",
    "variables"
   ]
  },
  {
   "cell_type": "markdown",
   "metadata": {},
   "source": [
    "['VORP' 'Age' 'NBA_DraftNumber' 'USG%' 'MP' 'G' 'DRB%' 'WS/48' 'PER' 'DWS']"
   ]
  },
  {
   "cell_type": "code",
   "execution_count": 161,
   "metadata": {
    "scrolled": false
   },
   "outputs": [
    {
     "name": "stdout",
     "output_type": "stream",
     "text": [
      "R2 adj: 0.3137 ['VORP']\n",
      "R2 adj: 0.4194 ['VORP' 'Age']\n",
      "R2 adj: 0.4701 ['VORP' 'Age' 'NBA_DraftNumber']\n",
      "R2 adj: 0.4821 ['VORP' 'Age' 'NBA_DraftNumber' 'USG%']\n",
      "R2 adj: 0.4875 ['VORP' 'Age' 'NBA_DraftNumber' 'USG%' 'MP']\n",
      "R2 adj: 0.5334 ['VORP' 'Age' 'NBA_DraftNumber' 'USG%' 'MP' 'G']\n",
      "R2 adj: 0.5391 ['VORP' 'Age' 'NBA_DraftNumber' 'USG%' 'MP' 'G' 'DRB%']\n",
      "R2 adj: 0.5402 ['VORP' 'Age' 'NBA_DraftNumber' 'USG%' 'MP' 'G' 'DRB%' 'WS/48']\n",
      "R2 adj: 0.5440 ['VORP' 'Age' 'NBA_DraftNumber' 'USG%' 'MP' 'G' 'DRB%' 'WS/48' 'PER']\n",
      "R2 adj: 0.5441 ['VORP' 'Age' 'NBA_DraftNumber' 'USG%' 'MP' 'G' 'DRB%' 'WS/48' 'PER' 'DWS']\n",
      "['WS' 'OWS' 'OBPM' 'BPM' 'AST%' 'TS%' 'DBPM' 'FTr' 'TRB%' 'BLK%'\n",
      " 'NBA_Country2' 'ORB%' 'STL%' 'Tm2' 'TOV%' '3PAr']\n"
     ]
    }
   ],
   "source": [
    "import sys\n",
    "current_variables = np.array([])\n",
    "max_r2 = -sys.maxsize - 1\n",
    "\n",
    "while(variables.size > 0):\n",
    "    max_r2_temp = -sys.maxsize - 1\n",
    "    max_r2_index = -1\n",
    "    for j in range(variables.size): \n",
    "        \n",
    "        test_variables = np.copy(current_variables)\n",
    "        #test_variables.append(variables[j])\n",
    "        x=[variables[j]]\n",
    "        test_variables = np.concatenate((test_variables, x), axis=0)\n",
    "        x2_train = x_train[test_variables]\n",
    "        x2_train = sm.add_constant(x2_train)\n",
    "        modeloStats = sm.OLS(y_train, x2_train)\n",
    "        results = modeloStats.fit();\n",
    "        \n",
    "        if results.rsquared_adj > max_r2_temp:\n",
    "            max_r2_temp = results.rsquared_adj\n",
    "            max_r2_index = j\n",
    "            \n",
    "        #print('R2_temp adj: %.4f' %results.rsquared_adj,test_variables)\n",
    "        \n",
    "    if max_r2 < max_r2_temp:\n",
    "        max_r2 = max_r2_temp\n",
    "        x=[variables[max_r2_index]]\n",
    "        current_variables = np.concatenate((current_variables, x), axis=0)\n",
    "        variables = np.delete(variables, max_r2_index)\n",
    "    else:\n",
    "        break\n",
    "        \n",
    "    print('R2 adj: %.4f' %max_r2,current_variables)\n",
    "    \n",
    "    \n",
    "    \n",
    "\n",
    "print(variables)\n",
    "    "
   ]
  },
  {
   "cell_type": "code",
   "execution_count": 148,
   "metadata": {
    "scrolled": false
   },
   "outputs": [
    {
     "name": "stdout",
     "output_type": "stream",
     "text": [
      "R2 adj: 0.5360 ['VORP' 'WS' 'OWS' 'DWS' 'MP' 'OBPM' 'PER' 'BPM' 'Age' 'WS/48' 'USG%'\n",
      " 'AST%' 'G' 'TS%' 'DRB%' 'DBPM' 'FTr' 'BLK%' 'NBA_Country2' 'ORB%' 'STL%'\n",
      " 'Tm2' 'TOV%' '3PAr' 'NBA_DraftNumber']\n",
      "R2 adj: 0.5375 ['VORP' 'WS' 'OWS' 'DWS' 'MP' 'OBPM' 'PER' 'BPM' 'Age' 'WS/48' 'USG%'\n",
      " 'AST%' 'G' 'TS%' 'DRB%' 'DBPM' 'FTr' 'BLK%' 'ORB%' 'STL%' 'Tm2' 'TOV%'\n",
      " '3PAr' 'NBA_DraftNumber']\n",
      "R2 adj: 0.5390 ['VORP' 'WS' 'OWS' 'DWS' 'MP' 'OBPM' 'PER' 'BPM' 'Age' 'WS/48' 'USG%'\n",
      " 'AST%' 'G' 'TS%' 'DRB%' 'DBPM' 'FTr' 'BLK%' 'ORB%' 'Tm2' 'TOV%' '3PAr'\n",
      " 'NBA_DraftNumber']\n",
      "R2 adj: 0.5404 ['VORP' 'WS' 'OWS' 'DWS' 'MP' 'OBPM' 'PER' 'BPM' 'Age' 'WS/48' 'USG%'\n",
      " 'AST%' 'G' 'TS%' 'DRB%' 'DBPM' 'BLK%' 'ORB%' 'Tm2' 'TOV%' '3PAr'\n",
      " 'NBA_DraftNumber']\n",
      "R2 adj: 0.5417 ['VORP' 'WS' 'OWS' 'DWS' 'MP' 'OBPM' 'PER' 'BPM' 'Age' 'WS/48' 'USG%'\n",
      " 'AST%' 'G' 'TS%' 'DRB%' 'DBPM' 'BLK%' 'ORB%' 'TOV%' '3PAr'\n",
      " 'NBA_DraftNumber']\n",
      "R2 adj: 0.5428 ['VORP' 'WS' 'OWS' 'DWS' 'MP' 'OBPM' 'PER' 'BPM' 'Age' 'WS/48' 'USG%'\n",
      " 'AST%' 'G' 'TS%' 'DRB%' 'DBPM' 'ORB%' 'TOV%' '3PAr' 'NBA_DraftNumber']\n",
      "R2 adj: 0.5435 ['VORP' 'WS' 'OWS' 'DWS' 'MP' 'OBPM' 'PER' 'BPM' 'Age' 'WS/48' 'USG%'\n",
      " 'AST%' 'G' 'TS%' 'DRB%' 'ORB%' 'TOV%' '3PAr' 'NBA_DraftNumber']\n",
      "R2 adj: 0.5442 ['VORP' 'WS' 'OWS' 'DWS' 'MP' 'OBPM' 'PER' 'Age' 'WS/48' 'USG%' 'AST%' 'G'\n",
      " 'TS%' 'DRB%' 'ORB%' 'TOV%' '3PAr' 'NBA_DraftNumber']\n",
      "R2 adj: 0.5445 ['VORP' 'WS' 'OWS' 'MP' 'OBPM' 'PER' 'Age' 'WS/48' 'USG%' 'AST%' 'G' 'TS%'\n",
      " 'DRB%' 'ORB%' 'TOV%' '3PAr' 'NBA_DraftNumber']\n",
      "R2 adj: 0.5452 ['VORP' 'WS' 'MP' 'OBPM' 'PER' 'Age' 'WS/48' 'USG%' 'AST%' 'G' 'TS%'\n",
      " 'DRB%' 'ORB%' 'TOV%' '3PAr' 'NBA_DraftNumber']\n",
      "R2 adj: 0.5464 ['VORP' 'MP' 'OBPM' 'PER' 'Age' 'WS/48' 'USG%' 'AST%' 'G' 'TS%' 'DRB%'\n",
      " 'ORB%' 'TOV%' '3PAr' 'NBA_DraftNumber']\n",
      "[]\n"
     ]
    }
   ],
   "source": [
    "current_variables = np.copy(variables)\n",
    "max_r2 = -sys.maxsize - 1\n",
    "\n",
    "while(variables.size > 0):\n",
    "    max_r2_temp = -sys.maxsize - 1\n",
    "    max_r2_index = -1\n",
    "    for j in range(variables.size): \n",
    "        \n",
    "        test_variables = np.copy(current_variables)\n",
    "        #test_variables.append(variables[j])\n",
    "        x=[variables[j]]\n",
    "        test_variables = np.delete(test_variables, j)\n",
    "        x2_train = x_train[test_variables]\n",
    "        x2_train = sm.add_constant(x2_train)\n",
    "        modeloStats = sm.OLS(y_train, x2_train)\n",
    "        results = modeloStats.fit();\n",
    "        \n",
    "        if results.rsquared_adj > max_r2_temp:\n",
    "            max_r2_temp = results.rsquared_adj\n",
    "            max_r2_index = j\n",
    "            \n",
    "        #print('R2_temp adj: %.4f' %results.rsquared_adj,test_variables)\n",
    "        \n",
    "    if max_r2 < max_r2_temp:\n",
    "        max_r2 = max_r2_temp\n",
    "        current_variables = np.delete(current_variables, max_r2_index)\n",
    "        variables = np.delete(variables, max_r2_index)\n",
    "    else:\n",
    "        break\n",
    "        \n",
    "    print('R2 adj: %.4f' %max_r2,current_variables)\n",
    "    \n",
    "    \n",
    "    \n",
    "\n",
    "print()\n",
    "    "
   ]
  },
  {
   "cell_type": "markdown",
   "metadata": {},
   "source": [
    "# Maousekeherramientas para usar más adelante\n"
   ]
  },
  {
   "cell_type": "code",
   "execution_count": 39,
   "metadata": {
    "scrolled": false
   },
   "outputs": [
    {
     "data": {
      "text/plain": [
       "18     1.286\n",
       "262    1.000\n",
       "125    0.750\n",
       "89     0.682\n",
       "55     0.667\n",
       "       ...  \n",
       "239    0.000\n",
       "280    0.000\n",
       "375    0.000\n",
       "241    0.000\n",
       "143    0.000\n",
       "Name: FTr, Length: 474, dtype: float64"
      ]
     },
     "execution_count": 39,
     "metadata": {},
     "output_type": "execute_result"
    }
   ],
   "source": [
    "# Filtrado\n",
    "data['FTr'].sort_values(ascending=False)"
   ]
  },
  {
   "cell_type": "code",
   "execution_count": 40,
   "metadata": {},
   "outputs": [],
   "source": [
    "# Obtener registro por index\n",
    "#pd.options.display.max_columns = None\n",
    "#pd.options.display.max_rows = None\n",
    "#data.iloc[163:164]"
   ]
  },
  {
   "cell_type": "code",
   "execution_count": 41,
   "metadata": {},
   "outputs": [],
   "source": [
    "#Matriz de correlación\n",
    "#pd.plotting.scatter_matrix(data.iloc[6:], figsize=(50,50))"
   ]
  }
 ],
 "metadata": {
  "kernelspec": {
   "display_name": "Python 3",
   "language": "python",
   "name": "python3"
  },
  "language_info": {
   "codemirror_mode": {
    "name": "ipython",
    "version": 3
   },
   "file_extension": ".py",
   "mimetype": "text/x-python",
   "name": "python",
   "nbconvert_exporter": "python",
   "pygments_lexer": "ipython3",
   "version": "3.7.4"
  }
 },
 "nbformat": 4,
 "nbformat_minor": 2
}
