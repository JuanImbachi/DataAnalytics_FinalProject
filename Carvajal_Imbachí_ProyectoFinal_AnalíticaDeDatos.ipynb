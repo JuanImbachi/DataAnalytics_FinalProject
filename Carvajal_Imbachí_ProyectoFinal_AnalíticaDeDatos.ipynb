{
 "cells": [
  {
   "cell_type": "markdown",
   "metadata": {},
   "source": [
    "# Proyecto Final Analítica de Datos"
   ]
  },
  {
   "cell_type": "markdown",
   "metadata": {},
   "source": [
    "#### Juan Diego Carvajal Castaño - A00135764\n",
    "#### Juan Manuel Imbachí Güengue - A00130580"
   ]
  },
  {
   "cell_type": "markdown",
   "metadata": {},
   "source": [
    "Importamos las librerías que vamos a usar"
   ]
  },
  {
   "cell_type": "code",
   "execution_count": 127,
   "metadata": {},
   "outputs": [],
   "source": [
    "import warnings\n",
    "warnings.filterwarnings('ignore')\n",
    "\n",
    "import numpy as np #operaciones matriciales y con vectores\n",
    "import pandas as pd #tratamiento de datos\n",
    "import matplotlib.pyplot as plt #gráficos\n",
    "import seaborn as sns"
   ]
  },
  {
   "cell_type": "code",
   "execution_count": 63,
   "metadata": {},
   "outputs": [],
   "source": [
    "data = pd.read_csv('2017-18_NBA_salary.csv')"
   ]
  },
  {
   "cell_type": "markdown",
   "metadata": {},
   "source": [
    "## 1. Limpieza y EDA\n",
    "\n",
    "El objetivo de esta sección es evaluar la calidad de los datos y tener un entendimiento inicial de la relación entre las variables predictivas y la variable objetivo."
   ]
  },
  {
   "cell_type": "code",
   "execution_count": 64,
   "metadata": {},
   "outputs": [
    {
     "data": {
      "text/plain": [
       "(485, 28)"
      ]
     },
     "execution_count": 64,
     "metadata": {},
     "output_type": "execute_result"
    }
   ],
   "source": [
    "data.shape"
   ]
  },
  {
   "cell_type": "code",
   "execution_count": 65,
   "metadata": {},
   "outputs": [
    {
     "data": {
      "text/html": [
       "<div>\n",
       "<style scoped>\n",
       "    .dataframe tbody tr th:only-of-type {\n",
       "        vertical-align: middle;\n",
       "    }\n",
       "\n",
       "    .dataframe tbody tr th {\n",
       "        vertical-align: top;\n",
       "    }\n",
       "\n",
       "    .dataframe thead th {\n",
       "        text-align: right;\n",
       "    }\n",
       "</style>\n",
       "<table border=\"1\" class=\"dataframe\">\n",
       "  <thead>\n",
       "    <tr style=\"text-align: right;\">\n",
       "      <th></th>\n",
       "      <th>Player</th>\n",
       "      <th>Salary</th>\n",
       "      <th>NBA_Country</th>\n",
       "      <th>NBA_DraftNumber</th>\n",
       "      <th>Age</th>\n",
       "      <th>Tm</th>\n",
       "      <th>G</th>\n",
       "      <th>MP</th>\n",
       "      <th>PER</th>\n",
       "      <th>TS%</th>\n",
       "      <th>...</th>\n",
       "      <th>TOV%</th>\n",
       "      <th>USG%</th>\n",
       "      <th>OWS</th>\n",
       "      <th>DWS</th>\n",
       "      <th>WS</th>\n",
       "      <th>WS/48</th>\n",
       "      <th>OBPM</th>\n",
       "      <th>DBPM</th>\n",
       "      <th>BPM</th>\n",
       "      <th>VORP</th>\n",
       "    </tr>\n",
       "  </thead>\n",
       "  <tbody>\n",
       "    <tr>\n",
       "      <th>0</th>\n",
       "      <td>Zhou Qi</td>\n",
       "      <td>815615</td>\n",
       "      <td>China</td>\n",
       "      <td>43</td>\n",
       "      <td>22</td>\n",
       "      <td>HOU</td>\n",
       "      <td>16</td>\n",
       "      <td>87</td>\n",
       "      <td>0.6</td>\n",
       "      <td>0.303</td>\n",
       "      <td>...</td>\n",
       "      <td>18.2</td>\n",
       "      <td>19.5</td>\n",
       "      <td>-0.4</td>\n",
       "      <td>0.1</td>\n",
       "      <td>-0.2</td>\n",
       "      <td>-0.121</td>\n",
       "      <td>-10.6</td>\n",
       "      <td>0.5</td>\n",
       "      <td>-10.1</td>\n",
       "      <td>-0.2</td>\n",
       "    </tr>\n",
       "    <tr>\n",
       "      <th>1</th>\n",
       "      <td>Zaza Pachulia</td>\n",
       "      <td>3477600</td>\n",
       "      <td>Georgia</td>\n",
       "      <td>42</td>\n",
       "      <td>33</td>\n",
       "      <td>GSW</td>\n",
       "      <td>66</td>\n",
       "      <td>937</td>\n",
       "      <td>16.8</td>\n",
       "      <td>0.608</td>\n",
       "      <td>...</td>\n",
       "      <td>19.3</td>\n",
       "      <td>17.2</td>\n",
       "      <td>1.7</td>\n",
       "      <td>1.4</td>\n",
       "      <td>3.1</td>\n",
       "      <td>0.160</td>\n",
       "      <td>-0.6</td>\n",
       "      <td>1.3</td>\n",
       "      <td>0.8</td>\n",
       "      <td>0.7</td>\n",
       "    </tr>\n",
       "    <tr>\n",
       "      <th>2</th>\n",
       "      <td>Zach Randolph</td>\n",
       "      <td>12307692</td>\n",
       "      <td>USA</td>\n",
       "      <td>19</td>\n",
       "      <td>36</td>\n",
       "      <td>SAC</td>\n",
       "      <td>59</td>\n",
       "      <td>1508</td>\n",
       "      <td>17.3</td>\n",
       "      <td>0.529</td>\n",
       "      <td>...</td>\n",
       "      <td>12.5</td>\n",
       "      <td>27.6</td>\n",
       "      <td>0.3</td>\n",
       "      <td>1.1</td>\n",
       "      <td>1.4</td>\n",
       "      <td>0.046</td>\n",
       "      <td>-0.6</td>\n",
       "      <td>-1.3</td>\n",
       "      <td>-1.9</td>\n",
       "      <td>0.0</td>\n",
       "    </tr>\n",
       "    <tr>\n",
       "      <th>3</th>\n",
       "      <td>Zach LaVine</td>\n",
       "      <td>3202217</td>\n",
       "      <td>USA</td>\n",
       "      <td>13</td>\n",
       "      <td>22</td>\n",
       "      <td>CHI</td>\n",
       "      <td>24</td>\n",
       "      <td>656</td>\n",
       "      <td>14.6</td>\n",
       "      <td>0.499</td>\n",
       "      <td>...</td>\n",
       "      <td>9.7</td>\n",
       "      <td>29.5</td>\n",
       "      <td>-0.1</td>\n",
       "      <td>0.5</td>\n",
       "      <td>0.4</td>\n",
       "      <td>0.027</td>\n",
       "      <td>-0.7</td>\n",
       "      <td>-2.0</td>\n",
       "      <td>-2.6</td>\n",
       "      <td>-0.1</td>\n",
       "    </tr>\n",
       "    <tr>\n",
       "      <th>4</th>\n",
       "      <td>Zach Collins</td>\n",
       "      <td>3057240</td>\n",
       "      <td>USA</td>\n",
       "      <td>10</td>\n",
       "      <td>20</td>\n",
       "      <td>POR</td>\n",
       "      <td>62</td>\n",
       "      <td>979</td>\n",
       "      <td>8.2</td>\n",
       "      <td>0.487</td>\n",
       "      <td>...</td>\n",
       "      <td>15.6</td>\n",
       "      <td>15.5</td>\n",
       "      <td>-0.4</td>\n",
       "      <td>1.2</td>\n",
       "      <td>0.8</td>\n",
       "      <td>0.038</td>\n",
       "      <td>-3.7</td>\n",
       "      <td>0.9</td>\n",
       "      <td>-2.9</td>\n",
       "      <td>-0.2</td>\n",
       "    </tr>\n",
       "  </tbody>\n",
       "</table>\n",
       "<p>5 rows × 28 columns</p>\n",
       "</div>"
      ],
      "text/plain": [
       "          Player    Salary NBA_Country  NBA_DraftNumber  Age   Tm   G    MP  \\\n",
       "0        Zhou Qi    815615       China               43   22  HOU  16    87   \n",
       "1  Zaza Pachulia   3477600     Georgia               42   33  GSW  66   937   \n",
       "2  Zach Randolph  12307692         USA               19   36  SAC  59  1508   \n",
       "3    Zach LaVine   3202217         USA               13   22  CHI  24   656   \n",
       "4   Zach Collins   3057240         USA               10   20  POR  62   979   \n",
       "\n",
       "    PER    TS%  ...  TOV%  USG%  OWS  DWS   WS  WS/48  OBPM  DBPM   BPM  VORP  \n",
       "0   0.6  0.303  ...  18.2  19.5 -0.4  0.1 -0.2 -0.121 -10.6   0.5 -10.1  -0.2  \n",
       "1  16.8  0.608  ...  19.3  17.2  1.7  1.4  3.1  0.160  -0.6   1.3   0.8   0.7  \n",
       "2  17.3  0.529  ...  12.5  27.6  0.3  1.1  1.4  0.046  -0.6  -1.3  -1.9   0.0  \n",
       "3  14.6  0.499  ...   9.7  29.5 -0.1  0.5  0.4  0.027  -0.7  -2.0  -2.6  -0.1  \n",
       "4   8.2  0.487  ...  15.6  15.5 -0.4  1.2  0.8  0.038  -3.7   0.9  -2.9  -0.2  \n",
       "\n",
       "[5 rows x 28 columns]"
      ]
     },
     "execution_count": 65,
     "metadata": {},
     "output_type": "execute_result"
    }
   ],
   "source": [
    "data.head()"
   ]
  },
  {
   "cell_type": "markdown",
   "metadata": {},
   "source": [
    "Hay 485 registros con 28 variables.\n",
    "Ahora analizaremos si hay problemas de datos con respecto a valores faltantes y outliers."
   ]
  },
  {
   "cell_type": "code",
   "execution_count": 66,
   "metadata": {
    "scrolled": true
   },
   "outputs": [
    {
     "data": {
      "text/html": [
       "<div>\n",
       "<style scoped>\n",
       "    .dataframe tbody tr th:only-of-type {\n",
       "        vertical-align: middle;\n",
       "    }\n",
       "\n",
       "    .dataframe tbody tr th {\n",
       "        vertical-align: top;\n",
       "    }\n",
       "\n",
       "    .dataframe thead th {\n",
       "        text-align: right;\n",
       "    }\n",
       "</style>\n",
       "<table border=\"1\" class=\"dataframe\">\n",
       "  <thead>\n",
       "    <tr style=\"text-align: right;\">\n",
       "      <th></th>\n",
       "      <th>count</th>\n",
       "      <th>unique</th>\n",
       "      <th>top</th>\n",
       "      <th>freq</th>\n",
       "      <th>mean</th>\n",
       "      <th>std</th>\n",
       "      <th>min</th>\n",
       "      <th>25%</th>\n",
       "      <th>50%</th>\n",
       "      <th>75%</th>\n",
       "      <th>max</th>\n",
       "    </tr>\n",
       "  </thead>\n",
       "  <tbody>\n",
       "    <tr>\n",
       "      <th>Player</th>\n",
       "      <td>485</td>\n",
       "      <td>483</td>\n",
       "      <td>Kay Felder</td>\n",
       "      <td>3</td>\n",
       "      <td>NaN</td>\n",
       "      <td>NaN</td>\n",
       "      <td>NaN</td>\n",
       "      <td>NaN</td>\n",
       "      <td>NaN</td>\n",
       "      <td>NaN</td>\n",
       "      <td>NaN</td>\n",
       "    </tr>\n",
       "    <tr>\n",
       "      <th>Salary</th>\n",
       "      <td>485</td>\n",
       "      <td>NaN</td>\n",
       "      <td>NaN</td>\n",
       "      <td>NaN</td>\n",
       "      <td>6.63651e+06</td>\n",
       "      <td>7.3926e+06</td>\n",
       "      <td>46080</td>\n",
       "      <td>1.47138e+06</td>\n",
       "      <td>3.20222e+06</td>\n",
       "      <td>1e+07</td>\n",
       "      <td>3.46826e+07</td>\n",
       "    </tr>\n",
       "    <tr>\n",
       "      <th>NBA_Country</th>\n",
       "      <td>485</td>\n",
       "      <td>44</td>\n",
       "      <td>USA</td>\n",
       "      <td>374</td>\n",
       "      <td>NaN</td>\n",
       "      <td>NaN</td>\n",
       "      <td>NaN</td>\n",
       "      <td>NaN</td>\n",
       "      <td>NaN</td>\n",
       "      <td>NaN</td>\n",
       "      <td>NaN</td>\n",
       "    </tr>\n",
       "    <tr>\n",
       "      <th>NBA_DraftNumber</th>\n",
       "      <td>485</td>\n",
       "      <td>NaN</td>\n",
       "      <td>NaN</td>\n",
       "      <td>NaN</td>\n",
       "      <td>29.4515</td>\n",
       "      <td>21.1258</td>\n",
       "      <td>1</td>\n",
       "      <td>11</td>\n",
       "      <td>25</td>\n",
       "      <td>47</td>\n",
       "      <td>62</td>\n",
       "    </tr>\n",
       "    <tr>\n",
       "      <th>Age</th>\n",
       "      <td>485</td>\n",
       "      <td>NaN</td>\n",
       "      <td>NaN</td>\n",
       "      <td>NaN</td>\n",
       "      <td>26.2639</td>\n",
       "      <td>4.2723</td>\n",
       "      <td>19</td>\n",
       "      <td>23</td>\n",
       "      <td>26</td>\n",
       "      <td>29</td>\n",
       "      <td>41</td>\n",
       "    </tr>\n",
       "    <tr>\n",
       "      <th>Tm</th>\n",
       "      <td>485</td>\n",
       "      <td>31</td>\n",
       "      <td>TOT</td>\n",
       "      <td>55</td>\n",
       "      <td>NaN</td>\n",
       "      <td>NaN</td>\n",
       "      <td>NaN</td>\n",
       "      <td>NaN</td>\n",
       "      <td>NaN</td>\n",
       "      <td>NaN</td>\n",
       "      <td>NaN</td>\n",
       "    </tr>\n",
       "    <tr>\n",
       "      <th>G</th>\n",
       "      <td>485</td>\n",
       "      <td>NaN</td>\n",
       "      <td>NaN</td>\n",
       "      <td>NaN</td>\n",
       "      <td>50.167</td>\n",
       "      <td>24.8749</td>\n",
       "      <td>1</td>\n",
       "      <td>29</td>\n",
       "      <td>59</td>\n",
       "      <td>71</td>\n",
       "      <td>79</td>\n",
       "    </tr>\n",
       "    <tr>\n",
       "      <th>MP</th>\n",
       "      <td>485</td>\n",
       "      <td>NaN</td>\n",
       "      <td>NaN</td>\n",
       "      <td>NaN</td>\n",
       "      <td>1154.14</td>\n",
       "      <td>811.357</td>\n",
       "      <td>1</td>\n",
       "      <td>381</td>\n",
       "      <td>1134</td>\n",
       "      <td>1819</td>\n",
       "      <td>2898</td>\n",
       "    </tr>\n",
       "    <tr>\n",
       "      <th>PER</th>\n",
       "      <td>485</td>\n",
       "      <td>NaN</td>\n",
       "      <td>NaN</td>\n",
       "      <td>NaN</td>\n",
       "      <td>13.2608</td>\n",
       "      <td>8.76928</td>\n",
       "      <td>-41.1</td>\n",
       "      <td>9.8</td>\n",
       "      <td>13.2</td>\n",
       "      <td>16.5</td>\n",
       "      <td>134.1</td>\n",
       "    </tr>\n",
       "    <tr>\n",
       "      <th>TS%</th>\n",
       "      <td>483</td>\n",
       "      <td>NaN</td>\n",
       "      <td>NaN</td>\n",
       "      <td>NaN</td>\n",
       "      <td>0.535387</td>\n",
       "      <td>0.112352</td>\n",
       "      <td>0</td>\n",
       "      <td>0.5055</td>\n",
       "      <td>0.545</td>\n",
       "      <td>0.5825</td>\n",
       "      <td>1.5</td>\n",
       "    </tr>\n",
       "    <tr>\n",
       "      <th>3PAr</th>\n",
       "      <td>483</td>\n",
       "      <td>NaN</td>\n",
       "      <td>NaN</td>\n",
       "      <td>NaN</td>\n",
       "      <td>0.337383</td>\n",
       "      <td>0.226894</td>\n",
       "      <td>0</td>\n",
       "      <td>0.167</td>\n",
       "      <td>0.346</td>\n",
       "      <td>0.481</td>\n",
       "      <td>1</td>\n",
       "    </tr>\n",
       "    <tr>\n",
       "      <th>FTr</th>\n",
       "      <td>483</td>\n",
       "      <td>NaN</td>\n",
       "      <td>NaN</td>\n",
       "      <td>NaN</td>\n",
       "      <td>0.263404</td>\n",
       "      <td>0.294578</td>\n",
       "      <td>0</td>\n",
       "      <td>0.155</td>\n",
       "      <td>0.231</td>\n",
       "      <td>0.3195</td>\n",
       "      <td>5.333</td>\n",
       "    </tr>\n",
       "    <tr>\n",
       "      <th>ORB%</th>\n",
       "      <td>485</td>\n",
       "      <td>NaN</td>\n",
       "      <td>NaN</td>\n",
       "      <td>NaN</td>\n",
       "      <td>4.87381</td>\n",
       "      <td>4.58281</td>\n",
       "      <td>0</td>\n",
       "      <td>1.8</td>\n",
       "      <td>3.2</td>\n",
       "      <td>7</td>\n",
       "      <td>35.9</td>\n",
       "    </tr>\n",
       "    <tr>\n",
       "      <th>DRB%</th>\n",
       "      <td>485</td>\n",
       "      <td>NaN</td>\n",
       "      <td>NaN</td>\n",
       "      <td>NaN</td>\n",
       "      <td>14.9507</td>\n",
       "      <td>6.84753</td>\n",
       "      <td>0</td>\n",
       "      <td>10.2</td>\n",
       "      <td>14</td>\n",
       "      <td>18.8</td>\n",
       "      <td>37.6</td>\n",
       "    </tr>\n",
       "    <tr>\n",
       "      <th>TRB%</th>\n",
       "      <td>485</td>\n",
       "      <td>NaN</td>\n",
       "      <td>NaN</td>\n",
       "      <td>NaN</td>\n",
       "      <td>9.90825</td>\n",
       "      <td>4.95644</td>\n",
       "      <td>0</td>\n",
       "      <td>6.2</td>\n",
       "      <td>8.7</td>\n",
       "      <td>13.3</td>\n",
       "      <td>26.5</td>\n",
       "    </tr>\n",
       "    <tr>\n",
       "      <th>AST%</th>\n",
       "      <td>485</td>\n",
       "      <td>NaN</td>\n",
       "      <td>NaN</td>\n",
       "      <td>NaN</td>\n",
       "      <td>12.9478</td>\n",
       "      <td>9.11241</td>\n",
       "      <td>0</td>\n",
       "      <td>6.9</td>\n",
       "      <td>9.9</td>\n",
       "      <td>17.6</td>\n",
       "      <td>49.4</td>\n",
       "    </tr>\n",
       "    <tr>\n",
       "      <th>STL%</th>\n",
       "      <td>485</td>\n",
       "      <td>NaN</td>\n",
       "      <td>NaN</td>\n",
       "      <td>NaN</td>\n",
       "      <td>1.52948</td>\n",
       "      <td>0.989562</td>\n",
       "      <td>0</td>\n",
       "      <td>1</td>\n",
       "      <td>1.5</td>\n",
       "      <td>1.9</td>\n",
       "      <td>12.5</td>\n",
       "    </tr>\n",
       "    <tr>\n",
       "      <th>BLK%</th>\n",
       "      <td>485</td>\n",
       "      <td>NaN</td>\n",
       "      <td>NaN</td>\n",
       "      <td>NaN</td>\n",
       "      <td>1.7132</td>\n",
       "      <td>1.68379</td>\n",
       "      <td>0</td>\n",
       "      <td>0.6</td>\n",
       "      <td>1.2</td>\n",
       "      <td>2.2</td>\n",
       "      <td>13.4</td>\n",
       "    </tr>\n",
       "    <tr>\n",
       "      <th>TOV%</th>\n",
       "      <td>483</td>\n",
       "      <td>NaN</td>\n",
       "      <td>NaN</td>\n",
       "      <td>NaN</td>\n",
       "      <td>13.1404</td>\n",
       "      <td>6.11529</td>\n",
       "      <td>0</td>\n",
       "      <td>9.9</td>\n",
       "      <td>12.5</td>\n",
       "      <td>15.75</td>\n",
       "      <td>66.7</td>\n",
       "    </tr>\n",
       "    <tr>\n",
       "      <th>USG%</th>\n",
       "      <td>485</td>\n",
       "      <td>NaN</td>\n",
       "      <td>NaN</td>\n",
       "      <td>NaN</td>\n",
       "      <td>18.8973</td>\n",
       "      <td>5.94054</td>\n",
       "      <td>0</td>\n",
       "      <td>15</td>\n",
       "      <td>17.9</td>\n",
       "      <td>22.2</td>\n",
       "      <td>45.1</td>\n",
       "    </tr>\n",
       "    <tr>\n",
       "      <th>OWS</th>\n",
       "      <td>485</td>\n",
       "      <td>NaN</td>\n",
       "      <td>NaN</td>\n",
       "      <td>NaN</td>\n",
       "      <td>1.27546</td>\n",
       "      <td>1.88144</td>\n",
       "      <td>-2.3</td>\n",
       "      <td>0</td>\n",
       "      <td>0.8</td>\n",
       "      <td>2</td>\n",
       "      <td>11.4</td>\n",
       "    </tr>\n",
       "    <tr>\n",
       "      <th>DWS</th>\n",
       "      <td>485</td>\n",
       "      <td>NaN</td>\n",
       "      <td>NaN</td>\n",
       "      <td>NaN</td>\n",
       "      <td>1.17649</td>\n",
       "      <td>1.03458</td>\n",
       "      <td>0</td>\n",
       "      <td>0.3</td>\n",
       "      <td>1</td>\n",
       "      <td>1.8</td>\n",
       "      <td>5.6</td>\n",
       "    </tr>\n",
       "    <tr>\n",
       "      <th>WS</th>\n",
       "      <td>485</td>\n",
       "      <td>NaN</td>\n",
       "      <td>NaN</td>\n",
       "      <td>NaN</td>\n",
       "      <td>2.45526</td>\n",
       "      <td>2.67367</td>\n",
       "      <td>-1.2</td>\n",
       "      <td>0.3</td>\n",
       "      <td>1.8</td>\n",
       "      <td>3.6</td>\n",
       "      <td>15</td>\n",
       "    </tr>\n",
       "    <tr>\n",
       "      <th>WS/48</th>\n",
       "      <td>485</td>\n",
       "      <td>NaN</td>\n",
       "      <td>NaN</td>\n",
       "      <td>NaN</td>\n",
       "      <td>0.0799588</td>\n",
       "      <td>0.162992</td>\n",
       "      <td>-1.063</td>\n",
       "      <td>0.04</td>\n",
       "      <td>0.083</td>\n",
       "      <td>0.123</td>\n",
       "      <td>2.713</td>\n",
       "    </tr>\n",
       "    <tr>\n",
       "      <th>OBPM</th>\n",
       "      <td>485</td>\n",
       "      <td>NaN</td>\n",
       "      <td>NaN</td>\n",
       "      <td>NaN</td>\n",
       "      <td>-1.27072</td>\n",
       "      <td>5.02627</td>\n",
       "      <td>-36.5</td>\n",
       "      <td>-2.7</td>\n",
       "      <td>-1.1</td>\n",
       "      <td>0.4</td>\n",
       "      <td>68.7</td>\n",
       "    </tr>\n",
       "    <tr>\n",
       "      <th>DBPM</th>\n",
       "      <td>485</td>\n",
       "      <td>NaN</td>\n",
       "      <td>NaN</td>\n",
       "      <td>NaN</td>\n",
       "      <td>-0.489485</td>\n",
       "      <td>2.38934</td>\n",
       "      <td>-14.3</td>\n",
       "      <td>-1.7</td>\n",
       "      <td>-0.4</td>\n",
       "      <td>1</td>\n",
       "      <td>6.8</td>\n",
       "    </tr>\n",
       "    <tr>\n",
       "      <th>BPM</th>\n",
       "      <td>485</td>\n",
       "      <td>NaN</td>\n",
       "      <td>NaN</td>\n",
       "      <td>NaN</td>\n",
       "      <td>-1.76021</td>\n",
       "      <td>5.66145</td>\n",
       "      <td>-49.2</td>\n",
       "      <td>-3.6</td>\n",
       "      <td>-1.3</td>\n",
       "      <td>0.5</td>\n",
       "      <td>54.4</td>\n",
       "    </tr>\n",
       "    <tr>\n",
       "      <th>VORP</th>\n",
       "      <td>485</td>\n",
       "      <td>NaN</td>\n",
       "      <td>NaN</td>\n",
       "      <td>NaN</td>\n",
       "      <td>0.598763</td>\n",
       "      <td>1.24565</td>\n",
       "      <td>-1.3</td>\n",
       "      <td>-0.1</td>\n",
       "      <td>0.1</td>\n",
       "      <td>0.9</td>\n",
       "      <td>8.6</td>\n",
       "    </tr>\n",
       "  </tbody>\n",
       "</table>\n",
       "</div>"
      ],
      "text/plain": [
       "                count unique         top freq         mean         std    min  \\\n",
       "Player            485    483  Kay Felder    3          NaN         NaN    NaN   \n",
       "Salary            485    NaN         NaN  NaN  6.63651e+06  7.3926e+06  46080   \n",
       "NBA_Country       485     44         USA  374          NaN         NaN    NaN   \n",
       "NBA_DraftNumber   485    NaN         NaN  NaN      29.4515     21.1258      1   \n",
       "Age               485    NaN         NaN  NaN      26.2639      4.2723     19   \n",
       "Tm                485     31         TOT   55          NaN         NaN    NaN   \n",
       "G                 485    NaN         NaN  NaN       50.167     24.8749      1   \n",
       "MP                485    NaN         NaN  NaN      1154.14     811.357      1   \n",
       "PER               485    NaN         NaN  NaN      13.2608     8.76928  -41.1   \n",
       "TS%               483    NaN         NaN  NaN     0.535387    0.112352      0   \n",
       "3PAr              483    NaN         NaN  NaN     0.337383    0.226894      0   \n",
       "FTr               483    NaN         NaN  NaN     0.263404    0.294578      0   \n",
       "ORB%              485    NaN         NaN  NaN      4.87381     4.58281      0   \n",
       "DRB%              485    NaN         NaN  NaN      14.9507     6.84753      0   \n",
       "TRB%              485    NaN         NaN  NaN      9.90825     4.95644      0   \n",
       "AST%              485    NaN         NaN  NaN      12.9478     9.11241      0   \n",
       "STL%              485    NaN         NaN  NaN      1.52948    0.989562      0   \n",
       "BLK%              485    NaN         NaN  NaN       1.7132     1.68379      0   \n",
       "TOV%              483    NaN         NaN  NaN      13.1404     6.11529      0   \n",
       "USG%              485    NaN         NaN  NaN      18.8973     5.94054      0   \n",
       "OWS               485    NaN         NaN  NaN      1.27546     1.88144   -2.3   \n",
       "DWS               485    NaN         NaN  NaN      1.17649     1.03458      0   \n",
       "WS                485    NaN         NaN  NaN      2.45526     2.67367   -1.2   \n",
       "WS/48             485    NaN         NaN  NaN    0.0799588    0.162992 -1.063   \n",
       "OBPM              485    NaN         NaN  NaN     -1.27072     5.02627  -36.5   \n",
       "DBPM              485    NaN         NaN  NaN    -0.489485     2.38934  -14.3   \n",
       "BPM               485    NaN         NaN  NaN     -1.76021     5.66145  -49.2   \n",
       "VORP              485    NaN         NaN  NaN     0.598763     1.24565   -1.3   \n",
       "\n",
       "                         25%          50%     75%          max  \n",
       "Player                   NaN          NaN     NaN          NaN  \n",
       "Salary           1.47138e+06  3.20222e+06   1e+07  3.46826e+07  \n",
       "NBA_Country              NaN          NaN     NaN          NaN  \n",
       "NBA_DraftNumber           11           25      47           62  \n",
       "Age                       23           26      29           41  \n",
       "Tm                       NaN          NaN     NaN          NaN  \n",
       "G                         29           59      71           79  \n",
       "MP                       381         1134    1819         2898  \n",
       "PER                      9.8         13.2    16.5        134.1  \n",
       "TS%                   0.5055        0.545  0.5825          1.5  \n",
       "3PAr                   0.167        0.346   0.481            1  \n",
       "FTr                    0.155        0.231  0.3195        5.333  \n",
       "ORB%                     1.8          3.2       7         35.9  \n",
       "DRB%                    10.2           14    18.8         37.6  \n",
       "TRB%                     6.2          8.7    13.3         26.5  \n",
       "AST%                     6.9          9.9    17.6         49.4  \n",
       "STL%                       1          1.5     1.9         12.5  \n",
       "BLK%                     0.6          1.2     2.2         13.4  \n",
       "TOV%                     9.9         12.5   15.75         66.7  \n",
       "USG%                      15         17.9    22.2         45.1  \n",
       "OWS                        0          0.8       2         11.4  \n",
       "DWS                      0.3            1     1.8          5.6  \n",
       "WS                       0.3          1.8     3.6           15  \n",
       "WS/48                   0.04        0.083   0.123        2.713  \n",
       "OBPM                    -2.7         -1.1     0.4         68.7  \n",
       "DBPM                    -1.7         -0.4       1          6.8  \n",
       "BPM                     -3.6         -1.3     0.5         54.4  \n",
       "VORP                    -0.1          0.1     0.9          8.6  "
      ]
     },
     "execution_count": 66,
     "metadata": {},
     "output_type": "execute_result"
    }
   ],
   "source": [
    "data.describe(include=\"all\").transpose()"
   ]
  },
  {
   "cell_type": "markdown",
   "metadata": {},
   "source": [
    "Aparentemente no hay outliers, sin embargo, se puede observar que hay valores faltantes, puesto que el valor de la columna COUNT no es 485 para todas las variables."
   ]
  },
  {
   "cell_type": "code",
   "execution_count": 67,
   "metadata": {
    "scrolled": false
   },
   "outputs": [
    {
     "data": {
      "image/png": "[encoded data removed]",
      "text/plain": [
       "<Figure size 1080x1080 with 1 Axes>"
      ]
     },
     "metadata": {
      "needs_background": "light"
     },
     "output_type": "display_data"
    }
   ],
   "source": [
    "ax = data['Salary'].plot.hist(bins=100, orientation='horizontal', figsize = (15,15), edgecolor='white') \n",
    "ax.set_ylabel('Salaries') \n",
    "ax.ticklabel_format(useOffset=False, style='plain', axis='y')"
   ]
  },
  {
   "cell_type": "markdown",
   "metadata": {},
   "source": [
    "Como se puede observar en el histograma, los valores de la variable objetivo no están distribuidos simétricamente pues no vemos una distribución en forma de campana de Gauss."
   ]
  },
  {
   "cell_type": "code",
   "execution_count": 68,
   "metadata": {
    "scrolled": true
   },
   "outputs": [
    {
     "data": {
      "image/png": "[encoded data removed]",
      "text/plain": [
       "<Figure size 3960x180 with 22 Axes>"
      ]
     },
     "metadata": {
      "needs_background": "light"
     },
     "output_type": "display_data"
    }
   ],
   "source": [
    "import seaborn as sns\n",
    "pp = sns.pairplot(data=data,\n",
    "                  y_vars=['Salary'],\n",
    "                  x_vars=data.columns[6:])"
   ]
  },
  {
   "cell_type": "markdown",
   "metadata": {},
   "source": [
    "Con estos diagramas podemos ver la relación existente entre la variable dependiente y las variables independientes, si se observa con atención las variables independientes numéricas, podemos observar si existe una tendencia o correlación entre ella y la variable objetivo, esto puede darnos una idea de que tan bien podría explicar el comportamiento de Y."
   ]
  },
  {
   "cell_type": "markdown",
   "metadata": {},
   "source": [
    "### Variables que tienen valores faltantes\n"
   ]
  },
  {
   "cell_type": "code",
   "execution_count": 69,
   "metadata": {},
   "outputs": [
    {
     "name": "stdout",
     "output_type": "stream",
     "text": [
      "<class 'pandas.core.frame.DataFrame'>\n",
      "RangeIndex: 485 entries, 0 to 484\n",
      "Data columns (total 28 columns):\n",
      "Player             485 non-null object\n",
      "Salary             485 non-null int64\n",
      "NBA_Country        485 non-null object\n",
      "NBA_DraftNumber    485 non-null int64\n",
      "Age                485 non-null int64\n",
      "Tm                 485 non-null object\n",
      "G                  485 non-null int64\n",
      "MP                 485 non-null int64\n",
      "PER                485 non-null float64\n",
      "TS%                483 non-null float64\n",
      "3PAr               483 non-null float64\n",
      "FTr                483 non-null float64\n",
      "ORB%               485 non-null float64\n",
      "DRB%               485 non-null float64\n",
      "TRB%               485 non-null float64\n",
      "AST%               485 non-null float64\n",
      "STL%               485 non-null float64\n",
      "BLK%               485 non-null float64\n",
      "TOV%               483 non-null float64\n",
      "USG%               485 non-null float64\n",
      "OWS                485 non-null float64\n",
      "DWS                485 non-null float64\n",
      "WS                 485 non-null float64\n",
      "WS/48              485 non-null float64\n",
      "OBPM               485 non-null float64\n",
      "DBPM               485 non-null float64\n",
      "BPM                485 non-null float64\n",
      "VORP               485 non-null float64\n",
      "dtypes: float64(20), int64(5), object(3)\n",
      "memory usage: 106.2+ KB\n"
     ]
    }
   ],
   "source": [
    "data.info()"
   ]
  },
  {
   "cell_type": "code",
   "execution_count": 70,
   "metadata": {
    "scrolled": false
   },
   "outputs": [
    {
     "name": "stdout",
     "output_type": "stream",
     "text": [
      "Player             False\n",
      "Salary             False\n",
      "NBA_Country        False\n",
      "NBA_DraftNumber    False\n",
      "Age                False\n",
      "Tm                 False\n",
      "G                  False\n",
      "MP                 False\n",
      "PER                False\n",
      "TS%                 True\n",
      "3PAr                True\n",
      "FTr                 True\n",
      "ORB%               False\n",
      "DRB%               False\n",
      "TRB%               False\n",
      "AST%               False\n",
      "STL%               False\n",
      "BLK%               False\n",
      "TOV%                True\n",
      "USG%               False\n",
      "OWS                False\n",
      "DWS                False\n",
      "WS                 False\n",
      "WS/48              False\n",
      "OBPM               False\n",
      "DBPM               False\n",
      "BPM                False\n",
      "VORP               False\n",
      "dtype: bool\n",
      "Las columnas que tienen valores faltantes son:  [ 9 10 11 18]\n",
      "y corresponden a:  Index(['TS%', '3PAr', 'FTr', 'TOV%'], dtype='object')\n"
     ]
    }
   ],
   "source": [
    "print(pd.isnull(data).any(0)) #el 0 implica cualquier columna, si quisieramos las filas utilizamos 1\n",
    "print(\"Las columnas que tienen valores faltantes son: \",pd.isnull(data).any(0).to_numpy().nonzero()[0])\n",
    "print(\"y corresponden a: \", data.columns[pd.isnull(data).any(0).to_numpy().nonzero()[0]])"
   ]
  },
  {
   "cell_type": "markdown",
   "metadata": {},
   "source": [
    "#### Las columnas TS%, 3PAr, FTr, TOV% tienen valores faltantes. "
   ]
  },
  {
   "cell_type": "markdown",
   "metadata": {},
   "source": [
    "### Registros repetidos"
   ]
  },
  {
   "cell_type": "code",
   "execution_count": 71,
   "metadata": {
    "scrolled": true
   },
   "outputs": [
    {
     "data": {
      "text/plain": [
       "Kay Felder               3\n",
       "Ivan Rabb                1\n",
       "Jeremy Lamb              1\n",
       "Josh Hart                1\n",
       "Jeremy Lin               1\n",
       "E'Twaun Moore            1\n",
       "Josh Richardson          1\n",
       "Marreese Speights        1\n",
       "Matt Williams            1\n",
       "P.J. Tucker              1\n",
       "Naz Mitrou-Long          1\n",
       "Trevor Booker            1\n",
       "Skal Labissiere          1\n",
       "Kevin Love               1\n",
       "Josh Gray                1\n",
       "Michael Beasley          1\n",
       "DeMarre Carroll          1\n",
       "Nate Wolters             1\n",
       "Damyean Dotson           1\n",
       "Jameer Nelson            1\n",
       "Jonathon Simmons         1\n",
       "Trevor Ariza             1\n",
       "Malik Monk               1\n",
       "Caleb Swanigan           1\n",
       "Giannis Antetokounmpo    1\n",
       "Kelly Oubre              1\n",
       "Denzel Valentine         1\n",
       "Dorian Finney-Smith      1\n",
       "Dennis Smith             1\n",
       "Emeka Okafor             1\n",
       "                        ..\n",
       "Omri Casspi              1\n",
       "Ian Mahinmi              1\n",
       "Kyle Lowry               1\n",
       "Darius Miller            1\n",
       "Kyrie Irving             1\n",
       "Kyle Singler             1\n",
       "Dejounte Murray          1\n",
       "Luke Kennard             1\n",
       "Garrett Temple           1\n",
       "Jerami Grant             1\n",
       "Robin Lopez              1\n",
       "Dewayne Dedmon           1\n",
       "Jarell Martin            1\n",
       "Mike Muscala             1\n",
       "Brandon Jennings         1\n",
       "David Nwaba              1\n",
       "Malcolm Delaney          1\n",
       "Thaddeus Young           1\n",
       "Jordan Bell              1\n",
       "Rodney Purvis            1\n",
       "Alex Abrines             1\n",
       "Paul Zipser              1\n",
       "Dante Exum               1\n",
       "Tobias Harris            1\n",
       "Paul Millsap             1\n",
       "Will Barton              1\n",
       "Ryan Anderson            1\n",
       "Patty Mills              1\n",
       "Ersan Ilyasova           1\n",
       "Ben McLemore             1\n",
       "Name: Player, Length: 483, dtype: int64"
      ]
     },
     "execution_count": 71,
     "metadata": {},
     "output_type": "execute_result"
    }
   ],
   "source": [
    "data['Player'].value_counts()"
   ]
  },
  {
   "cell_type": "code",
   "execution_count": 72,
   "metadata": {
    "scrolled": true
   },
   "outputs": [
    {
     "data": {
      "text/html": [
       "<div>\n",
       "<style scoped>\n",
       "    .dataframe tbody tr th:only-of-type {\n",
       "        vertical-align: middle;\n",
       "    }\n",
       "\n",
       "    .dataframe tbody tr th {\n",
       "        vertical-align: top;\n",
       "    }\n",
       "\n",
       "    .dataframe thead th {\n",
       "        text-align: right;\n",
       "    }\n",
       "</style>\n",
       "<table border=\"1\" class=\"dataframe\">\n",
       "  <thead>\n",
       "    <tr style=\"text-align: right;\">\n",
       "      <th></th>\n",
       "      <th>Player</th>\n",
       "      <th>Salary</th>\n",
       "      <th>NBA_Country</th>\n",
       "      <th>NBA_DraftNumber</th>\n",
       "      <th>Age</th>\n",
       "      <th>Tm</th>\n",
       "      <th>G</th>\n",
       "      <th>MP</th>\n",
       "      <th>PER</th>\n",
       "      <th>TS%</th>\n",
       "      <th>...</th>\n",
       "      <th>TOV%</th>\n",
       "      <th>USG%</th>\n",
       "      <th>OWS</th>\n",
       "      <th>DWS</th>\n",
       "      <th>WS</th>\n",
       "      <th>WS/48</th>\n",
       "      <th>OBPM</th>\n",
       "      <th>DBPM</th>\n",
       "      <th>BPM</th>\n",
       "      <th>VORP</th>\n",
       "    </tr>\n",
       "  </thead>\n",
       "  <tbody>\n",
       "    <tr>\n",
       "      <th>224</th>\n",
       "      <td>Kay Felder</td>\n",
       "      <td>1312611</td>\n",
       "      <td>USA</td>\n",
       "      <td>54</td>\n",
       "      <td>22</td>\n",
       "      <td>DET</td>\n",
       "      <td>1</td>\n",
       "      <td>3</td>\n",
       "      <td>-31.6</td>\n",
       "      <td>0.000</td>\n",
       "      <td>...</td>\n",
       "      <td>33.3</td>\n",
       "      <td>44.2</td>\n",
       "      <td>-0.1</td>\n",
       "      <td>0.0</td>\n",
       "      <td>-0.1</td>\n",
       "      <td>-1.005</td>\n",
       "      <td>-29.5</td>\n",
       "      <td>-11.9</td>\n",
       "      <td>-41.4</td>\n",
       "      <td>0.0</td>\n",
       "    </tr>\n",
       "    <tr>\n",
       "      <th>225</th>\n",
       "      <td>Kay Felder</td>\n",
       "      <td>1312611</td>\n",
       "      <td>USA</td>\n",
       "      <td>54</td>\n",
       "      <td>22</td>\n",
       "      <td>CHI</td>\n",
       "      <td>14</td>\n",
       "      <td>134</td>\n",
       "      <td>3.6</td>\n",
       "      <td>0.386</td>\n",
       "      <td>...</td>\n",
       "      <td>17.4</td>\n",
       "      <td>28.0</td>\n",
       "      <td>-0.5</td>\n",
       "      <td>0.1</td>\n",
       "      <td>-0.5</td>\n",
       "      <td>-0.166</td>\n",
       "      <td>-8.2</td>\n",
       "      <td>-3.3</td>\n",
       "      <td>-11.5</td>\n",
       "      <td>-0.3</td>\n",
       "    </tr>\n",
       "    <tr>\n",
       "      <th>226</th>\n",
       "      <td>Kay Felder</td>\n",
       "      <td>1312611</td>\n",
       "      <td>USA</td>\n",
       "      <td>54</td>\n",
       "      <td>22</td>\n",
       "      <td>TOT</td>\n",
       "      <td>15</td>\n",
       "      <td>137</td>\n",
       "      <td>2.9</td>\n",
       "      <td>0.375</td>\n",
       "      <td>...</td>\n",
       "      <td>17.9</td>\n",
       "      <td>28.4</td>\n",
       "      <td>-0.6</td>\n",
       "      <td>0.1</td>\n",
       "      <td>-0.5</td>\n",
       "      <td>-0.185</td>\n",
       "      <td>-8.7</td>\n",
       "      <td>-3.5</td>\n",
       "      <td>-12.1</td>\n",
       "      <td>-0.3</td>\n",
       "    </tr>\n",
       "  </tbody>\n",
       "</table>\n",
       "<p>3 rows × 28 columns</p>\n",
       "</div>"
      ],
      "text/plain": [
       "         Player   Salary NBA_Country  NBA_DraftNumber  Age   Tm   G   MP  \\\n",
       "224  Kay Felder  1312611         USA               54   22  DET   1    3   \n",
       "225  Kay Felder  1312611         USA               54   22  CHI  14  134   \n",
       "226  Kay Felder  1312611         USA               54   22  TOT  15  137   \n",
       "\n",
       "      PER    TS%  ...  TOV%  USG%  OWS  DWS   WS  WS/48  OBPM  DBPM   BPM  \\\n",
       "224 -31.6  0.000  ...  33.3  44.2 -0.1  0.0 -0.1 -1.005 -29.5 -11.9 -41.4   \n",
       "225   3.6  0.386  ...  17.4  28.0 -0.5  0.1 -0.5 -0.166  -8.2  -3.3 -11.5   \n",
       "226   2.9  0.375  ...  17.9  28.4 -0.6  0.1 -0.5 -0.185  -8.7  -3.5 -12.1   \n",
       "\n",
       "     VORP  \n",
       "224   0.0  \n",
       "225  -0.3  \n",
       "226  -0.3  \n",
       "\n",
       "[3 rows x 28 columns]"
      ]
     },
     "execution_count": 72,
     "metadata": {},
     "output_type": "execute_result"
    }
   ],
   "source": [
    "data[data['Player'].duplicated(keep=False)]"
   ]
  },
  {
   "cell_type": "markdown",
   "metadata": {},
   "source": [
    "#### Se encontró que el jugador Kay Felder tiene 3 registros asociados a 3 equipos diferentes durante la temporada"
   ]
  },
  {
   "cell_type": "markdown",
   "metadata": {},
   "source": [
    "# Valores atípicos\n",
    "\n",
    "Mediante diagramas de cajas y bigotes visualizamos la distribución de las variables predictoras, para así identificar los posibles valores atípicos. "
   ]
  },
  {
   "cell_type": "code",
   "execution_count": 73,
   "metadata": {
    "scrolled": false
   },
   "outputs": [
    {
     "data": {
      "image/png": "[encoded data removed]",
      "text/plain": [
       "<Figure size 1080x2880 with 20 Axes>"
      ]
     },
     "metadata": {
      "needs_background": "light"
     },
     "output_type": "display_data"
    }
   ],
   "source": [
    "fig = plt.figure(figsize=(15,40))\n",
    "i=1\n",
    "\n",
    "for var_num in data.columns[8:]:\n",
    "    ax = fig.add_subplot(8, 3, i) #Defino una tabla de 2 filas por 2 columnas, agrego el i-ésimo plot\n",
    "    sns.boxplot(y=var_num, data=data)\n",
    "    plt.title(var_num)\n",
    "    i+=1"
   ]
  },
  {
   "cell_type": "markdown",
   "metadata": {},
   "source": [
    "# Reporte Primera Entrega"
   ]
  },
  {
   "cell_type": "markdown",
   "metadata": {},
   "source": [
    "## Calidad de los Datos\n",
    "\n",
    "Al observar los datos se pudo evidenciar que:\n",
    "### Faltantes\n",
    "   Existen datos faltantes para 4 variables: TS%, 3PAr, FTr, TOV%, donde cada una tiene 2 valores nulos o NaN.\n",
    "### Atípicos\n",
    "* **PER**\n",
    "\tSe evidencia un dato atípico con valor de 134.1 , el cual se encuentre bastante alejado de su valor inmediatamente anterior que es de 38.1, por lo tanto se debe eliminar en la siguiente fase de la preparación de los datos.\n",
    "    \n",
    "    #### [-] Registro: 142.\n",
    "\n",
    "     Existen 2 datos negativos sospechosos con valores de -41.1 y -31.6, se deben evaluar más adelante y definir si se eliminarán o no.\n",
    "\n",
    "\t#### [-] Registros: 147, 224.\n",
    "\n",
    "\n",
    "* **TS%**\n",
    "\tHay un dato atípico de 1.5, se procederá a eliminarlo debido a que está bastante alejado del registro anterior, el cual tiene valor de 1.0.\n",
    "    \n",
    "\t#### [-] Registro: 142.\n",
    "\n",
    "\n",
    "* **FTr**\n",
    "\tExiste un valor atípico de 5.3, el cual está bastante alejado del registro anterior, el cual tiene valor de 2.0.\n",
    "\t Se debe eliminar el dato para que no afecte el modelo en proceso de entrenamiento.\n",
    "\t\n",
    "\tHay 2 registros con valores de 2.0, se consideran sospechosos y se definirá más adelante si borrarlos o no.\n",
    "\n",
    "\t#### [-] Registro: 165, 396, 84.\n",
    "\n",
    "\n",
    "* **ORB%**\n",
    "\tExisten 3 valores atípicos 35.9, 32.3 y 28.1. Sin embargo, no serán eliminados pues no están tan lejos ni tan aislados de los demás datos.\n",
    "\t\n",
    "\t#### [-] Registros: 224, 19, 239.\n",
    "    \n",
    "\n",
    "* **STL%**\n",
    "\tSe eliminarán el valor atípicos más extremo, correspondiente a 12.5\n",
    "\t\n",
    "\t#### [-] Registros: 231.\n",
    "\n",
    "\n",
    "* **BLK%**\n",
    "\tSe eliminará el valor atípico más extremo, correspondiente a 13.4\n",
    "\t \n",
    "\t#### [-] Registros: 19.\n",
    "\n",
    "\n",
    "* **TOV%**\n",
    "\t\n",
    "\tSe eliminará el valor atípico más extremo, correspondiente a 66.7\n",
    "\t \n",
    "\t#### [-] Registros: 188.\n",
    "    \n",
    "\n",
    "* **WS/48**\n",
    "\tSe eliminará el valor atípico más extremo, correspondientes a 2.713. Los valores atípicos -1.005 y -1.063 se evaluarán más adelante.\n",
    "\t \n",
    "\t#### [-] Registros: 142, 147, 224.\n",
    "    \n",
    "\n",
    "* **OBPM**\n",
    "\tSe eliminará el valor atípico más extremo correspondiente a 68.7.\n",
    "\t \n",
    "\t#### [-] Registros: 142.\n",
    "    \n",
    "\n",
    "* **BPM**\n",
    "\tSe eliminarán los valores atípicos más extremos, tantos positivos como negativos, correspondientes a 54.4, -41.4 y -49.2\n",
    "\t \n",
    "\t#### [-] Registros: 142, 147, 224.\n",
    "\n",
    "**Registros a eliminar**\n",
    "\n",
    "19,142,147,165,188,224,231\n",
    "\n",
    "**Total: 7**\n",
    "### Repetidos\n",
    "   Usando el atributo 'Player' como identificador del registro, se encontró que hay 3 registros repetidos con el valor'Kay Felder', aunque sabemos que es inusual que un jugador sea transferido más de una vez dentro de una misma temporada, dado que es posible realizar dicha transferencia, tomaremos estos 3 registros en el análisis.\n",
    "\n",
    "\n",
    "### Problemas de escala  \n",
    "* En el caso de los porcentajes, las variables varían en el orden de magnitud, unas presentan un orden de 10^0 y otras de 10^-1.\n",
    "* Las variables presentan diferencias significativas en sus promedios, valores mínimos y máximos.\n",
    "    \n",
    "   Estos problemas de escala pueden ser consecuencia de valores atípicos que están presentes en los datos.\n",
    "\n",
    "### Problemas de tipo\n",
    "* Las características 'NBA_Country', 'Tm' y 'Player' son las únicas de tipo string, por lo que deberían ser convertidas a variables numéricas para ser tomadas en cuenta en el estudio. Sin embargo, consideramos que 'Player' no es relevante para hacer inferencias sobre el posible salario de un jugador.\n",
    "    \n",
    "### Distribución de los datos\n",
    "* Los valores de los percentiles para cada variable varía significativamente, lo que podría indicar sesgos dentro de la distribución."
   ]
  },
  {
   "cell_type": "markdown",
   "metadata": {},
   "source": [
    "## Limpieza de los datos"
   ]
  },
  {
   "cell_type": "markdown",
   "metadata": {},
   "source": [
    "### Eliminación de registros con valores faltantes"
   ]
  },
  {
   "cell_type": "code",
   "execution_count": 74,
   "metadata": {
    "scrolled": true
   },
   "outputs": [
    {
     "name": "stdout",
     "output_type": "stream",
     "text": [
      "Datos originales:  (485, 28)\n",
      "Datos completos:  (483, 28)\n",
      "Se eliminaron 2 registos\n"
     ]
    }
   ],
   "source": [
    "cleanData = data.dropna()\n",
    "print(\"Datos originales: \", data.shape)\n",
    "print(\"Datos completos: \", cleanData.shape)\n",
    "print(\"Se eliminaron {} registos\".format(data.shape[0] - cleanData.shape[0]))"
   ]
  },
  {
   "cell_type": "markdown",
   "metadata": {},
   "source": [
    "### Eliminación de registros con valores atípicos"
   ]
  },
  {
   "cell_type": "code",
   "execution_count": 75,
   "metadata": {},
   "outputs": [
    {
     "name": "stdout",
     "output_type": "stream",
     "text": [
      "Datos resultantes:  (476, 28)\n",
      "Se eliminaron 7 registos\n"
     ]
    }
   ],
   "source": [
    "data = cleanData.drop([19,142,147,165,188,224,231],axis=0)\n",
    "print(\"Datos resultantes: \", data.shape)\n",
    "print(\"Se eliminaron {} registos\".format(cleanData.shape[0] - data.shape[0]))"
   ]
  },
  {
   "cell_type": "markdown",
   "metadata": {},
   "source": [
    "### Revisión de datos atípicos nuevo Dataset"
   ]
  },
  {
   "cell_type": "code",
   "execution_count": 76,
   "metadata": {
    "scrolled": true
   },
   "outputs": [
    {
     "data": {
      "text/plain": [
       "Text(0.5, 1.0, 'PER')"
      ]
     },
     "execution_count": 76,
     "metadata": {},
     "output_type": "execute_result"
    },
    {
     "data": {
      "image/png": "[encoded data removed]",
      "text/plain": [
       "<Figure size 360x360 with 1 Axes>"
      ]
     },
     "metadata": {
      "needs_background": "light"
     },
     "output_type": "display_data"
    }
   ],
   "source": [
    "fig = plt.figure(figsize=(5,5))\n",
    "ax = fig.add_subplot(1, 1, 1)\n",
    "sns.boxplot(y=data['PER'], data=data)\n",
    "plt.title('PER')"
   ]
  },
  {
   "cell_type": "markdown",
   "metadata": {},
   "source": [
    "Para la columna PER aún se encuentran valores atípicos, sin embargo, estan relativamente cerca a los límites y tienen sentido para el dominio de la variable, por lo tanto no se eliminarán."
   ]
  },
  {
   "cell_type": "code",
   "execution_count": 77,
   "metadata": {
    "scrolled": true
   },
   "outputs": [
    {
     "data": {
      "text/plain": [
       "Text(0.5, 1.0, 'TS%')"
      ]
     },
     "execution_count": 77,
     "metadata": {},
     "output_type": "execute_result"
    },
    {
     "data": {
      "image/png": "[encoded data removed]",
      "text/plain": [
       "<Figure size 360x360 with 1 Axes>"
      ]
     },
     "metadata": {
      "needs_background": "light"
     },
     "output_type": "display_data"
    }
   ],
   "source": [
    "fig = plt.figure(figsize=(5,5))\n",
    "ax = fig.add_subplot(1, 1, 1)\n",
    "sns.boxplot(y=data['TS%'], data=data)\n",
    "plt.title('TS%')"
   ]
  },
  {
   "cell_type": "markdown",
   "metadata": {},
   "source": [
    "Para la columna TS% aún se encuentran valores atípicos, sin embargo, estan relativamente cerca a los límites y tienen sentido para el dominio de la variable, por lo tanto no se eliminarán."
   ]
  },
  {
   "cell_type": "code",
   "execution_count": 78,
   "metadata": {
    "scrolled": true
   },
   "outputs": [
    {
     "data": {
      "text/plain": [
       "Text(0.5, 1.0, 'FTr')"
      ]
     },
     "execution_count": 78,
     "metadata": {},
     "output_type": "execute_result"
    },
    {
     "data": {
      "image/png": "[encoded data removed]",
      "text/plain": [
       "<Figure size 360x360 with 1 Axes>"
      ]
     },
     "metadata": {
      "needs_background": "light"
     },
     "output_type": "display_data"
    }
   ],
   "source": [
    "fig = plt.figure(figsize=(5,5))\n",
    "ax = fig.add_subplot(1, 1, 1)\n",
    "sns.boxplot(y=data['FTr'], data=data)\n",
    "plt.title('FTr')"
   ]
  },
  {
   "cell_type": "markdown",
   "metadata": {},
   "source": [
    "Para la columna FTr aún se encuentran valores atípicos, así que se eliminarán los registros asociados más extremos."
   ]
  },
  {
   "cell_type": "code",
   "execution_count": 79,
   "metadata": {},
   "outputs": [
    {
     "name": "stdout",
     "output_type": "stream",
     "text": [
      "Datos resultantes:  (474, 28)\n",
      "Se eliminaron 2 registos\n"
     ]
    }
   ],
   "source": [
    "cleanData = data[(data['FTr'] < 1.7)]\n",
    "print(\"Datos resultantes: \", cleanData.shape)\n",
    "print(\"Se eliminaron {} registos\".format(data.shape[0] - cleanData.shape[0]))"
   ]
  },
  {
   "cell_type": "code",
   "execution_count": 80,
   "metadata": {},
   "outputs": [
    {
     "data": {
      "text/plain": [
       "Text(0.5, 1.0, 'FTr')"
      ]
     },
     "execution_count": 80,
     "metadata": {},
     "output_type": "execute_result"
    },
    {
     "data": {
      "image/png": "[encoded data removed]",
      "text/plain": [
       "<Figure size 360x360 with 1 Axes>"
      ]
     },
     "metadata": {
      "needs_background": "light"
     },
     "output_type": "display_data"
    }
   ],
   "source": [
    "fig = plt.figure(figsize=(5,5))\n",
    "ax = fig.add_subplot(1, 1, 1)\n",
    "sns.boxplot(y=cleanData['FTr'], data=cleanData)\n",
    "plt.title('FTr')"
   ]
  },
  {
   "cell_type": "markdown",
   "metadata": {},
   "source": [
    "Aún se siguen viendo valores atípicos, sin embargo, son relativamente cercanos a los límites y no provocan que la caja se aplane. Por lo tanto se conservaron."
   ]
  },
  {
   "cell_type": "code",
   "execution_count": 81,
   "metadata": {},
   "outputs": [],
   "source": [
    "data = cleanData"
   ]
  },
  {
   "cell_type": "code",
   "execution_count": 82,
   "metadata": {
    "scrolled": true
   },
   "outputs": [
    {
     "data": {
      "text/plain": [
       "Text(0.5, 1.0, 'STL%')"
      ]
     },
     "execution_count": 82,
     "metadata": {},
     "output_type": "execute_result"
    },
    {
     "data": {
      "image/png": "[encoded data removed]",
      "text/plain": [
       "<Figure size 360x360 with 1 Axes>"
      ]
     },
     "metadata": {
      "needs_background": "light"
     },
     "output_type": "display_data"
    }
   ],
   "source": [
    "fig = plt.figure(figsize=(5,5))\n",
    "ax = fig.add_subplot(1, 1, 1)\n",
    "sns.boxplot(y=data['STL%'], data=data)\n",
    "plt.title('STL%')"
   ]
  },
  {
   "cell_type": "markdown",
   "metadata": {},
   "source": [
    "Aún se siguen viendo valores atípicos, sin embargo, son relativamente cercanos a los límites y no provocan que la caja se aplane. Por lo tanto se conservaron."
   ]
  },
  {
   "cell_type": "code",
   "execution_count": 83,
   "metadata": {
    "scrolled": true
   },
   "outputs": [
    {
     "data": {
      "text/plain": [
       "Text(0.5, 1.0, 'BLK%')"
      ]
     },
     "execution_count": 83,
     "metadata": {},
     "output_type": "execute_result"
    },
    {
     "data": {
      "image/png": "[encoded data removed]",
      "text/plain": [
       "<Figure size 360x360 with 1 Axes>"
      ]
     },
     "metadata": {
      "needs_background": "light"
     },
     "output_type": "display_data"
    }
   ],
   "source": [
    "fig = plt.figure(figsize=(5,5))\n",
    "ax = fig.add_subplot(1, 1, 1)\n",
    "sns.boxplot(y=data['BLK%'], data=data)\n",
    "plt.title('BLK%')"
   ]
  },
  {
   "cell_type": "markdown",
   "metadata": {},
   "source": [
    "Aún se siguen viendo valores atípicos, sin embargo, son relativamente cercanos a los límites y no provocan que la caja se aplane. Por lo tanto se conservaron."
   ]
  },
  {
   "cell_type": "code",
   "execution_count": 84,
   "metadata": {
    "scrolled": true
   },
   "outputs": [
    {
     "data": {
      "text/plain": [
       "Text(0.5, 1.0, 'TOV%')"
      ]
     },
     "execution_count": 84,
     "metadata": {},
     "output_type": "execute_result"
    },
    {
     "data": {
      "image/png": "[encoded data removed]",
      "text/plain": [
       "<Figure size 360x360 with 1 Axes>"
      ]
     },
     "metadata": {
      "needs_background": "light"
     },
     "output_type": "display_data"
    }
   ],
   "source": [
    "fig = plt.figure(figsize=(5,5))\n",
    "ax = fig.add_subplot(1, 1, 1)\n",
    "sns.boxplot(y=data['TOV%'], data=data)\n",
    "plt.title('TOV%')"
   ]
  },
  {
   "cell_type": "markdown",
   "metadata": {},
   "source": [
    "Aún se siguen viendo valores atípicos, sin embargo, son relativamente cercanos a los límites y no provocan que la caja se aplane. Por lo tanto se conservaron."
   ]
  },
  {
   "cell_type": "code",
   "execution_count": 85,
   "metadata": {
    "scrolled": true
   },
   "outputs": [
    {
     "data": {
      "text/plain": [
       "Text(0.5, 1.0, 'WS/48')"
      ]
     },
     "execution_count": 85,
     "metadata": {},
     "output_type": "execute_result"
    },
    {
     "data": {
      "image/png": "[encoded data removed]",
      "text/plain": [
       "<Figure size 360x360 with 1 Axes>"
      ]
     },
     "metadata": {
      "needs_background": "light"
     },
     "output_type": "display_data"
    }
   ],
   "source": [
    "fig = plt.figure(figsize=(5,5))\n",
    "ax = fig.add_subplot(1, 1, 1)\n",
    "sns.boxplot(y=data['WS/48'], data=data)\n",
    "plt.title('WS/48')"
   ]
  },
  {
   "cell_type": "markdown",
   "metadata": {},
   "source": [
    "Aún se siguen viendo valores atípicos, sin embargo, son relativamente cercanos a los límites y no provocan que la caja se aplane. Por lo tanto se conservaron."
   ]
  },
  {
   "cell_type": "code",
   "execution_count": 86,
   "metadata": {
    "scrolled": true
   },
   "outputs": [
    {
     "data": {
      "text/plain": [
       "Text(0.5, 1.0, 'OBPM')"
      ]
     },
     "execution_count": 86,
     "metadata": {},
     "output_type": "execute_result"
    },
    {
     "data": {
      "image/png": "[encoded data removed]",
      "text/plain": [
       "<Figure size 360x360 with 1 Axes>"
      ]
     },
     "metadata": {
      "needs_background": "light"
     },
     "output_type": "display_data"
    }
   ],
   "source": [
    "fig = plt.figure(figsize=(5,5))\n",
    "ax = fig.add_subplot(1, 1, 1)\n",
    "sns.boxplot(y=data['OBPM'], data=data)\n",
    "plt.title('OBPM')"
   ]
  },
  {
   "cell_type": "markdown",
   "metadata": {},
   "source": [
    "Aún se siguen viendo valores atípicos, sin embargo, son relativamente cercanos a los límites y no provocan que la caja se aplane. Por lo tanto se conservaron."
   ]
  },
  {
   "cell_type": "code",
   "execution_count": 87,
   "metadata": {
    "scrolled": true
   },
   "outputs": [
    {
     "data": {
      "text/plain": [
       "Text(0.5, 1.0, 'BPM')"
      ]
     },
     "execution_count": 87,
     "metadata": {},
     "output_type": "execute_result"
    },
    {
     "data": {
      "image/png": "[encoded data removed]",
      "text/plain": [
       "<Figure size 360x360 with 1 Axes>"
      ]
     },
     "metadata": {
      "needs_background": "light"
     },
     "output_type": "display_data"
    }
   ],
   "source": [
    "fig = plt.figure(figsize=(5,5))\n",
    "ax = fig.add_subplot(1, 1, 1)\n",
    "sns.boxplot(y=data['BPM'], data=data)\n",
    "plt.title('BPM')"
   ]
  },
  {
   "cell_type": "markdown",
   "metadata": {},
   "source": [
    "Aún se siguen viendo valores atípicos, sin embargo, son relativamente cercanos a los límites y no provocan que la caja se aplane. Por lo tanto se conservaron."
   ]
  },
  {
   "cell_type": "markdown",
   "metadata": {},
   "source": [
    "### Dummificación de variables categóricas"
   ]
  },
  {
   "cell_type": "markdown",
   "metadata": {
    "scrolled": true
   },
   "source": [
    "dummyCols=pd.get_dummies(data.NBA_Country)\n",
    "del data['NBA_Country']\n",
    "dummyCols.columns = 'NBA_Country_' + dummyCols.columns\n",
    "data = data.join(dummyCols)\n",
    "\n",
    "dummyCols=pd.get_dummies(data.Tm)\n",
    "del data['Tm']\n",
    "dummyCols.columns = 'Tm_' + dummyCols.columns\n",
    "data = data.join(dummyCols)"
   ]
  },
  {
   "cell_type": "markdown",
   "metadata": {},
   "source": [
    "#### Nota:\n",
    "Se realizó el proceso de dummificar las variables categóricas \"NBA_Country\" y \"Tm\", sin embargo, al momento de evaluar el modelo no se obtuvo ninguna mejora en las métricas, razón por la cual decidimos no tomar en cuenta estas variables al momento de construir los modelos."
   ]
  },
  {
   "cell_type": "markdown",
   "metadata": {},
   "source": [
    "## Modelos Predictivos"
   ]
  },
  {
   "cell_type": "markdown",
   "metadata": {},
   "source": [
    "### Modelo de Referencia (Baseline)"
   ]
  },
  {
   "cell_type": "markdown",
   "metadata": {},
   "source": [
    "### Variables independientes y objetivo"
   ]
  },
  {
   "cell_type": "code",
   "execution_count": 88,
   "metadata": {},
   "outputs": [
    {
     "name": "stdout",
     "output_type": "stream",
     "text": [
      "(474, 24)\n",
      "(474,)\n"
     ]
    }
   ],
   "source": [
    "x = data.drop(['Salary', 'Player','NBA_Country', 'Tm'],1)\n",
    "y = data['Salary']\n",
    "print(x.shape)\n",
    "print(y.shape)"
   ]
  },
  {
   "cell_type": "markdown",
   "metadata": {},
   "source": [
    "### 1. Regresión Lineal"
   ]
  },
  {
   "cell_type": "markdown",
   "metadata": {},
   "source": [
    "#### Protocolo de Evaluación"
   ]
  },
  {
   "cell_type": "code",
   "execution_count": 126,
   "metadata": {},
   "outputs": [],
   "source": [
    "from sklearn.model_selection import train_test_split #metodo de particionamiento de datasets para evaluación\n",
    "from sklearn import datasets, linear_model #datasets y modelos de aprendizaje automático (ML)\n",
    "from sklearn.metrics import mean_squared_error, mean_absolute_error, r2_score\n",
    "from scipy import stats #para poder hacer cálculos científicos --> valores p\n",
    "import statsmodels.api as sm\n",
    "from math import sqrt"
   ]
  },
  {
   "cell_type": "code",
   "execution_count": 94,
   "metadata": {},
   "outputs": [],
   "source": [
    "x_train, x_test, y_train, y_test = train_test_split(x, y, test_size=0.3, random_state=12345)"
   ]
  },
  {
   "cell_type": "code",
   "execution_count": 95,
   "metadata": {
    "scrolled": true
   },
   "outputs": [
    {
     "name": "stdout",
     "output_type": "stream",
     "text": [
      "x_train:  (331, 24)\n",
      "x_test:  (143, 24)\n",
      "y_train:  (331,)\n",
      "y_train:  (143,)\n"
     ]
    }
   ],
   "source": [
    "print(\"x_train: \",x_train.shape)\n",
    "print(\"x_test: \",x_test.shape)\n",
    "print(\"y_train: \",y_train.shape)\n",
    "print(\"y_train: \",y_test.shape)"
   ]
  },
  {
   "cell_type": "markdown",
   "metadata": {},
   "source": [
    "#### 1.0. Predicción baseline"
   ]
  },
  {
   "cell_type": "code",
   "execution_count": 96,
   "metadata": {
    "scrolled": true
   },
   "outputs": [
    {
     "name": "stdout",
     "output_type": "stream",
     "text": [
      "MAE: 5568031.739930955 , R2: -0.0013460163761327415\n",
      "\n",
      "R2 adj: -0.2050\n"
     ]
    }
   ],
   "source": [
    "y_pred = np.full(x_test.shape[0], np.mean(data.Salary))\n",
    "print(\"MAE:\", mean_absolute_error(y_test, y_pred), \", R2:\", r2_score(y_test, y_pred))\n",
    "\n",
    "r2_aj = 1 - (1-r2_score(y_test, y_pred))*(len(y_test)-1) / (len(y_test) - x_test.shape[1] - 1)\n",
    "print('\\nR2 adj: %.4f' %r2_aj)"
   ]
  },
  {
   "cell_type": "markdown",
   "metadata": {},
   "source": [
    "#### 1.1. Predicción usando todas las variables"
   ]
  },
  {
   "cell_type": "code",
   "execution_count": 97,
   "metadata": {
    "scrolled": true
   },
   "outputs": [
    {
     "data": {
      "text/plain": [
       "LinearRegression(copy_X=True, fit_intercept=True, n_jobs=None, normalize=True)"
      ]
     },
     "execution_count": 97,
     "metadata": {},
     "output_type": "execute_result"
    }
   ],
   "source": [
    "linear_reg = linear_model.LinearRegression(normalize=True)\n",
    "linear_reg.fit(x_train, y_train)"
   ]
  },
  {
   "cell_type": "code",
   "execution_count": 98,
   "metadata": {},
   "outputs": [
    {
     "name": "stdout",
     "output_type": "stream",
     "text": [
      "(331,)\n",
      "(143,)\n"
     ]
    }
   ],
   "source": [
    "y_train_pred = linear_reg.predict(x_train)\n",
    "y_test_pred = linear_reg.predict(x_test)\n",
    "print(y_train_pred.shape)\n",
    "print(y_test_pred.shape)"
   ]
  },
  {
   "cell_type": "markdown",
   "metadata": {},
   "source": [
    "##### 1.1.1. Métricas"
   ]
  },
  {
   "cell_type": "code",
   "execution_count": 99,
   "metadata": {},
   "outputs": [
    {
     "name": "stdout",
     "output_type": "stream",
     "text": [
      "MAE (train): 3627354.9782\n",
      "MSE (train): 24092117597402.6719\n",
      "R2  (train): 0.5710\n",
      "\n",
      "MAE (test) : 4262148.2406\n",
      "MSE (test) : 28895621787540.7422\n",
      "R2  (test) : 0.4457\n"
     ]
    }
   ],
   "source": [
    "print(\"MAE (train): %.4f\" % mean_absolute_error(y_train, y_train_pred))\n",
    "print(\"MSE (train): %.4f\" % mean_squared_error(y_train, y_train_pred))\n",
    "print('R2  (train): %.4f' % r2_score(y_train, y_train_pred))\n",
    "print()\n",
    "print(\"MAE (test) : %.4f\" % mean_absolute_error(y_test, y_test_pred))\n",
    "print(\"MSE (test) : %.4f\" % mean_squared_error(y_test, y_test_pred))\n",
    "print('R2  (test) : %.4f' % r2_score(y_test, y_test_pred))"
   ]
  },
  {
   "cell_type": "code",
   "execution_count": 101,
   "metadata": {
    "scrolled": true
   },
   "outputs": [
    {
     "name": "stdout",
     "output_type": "stream",
     "text": [
      "R2 adj (train): 0.5373\n",
      "R2 adj (test): 0.3329\n"
     ]
    }
   ],
   "source": [
    "r2_aj_train = 1 - (1-r2_score(y_train, y_train_pred))*(len(y_train)-1) / (len(y_train) - x_train.shape[1] - 1)\n",
    "print('R2 adj (train): %.4f' %r2_aj_train)\n",
    "r2_aj_test = 1 - (1-r2_score(y_test, y_test_pred))*(len(y_test)-1) / (len(y_test) - x_test.shape[1] - 1)\n",
    "print('R2 adj (test): %.4f' %r2_aj_test)"
   ]
  },
  {
   "cell_type": "markdown",
   "metadata": {},
   "source": [
    "#### 1.1.2. Análisis de  coeficientes"
   ]
  },
  {
   "cell_type": "code",
   "execution_count": 102,
   "metadata": {
    "scrolled": true
   },
   "outputs": [
    {
     "name": "stdout",
     "output_type": "stream",
     "text": [
      "     const  NBA_DraftNumber  Age   G    MP   PER    TS%   3PAr    FTr  ORB%  \\\n",
      "3      1.0               13   22  24   656  14.6  0.499  0.346  0.301   1.4   \n",
      "228    1.0                1   22  78  2770  24.8  0.645  0.249  0.351   9.3   \n",
      "301    1.0                9   22  78  1429  17.0  0.648  0.006  0.272  12.4   \n",
      "286    1.0               22   34  58  1483  11.2  0.487  0.193  0.167   1.5   \n",
      "399    1.0               27   29  19   141   8.4  0.559  0.489  0.064   2.4   \n",
      "\n",
      "     ...  TOV%  USG%  OWS  DWS    WS  WS/48  OBPM  DBPM  BPM  VORP  \n",
      "3    ...   9.7  29.5 -0.1  0.5   0.4  0.027  -0.7  -2.0 -2.6  -0.1  \n",
      "228  ...  10.8  22.9  9.8  3.1  13.0  0.225   4.3   1.0  5.3   5.1  \n",
      "301  ...  16.2  14.6  2.9  2.2   5.1  0.170   0.3   2.9  3.2   1.9  \n",
      "286  ...  19.9  16.5  0.3  0.7   1.0  0.032  -2.0  -1.6 -3.6  -0.6  \n",
      "399  ...  23.7  19.5 -0.2  0.1   0.0 -0.012  -3.5  -1.1 -4.6  -0.1  \n",
      "\n",
      "[5 rows x 25 columns]\n"
     ]
    },
    {
     "name": "stderr",
     "output_type": "stream",
     "text": [
      "F:\\icesi\\Anaconda3\\lib\\site-packages\\numpy\\core\\fromnumeric.py:2389: FutureWarning: Method .ptp is deprecated and will be removed in a future version. Use numpy.ptp instead.\n",
      "  return ptp(axis=axis, out=out, **kwargs)\n"
     ]
    }
   ],
   "source": [
    "x2_train = sm.add_constant(x_train)\n",
    "print(x2_train.head())"
   ]
  },
  {
   "cell_type": "code",
   "execution_count": 104,
   "metadata": {
    "scrolled": true
   },
   "outputs": [
    {
     "data": {
      "text/html": [
       "<table class=\"simpletable\">\n",
       "<caption>OLS Regression Results</caption>\n",
       "<tr>\n",
       "  <th>Dep. Variable:</th>            <td>y</td>        <th>  R-squared:         </th> <td>   0.571</td> \n",
       "</tr>\n",
       "<tr>\n",
       "  <th>Model:</th>                   <td>OLS</td>       <th>  Adj. R-squared:    </th> <td>   0.537</td> \n",
       "</tr>\n",
       "<tr>\n",
       "  <th>Method:</th>             <td>Least Squares</td>  <th>  F-statistic:       </th> <td>   16.97</td> \n",
       "</tr>\n",
       "<tr>\n",
       "  <th>Date:</th>             <td>Thu, 05 Nov 2020</td> <th>  Prob (F-statistic):</th> <td>5.41e-43</td> \n",
       "</tr>\n",
       "<tr>\n",
       "  <th>Time:</th>                 <td>22:14:24</td>     <th>  Log-Likelihood:    </th> <td> -5569.2</td> \n",
       "</tr>\n",
       "<tr>\n",
       "  <th>No. Observations:</th>      <td>   331</td>      <th>  AIC:               </th> <td>1.119e+04</td>\n",
       "</tr>\n",
       "<tr>\n",
       "  <th>Df Residuals:</th>          <td>   306</td>      <th>  BIC:               </th> <td>1.128e+04</td>\n",
       "</tr>\n",
       "<tr>\n",
       "  <th>Df Model:</th>              <td>    24</td>      <th>                     </th>     <td> </td>    \n",
       "</tr>\n",
       "<tr>\n",
       "  <th>Covariance Type:</th>      <td>nonrobust</td>    <th>                     </th>     <td> </td>    \n",
       "</tr>\n",
       "</table>\n",
       "<table class=\"simpletable\">\n",
       "<tr>\n",
       "         <td></td>            <th>coef</th>     <th>std err</th>      <th>t</th>      <th>P>|t|</th>  <th>[0.025</th>    <th>0.975]</th>  \n",
       "</tr>\n",
       "<tr>\n",
       "  <th>const</th>           <td> 4.934e+06</td> <td> 7.06e+06</td> <td>    0.699</td> <td> 0.485</td> <td>-8.96e+06</td> <td> 1.88e+07</td>\n",
       "</tr>\n",
       "<tr>\n",
       "  <th>NBA_DraftNumber</th> <td>-6.478e+04</td> <td> 1.61e+04</td> <td>   -4.027</td> <td> 0.000</td> <td>-9.64e+04</td> <td>-3.31e+04</td>\n",
       "</tr>\n",
       "<tr>\n",
       "  <th>Age</th>             <td> 6.143e+05</td> <td>    7e+04</td> <td>    8.770</td> <td> 0.000</td> <td> 4.77e+05</td> <td> 7.52e+05</td>\n",
       "</tr>\n",
       "<tr>\n",
       "  <th>G</th>               <td>-1.808e+05</td> <td> 3.08e+04</td> <td>   -5.866</td> <td> 0.000</td> <td>-2.41e+05</td> <td> -1.2e+05</td>\n",
       "</tr>\n",
       "<tr>\n",
       "  <th>MP</th>              <td> 6647.2327</td> <td> 1411.842</td> <td>    4.708</td> <td> 0.000</td> <td> 3869.086</td> <td> 9425.379</td>\n",
       "</tr>\n",
       "<tr>\n",
       "  <th>PER</th>             <td>-5.311e+05</td> <td> 4.24e+05</td> <td>   -1.252</td> <td> 0.212</td> <td>-1.37e+06</td> <td> 3.04e+05</td>\n",
       "</tr>\n",
       "<tr>\n",
       "  <th>TS%</th>             <td>-1.796e+07</td> <td> 9.83e+06</td> <td>   -1.826</td> <td> 0.069</td> <td>-3.73e+07</td> <td> 1.39e+06</td>\n",
       "</tr>\n",
       "<tr>\n",
       "  <th>3PAr</th>            <td> -5.02e+06</td> <td>  3.2e+06</td> <td>   -1.570</td> <td> 0.117</td> <td>-1.13e+07</td> <td> 1.27e+06</td>\n",
       "</tr>\n",
       "<tr>\n",
       "  <th>FTr</th>             <td> 7.479e+05</td> <td> 2.89e+06</td> <td>    0.259</td> <td> 0.796</td> <td>-4.94e+06</td> <td> 6.43e+06</td>\n",
       "</tr>\n",
       "<tr>\n",
       "  <th>ORB%</th>            <td>-2.093e+05</td> <td> 1.11e+06</td> <td>   -0.189</td> <td> 0.851</td> <td>-2.39e+06</td> <td> 1.98e+06</td>\n",
       "</tr>\n",
       "<tr>\n",
       "  <th>DRB%</th>            <td> 2.632e+05</td> <td> 1.13e+06</td> <td>    0.232</td> <td> 0.817</td> <td>-1.97e+06</td> <td>  2.5e+06</td>\n",
       "</tr>\n",
       "<tr>\n",
       "  <th>TRB%</th>            <td>-1.349e+05</td> <td> 2.24e+06</td> <td>   -0.060</td> <td> 0.952</td> <td>-4.54e+06</td> <td> 4.28e+06</td>\n",
       "</tr>\n",
       "<tr>\n",
       "  <th>AST%</th>            <td>-1.784e+05</td> <td> 7.26e+04</td> <td>   -2.458</td> <td> 0.015</td> <td>-3.21e+05</td> <td>-3.56e+04</td>\n",
       "</tr>\n",
       "<tr>\n",
       "  <th>STL%</th>            <td>-5.749e+04</td> <td> 5.91e+05</td> <td>   -0.097</td> <td> 0.923</td> <td>-1.22e+06</td> <td>  1.1e+06</td>\n",
       "</tr>\n",
       "<tr>\n",
       "  <th>BLK%</th>            <td> 1.449e+05</td> <td> 3.98e+05</td> <td>    0.364</td> <td> 0.716</td> <td>-6.39e+05</td> <td> 9.29e+05</td>\n",
       "</tr>\n",
       "<tr>\n",
       "  <th>TOV%</th>            <td> 1.834e+05</td> <td>  1.1e+05</td> <td>    1.663</td> <td> 0.097</td> <td>-3.36e+04</td> <td>    4e+05</td>\n",
       "</tr>\n",
       "<tr>\n",
       "  <th>USG%</th>            <td> 2.137e+05</td> <td> 1.64e+05</td> <td>    1.306</td> <td> 0.192</td> <td>-1.08e+05</td> <td> 5.36e+05</td>\n",
       "</tr>\n",
       "<tr>\n",
       "  <th>OWS</th>             <td> 5.173e+06</td> <td> 5.47e+06</td> <td>    0.945</td> <td> 0.345</td> <td> -5.6e+06</td> <td> 1.59e+07</td>\n",
       "</tr>\n",
       "<tr>\n",
       "  <th>DWS</th>             <td> 5.081e+06</td> <td> 5.47e+06</td> <td>    0.928</td> <td> 0.354</td> <td>-5.69e+06</td> <td> 1.59e+07</td>\n",
       "</tr>\n",
       "<tr>\n",
       "  <th>WS</th>              <td>-5.416e+06</td> <td> 5.46e+06</td> <td>   -0.993</td> <td> 0.322</td> <td>-1.62e+07</td> <td> 5.32e+06</td>\n",
       "</tr>\n",
       "<tr>\n",
       "  <th>WS/48</th>           <td>  3.26e+07</td> <td> 2.31e+07</td> <td>    1.409</td> <td> 0.160</td> <td>-1.29e+07</td> <td> 7.81e+07</td>\n",
       "</tr>\n",
       "<tr>\n",
       "  <th>OBPM</th>            <td> 5.098e+06</td> <td> 5.96e+06</td> <td>    0.856</td> <td> 0.393</td> <td>-6.63e+06</td> <td> 1.68e+07</td>\n",
       "</tr>\n",
       "<tr>\n",
       "  <th>DBPM</th>            <td> 3.863e+06</td> <td> 5.87e+06</td> <td>    0.659</td> <td> 0.511</td> <td>-7.68e+06</td> <td> 1.54e+07</td>\n",
       "</tr>\n",
       "<tr>\n",
       "  <th>BPM</th>             <td>-4.118e+06</td> <td> 5.89e+06</td> <td>   -0.700</td> <td> 0.485</td> <td>-1.57e+07</td> <td> 7.46e+06</td>\n",
       "</tr>\n",
       "<tr>\n",
       "  <th>VORP</th>            <td> 1.469e+06</td> <td> 8.04e+05</td> <td>    1.828</td> <td> 0.069</td> <td>-1.12e+05</td> <td> 3.05e+06</td>\n",
       "</tr>\n",
       "</table>\n",
       "<table class=\"simpletable\">\n",
       "<tr>\n",
       "  <th>Omnibus:</th>       <td>26.870</td> <th>  Durbin-Watson:     </th> <td>   1.936</td>\n",
       "</tr>\n",
       "<tr>\n",
       "  <th>Prob(Omnibus):</th> <td> 0.000</td> <th>  Jarque-Bera (JB):  </th> <td>  42.666</td>\n",
       "</tr>\n",
       "<tr>\n",
       "  <th>Skew:</th>          <td> 0.530</td> <th>  Prob(JB):          </th> <td>5.43e-10</td>\n",
       "</tr>\n",
       "<tr>\n",
       "  <th>Kurtosis:</th>      <td> 4.404</td> <th>  Cond. No.          </th> <td>1.16e+05</td>\n",
       "</tr>\n",
       "</table><br/><br/>Warnings:<br/>[1] Standard Errors assume that the covariance matrix of the errors is correctly specified.<br/>[2] The condition number is large, 1.16e+05. This might indicate that there are<br/>strong multicollinearity or other numerical problems."
      ],
      "text/plain": [
       "<class 'statsmodels.iolib.summary.Summary'>\n",
       "\"\"\"\n",
       "                            OLS Regression Results                            \n",
       "==============================================================================\n",
       "Dep. Variable:                      y   R-squared:                       0.571\n",
       "Model:                            OLS   Adj. R-squared:                  0.537\n",
       "Method:                 Least Squares   F-statistic:                     16.97\n",
       "Date:                Thu, 05 Nov 2020   Prob (F-statistic):           5.41e-43\n",
       "Time:                        22:14:24   Log-Likelihood:                -5569.2\n",
       "No. Observations:                 331   AIC:                         1.119e+04\n",
       "Df Residuals:                     306   BIC:                         1.128e+04\n",
       "Df Model:                          24                                         \n",
       "Covariance Type:            nonrobust                                         \n",
       "===================================================================================\n",
       "                      coef    std err          t      P>|t|      [0.025      0.975]\n",
       "-----------------------------------------------------------------------------------\n",
       "const            4.934e+06   7.06e+06      0.699      0.485   -8.96e+06    1.88e+07\n",
       "NBA_DraftNumber -6.478e+04   1.61e+04     -4.027      0.000   -9.64e+04   -3.31e+04\n",
       "Age              6.143e+05      7e+04      8.770      0.000    4.77e+05    7.52e+05\n",
       "G               -1.808e+05   3.08e+04     -5.866      0.000   -2.41e+05    -1.2e+05\n",
       "MP               6647.2327   1411.842      4.708      0.000    3869.086    9425.379\n",
       "PER             -5.311e+05   4.24e+05     -1.252      0.212   -1.37e+06    3.04e+05\n",
       "TS%             -1.796e+07   9.83e+06     -1.826      0.069   -3.73e+07    1.39e+06\n",
       "3PAr             -5.02e+06    3.2e+06     -1.570      0.117   -1.13e+07    1.27e+06\n",
       "FTr              7.479e+05   2.89e+06      0.259      0.796   -4.94e+06    6.43e+06\n",
       "ORB%            -2.093e+05   1.11e+06     -0.189      0.851   -2.39e+06    1.98e+06\n",
       "DRB%             2.632e+05   1.13e+06      0.232      0.817   -1.97e+06     2.5e+06\n",
       "TRB%            -1.349e+05   2.24e+06     -0.060      0.952   -4.54e+06    4.28e+06\n",
       "AST%            -1.784e+05   7.26e+04     -2.458      0.015   -3.21e+05   -3.56e+04\n",
       "STL%            -5.749e+04   5.91e+05     -0.097      0.923   -1.22e+06     1.1e+06\n",
       "BLK%             1.449e+05   3.98e+05      0.364      0.716   -6.39e+05    9.29e+05\n",
       "TOV%             1.834e+05    1.1e+05      1.663      0.097   -3.36e+04       4e+05\n",
       "USG%             2.137e+05   1.64e+05      1.306      0.192   -1.08e+05    5.36e+05\n",
       "OWS              5.173e+06   5.47e+06      0.945      0.345    -5.6e+06    1.59e+07\n",
       "DWS              5.081e+06   5.47e+06      0.928      0.354   -5.69e+06    1.59e+07\n",
       "WS              -5.416e+06   5.46e+06     -0.993      0.322   -1.62e+07    5.32e+06\n",
       "WS/48             3.26e+07   2.31e+07      1.409      0.160   -1.29e+07    7.81e+07\n",
       "OBPM             5.098e+06   5.96e+06      0.856      0.393   -6.63e+06    1.68e+07\n",
       "DBPM             3.863e+06   5.87e+06      0.659      0.511   -7.68e+06    1.54e+07\n",
       "BPM             -4.118e+06   5.89e+06     -0.700      0.485   -1.57e+07    7.46e+06\n",
       "VORP             1.469e+06   8.04e+05      1.828      0.069   -1.12e+05    3.05e+06\n",
       "==============================================================================\n",
       "Omnibus:                       26.870   Durbin-Watson:                   1.936\n",
       "Prob(Omnibus):                  0.000   Jarque-Bera (JB):               42.666\n",
       "Skew:                           0.530   Prob(JB):                     5.43e-10\n",
       "Kurtosis:                       4.404   Cond. No.                     1.16e+05\n",
       "==============================================================================\n",
       "\n",
       "Warnings:\n",
       "[1] Standard Errors assume that the covariance matrix of the errors is correctly specified.\n",
       "[2] The condition number is large, 1.16e+05. This might indicate that there are\n",
       "strong multicollinearity or other numerical problems.\n",
       "\"\"\""
      ]
     },
     "execution_count": 104,
     "metadata": {},
     "output_type": "execute_result"
    }
   ],
   "source": [
    "modeloStats = sm.OLS(np.asarray(y_train), x2_train)\n",
    "results = modeloStats.fit();\n",
    "#Consultamos la calidad del modelo a partir de sus estadísticas\n",
    "results.summary()"
   ]
  },
  {
   "cell_type": "markdown",
   "metadata": {},
   "source": [
    "Como puede verse en el resultado de las pruebas de hipótesis los coeficientes que son significativos para el modelo son:\n",
    "NBA_DraftNumber, Age, G, MP, AST%.\n",
    "\n",
    "También es posible que haya problemas de multicolinealidad como lo especifica la advertencia #2. A continuación construiremos una matriz de correlación para dar mayor claridad sobre la relación entre las variables."
   ]
  },
  {
   "cell_type": "code",
   "execution_count": 105,
   "metadata": {},
   "outputs": [
    {
     "data": {
      "text/html": [
       "<div>\n",
       "<style scoped>\n",
       "    .dataframe tbody tr th:only-of-type {\n",
       "        vertical-align: middle;\n",
       "    }\n",
       "\n",
       "    .dataframe tbody tr th {\n",
       "        vertical-align: top;\n",
       "    }\n",
       "\n",
       "    .dataframe thead th {\n",
       "        text-align: right;\n",
       "    }\n",
       "</style>\n",
       "<table border=\"1\" class=\"dataframe\">\n",
       "  <thead>\n",
       "    <tr style=\"text-align: right;\">\n",
       "      <th></th>\n",
       "      <th>NBA_DraftNumber</th>\n",
       "      <th>Age</th>\n",
       "      <th>G</th>\n",
       "      <th>MP</th>\n",
       "      <th>PER</th>\n",
       "      <th>TS%</th>\n",
       "      <th>3PAr</th>\n",
       "      <th>FTr</th>\n",
       "      <th>ORB%</th>\n",
       "      <th>DRB%</th>\n",
       "      <th>...</th>\n",
       "      <th>USG%</th>\n",
       "      <th>OWS</th>\n",
       "      <th>DWS</th>\n",
       "      <th>WS</th>\n",
       "      <th>WS/48</th>\n",
       "      <th>OBPM</th>\n",
       "      <th>DBPM</th>\n",
       "      <th>BPM</th>\n",
       "      <th>VORP</th>\n",
       "      <th>Salary</th>\n",
       "    </tr>\n",
       "  </thead>\n",
       "  <tbody>\n",
       "    <tr>\n",
       "      <th>NBA_DraftNumber</th>\n",
       "      <td>1.000000</td>\n",
       "      <td>0.027979</td>\n",
       "      <td>-0.282847</td>\n",
       "      <td>-0.346984</td>\n",
       "      <td>-0.366332</td>\n",
       "      <td>-0.164489</td>\n",
       "      <td>0.223567</td>\n",
       "      <td>-0.088247</td>\n",
       "      <td>-0.086241</td>\n",
       "      <td>-0.176484</td>\n",
       "      <td>...</td>\n",
       "      <td>-0.295603</td>\n",
       "      <td>-0.284015</td>\n",
       "      <td>-0.323039</td>\n",
       "      <td>-0.324691</td>\n",
       "      <td>-0.272885</td>\n",
       "      <td>-0.311156</td>\n",
       "      <td>-0.144516</td>\n",
       "      <td>-0.313881</td>\n",
       "      <td>-0.269370</td>\n",
       "      <td>-0.349851</td>\n",
       "    </tr>\n",
       "    <tr>\n",
       "      <th>Age</th>\n",
       "      <td>0.027979</td>\n",
       "      <td>1.000000</td>\n",
       "      <td>0.093667</td>\n",
       "      <td>0.116491</td>\n",
       "      <td>0.101049</td>\n",
       "      <td>0.090524</td>\n",
       "      <td>0.012019</td>\n",
       "      <td>-0.005010</td>\n",
       "      <td>0.007495</td>\n",
       "      <td>0.012696</td>\n",
       "      <td>...</td>\n",
       "      <td>0.030952</td>\n",
       "      <td>0.164191</td>\n",
       "      <td>0.103481</td>\n",
       "      <td>0.155976</td>\n",
       "      <td>0.116450</td>\n",
       "      <td>0.139185</td>\n",
       "      <td>0.009553</td>\n",
       "      <td>0.110655</td>\n",
       "      <td>0.129026</td>\n",
       "      <td>0.396991</td>\n",
       "    </tr>\n",
       "    <tr>\n",
       "      <th>G</th>\n",
       "      <td>-0.282847</td>\n",
       "      <td>0.093667</td>\n",
       "      <td>1.000000</td>\n",
       "      <td>0.862070</td>\n",
       "      <td>0.384300</td>\n",
       "      <td>0.350116</td>\n",
       "      <td>-0.050334</td>\n",
       "      <td>0.041416</td>\n",
       "      <td>-0.071499</td>\n",
       "      <td>0.116889</td>\n",
       "      <td>...</td>\n",
       "      <td>0.097326</td>\n",
       "      <td>0.476901</td>\n",
       "      <td>0.715296</td>\n",
       "      <td>0.609628</td>\n",
       "      <td>0.433377</td>\n",
       "      <td>0.524234</td>\n",
       "      <td>0.363787</td>\n",
       "      <td>0.597482</td>\n",
       "      <td>0.399211</td>\n",
       "      <td>0.236444</td>\n",
       "    </tr>\n",
       "    <tr>\n",
       "      <th>MP</th>\n",
       "      <td>-0.346984</td>\n",
       "      <td>0.116491</td>\n",
       "      <td>0.862070</td>\n",
       "      <td>1.000000</td>\n",
       "      <td>0.480185</td>\n",
       "      <td>0.312502</td>\n",
       "      <td>-0.027325</td>\n",
       "      <td>0.050476</td>\n",
       "      <td>-0.121408</td>\n",
       "      <td>0.088846</td>\n",
       "      <td>...</td>\n",
       "      <td>0.323294</td>\n",
       "      <td>0.643131</td>\n",
       "      <td>0.827779</td>\n",
       "      <td>0.770320</td>\n",
       "      <td>0.420969</td>\n",
       "      <td>0.622569</td>\n",
       "      <td>0.288868</td>\n",
       "      <td>0.631052</td>\n",
       "      <td>0.622455</td>\n",
       "      <td>0.474630</td>\n",
       "    </tr>\n",
       "    <tr>\n",
       "      <th>PER</th>\n",
       "      <td>-0.366332</td>\n",
       "      <td>0.101049</td>\n",
       "      <td>0.384300</td>\n",
       "      <td>0.480185</td>\n",
       "      <td>1.000000</td>\n",
       "      <td>0.698256</td>\n",
       "      <td>-0.458469</td>\n",
       "      <td>0.436331</td>\n",
       "      <td>0.295666</td>\n",
       "      <td>0.399348</td>\n",
       "      <td>...</td>\n",
       "      <td>0.574616</td>\n",
       "      <td>0.677412</td>\n",
       "      <td>0.547306</td>\n",
       "      <td>0.687396</td>\n",
       "      <td>0.879845</td>\n",
       "      <td>0.823685</td>\n",
       "      <td>0.289361</td>\n",
       "      <td>0.783842</td>\n",
       "      <td>0.627185</td>\n",
       "      <td>0.430147</td>\n",
       "    </tr>\n",
       "    <tr>\n",
       "      <th>TS%</th>\n",
       "      <td>-0.164489</td>\n",
       "      <td>0.090524</td>\n",
       "      <td>0.350116</td>\n",
       "      <td>0.312502</td>\n",
       "      <td>0.698256</td>\n",
       "      <td>1.000000</td>\n",
       "      <td>-0.267145</td>\n",
       "      <td>0.293733</td>\n",
       "      <td>0.186795</td>\n",
       "      <td>0.131359</td>\n",
       "      <td>...</td>\n",
       "      <td>0.137761</td>\n",
       "      <td>0.410018</td>\n",
       "      <td>0.307520</td>\n",
       "      <td>0.407011</td>\n",
       "      <td>0.772303</td>\n",
       "      <td>0.715744</td>\n",
       "      <td>0.128692</td>\n",
       "      <td>0.614508</td>\n",
       "      <td>0.316493</td>\n",
       "      <td>0.199065</td>\n",
       "    </tr>\n",
       "    <tr>\n",
       "      <th>3PAr</th>\n",
       "      <td>0.223567</td>\n",
       "      <td>0.012019</td>\n",
       "      <td>-0.050334</td>\n",
       "      <td>-0.027325</td>\n",
       "      <td>-0.458469</td>\n",
       "      <td>-0.267145</td>\n",
       "      <td>1.000000</td>\n",
       "      <td>-0.487637</td>\n",
       "      <td>-0.649981</td>\n",
       "      <td>-0.406625</td>\n",
       "      <td>...</td>\n",
       "      <td>-0.164851</td>\n",
       "      <td>-0.163125</td>\n",
       "      <td>-0.165107</td>\n",
       "      <td>-0.177394</td>\n",
       "      <td>-0.356335</td>\n",
       "      <td>-0.039190</td>\n",
       "      <td>-0.311530</td>\n",
       "      <td>-0.200303</td>\n",
       "      <td>-0.117409</td>\n",
       "      <td>-0.082234</td>\n",
       "    </tr>\n",
       "    <tr>\n",
       "      <th>FTr</th>\n",
       "      <td>-0.088247</td>\n",
       "      <td>-0.005010</td>\n",
       "      <td>0.041416</td>\n",
       "      <td>0.050476</td>\n",
       "      <td>0.436331</td>\n",
       "      <td>0.293733</td>\n",
       "      <td>-0.487637</td>\n",
       "      <td>1.000000</td>\n",
       "      <td>0.376237</td>\n",
       "      <td>0.374880</td>\n",
       "      <td>...</td>\n",
       "      <td>0.146550</td>\n",
       "      <td>0.264655</td>\n",
       "      <td>0.175601</td>\n",
       "      <td>0.253749</td>\n",
       "      <td>0.431972</td>\n",
       "      <td>0.174290</td>\n",
       "      <td>0.275865</td>\n",
       "      <td>0.283443</td>\n",
       "      <td>0.227880</td>\n",
       "      <td>0.148761</td>\n",
       "    </tr>\n",
       "    <tr>\n",
       "      <th>ORB%</th>\n",
       "      <td>-0.086241</td>\n",
       "      <td>0.007495</td>\n",
       "      <td>-0.071499</td>\n",
       "      <td>-0.121408</td>\n",
       "      <td>0.295666</td>\n",
       "      <td>0.186795</td>\n",
       "      <td>-0.649981</td>\n",
       "      <td>0.376237</td>\n",
       "      <td>1.000000</td>\n",
       "      <td>0.516542</td>\n",
       "      <td>...</td>\n",
       "      <td>-0.061331</td>\n",
       "      <td>0.139018</td>\n",
       "      <td>0.078804</td>\n",
       "      <td>0.128061</td>\n",
       "      <td>0.298359</td>\n",
       "      <td>-0.043829</td>\n",
       "      <td>0.218056</td>\n",
       "      <td>0.086198</td>\n",
       "      <td>0.091348</td>\n",
       "      <td>0.010086</td>\n",
       "    </tr>\n",
       "    <tr>\n",
       "      <th>DRB%</th>\n",
       "      <td>-0.176484</td>\n",
       "      <td>0.012696</td>\n",
       "      <td>0.116889</td>\n",
       "      <td>0.088846</td>\n",
       "      <td>0.399348</td>\n",
       "      <td>0.131359</td>\n",
       "      <td>-0.406625</td>\n",
       "      <td>0.374880</td>\n",
       "      <td>0.516542</td>\n",
       "      <td>1.000000</td>\n",
       "      <td>...</td>\n",
       "      <td>0.108120</td>\n",
       "      <td>0.248228</td>\n",
       "      <td>0.330343</td>\n",
       "      <td>0.301070</td>\n",
       "      <td>0.355371</td>\n",
       "      <td>0.011491</td>\n",
       "      <td>0.468630</td>\n",
       "      <td>0.264630</td>\n",
       "      <td>0.263941</td>\n",
       "      <td>0.189913</td>\n",
       "    </tr>\n",
       "    <tr>\n",
       "      <th>TRB%</th>\n",
       "      <td>-0.162394</td>\n",
       "      <td>0.014169</td>\n",
       "      <td>0.050298</td>\n",
       "      <td>0.009255</td>\n",
       "      <td>0.412085</td>\n",
       "      <td>0.178457</td>\n",
       "      <td>-0.572047</td>\n",
       "      <td>0.427664</td>\n",
       "      <td>0.804058</td>\n",
       "      <td>0.923803</td>\n",
       "      <td>...</td>\n",
       "      <td>0.047869</td>\n",
       "      <td>0.239887</td>\n",
       "      <td>0.270174</td>\n",
       "      <td>0.272229</td>\n",
       "      <td>0.385500</td>\n",
       "      <td>-0.007683</td>\n",
       "      <td>0.424439</td>\n",
       "      <td>0.226123</td>\n",
       "      <td>0.229989</td>\n",
       "      <td>0.139816</td>\n",
       "    </tr>\n",
       "    <tr>\n",
       "      <th>AST%</th>\n",
       "      <td>-0.158010</td>\n",
       "      <td>0.142118</td>\n",
       "      <td>0.151270</td>\n",
       "      <td>0.317834</td>\n",
       "      <td>0.419010</td>\n",
       "      <td>0.134270</td>\n",
       "      <td>-0.064131</td>\n",
       "      <td>0.041309</td>\n",
       "      <td>-0.325799</td>\n",
       "      <td>-0.179509</td>\n",
       "      <td>...</td>\n",
       "      <td>0.499927</td>\n",
       "      <td>0.283855</td>\n",
       "      <td>0.254229</td>\n",
       "      <td>0.296369</td>\n",
       "      <td>0.230548</td>\n",
       "      <td>0.499529</td>\n",
       "      <td>0.035182</td>\n",
       "      <td>0.398376</td>\n",
       "      <td>0.388312</td>\n",
       "      <td>0.265646</td>\n",
       "    </tr>\n",
       "    <tr>\n",
       "      <th>STL%</th>\n",
       "      <td>0.056804</td>\n",
       "      <td>-0.017142</td>\n",
       "      <td>-0.013477</td>\n",
       "      <td>0.036045</td>\n",
       "      <td>0.027833</td>\n",
       "      <td>-0.173507</td>\n",
       "      <td>0.029335</td>\n",
       "      <td>0.065095</td>\n",
       "      <td>-0.136726</td>\n",
       "      <td>-0.124681</td>\n",
       "      <td>...</td>\n",
       "      <td>0.005439</td>\n",
       "      <td>0.001099</td>\n",
       "      <td>0.113204</td>\n",
       "      <td>0.045958</td>\n",
       "      <td>-0.033803</td>\n",
       "      <td>0.040692</td>\n",
       "      <td>0.413208</td>\n",
       "      <td>0.258236</td>\n",
       "      <td>0.154708</td>\n",
       "      <td>0.003143</td>\n",
       "    </tr>\n",
       "    <tr>\n",
       "      <th>BLK%</th>\n",
       "      <td>-0.155943</td>\n",
       "      <td>-0.016172</td>\n",
       "      <td>0.096625</td>\n",
       "      <td>0.026337</td>\n",
       "      <td>0.344947</td>\n",
       "      <td>0.209140</td>\n",
       "      <td>-0.400307</td>\n",
       "      <td>0.345928</td>\n",
       "      <td>0.438741</td>\n",
       "      <td>0.478901</td>\n",
       "      <td>...</td>\n",
       "      <td>0.001045</td>\n",
       "      <td>0.152838</td>\n",
       "      <td>0.268555</td>\n",
       "      <td>0.211225</td>\n",
       "      <td>0.347432</td>\n",
       "      <td>0.026496</td>\n",
       "      <td>0.628922</td>\n",
       "      <td>0.364251</td>\n",
       "      <td>0.226049</td>\n",
       "      <td>0.075643</td>\n",
       "    </tr>\n",
       "    <tr>\n",
       "      <th>TOV%</th>\n",
       "      <td>0.094204</td>\n",
       "      <td>0.091413</td>\n",
       "      <td>-0.098175</td>\n",
       "      <td>-0.089888</td>\n",
       "      <td>0.016545</td>\n",
       "      <td>0.297401</td>\n",
       "      <td>-0.234648</td>\n",
       "      <td>0.215346</td>\n",
       "      <td>0.088774</td>\n",
       "      <td>-0.013454</td>\n",
       "      <td>...</td>\n",
       "      <td>-0.106856</td>\n",
       "      <td>-0.117780</td>\n",
       "      <td>-0.012292</td>\n",
       "      <td>-0.088163</td>\n",
       "      <td>-0.023987</td>\n",
       "      <td>-0.054442</td>\n",
       "      <td>0.216181</td>\n",
       "      <td>0.077767</td>\n",
       "      <td>0.001221</td>\n",
       "      <td>-0.022240</td>\n",
       "    </tr>\n",
       "    <tr>\n",
       "      <th>USG%</th>\n",
       "      <td>-0.295603</td>\n",
       "      <td>0.030952</td>\n",
       "      <td>0.097326</td>\n",
       "      <td>0.323294</td>\n",
       "      <td>0.574616</td>\n",
       "      <td>0.137761</td>\n",
       "      <td>-0.164851</td>\n",
       "      <td>0.146550</td>\n",
       "      <td>-0.061331</td>\n",
       "      <td>0.108120</td>\n",
       "      <td>...</td>\n",
       "      <td>1.000000</td>\n",
       "      <td>0.329752</td>\n",
       "      <td>0.288771</td>\n",
       "      <td>0.343452</td>\n",
       "      <td>0.192047</td>\n",
       "      <td>0.430451</td>\n",
       "      <td>-0.174300</td>\n",
       "      <td>0.231104</td>\n",
       "      <td>0.365696</td>\n",
       "      <td>0.352269</td>\n",
       "    </tr>\n",
       "    <tr>\n",
       "      <th>OWS</th>\n",
       "      <td>-0.284015</td>\n",
       "      <td>0.164191</td>\n",
       "      <td>0.476901</td>\n",
       "      <td>0.643131</td>\n",
       "      <td>0.677412</td>\n",
       "      <td>0.410018</td>\n",
       "      <td>-0.163125</td>\n",
       "      <td>0.264655</td>\n",
       "      <td>0.139018</td>\n",
       "      <td>0.248228</td>\n",
       "      <td>...</td>\n",
       "      <td>0.329752</td>\n",
       "      <td>1.000000</td>\n",
       "      <td>0.654334</td>\n",
       "      <td>0.957613</td>\n",
       "      <td>0.669799</td>\n",
       "      <td>0.695771</td>\n",
       "      <td>0.242684</td>\n",
       "      <td>0.661754</td>\n",
       "      <td>0.875522</td>\n",
       "      <td>0.528523</td>\n",
       "    </tr>\n",
       "    <tr>\n",
       "      <th>DWS</th>\n",
       "      <td>-0.323039</td>\n",
       "      <td>0.103481</td>\n",
       "      <td>0.715296</td>\n",
       "      <td>0.827779</td>\n",
       "      <td>0.547306</td>\n",
       "      <td>0.307520</td>\n",
       "      <td>-0.165107</td>\n",
       "      <td>0.175601</td>\n",
       "      <td>0.078804</td>\n",
       "      <td>0.330343</td>\n",
       "      <td>...</td>\n",
       "      <td>0.288771</td>\n",
       "      <td>0.654334</td>\n",
       "      <td>1.000000</td>\n",
       "      <td>0.843893</td>\n",
       "      <td>0.546566</td>\n",
       "      <td>0.529354</td>\n",
       "      <td>0.531191</td>\n",
       "      <td>0.692819</td>\n",
       "      <td>0.755026</td>\n",
       "      <td>0.474727</td>\n",
       "    </tr>\n",
       "    <tr>\n",
       "      <th>WS</th>\n",
       "      <td>-0.324691</td>\n",
       "      <td>0.155976</td>\n",
       "      <td>0.609628</td>\n",
       "      <td>0.770320</td>\n",
       "      <td>0.687396</td>\n",
       "      <td>0.407011</td>\n",
       "      <td>-0.177394</td>\n",
       "      <td>0.253749</td>\n",
       "      <td>0.128061</td>\n",
       "      <td>0.301070</td>\n",
       "      <td>...</td>\n",
       "      <td>0.343452</td>\n",
       "      <td>0.957613</td>\n",
       "      <td>0.843893</td>\n",
       "      <td>1.000000</td>\n",
       "      <td>0.681652</td>\n",
       "      <td>0.693634</td>\n",
       "      <td>0.374497</td>\n",
       "      <td>0.732123</td>\n",
       "      <td>0.908269</td>\n",
       "      <td>0.554719</td>\n",
       "    </tr>\n",
       "    <tr>\n",
       "      <th>WS/48</th>\n",
       "      <td>-0.272885</td>\n",
       "      <td>0.116450</td>\n",
       "      <td>0.433377</td>\n",
       "      <td>0.420969</td>\n",
       "      <td>0.879845</td>\n",
       "      <td>0.772303</td>\n",
       "      <td>-0.356335</td>\n",
       "      <td>0.431972</td>\n",
       "      <td>0.298359</td>\n",
       "      <td>0.355371</td>\n",
       "      <td>...</td>\n",
       "      <td>0.192047</td>\n",
       "      <td>0.669799</td>\n",
       "      <td>0.546566</td>\n",
       "      <td>0.681652</td>\n",
       "      <td>1.000000</td>\n",
       "      <td>0.807184</td>\n",
       "      <td>0.378904</td>\n",
       "      <td>0.820515</td>\n",
       "      <td>0.587863</td>\n",
       "      <td>0.352352</td>\n",
       "    </tr>\n",
       "    <tr>\n",
       "      <th>OBPM</th>\n",
       "      <td>-0.311156</td>\n",
       "      <td>0.139185</td>\n",
       "      <td>0.524234</td>\n",
       "      <td>0.622569</td>\n",
       "      <td>0.823685</td>\n",
       "      <td>0.715744</td>\n",
       "      <td>-0.039190</td>\n",
       "      <td>0.174290</td>\n",
       "      <td>-0.043829</td>\n",
       "      <td>0.011491</td>\n",
       "      <td>...</td>\n",
       "      <td>0.430451</td>\n",
       "      <td>0.695771</td>\n",
       "      <td>0.529354</td>\n",
       "      <td>0.693634</td>\n",
       "      <td>0.807184</td>\n",
       "      <td>1.000000</td>\n",
       "      <td>0.147155</td>\n",
       "      <td>0.840391</td>\n",
       "      <td>0.643501</td>\n",
       "      <td>0.436432</td>\n",
       "    </tr>\n",
       "    <tr>\n",
       "      <th>DBPM</th>\n",
       "      <td>-0.144516</td>\n",
       "      <td>0.009553</td>\n",
       "      <td>0.363787</td>\n",
       "      <td>0.288868</td>\n",
       "      <td>0.289361</td>\n",
       "      <td>0.128692</td>\n",
       "      <td>-0.311530</td>\n",
       "      <td>0.275865</td>\n",
       "      <td>0.218056</td>\n",
       "      <td>0.468630</td>\n",
       "      <td>...</td>\n",
       "      <td>-0.174300</td>\n",
       "      <td>0.242684</td>\n",
       "      <td>0.531191</td>\n",
       "      <td>0.374497</td>\n",
       "      <td>0.378904</td>\n",
       "      <td>0.147155</td>\n",
       "      <td>1.000000</td>\n",
       "      <td>0.659602</td>\n",
       "      <td>0.404210</td>\n",
       "      <td>0.150196</td>\n",
       "    </tr>\n",
       "    <tr>\n",
       "      <th>BPM</th>\n",
       "      <td>-0.313881</td>\n",
       "      <td>0.110655</td>\n",
       "      <td>0.597482</td>\n",
       "      <td>0.631052</td>\n",
       "      <td>0.783842</td>\n",
       "      <td>0.614508</td>\n",
       "      <td>-0.200303</td>\n",
       "      <td>0.283443</td>\n",
       "      <td>0.086198</td>\n",
       "      <td>0.264630</td>\n",
       "      <td>...</td>\n",
       "      <td>0.231104</td>\n",
       "      <td>0.661754</td>\n",
       "      <td>0.692819</td>\n",
       "      <td>0.732123</td>\n",
       "      <td>0.820515</td>\n",
       "      <td>0.840391</td>\n",
       "      <td>0.659602</td>\n",
       "      <td>1.000000</td>\n",
       "      <td>0.710433</td>\n",
       "      <td>0.413073</td>\n",
       "    </tr>\n",
       "    <tr>\n",
       "      <th>VORP</th>\n",
       "      <td>-0.269370</td>\n",
       "      <td>0.129026</td>\n",
       "      <td>0.399211</td>\n",
       "      <td>0.622455</td>\n",
       "      <td>0.627185</td>\n",
       "      <td>0.316493</td>\n",
       "      <td>-0.117409</td>\n",
       "      <td>0.227880</td>\n",
       "      <td>0.091348</td>\n",
       "      <td>0.263941</td>\n",
       "      <td>...</td>\n",
       "      <td>0.365696</td>\n",
       "      <td>0.875522</td>\n",
       "      <td>0.755026</td>\n",
       "      <td>0.908269</td>\n",
       "      <td>0.587863</td>\n",
       "      <td>0.643501</td>\n",
       "      <td>0.404210</td>\n",
       "      <td>0.710433</td>\n",
       "      <td>1.000000</td>\n",
       "      <td>0.561972</td>\n",
       "    </tr>\n",
       "    <tr>\n",
       "      <th>Salary</th>\n",
       "      <td>-0.349851</td>\n",
       "      <td>0.396991</td>\n",
       "      <td>0.236444</td>\n",
       "      <td>0.474630</td>\n",
       "      <td>0.430147</td>\n",
       "      <td>0.199065</td>\n",
       "      <td>-0.082234</td>\n",
       "      <td>0.148761</td>\n",
       "      <td>0.010086</td>\n",
       "      <td>0.189913</td>\n",
       "      <td>...</td>\n",
       "      <td>0.352269</td>\n",
       "      <td>0.528523</td>\n",
       "      <td>0.474727</td>\n",
       "      <td>0.554719</td>\n",
       "      <td>0.352352</td>\n",
       "      <td>0.436432</td>\n",
       "      <td>0.150196</td>\n",
       "      <td>0.413073</td>\n",
       "      <td>0.561972</td>\n",
       "      <td>1.000000</td>\n",
       "    </tr>\n",
       "  </tbody>\n",
       "</table>\n",
       "<p>25 rows × 25 columns</p>\n",
       "</div>"
      ],
      "text/plain": [
       "                 NBA_DraftNumber       Age         G        MP       PER  \\\n",
       "NBA_DraftNumber         1.000000  0.027979 -0.282847 -0.346984 -0.366332   \n",
       "Age                     0.027979  1.000000  0.093667  0.116491  0.101049   \n",
       "G                      -0.282847  0.093667  1.000000  0.862070  0.384300   \n",
       "MP                     -0.346984  0.116491  0.862070  1.000000  0.480185   \n",
       "PER                    -0.366332  0.101049  0.384300  0.480185  1.000000   \n",
       "TS%                    -0.164489  0.090524  0.350116  0.312502  0.698256   \n",
       "3PAr                    0.223567  0.012019 -0.050334 -0.027325 -0.458469   \n",
       "FTr                    -0.088247 -0.005010  0.041416  0.050476  0.436331   \n",
       "ORB%                   -0.086241  0.007495 -0.071499 -0.121408  0.295666   \n",
       "DRB%                   -0.176484  0.012696  0.116889  0.088846  0.399348   \n",
       "TRB%                   -0.162394  0.014169  0.050298  0.009255  0.412085   \n",
       "AST%                   -0.158010  0.142118  0.151270  0.317834  0.419010   \n",
       "STL%                    0.056804 -0.017142 -0.013477  0.036045  0.027833   \n",
       "BLK%                   -0.155943 -0.016172  0.096625  0.026337  0.344947   \n",
       "TOV%                    0.094204  0.091413 -0.098175 -0.089888  0.016545   \n",
       "USG%                   -0.295603  0.030952  0.097326  0.323294  0.574616   \n",
       "OWS                    -0.284015  0.164191  0.476901  0.643131  0.677412   \n",
       "DWS                    -0.323039  0.103481  0.715296  0.827779  0.547306   \n",
       "WS                     -0.324691  0.155976  0.609628  0.770320  0.687396   \n",
       "WS/48                  -0.272885  0.116450  0.433377  0.420969  0.879845   \n",
       "OBPM                   -0.311156  0.139185  0.524234  0.622569  0.823685   \n",
       "DBPM                   -0.144516  0.009553  0.363787  0.288868  0.289361   \n",
       "BPM                    -0.313881  0.110655  0.597482  0.631052  0.783842   \n",
       "VORP                   -0.269370  0.129026  0.399211  0.622455  0.627185   \n",
       "Salary                 -0.349851  0.396991  0.236444  0.474630  0.430147   \n",
       "\n",
       "                      TS%      3PAr       FTr      ORB%      DRB%  ...  \\\n",
       "NBA_DraftNumber -0.164489  0.223567 -0.088247 -0.086241 -0.176484  ...   \n",
       "Age              0.090524  0.012019 -0.005010  0.007495  0.012696  ...   \n",
       "G                0.350116 -0.050334  0.041416 -0.071499  0.116889  ...   \n",
       "MP               0.312502 -0.027325  0.050476 -0.121408  0.088846  ...   \n",
       "PER              0.698256 -0.458469  0.436331  0.295666  0.399348  ...   \n",
       "TS%              1.000000 -0.267145  0.293733  0.186795  0.131359  ...   \n",
       "3PAr            -0.267145  1.000000 -0.487637 -0.649981 -0.406625  ...   \n",
       "FTr              0.293733 -0.487637  1.000000  0.376237  0.374880  ...   \n",
       "ORB%             0.186795 -0.649981  0.376237  1.000000  0.516542  ...   \n",
       "DRB%             0.131359 -0.406625  0.374880  0.516542  1.000000  ...   \n",
       "TRB%             0.178457 -0.572047  0.427664  0.804058  0.923803  ...   \n",
       "AST%             0.134270 -0.064131  0.041309 -0.325799 -0.179509  ...   \n",
       "STL%            -0.173507  0.029335  0.065095 -0.136726 -0.124681  ...   \n",
       "BLK%             0.209140 -0.400307  0.345928  0.438741  0.478901  ...   \n",
       "TOV%             0.297401 -0.234648  0.215346  0.088774 -0.013454  ...   \n",
       "USG%             0.137761 -0.164851  0.146550 -0.061331  0.108120  ...   \n",
       "OWS              0.410018 -0.163125  0.264655  0.139018  0.248228  ...   \n",
       "DWS              0.307520 -0.165107  0.175601  0.078804  0.330343  ...   \n",
       "WS               0.407011 -0.177394  0.253749  0.128061  0.301070  ...   \n",
       "WS/48            0.772303 -0.356335  0.431972  0.298359  0.355371  ...   \n",
       "OBPM             0.715744 -0.039190  0.174290 -0.043829  0.011491  ...   \n",
       "DBPM             0.128692 -0.311530  0.275865  0.218056  0.468630  ...   \n",
       "BPM              0.614508 -0.200303  0.283443  0.086198  0.264630  ...   \n",
       "VORP             0.316493 -0.117409  0.227880  0.091348  0.263941  ...   \n",
       "Salary           0.199065 -0.082234  0.148761  0.010086  0.189913  ...   \n",
       "\n",
       "                     USG%       OWS       DWS        WS     WS/48      OBPM  \\\n",
       "NBA_DraftNumber -0.295603 -0.284015 -0.323039 -0.324691 -0.272885 -0.311156   \n",
       "Age              0.030952  0.164191  0.103481  0.155976  0.116450  0.139185   \n",
       "G                0.097326  0.476901  0.715296  0.609628  0.433377  0.524234   \n",
       "MP               0.323294  0.643131  0.827779  0.770320  0.420969  0.622569   \n",
       "PER              0.574616  0.677412  0.547306  0.687396  0.879845  0.823685   \n",
       "TS%              0.137761  0.410018  0.307520  0.407011  0.772303  0.715744   \n",
       "3PAr            -0.164851 -0.163125 -0.165107 -0.177394 -0.356335 -0.039190   \n",
       "FTr              0.146550  0.264655  0.175601  0.253749  0.431972  0.174290   \n",
       "ORB%            -0.061331  0.139018  0.078804  0.128061  0.298359 -0.043829   \n",
       "DRB%             0.108120  0.248228  0.330343  0.301070  0.355371  0.011491   \n",
       "TRB%             0.047869  0.239887  0.270174  0.272229  0.385500 -0.007683   \n",
       "AST%             0.499927  0.283855  0.254229  0.296369  0.230548  0.499529   \n",
       "STL%             0.005439  0.001099  0.113204  0.045958 -0.033803  0.040692   \n",
       "BLK%             0.001045  0.152838  0.268555  0.211225  0.347432  0.026496   \n",
       "TOV%            -0.106856 -0.117780 -0.012292 -0.088163 -0.023987 -0.054442   \n",
       "USG%             1.000000  0.329752  0.288771  0.343452  0.192047  0.430451   \n",
       "OWS              0.329752  1.000000  0.654334  0.957613  0.669799  0.695771   \n",
       "DWS              0.288771  0.654334  1.000000  0.843893  0.546566  0.529354   \n",
       "WS               0.343452  0.957613  0.843893  1.000000  0.681652  0.693634   \n",
       "WS/48            0.192047  0.669799  0.546566  0.681652  1.000000  0.807184   \n",
       "OBPM             0.430451  0.695771  0.529354  0.693634  0.807184  1.000000   \n",
       "DBPM            -0.174300  0.242684  0.531191  0.374497  0.378904  0.147155   \n",
       "BPM              0.231104  0.661754  0.692819  0.732123  0.820515  0.840391   \n",
       "VORP             0.365696  0.875522  0.755026  0.908269  0.587863  0.643501   \n",
       "Salary           0.352269  0.528523  0.474727  0.554719  0.352352  0.436432   \n",
       "\n",
       "                     DBPM       BPM      VORP    Salary  \n",
       "NBA_DraftNumber -0.144516 -0.313881 -0.269370 -0.349851  \n",
       "Age              0.009553  0.110655  0.129026  0.396991  \n",
       "G                0.363787  0.597482  0.399211  0.236444  \n",
       "MP               0.288868  0.631052  0.622455  0.474630  \n",
       "PER              0.289361  0.783842  0.627185  0.430147  \n",
       "TS%              0.128692  0.614508  0.316493  0.199065  \n",
       "3PAr            -0.311530 -0.200303 -0.117409 -0.082234  \n",
       "FTr              0.275865  0.283443  0.227880  0.148761  \n",
       "ORB%             0.218056  0.086198  0.091348  0.010086  \n",
       "DRB%             0.468630  0.264630  0.263941  0.189913  \n",
       "TRB%             0.424439  0.226123  0.229989  0.139816  \n",
       "AST%             0.035182  0.398376  0.388312  0.265646  \n",
       "STL%             0.413208  0.258236  0.154708  0.003143  \n",
       "BLK%             0.628922  0.364251  0.226049  0.075643  \n",
       "TOV%             0.216181  0.077767  0.001221 -0.022240  \n",
       "USG%            -0.174300  0.231104  0.365696  0.352269  \n",
       "OWS              0.242684  0.661754  0.875522  0.528523  \n",
       "DWS              0.531191  0.692819  0.755026  0.474727  \n",
       "WS               0.374497  0.732123  0.908269  0.554719  \n",
       "WS/48            0.378904  0.820515  0.587863  0.352352  \n",
       "OBPM             0.147155  0.840391  0.643501  0.436432  \n",
       "DBPM             1.000000  0.659602  0.404210  0.150196  \n",
       "BPM              0.659602  1.000000  0.710433  0.413073  \n",
       "VORP             0.404210  0.710433  1.000000  0.561972  \n",
       "Salary           0.150196  0.413073  0.561972  1.000000  \n",
       "\n",
       "[25 rows x 25 columns]"
      ]
     },
     "execution_count": 105,
     "metadata": {},
     "output_type": "execute_result"
    }
   ],
   "source": [
    "# Calculamos la matriz de correlaciones\n",
    "corr_matrix = x_train.join(y_train).corr()\n",
    "corr_matrix"
   ]
  },
  {
   "cell_type": "code",
   "execution_count": 106,
   "metadata": {},
   "outputs": [
    {
     "data": {
      "text/plain": [
       "<matplotlib.axes._subplots.AxesSubplot at 0x1e44183b080>"
      ]
     },
     "execution_count": 106,
     "metadata": {},
     "output_type": "execute_result"
    },
    {
     "data": {
      "image/png": "[encoded data removed]",
      "text/plain": [
       "<Figure size 792x648 with 2 Axes>"
      ]
     },
     "metadata": {
      "needs_background": "light"
     },
     "output_type": "display_data"
    }
   ],
   "source": [
    "# Set up the matplotlib figure\n",
    "f, ax = plt.subplots(figsize=(11, 9))\n",
    "\n",
    "# Generate a custom diverging colormap\n",
    "cmap = sns.diverging_palette(220, 10, as_cmap=True)\n",
    "\n",
    "# Borramos la parte diagonal superior con una máscara\n",
    "mask = np.zeros_like(corr_matrix, dtype=np.bool)\n",
    "mask[np.triu_indices_from(mask)] = True\n",
    "\n",
    "sns.heatmap(corr_matrix, mask=mask, cmap=cmap, vmax=1, vmin=-1, center=0, \n",
    "            square=True, linewidths=.5, cbar_kws={\"shrink\": .5})\n",
    "\n"
   ]
  },
  {
   "cell_type": "markdown",
   "metadata": {},
   "source": [
    "Como se puede observar, la variable 3PAr esta fuertemente correlacionada con las variables independientes FTr, ORB%, DRB% y TRB%, por lo que es recomendable eliminarlas al momento de construir el modelo. Sin embargo, se realizará un proceso de selección de variables por medio de Forward y Backward Stepwise."
   ]
  },
  {
   "cell_type": "markdown",
   "metadata": {},
   "source": [
    "#### 1.1.3. Selección de variables"
   ]
  },
  {
   "cell_type": "code",
   "execution_count": 107,
   "metadata": {},
   "outputs": [
    {
     "data": {
      "text/plain": [
       "Salary             1.000000\n",
       "VORP               0.561972\n",
       "WS                 0.554719\n",
       "OWS                0.528523\n",
       "DWS                0.474727\n",
       "MP                 0.474630\n",
       "OBPM               0.436432\n",
       "PER                0.430147\n",
       "BPM                0.413073\n",
       "Age                0.396991\n",
       "WS/48              0.352352\n",
       "USG%               0.352269\n",
       "AST%               0.265646\n",
       "G                  0.236444\n",
       "TS%                0.199065\n",
       "DRB%               0.189913\n",
       "DBPM               0.150196\n",
       "FTr                0.148761\n",
       "TRB%               0.139816\n",
       "BLK%               0.075643\n",
       "ORB%               0.010086\n",
       "STL%               0.003143\n",
       "TOV%              -0.022240\n",
       "3PAr              -0.082234\n",
       "NBA_DraftNumber   -0.349851\n",
       "Name: Salary, dtype: float64"
      ]
     },
     "execution_count": 107,
     "metadata": {},
     "output_type": "execute_result"
    }
   ],
   "source": [
    "corr_matrix['Salary'].sort_values(ascending=False)"
   ]
  },
  {
   "cell_type": "markdown",
   "metadata": {},
   "source": [
    "##### 1.1.3.1. Forward Stepwise"
   ]
  },
  {
   "cell_type": "code",
   "execution_count": 108,
   "metadata": {},
   "outputs": [
    {
     "data": {
      "text/plain": [
       "array(['VORP', 'WS', 'OWS', 'DWS', 'MP', 'OBPM', 'PER', 'BPM', 'Age',\n",
       "       'WS/48', 'USG%', 'AST%', 'G', 'TS%', 'DRB%', 'DBPM', 'FTr', 'TRB%',\n",
       "       'BLK%', 'ORB%', 'STL%', 'TOV%', '3PAr', 'NBA_DraftNumber'],\n",
       "      dtype=object)"
      ]
     },
     "execution_count": 108,
     "metadata": {},
     "output_type": "execute_result"
    }
   ],
   "source": [
    "variables = corr_matrix['Salary'].sort_values(ascending=False).index[1:].values\n",
    "variables"
   ]
  },
  {
   "cell_type": "code",
   "execution_count": 109,
   "metadata": {
    "scrolled": false
   },
   "outputs": [
    {
     "name": "stdout",
     "output_type": "stream",
     "text": [
      "\n",
      "R2 adj: 0.3137 ['VORP']\n",
      "\n",
      "R2 adj: 0.4194 ['VORP' 'Age']\n",
      "\n",
      "R2 adj: 0.4701 ['VORP' 'Age' 'NBA_DraftNumber']\n",
      "\n",
      "R2 adj: 0.4821 ['VORP' 'Age' 'NBA_DraftNumber' 'USG%']\n",
      "\n",
      "R2 adj: 0.4875 ['VORP' 'Age' 'NBA_DraftNumber' 'USG%' 'MP']\n",
      "\n",
      "R2 adj: 0.5334 ['VORP' 'Age' 'NBA_DraftNumber' 'USG%' 'MP' 'G']\n",
      "\n",
      "R2 adj: 0.5391 ['VORP' 'Age' 'NBA_DraftNumber' 'USG%' 'MP' 'G' 'DRB%']\n",
      "\n",
      "R2 adj: 0.5402 ['VORP' 'Age' 'NBA_DraftNumber' 'USG%' 'MP' 'G' 'DRB%' 'WS/48']\n",
      "\n",
      "R2 adj: 0.5440 ['VORP' 'Age' 'NBA_DraftNumber' 'USG%' 'MP' 'G' 'DRB%' 'WS/48' 'PER']\n",
      "\n",
      "R2 adj: 0.5441 ['VORP' 'Age' 'NBA_DraftNumber' 'USG%' 'MP' 'G' 'DRB%' 'WS/48' 'PER' 'DWS']\n",
      "\n",
      "\n",
      "Selected variables: ['VORP' 'Age' 'NBA_DraftNumber' 'USG%' 'MP' 'G' 'DRB%' 'WS/48' 'PER' 'DWS']\n"
     ]
    }
   ],
   "source": [
    "import sys\n",
    "current_variables_forward = np.array([])\n",
    "max_r2 = -sys.maxsize - 1\n",
    "\n",
    "while(variables.size > 0):\n",
    "    max_r2_temp = -sys.maxsize - 1\n",
    "    max_r2_index = -1\n",
    "    for j in range(variables.size): \n",
    "        \n",
    "        test_variables = np.copy(current_variables_forward)\n",
    "        #test_variables.append(variables[j])\n",
    "        new_test_variable=[variables[j]]\n",
    "        test_variables = np.concatenate((test_variables, new_test_variable), axis=0)\n",
    "        x2_train = x_train[test_variables]\n",
    "        x2_train = sm.add_constant(x2_train)\n",
    "        modeloStats = sm.OLS(y_train, x2_train)\n",
    "        results = modeloStats.fit();\n",
    "        \n",
    "        if results.rsquared_adj > max_r2_temp:\n",
    "            max_r2_temp = results.rsquared_adj\n",
    "            max_r2_index = j\n",
    "            \n",
    "        #print('R2_temp adj: %.4f' %results.rsquared_adj,test_variables)\n",
    "        \n",
    "    if max_r2 < max_r2_temp:\n",
    "        max_r2 = max_r2_temp\n",
    "        new_current_variable=[variables[max_r2_index]]\n",
    "        current_variables_forward = np.concatenate((current_variables_forward, new_current_variable), axis=0)\n",
    "        variables = np.delete(variables, max_r2_index)\n",
    "    else:\n",
    "        break\n",
    "        \n",
    "    print('\\nR2 adj: %.4f' %max_r2,current_variables_forward)\n",
    "\n",
    "print(\"\\n\\nSelected variables:\",current_variables_forward)"
   ]
  },
  {
   "cell_type": "markdown",
   "metadata": {},
   "source": [
    "#### 1.1.3.2. Backward Stepwise"
   ]
  },
  {
   "cell_type": "code",
   "execution_count": 110,
   "metadata": {
    "scrolled": false
   },
   "outputs": [
    {
     "data": {
      "text/plain": [
       "array(['VORP', 'WS', 'OWS', 'DWS', 'MP', 'OBPM', 'PER', 'BPM', 'Age',\n",
       "       'WS/48', 'USG%', 'AST%', 'G', 'TS%', 'DRB%', 'DBPM', 'FTr', 'TRB%',\n",
       "       'BLK%', 'ORB%', 'STL%', 'TOV%', '3PAr', 'NBA_DraftNumber'],\n",
       "      dtype=object)"
      ]
     },
     "execution_count": 110,
     "metadata": {},
     "output_type": "execute_result"
    }
   ],
   "source": [
    "variables = corr_matrix['Salary'].sort_values(ascending=False).index[1:].values\n",
    "variables"
   ]
  },
  {
   "cell_type": "code",
   "execution_count": 111,
   "metadata": {
    "scrolled": false
   },
   "outputs": [
    {
     "name": "stdout",
     "output_type": "stream",
     "text": [
      "\n",
      "R2 adj: 0.5388 ['VORP' 'WS' 'OWS' 'DWS' 'MP' 'OBPM' 'PER' 'BPM' 'Age' 'WS/48' 'USG%'\n",
      " 'AST%' 'G' 'TS%' 'DRB%' 'DBPM' 'FTr' 'BLK%' 'ORB%' 'STL%' 'TOV%' '3PAr'\n",
      " 'NBA_DraftNumber']\n",
      "\n",
      "R2 adj: 0.5403 ['VORP' 'WS' 'OWS' 'DWS' 'MP' 'OBPM' 'PER' 'BPM' 'Age' 'WS/48' 'USG%'\n",
      " 'AST%' 'G' 'TS%' 'DRB%' 'DBPM' 'FTr' 'BLK%' 'ORB%' 'TOV%' '3PAr'\n",
      " 'NBA_DraftNumber']\n",
      "\n",
      "R2 adj: 0.5417 ['VORP' 'WS' 'OWS' 'DWS' 'MP' 'OBPM' 'PER' 'BPM' 'Age' 'WS/48' 'USG%'\n",
      " 'AST%' 'G' 'TS%' 'DRB%' 'DBPM' 'BLK%' 'ORB%' 'TOV%' '3PAr'\n",
      " 'NBA_DraftNumber']\n",
      "\n",
      "R2 adj: 0.5428 ['VORP' 'WS' 'OWS' 'DWS' 'MP' 'OBPM' 'PER' 'BPM' 'Age' 'WS/48' 'USG%'\n",
      " 'AST%' 'G' 'TS%' 'DRB%' 'DBPM' 'ORB%' 'TOV%' '3PAr' 'NBA_DraftNumber']\n",
      "\n",
      "R2 adj: 0.5435 ['VORP' 'WS' 'OWS' 'DWS' 'MP' 'OBPM' 'PER' 'BPM' 'Age' 'WS/48' 'USG%'\n",
      " 'AST%' 'G' 'TS%' 'DRB%' 'ORB%' 'TOV%' '3PAr' 'NBA_DraftNumber']\n",
      "\n",
      "R2 adj: 0.5442 ['VORP' 'WS' 'OWS' 'DWS' 'MP' 'OBPM' 'PER' 'Age' 'WS/48' 'USG%' 'AST%' 'G'\n",
      " 'TS%' 'DRB%' 'ORB%' 'TOV%' '3PAr' 'NBA_DraftNumber']\n",
      "\n",
      "R2 adj: 0.5445 ['VORP' 'WS' 'OWS' 'MP' 'OBPM' 'PER' 'Age' 'WS/48' 'USG%' 'AST%' 'G' 'TS%'\n",
      " 'DRB%' 'ORB%' 'TOV%' '3PAr' 'NBA_DraftNumber']\n",
      "\n",
      "R2 adj: 0.5452 ['VORP' 'WS' 'MP' 'OBPM' 'PER' 'Age' 'WS/48' 'USG%' 'AST%' 'G' 'TS%'\n",
      " 'DRB%' 'ORB%' 'TOV%' '3PAr' 'NBA_DraftNumber']\n",
      "\n",
      "R2 adj: 0.5464 ['VORP' 'MP' 'OBPM' 'PER' 'Age' 'WS/48' 'USG%' 'AST%' 'G' 'TS%' 'DRB%'\n",
      " 'ORB%' 'TOV%' '3PAr' 'NBA_DraftNumber']\n",
      "\n",
      "\n",
      "Selected variables: ['VORP' 'MP' 'OBPM' 'PER' 'Age' 'WS/48' 'USG%' 'AST%' 'G' 'TS%' 'DRB%'\n",
      " 'ORB%' 'TOV%' '3PAr' 'NBA_DraftNumber']\n"
     ]
    }
   ],
   "source": [
    "current_variables_backward = np.copy(variables)\n",
    "max_r2 = -sys.maxsize - 1\n",
    "\n",
    "while(variables.size > 0):\n",
    "    max_r2_temp = -sys.maxsize - 1\n",
    "    max_r2_index = -1\n",
    "    for j in range(variables.size): \n",
    "        \n",
    "        test_variables = np.copy(current_variables_backward)\n",
    "        #test_variables.append(variables[j])\n",
    "        test_variables = np.delete(test_variables, j)\n",
    "        x2_train = x_train[test_variables]\n",
    "        x2_train = sm.add_constant(x2_train)\n",
    "        modeloStats = sm.OLS(y_train, x2_train)\n",
    "        results = modeloStats.fit();\n",
    "        \n",
    "        if results.rsquared_adj > max_r2_temp:\n",
    "            max_r2_temp = results.rsquared_adj\n",
    "            max_r2_index = j\n",
    "            \n",
    "        #print('R2_temp adj: %.4f' %results.rsquared_adj,test_variables)\n",
    "        \n",
    "    if max_r2 < max_r2_temp:\n",
    "        max_r2 = max_r2_temp\n",
    "        current_variables_backward = np.delete(current_variables_backward, max_r2_index)\n",
    "        variables = np.delete(variables, max_r2_index)\n",
    "    else:\n",
    "        break\n",
    "        \n",
    "    print('\\nR2 adj: %.4f' %max_r2,current_variables_backward)    \n",
    "\n",
    "print(\"\\n\\nSelected variables:\",current_variables_backward)"
   ]
  },
  {
   "cell_type": "markdown",
   "metadata": {},
   "source": [
    "#### 1.2. Predicción usando variables seleccionadas (Forward Stepwise)"
   ]
  },
  {
   "cell_type": "code",
   "execution_count": 112,
   "metadata": {},
   "outputs": [
    {
     "data": {
      "text/plain": [
       "array(['VORP', 'Age', 'NBA_DraftNumber', 'USG%', 'MP', 'G', 'DRB%',\n",
       "       'WS/48', 'PER', 'DWS'], dtype='<U32')"
      ]
     },
     "execution_count": 112,
     "metadata": {},
     "output_type": "execute_result"
    }
   ],
   "source": [
    "current_variables_forward"
   ]
  },
  {
   "cell_type": "code",
   "execution_count": 113,
   "metadata": {},
   "outputs": [],
   "source": [
    "x_train_filtered = x_train[current_variables_forward]\n",
    "x_test_filtered = x_test[current_variables_forward]"
   ]
  },
  {
   "cell_type": "code",
   "execution_count": 114,
   "metadata": {
    "scrolled": true
   },
   "outputs": [
    {
     "data": {
      "text/plain": [
       "LinearRegression(copy_X=True, fit_intercept=True, n_jobs=None, normalize=True)"
      ]
     },
     "execution_count": 114,
     "metadata": {},
     "output_type": "execute_result"
    }
   ],
   "source": [
    "linear_reg = linear_model.LinearRegression(normalize=True)\n",
    "linear_reg.fit(x_train_filtered, y_train)"
   ]
  },
  {
   "cell_type": "code",
   "execution_count": 115,
   "metadata": {},
   "outputs": [
    {
     "name": "stdout",
     "output_type": "stream",
     "text": [
      "(331,)\n",
      "(143,)\n"
     ]
    }
   ],
   "source": [
    "y_train_filtered_pred = linear_reg.predict(x_train_filtered)\n",
    "y_test_filtered_pred = linear_reg.predict(x_test_filtered)\n",
    "print(y_train_filtered_pred.shape)\n",
    "print(y_test_filtered_pred.shape)"
   ]
  },
  {
   "cell_type": "markdown",
   "metadata": {},
   "source": [
    "##### 1.2.1. Métricas"
   ]
  },
  {
   "cell_type": "code",
   "execution_count": 116,
   "metadata": {},
   "outputs": [
    {
     "name": "stdout",
     "output_type": "stream",
     "text": [
      "MAE (train_filtered): 3718476.4966\n",
      "R2  (train_filtered): 0.5579\n",
      "\n",
      "MAE (test_filtered) : 4123971.3680\n",
      "R2  (test_filtered) : 0.4791\n"
     ]
    }
   ],
   "source": [
    "print(\"MAE (train_filtered): %.4f\" % mean_absolute_error(y_train, y_train_filtered_pred))\n",
    "print('R2  (train_filtered): %.4f' % r2_score(y_train, y_train_filtered_pred))\n",
    "print()\n",
    "print(\"MAE (test_filtered) : %.4f\" % mean_absolute_error(y_test, y_test_filtered_pred))\n",
    "print('R2  (test_filtered) : %.4f' % r2_score(y_test, y_test_filtered_pred))"
   ]
  },
  {
   "cell_type": "code",
   "execution_count": 118,
   "metadata": {
    "scrolled": true
   },
   "outputs": [
    {
     "name": "stdout",
     "output_type": "stream",
     "text": [
      "R2 adj (train_filtered): 0.5441\n",
      "R2 adj (test_filtered): 0.4396\n"
     ]
    }
   ],
   "source": [
    "r2_aj_train_filtered = 1 - (1-r2_score(y_train, y_train_filtered_pred))*(len(y_train)-1) / (len(y_train) - x_train_filtered.shape[1] - 1)\n",
    "print('R2 adj (train_filtered): %.4f' %r2_aj_train_filtered)\n",
    "r2_aj_test_filtered = 1 - (1-r2_score(y_test, y_test_filtered_pred))*(len(y_test)-1) / (len(y_test) - x_test_filtered.shape[1] - 1)\n",
    "print('R2 adj (test_filtered): %.4f' %r2_aj_test_filtered)"
   ]
  },
  {
   "cell_type": "markdown",
   "metadata": {},
   "source": [
    "#### 1.2. Predicción usando variables seleccionadas (Backward Stepwise)"
   ]
  },
  {
   "cell_type": "code",
   "execution_count": 119,
   "metadata": {},
   "outputs": [
    {
     "data": {
      "text/plain": [
       "array(['VORP', 'MP', 'OBPM', 'PER', 'Age', 'WS/48', 'USG%', 'AST%', 'G',\n",
       "       'TS%', 'DRB%', 'ORB%', 'TOV%', '3PAr', 'NBA_DraftNumber'],\n",
       "      dtype=object)"
      ]
     },
     "execution_count": 119,
     "metadata": {},
     "output_type": "execute_result"
    }
   ],
   "source": [
    "current_variables_backward"
   ]
  },
  {
   "cell_type": "code",
   "execution_count": 120,
   "metadata": {},
   "outputs": [],
   "source": [
    "x_train_filtered = x_train[current_variables_backward]\n",
    "x_test_filtered = x_test[current_variables_backward]"
   ]
  },
  {
   "cell_type": "code",
   "execution_count": 121,
   "metadata": {
    "scrolled": true
   },
   "outputs": [
    {
     "data": {
      "text/plain": [
       "LinearRegression(copy_X=True, fit_intercept=True, n_jobs=None, normalize=True)"
      ]
     },
     "execution_count": 121,
     "metadata": {},
     "output_type": "execute_result"
    }
   ],
   "source": [
    "linear_reg = linear_model.LinearRegression(normalize=True)\n",
    "linear_reg.fit(x_train_filtered, y_train)"
   ]
  },
  {
   "cell_type": "code",
   "execution_count": 122,
   "metadata": {},
   "outputs": [
    {
     "name": "stdout",
     "output_type": "stream",
     "text": [
      "(331,)\n",
      "(143,)\n"
     ]
    }
   ],
   "source": [
    "y_train_filtered_pred = linear_reg.predict(x_train_filtered)\n",
    "y_test_filtered_pred = linear_reg.predict(x_test_filtered)\n",
    "print(y_train_filtered_pred.shape)\n",
    "print(y_test_filtered_pred.shape)"
   ]
  },
  {
   "cell_type": "markdown",
   "metadata": {},
   "source": [
    "##### 1.2.1. Métricas"
   ]
  },
  {
   "cell_type": "code",
   "execution_count": 123,
   "metadata": {},
   "outputs": [
    {
     "name": "stdout",
     "output_type": "stream",
     "text": [
      "MAE (train_filtered): 24310471692470.5078\n",
      "MAE (test_filtered) : 28225421746979.5312\n",
      "R2  (train_filtered): 0.5671\n",
      "R2  (test_filtered) : 0.4585\n"
     ]
    }
   ],
   "source": [
    "print(\"MAE (train_filtered): %.4f\" % mean_squared_error(y_train, y_train_filtered_pred))\n",
    "print(\"MAE (test_filtered) : %.4f\" % mean_squared_error(y_test, y_test_filtered_pred))\n",
    "print('R2  (train_filtered): %.4f' % r2_score(y_train, y_train_filtered_pred))\n",
    "print('R2  (test_filtered) : %.4f' % r2_score(y_test, y_test_filtered_pred))"
   ]
  },
  {
   "cell_type": "code",
   "execution_count": 124,
   "metadata": {
    "scrolled": true
   },
   "outputs": [
    {
     "name": "stdout",
     "output_type": "stream",
     "text": [
      "R2 adj (train_filtered): 0.5464\n",
      "R2 adj (test_filtered): 0.3946\n"
     ]
    }
   ],
   "source": [
    "r2_aj_train_filtered = 1 - (1-r2_score(y_train, y_train_filtered_pred))*(len(y_train)-1) / (len(y_train) - x_train_filtered.shape[1] - 1)\n",
    "print('R2 adj (train_filtered): %.4f' %r2_aj_train_filtered)\n",
    "r2_aj_test_filtered = 1 - (1-r2_score(y_test, y_test_filtered_pred))*(len(y_test)-1) / (len(y_test) - x_test_filtered.shape[1] - 1)\n",
    "print('R2 adj (test_filtered): %.4f' %r2_aj_test_filtered)"
   ]
  },
  {
   "cell_type": "markdown",
   "metadata": {},
   "source": [
    "Dado que los modelos tienen diferente número de predictores, se compararán mediante el R2 ajustado.\n",
    "\n",
    "En el primer caso, donde se usaron todas las variables independientes, el R2 ajustado para train y test fue de:\n",
    "\n",
    "* R2 adj (train): 0.5373\n",
    "* R2 adj (test): 0.3329\n",
    "\n",
    "En el segundo caso, donde se filtraron las variables predictoras por forward stepwise, el R2 ajustado para train y test fue de:\n",
    "\n",
    "* R2 adj (train_filtered): 0.5441\n",
    "\n",
    "* R2 adj (test_filtered): 0.4396\n",
    "\n",
    "En el tercer caso, donde se filtraron las variables predictoras por backward stepwise, el R2 ajustado para train y test fue de:\n",
    "\n",
    "* R2 adj (train_filtered): 0.5464\n",
    "\n",
    "* R2 adj (test_filtered): 0.3946\n",
    "\n",
    "Se puede observar que en el segundo caso se obtuvo una mejora en las métricas, y por lo tanto, en las predicciones del modelo."
   ]
  },
  {
   "cell_type": "markdown",
   "metadata": {},
   "source": [
    "__NOTA:__ \n",
    "\n",
    "En cuanto a las variables que al inicio pensábamos que generarían un problema de multicolinealidad (3PAr, FTr, ORB%, DRB% y TRB%), tres quedaron seleccionadas al realizar el backward stepwise.\n",
    "\n",
    "Al eliminarlas se mejoraba el R2 ajustado para el backward, sin embargo, el R2 ajustado del forward seguía siendo mayor."
   ]
  },
  {
   "cell_type": "markdown",
   "metadata": {},
   "source": [
    "### 2. Red Neuronal"
   ]
  },
  {
   "cell_type": "code",
   "execution_count": 195,
   "metadata": {},
   "outputs": [],
   "source": [
    "import sklearn as sl\n",
    "from sklearn.neural_network import MLPRegressor\n",
    "from sklearn.model_selection import GridSearchCV #permite buscar la mejor configuración de parámetros con C-V\n",
    "from sklearn.metrics import mean_squared_error, mean_absolute_error, r2_score\n",
    "from math import sqrt\n",
    "#from sklearn.preprocessing import StandardScaler"
   ]
  },
  {
   "cell_type": "markdown",
   "metadata": {},
   "source": [
    "#### 2.0. Protocolo de evaluación"
   ]
  },
  {
   "cell_type": "code",
   "execution_count": 198,
   "metadata": {},
   "outputs": [],
   "source": [
    "x_train, x_test, y_train, y_test = train_test_split(x, y, test_size=0.3, random_state=12345)"
   ]
  },
  {
   "cell_type": "code",
   "execution_count": 199,
   "metadata": {},
   "outputs": [
    {
     "name": "stdout",
     "output_type": "stream",
     "text": [
      "x_train:  (331, 26)\n",
      "x_test:  (143, 26)\n",
      "y_train:  (331, 1)\n",
      "y_train:  (143, 1)\n"
     ]
    }
   ],
   "source": [
    "print(\"x_train: \",x_train.shape)\n",
    "print(\"x_test: \",x_test.shape)\n",
    "print(\"y_train: \",y_train.shape)\n",
    "print(\"y_train: \",y_test.shape)"
   ]
  },
  {
   "cell_type": "markdown",
   "metadata": {},
   "source": [
    "#### 2.1. Predicción baseline"
   ]
  },
  {
   "cell_type": "code",
   "execution_count": 200,
   "metadata": {
    "scrolled": true
   },
   "outputs": [
    {
     "name": "stdout",
     "output_type": "stream",
     "text": [
      "El baseline (promedio) para la variable objetivo será de: $USD 6,772,112\n"
     ]
    }
   ],
   "source": [
    "print('El baseline (promedio) para la variable objetivo será de: $USD {:,.0f}'.format(data['Salary'].mean()))"
   ]
  },
  {
   "cell_type": "code",
   "execution_count": 201,
   "metadata": {},
   "outputs": [
    {
     "name": "stdout",
     "output_type": "stream",
     "text": [
      "MAE: 5568031.739930955 , R2: -0.0013460163761327415\n"
     ]
    }
   ],
   "source": [
    "y_pred = np.full(x_test.shape[0], np.mean(data.Salary))\n",
    "print(\"MAE:\", mean_absolute_error(y_test, y_pred), \", R2:\", r2_score(y_test, y_pred))"
   ]
  },
  {
   "cell_type": "markdown",
   "metadata": {},
   "source": [
    "#### 2.2. Modelamiento, con todas las variables\n",
    "Creamos un modelo de regresión MPLRegressor con tres capas de 30 neuronas cada una."
   ]
  },
  {
   "cell_type": "code",
   "execution_count": 64,
   "metadata": {},
   "outputs": [
    {
     "data": {
      "text/plain": [
       "MLPRegressor(activation='relu', alpha=0.0001, batch_size='auto', beta_1=0.9,\n",
       "             beta_2=0.999, early_stopping=False, epsilon=1e-08,\n",
       "             hidden_layer_sizes=(30, 30, 30), learning_rate='constant',\n",
       "             learning_rate_init=0.001, max_iter=200, momentum=0.9,\n",
       "             n_iter_no_change=10, nesterovs_momentum=True, power_t=0.5,\n",
       "             random_state=12345, shuffle=True, solver='adam', tol=0.0001,\n",
       "             validation_fraction=0.1, verbose=False, warm_start=False)"
      ]
     },
     "execution_count": 64,
     "metadata": {},
     "output_type": "execute_result"
    }
   ],
   "source": [
    "mlp = MLPRegressor(hidden_layer_sizes=(30,30,30), random_state=12345)\n",
    "mlp.fit(x_train,y_train)"
   ]
  },
  {
   "cell_type": "code",
   "execution_count": 65,
   "metadata": {},
   "outputs": [
    {
     "name": "stdout",
     "output_type": "stream",
     "text": [
      "MAE: 4130916.683475102 , R2: 0.17183986114041627\n"
     ]
    }
   ],
   "source": [
    "y_pred = mlp.predict(x_test)\n",
    "print(\"MAE:\", mean_absolute_error(y_test, y_pred), \", R2:\", r2_score(y_test, y_pred))"
   ]
  },
  {
   "cell_type": "markdown",
   "metadata": {},
   "source": [
    "Utilizando GridSearchCV, buscaremos la mejor combinación de parámetros para crear nuestra red neuronal."
   ]
  },
  {
   "cell_type": "code",
   "execution_count": 66,
   "metadata": {},
   "outputs": [
    {
     "data": {
      "text/plain": [
       "MLPRegressor(activation='relu', alpha=0.0001, batch_size='auto', beta_1=0.9,\n",
       "             beta_2=0.999, early_stopping=False, epsilon=1e-08,\n",
       "             hidden_layer_sizes=(30, 30, 30), learning_rate='constant',\n",
       "             learning_rate_init=0.001, max_iter=200, momentum=0.9,\n",
       "             n_iter_no_change=10, nesterovs_momentum=True, power_t=0.5,\n",
       "             random_state=12345, shuffle=True, solver='adam', tol=0.0001,\n",
       "             validation_fraction=0.1, verbose=False, warm_start=False)"
      ]
     },
     "execution_count": 66,
     "metadata": {},
     "output_type": "execute_result"
    }
   ],
   "source": [
    "mlp = MLPRegressor(hidden_layer_sizes=(30,30,30), random_state=12345)\n",
    "mlp.fit(x_train,y_train)"
   ]
  },
  {
   "cell_type": "code",
   "execution_count": 204,
   "metadata": {},
   "outputs": [],
   "source": [
    "activation_vec = ['logistic', 'relu', 'tanh']\n",
    "solver_vec = ['lbfgs', 'sgd', 'adam']\n",
    "max_iter_vec = [10, 20, 50, 75, 100, 200, 300, 400, 500, 1000, 2000]\n",
    "hidden_layer_sizes_vec = [(10,), (20,), (30,), (10, 10), (20, 20), (30, 30), (30,20),\n",
    "                          (20, 10), (10, 10, 10), (20, 20, 20), (30, 30, 30), (30, 20, 10)]\n",
    "learning_rate_init_vec = [0.001, 0.002, 0.003, 0.004, 0.005, 0.006, 0.007, 0.008, 0.009, 0.01, 0.02, 0.03, 0.04, 0.05]"
   ]
  },
  {
   "cell_type": "code",
   "execution_count": 206,
   "metadata": {},
   "outputs": [],
   "source": [
    "import time\n",
    "start = time.time() # Devuelve el tiempo actual en segundos desde el 1o de enero de 1970 (punto de referencia)\n",
    "\n",
    "np.random.seed(12345)\n",
    "parametros = {'activation': activation_vec,\n",
    "              'solver': solver_vec,\n",
    "              'max_iter':max_iter_vec,\n",
    "              'hidden_layer_sizes': hidden_layer_sizes_vec,\n",
    "              'learning_rate_init': learning_rate_init_vec\n",
    "              }\n",
    "\n",
    "scoring = {'mae':'neg_mean_absolute_error', 'r2':'r2'}\n",
    "grid = GridSearchCV(mlp, param_grid=parametros, cv=5, scoring=scoring, refit='mae', n_jobs=-1, iid=True)"
   ]
  },
  {
   "cell_type": "markdown",
   "metadata": {},
   "source": [
    "### <font color=\"red\"><b>DESDE AQUÍ: NO EJECUTAR DE NUEVO (+40 minutos)</b></font>"
   ]
  },
  {
   "cell_type": "code",
   "execution_count": 69,
   "metadata": {},
   "outputs": [
    {
     "name": "stdout",
     "output_type": "stream",
     "text": [
      "Los parámetros del mejor modelo fueron {'activation': 'relu', 'hidden_layer_sizes': (30, 30, 30), 'learning_rate_init': 0.05, 'max_iter': 300}, que permiten obtener un MAE de -3648733.52 y un R2 de 0.50\n",
      "Tiempo total: 46.98 minutos\n"
     ]
    }
   ],
   "source": [
    "grid.fit(x_train, y_train)\n",
    "\n",
    "print(\"Los parámetros del mejor modelo fueron {0}, que permiten obtener un MAE de {1:.2f} y un R2 de {2:.2f}\".format(\n",
    "    grid.best_params_, grid.best_score_, grid.cv_results_['mean_test_r2'][grid.best_index_]))\n",
    "end = time.time() # Tiempo después de finalizar el entrenamiento del modelo\n",
    "print(\"Tiempo total: {0:.2f} minutos\".format((end-start)/60))"
   ]
  },
  {
   "cell_type": "markdown",
   "metadata": {},
   "source": [
    "### <font color=\"red\"><b>HASTA ACÁ</b></font>"
   ]
  },
  {
   "cell_type": "code",
   "execution_count": 70,
   "metadata": {},
   "outputs": [],
   "source": [
    "df = pd.DataFrame([(mae*100, r2*100) for (mae, r2) in \n",
    "                   zip( \n",
    "                       grid.cv_results_['mean_test_mae'], \n",
    "                       grid.cv_results_['mean_test_r2'],\n",
    "                      )\n",
    "                   ], columns = ('MAE', 'R2'))"
   ]
  },
  {
   "cell_type": "code",
   "execution_count": 71,
   "metadata": {
    "scrolled": true
   },
   "outputs": [
    {
     "data": {
      "text/html": [
       "<div>\n",
       "<style scoped>\n",
       "    .dataframe tbody tr th:only-of-type {\n",
       "        vertical-align: middle;\n",
       "    }\n",
       "\n",
       "    .dataframe tbody tr th {\n",
       "        vertical-align: top;\n",
       "    }\n",
       "\n",
       "    .dataframe thead th {\n",
       "        text-align: right;\n",
       "    }\n",
       "</style>\n",
       "<table border=\"1\" class=\"dataframe\">\n",
       "  <thead>\n",
       "    <tr style=\"text-align: right;\">\n",
       "      <th></th>\n",
       "      <th>MAE</th>\n",
       "      <th>R2</th>\n",
       "    </tr>\n",
       "  </thead>\n",
       "  <tbody>\n",
       "    <tr>\n",
       "      <th>3229</th>\n",
       "      <td>-3.648734e+08</td>\n",
       "      <td>50.151598</td>\n",
       "    </tr>\n",
       "    <tr>\n",
       "      <th>3035</th>\n",
       "      <td>-3.659589e+08</td>\n",
       "      <td>50.382017</td>\n",
       "    </tr>\n",
       "    <tr>\n",
       "      <th>3034</th>\n",
       "      <td>-3.659589e+08</td>\n",
       "      <td>50.382017</td>\n",
       "    </tr>\n",
       "    <tr>\n",
       "      <th>3178</th>\n",
       "      <td>-3.668270e+08</td>\n",
       "      <td>49.915408</td>\n",
       "    </tr>\n",
       "    <tr>\n",
       "      <th>3177</th>\n",
       "      <td>-3.668270e+08</td>\n",
       "      <td>49.915408</td>\n",
       "    </tr>\n",
       "    <tr>\n",
       "      <th>2881</th>\n",
       "      <td>-3.676909e+08</td>\n",
       "      <td>49.886692</td>\n",
       "    </tr>\n",
       "    <tr>\n",
       "      <th>3079</th>\n",
       "      <td>-3.691404e+08</td>\n",
       "      <td>49.568924</td>\n",
       "    </tr>\n",
       "    <tr>\n",
       "      <th>3078</th>\n",
       "      <td>-3.691404e+08</td>\n",
       "      <td>49.568924</td>\n",
       "    </tr>\n",
       "    <tr>\n",
       "      <th>3077</th>\n",
       "      <td>-3.691404e+08</td>\n",
       "      <td>49.568924</td>\n",
       "    </tr>\n",
       "    <tr>\n",
       "      <th>3076</th>\n",
       "      <td>-3.691404e+08</td>\n",
       "      <td>49.568924</td>\n",
       "    </tr>\n",
       "    <tr>\n",
       "      <th>3075</th>\n",
       "      <td>-3.691404e+08</td>\n",
       "      <td>49.568924</td>\n",
       "    </tr>\n",
       "    <tr>\n",
       "      <th>2902</th>\n",
       "      <td>-3.694677e+08</td>\n",
       "      <td>49.778688</td>\n",
       "    </tr>\n",
       "    <tr>\n",
       "      <th>2903</th>\n",
       "      <td>-3.694677e+08</td>\n",
       "      <td>49.778688</td>\n",
       "    </tr>\n",
       "    <tr>\n",
       "      <th>3232</th>\n",
       "      <td>-3.697055e+08</td>\n",
       "      <td>49.473794</td>\n",
       "    </tr>\n",
       "    <tr>\n",
       "      <th>3233</th>\n",
       "      <td>-3.697055e+08</td>\n",
       "      <td>49.473794</td>\n",
       "    </tr>\n",
       "    <tr>\n",
       "      <th>3230</th>\n",
       "      <td>-3.697055e+08</td>\n",
       "      <td>49.473794</td>\n",
       "    </tr>\n",
       "    <tr>\n",
       "      <th>3231</th>\n",
       "      <td>-3.697055e+08</td>\n",
       "      <td>49.473794</td>\n",
       "    </tr>\n",
       "    <tr>\n",
       "      <th>2891</th>\n",
       "      <td>-3.699698e+08</td>\n",
       "      <td>50.005715</td>\n",
       "    </tr>\n",
       "    <tr>\n",
       "      <th>2892</th>\n",
       "      <td>-3.699698e+08</td>\n",
       "      <td>50.005715</td>\n",
       "    </tr>\n",
       "    <tr>\n",
       "      <th>2901</th>\n",
       "      <td>-3.702717e+08</td>\n",
       "      <td>49.112035</td>\n",
       "    </tr>\n",
       "    <tr>\n",
       "      <th>3064</th>\n",
       "      <td>-3.702835e+08</td>\n",
       "      <td>49.652676</td>\n",
       "    </tr>\n",
       "    <tr>\n",
       "      <th>3321</th>\n",
       "      <td>-3.705880e+08</td>\n",
       "      <td>49.366973</td>\n",
       "    </tr>\n",
       "    <tr>\n",
       "      <th>2925</th>\n",
       "      <td>-3.706291e+08</td>\n",
       "      <td>48.538742</td>\n",
       "    </tr>\n",
       "    <tr>\n",
       "      <th>2924</th>\n",
       "      <td>-3.706291e+08</td>\n",
       "      <td>48.538742</td>\n",
       "    </tr>\n",
       "    <tr>\n",
       "      <th>2923</th>\n",
       "      <td>-3.706291e+08</td>\n",
       "      <td>48.538742</td>\n",
       "    </tr>\n",
       "    <tr>\n",
       "      <th>3228</th>\n",
       "      <td>-3.715042e+08</td>\n",
       "      <td>49.566561</td>\n",
       "    </tr>\n",
       "    <tr>\n",
       "      <th>3207</th>\n",
       "      <td>-3.718252e+08</td>\n",
       "      <td>48.743772</td>\n",
       "    </tr>\n",
       "    <tr>\n",
       "      <th>2771</th>\n",
       "      <td>-3.719210e+08</td>\n",
       "      <td>49.517130</td>\n",
       "    </tr>\n",
       "    <tr>\n",
       "      <th>2770</th>\n",
       "      <td>-3.719210e+08</td>\n",
       "      <td>49.517130</td>\n",
       "    </tr>\n",
       "    <tr>\n",
       "      <th>3211</th>\n",
       "      <td>-3.725515e+08</td>\n",
       "      <td>49.081940</td>\n",
       "    </tr>\n",
       "    <tr>\n",
       "      <th>...</th>\n",
       "      <td>...</td>\n",
       "      <td>...</td>\n",
       "    </tr>\n",
       "    <tr>\n",
       "      <th>1551</th>\n",
       "      <td>-6.886547e+08</td>\n",
       "      <td>-85.807113</td>\n",
       "    </tr>\n",
       "    <tr>\n",
       "      <th>946</th>\n",
       "      <td>-6.886547e+08</td>\n",
       "      <td>-85.807114</td>\n",
       "    </tr>\n",
       "    <tr>\n",
       "      <th>12</th>\n",
       "      <td>-6.886547e+08</td>\n",
       "      <td>-85.807117</td>\n",
       "    </tr>\n",
       "    <tr>\n",
       "      <th>308</th>\n",
       "      <td>-6.886547e+08</td>\n",
       "      <td>-85.807113</td>\n",
       "    </tr>\n",
       "    <tr>\n",
       "      <th>33</th>\n",
       "      <td>-6.886547e+08</td>\n",
       "      <td>-85.807118</td>\n",
       "    </tr>\n",
       "    <tr>\n",
       "      <th>154</th>\n",
       "      <td>-6.886547e+08</td>\n",
       "      <td>-85.807115</td>\n",
       "    </tr>\n",
       "    <tr>\n",
       "      <th>1232</th>\n",
       "      <td>-6.886547e+08</td>\n",
       "      <td>-85.807116</td>\n",
       "    </tr>\n",
       "    <tr>\n",
       "      <th>1540</th>\n",
       "      <td>-6.886547e+08</td>\n",
       "      <td>-85.807118</td>\n",
       "    </tr>\n",
       "    <tr>\n",
       "      <th>3454</th>\n",
       "      <td>-6.886547e+08</td>\n",
       "      <td>-85.807125</td>\n",
       "    </tr>\n",
       "    <tr>\n",
       "      <th>22</th>\n",
       "      <td>-6.886547e+08</td>\n",
       "      <td>-85.807122</td>\n",
       "    </tr>\n",
       "    <tr>\n",
       "      <th>925</th>\n",
       "      <td>-6.886547e+08</td>\n",
       "      <td>-85.807121</td>\n",
       "    </tr>\n",
       "    <tr>\n",
       "      <th>935</th>\n",
       "      <td>-6.886547e+08</td>\n",
       "      <td>-85.807121</td>\n",
       "    </tr>\n",
       "    <tr>\n",
       "      <th>616</th>\n",
       "      <td>-6.886547e+08</td>\n",
       "      <td>-85.807124</td>\n",
       "    </tr>\n",
       "    <tr>\n",
       "      <th>1</th>\n",
       "      <td>-6.886547e+08</td>\n",
       "      <td>-85.807125</td>\n",
       "    </tr>\n",
       "    <tr>\n",
       "      <th>11</th>\n",
       "      <td>-6.886547e+08</td>\n",
       "      <td>-85.807125</td>\n",
       "    </tr>\n",
       "    <tr>\n",
       "      <th>3443</th>\n",
       "      <td>-6.886547e+08</td>\n",
       "      <td>-85.807130</td>\n",
       "    </tr>\n",
       "    <tr>\n",
       "      <th>3411</th>\n",
       "      <td>-6.886547e+08</td>\n",
       "      <td>-85.807130</td>\n",
       "    </tr>\n",
       "    <tr>\n",
       "      <th>924</th>\n",
       "      <td>-6.886548e+08</td>\n",
       "      <td>-85.807128</td>\n",
       "    </tr>\n",
       "    <tr>\n",
       "      <th>0</th>\n",
       "      <td>-6.886548e+08</td>\n",
       "      <td>-85.807130</td>\n",
       "    </tr>\n",
       "    <tr>\n",
       "      <th>3390</th>\n",
       "      <td>-6.886548e+08</td>\n",
       "      <td>-85.807135</td>\n",
       "    </tr>\n",
       "    <tr>\n",
       "      <th>3432</th>\n",
       "      <td>-6.886548e+08</td>\n",
       "      <td>-85.807136</td>\n",
       "    </tr>\n",
       "    <tr>\n",
       "      <th>3400</th>\n",
       "      <td>-6.886548e+08</td>\n",
       "      <td>-85.807141</td>\n",
       "    </tr>\n",
       "    <tr>\n",
       "      <th>3421</th>\n",
       "      <td>-6.886548e+08</td>\n",
       "      <td>-85.807142</td>\n",
       "    </tr>\n",
       "    <tr>\n",
       "      <th>3410</th>\n",
       "      <td>-6.886548e+08</td>\n",
       "      <td>-85.807148</td>\n",
       "    </tr>\n",
       "    <tr>\n",
       "      <th>3399</th>\n",
       "      <td>-6.886549e+08</td>\n",
       "      <td>-85.807154</td>\n",
       "    </tr>\n",
       "    <tr>\n",
       "      <th>3389</th>\n",
       "      <td>-6.886549e+08</td>\n",
       "      <td>-85.807154</td>\n",
       "    </tr>\n",
       "    <tr>\n",
       "      <th>3388</th>\n",
       "      <td>-6.886549e+08</td>\n",
       "      <td>-85.807160</td>\n",
       "    </tr>\n",
       "    <tr>\n",
       "      <th>1705</th>\n",
       "      <td>-6.886571e+08</td>\n",
       "      <td>-85.808441</td>\n",
       "    </tr>\n",
       "    <tr>\n",
       "      <th>1695</th>\n",
       "      <td>-6.886573e+08</td>\n",
       "      <td>-85.808506</td>\n",
       "    </tr>\n",
       "    <tr>\n",
       "      <th>1694</th>\n",
       "      <td>-6.886674e+08</td>\n",
       "      <td>-85.811802</td>\n",
       "    </tr>\n",
       "  </tbody>\n",
       "</table>\n",
       "<p>5082 rows × 2 columns</p>\n",
       "</div>"
      ],
      "text/plain": [
       "               MAE         R2\n",
       "3229 -3.648734e+08  50.151598\n",
       "3035 -3.659589e+08  50.382017\n",
       "3034 -3.659589e+08  50.382017\n",
       "3178 -3.668270e+08  49.915408\n",
       "3177 -3.668270e+08  49.915408\n",
       "2881 -3.676909e+08  49.886692\n",
       "3079 -3.691404e+08  49.568924\n",
       "3078 -3.691404e+08  49.568924\n",
       "3077 -3.691404e+08  49.568924\n",
       "3076 -3.691404e+08  49.568924\n",
       "3075 -3.691404e+08  49.568924\n",
       "2902 -3.694677e+08  49.778688\n",
       "2903 -3.694677e+08  49.778688\n",
       "3232 -3.697055e+08  49.473794\n",
       "3233 -3.697055e+08  49.473794\n",
       "3230 -3.697055e+08  49.473794\n",
       "3231 -3.697055e+08  49.473794\n",
       "2891 -3.699698e+08  50.005715\n",
       "2892 -3.699698e+08  50.005715\n",
       "2901 -3.702717e+08  49.112035\n",
       "3064 -3.702835e+08  49.652676\n",
       "3321 -3.705880e+08  49.366973\n",
       "2925 -3.706291e+08  48.538742\n",
       "2924 -3.706291e+08  48.538742\n",
       "2923 -3.706291e+08  48.538742\n",
       "3228 -3.715042e+08  49.566561\n",
       "3207 -3.718252e+08  48.743772\n",
       "2771 -3.719210e+08  49.517130\n",
       "2770 -3.719210e+08  49.517130\n",
       "3211 -3.725515e+08  49.081940\n",
       "...            ...        ...\n",
       "1551 -6.886547e+08 -85.807113\n",
       "946  -6.886547e+08 -85.807114\n",
       "12   -6.886547e+08 -85.807117\n",
       "308  -6.886547e+08 -85.807113\n",
       "33   -6.886547e+08 -85.807118\n",
       "154  -6.886547e+08 -85.807115\n",
       "1232 -6.886547e+08 -85.807116\n",
       "1540 -6.886547e+08 -85.807118\n",
       "3454 -6.886547e+08 -85.807125\n",
       "22   -6.886547e+08 -85.807122\n",
       "925  -6.886547e+08 -85.807121\n",
       "935  -6.886547e+08 -85.807121\n",
       "616  -6.886547e+08 -85.807124\n",
       "1    -6.886547e+08 -85.807125\n",
       "11   -6.886547e+08 -85.807125\n",
       "3443 -6.886547e+08 -85.807130\n",
       "3411 -6.886547e+08 -85.807130\n",
       "924  -6.886548e+08 -85.807128\n",
       "0    -6.886548e+08 -85.807130\n",
       "3390 -6.886548e+08 -85.807135\n",
       "3432 -6.886548e+08 -85.807136\n",
       "3400 -6.886548e+08 -85.807141\n",
       "3421 -6.886548e+08 -85.807142\n",
       "3410 -6.886548e+08 -85.807148\n",
       "3399 -6.886549e+08 -85.807154\n",
       "3389 -6.886549e+08 -85.807154\n",
       "3388 -6.886549e+08 -85.807160\n",
       "1705 -6.886571e+08 -85.808441\n",
       "1695 -6.886573e+08 -85.808506\n",
       "1694 -6.886674e+08 -85.811802\n",
       "\n",
       "[5082 rows x 2 columns]"
      ]
     },
     "execution_count": 71,
     "metadata": {},
     "output_type": "execute_result"
    }
   ],
   "source": [
    "df.iloc[np.argsort(-df.MAE),]"
   ]
  },
  {
   "cell_type": "code",
   "execution_count": 72,
   "metadata": {},
   "outputs": [
    {
     "data": {
      "text/plain": [
       "dict_keys(['mean_fit_time', 'std_fit_time', 'mean_score_time', 'std_score_time', 'param_activation', 'param_hidden_layer_sizes', 'param_learning_rate_init', 'param_max_iter', 'params', 'split0_test_mae', 'split1_test_mae', 'split2_test_mae', 'split3_test_mae', 'split4_test_mae', 'mean_test_mae', 'std_test_mae', 'rank_test_mae', 'split0_test_r2', 'split1_test_r2', 'split2_test_r2', 'split3_test_r2', 'split4_test_r2', 'mean_test_r2', 'std_test_r2', 'rank_test_r2'])"
      ]
     },
     "execution_count": 72,
     "metadata": {},
     "output_type": "execute_result"
    }
   ],
   "source": [
    "grid.cv_results_.keys()"
   ]
  },
  {
   "cell_type": "code",
   "execution_count": 73,
   "metadata": {},
   "outputs": [
    {
     "name": "stdout",
     "output_type": "stream",
     "text": [
      "MAE: 4027491.3265883173 , R2: 0.44208258461723726 \n",
      "\n",
      "R2 adj: 0.3170\n"
     ]
    }
   ],
   "source": [
    "y_pred = grid.best_estimator_.predict(x_test)\n",
    "print(\"MAE:\", mean_absolute_error(y_test, y_pred), \", R2:\", r2_score(y_test, y_pred), \"\\n\")\n",
    "\n",
    "r2_aj = 1 - (1-r2_score(y_test, y_pred))*(len(y_test)-1) / (len(y_test) - x_test.shape[1] - 1)\n",
    "print('R2 adj: %.4f' %r2_aj)"
   ]
  },
  {
   "cell_type": "code",
   "execution_count": 74,
   "metadata": {},
   "outputs": [],
   "source": [
    "df = pd.DataFrame([(act, hidden_layers, lr, max_iter, acc*100, kappa*100) for (act, hidden_layers, lr, max_iter, acc, kappa) in \n",
    "                   zip(\n",
    "                       grid.cv_results_['param_activation'], \n",
    "                       grid.cv_results_['param_hidden_layer_sizes'], \n",
    "                       grid.cv_results_['param_learning_rate_init'], \n",
    "                       grid.cv_results_['param_max_iter'], \n",
    "                       grid.cv_results_['mean_test_mae'], \n",
    "                       grid.cv_results_['mean_test_r2'],\n",
    "                      )\n",
    "                   ], columns = ('Activation', 'HiddenLayers', 'LearningRate', 'MaxIter', 'MAE', 'R2'))"
   ]
  },
  {
   "cell_type": "code",
   "execution_count": 75,
   "metadata": {
    "scrolled": false
   },
   "outputs": [
    {
     "data": {
      "text/html": [
       "<div>\n",
       "<style scoped>\n",
       "    .dataframe tbody tr th:only-of-type {\n",
       "        vertical-align: middle;\n",
       "    }\n",
       "\n",
       "    .dataframe tbody tr th {\n",
       "        vertical-align: top;\n",
       "    }\n",
       "\n",
       "    .dataframe thead th {\n",
       "        text-align: right;\n",
       "    }\n",
       "</style>\n",
       "<table border=\"1\" class=\"dataframe\">\n",
       "  <thead>\n",
       "    <tr style=\"text-align: right;\">\n",
       "      <th></th>\n",
       "      <th>Activation</th>\n",
       "      <th>HiddenLayers</th>\n",
       "      <th>LearningRate</th>\n",
       "      <th>MaxIter</th>\n",
       "      <th>MAE</th>\n",
       "      <th>R2</th>\n",
       "    </tr>\n",
       "  </thead>\n",
       "  <tbody>\n",
       "    <tr>\n",
       "      <th>3229</th>\n",
       "      <td>relu</td>\n",
       "      <td>(30, 30, 30)</td>\n",
       "      <td>0.050</td>\n",
       "      <td>300</td>\n",
       "      <td>-3.648734e+08</td>\n",
       "      <td>50.151598</td>\n",
       "    </tr>\n",
       "    <tr>\n",
       "      <th>3035</th>\n",
       "      <td>relu</td>\n",
       "      <td>(20, 20, 20)</td>\n",
       "      <td>0.010</td>\n",
       "      <td>2000</td>\n",
       "      <td>-3.659589e+08</td>\n",
       "      <td>50.382017</td>\n",
       "    </tr>\n",
       "    <tr>\n",
       "      <th>3034</th>\n",
       "      <td>relu</td>\n",
       "      <td>(20, 20, 20)</td>\n",
       "      <td>0.010</td>\n",
       "      <td>1000</td>\n",
       "      <td>-3.659589e+08</td>\n",
       "      <td>50.382017</td>\n",
       "    </tr>\n",
       "    <tr>\n",
       "      <th>3178</th>\n",
       "      <td>relu</td>\n",
       "      <td>(30, 30, 30)</td>\n",
       "      <td>0.009</td>\n",
       "      <td>2000</td>\n",
       "      <td>-3.668270e+08</td>\n",
       "      <td>49.915408</td>\n",
       "    </tr>\n",
       "    <tr>\n",
       "      <th>3177</th>\n",
       "      <td>relu</td>\n",
       "      <td>(30, 30, 30)</td>\n",
       "      <td>0.009</td>\n",
       "      <td>1000</td>\n",
       "      <td>-3.668270e+08</td>\n",
       "      <td>49.915408</td>\n",
       "    </tr>\n",
       "    <tr>\n",
       "      <th>2881</th>\n",
       "      <td>relu</td>\n",
       "      <td>(10, 10, 10)</td>\n",
       "      <td>0.010</td>\n",
       "      <td>2000</td>\n",
       "      <td>-3.676909e+08</td>\n",
       "      <td>49.886692</td>\n",
       "    </tr>\n",
       "    <tr>\n",
       "      <th>3079</th>\n",
       "      <td>relu</td>\n",
       "      <td>(20, 20, 20)</td>\n",
       "      <td>0.050</td>\n",
       "      <td>2000</td>\n",
       "      <td>-3.691404e+08</td>\n",
       "      <td>49.568924</td>\n",
       "    </tr>\n",
       "    <tr>\n",
       "      <th>3078</th>\n",
       "      <td>relu</td>\n",
       "      <td>(20, 20, 20)</td>\n",
       "      <td>0.050</td>\n",
       "      <td>1000</td>\n",
       "      <td>-3.691404e+08</td>\n",
       "      <td>49.568924</td>\n",
       "    </tr>\n",
       "    <tr>\n",
       "      <th>3077</th>\n",
       "      <td>relu</td>\n",
       "      <td>(20, 20, 20)</td>\n",
       "      <td>0.050</td>\n",
       "      <td>500</td>\n",
       "      <td>-3.691404e+08</td>\n",
       "      <td>49.568924</td>\n",
       "    </tr>\n",
       "    <tr>\n",
       "      <th>3076</th>\n",
       "      <td>relu</td>\n",
       "      <td>(20, 20, 20)</td>\n",
       "      <td>0.050</td>\n",
       "      <td>400</td>\n",
       "      <td>-3.691404e+08</td>\n",
       "      <td>49.568924</td>\n",
       "    </tr>\n",
       "    <tr>\n",
       "      <th>3075</th>\n",
       "      <td>relu</td>\n",
       "      <td>(20, 20, 20)</td>\n",
       "      <td>0.050</td>\n",
       "      <td>300</td>\n",
       "      <td>-3.691404e+08</td>\n",
       "      <td>49.568924</td>\n",
       "    </tr>\n",
       "    <tr>\n",
       "      <th>2902</th>\n",
       "      <td>relu</td>\n",
       "      <td>(10, 10, 10)</td>\n",
       "      <td>0.030</td>\n",
       "      <td>1000</td>\n",
       "      <td>-3.694677e+08</td>\n",
       "      <td>49.778688</td>\n",
       "    </tr>\n",
       "    <tr>\n",
       "      <th>2903</th>\n",
       "      <td>relu</td>\n",
       "      <td>(10, 10, 10)</td>\n",
       "      <td>0.030</td>\n",
       "      <td>2000</td>\n",
       "      <td>-3.694677e+08</td>\n",
       "      <td>49.778688</td>\n",
       "    </tr>\n",
       "    <tr>\n",
       "      <th>3232</th>\n",
       "      <td>relu</td>\n",
       "      <td>(30, 30, 30)</td>\n",
       "      <td>0.050</td>\n",
       "      <td>1000</td>\n",
       "      <td>-3.697055e+08</td>\n",
       "      <td>49.473794</td>\n",
       "    </tr>\n",
       "    <tr>\n",
       "      <th>3233</th>\n",
       "      <td>relu</td>\n",
       "      <td>(30, 30, 30)</td>\n",
       "      <td>0.050</td>\n",
       "      <td>2000</td>\n",
       "      <td>-3.697055e+08</td>\n",
       "      <td>49.473794</td>\n",
       "    </tr>\n",
       "    <tr>\n",
       "      <th>3230</th>\n",
       "      <td>relu</td>\n",
       "      <td>(30, 30, 30)</td>\n",
       "      <td>0.050</td>\n",
       "      <td>400</td>\n",
       "      <td>-3.697055e+08</td>\n",
       "      <td>49.473794</td>\n",
       "    </tr>\n",
       "    <tr>\n",
       "      <th>3231</th>\n",
       "      <td>relu</td>\n",
       "      <td>(30, 30, 30)</td>\n",
       "      <td>0.050</td>\n",
       "      <td>500</td>\n",
       "      <td>-3.697055e+08</td>\n",
       "      <td>49.473794</td>\n",
       "    </tr>\n",
       "    <tr>\n",
       "      <th>2891</th>\n",
       "      <td>relu</td>\n",
       "      <td>(10, 10, 10)</td>\n",
       "      <td>0.020</td>\n",
       "      <td>1000</td>\n",
       "      <td>-3.699698e+08</td>\n",
       "      <td>50.005715</td>\n",
       "    </tr>\n",
       "    <tr>\n",
       "      <th>2892</th>\n",
       "      <td>relu</td>\n",
       "      <td>(10, 10, 10)</td>\n",
       "      <td>0.020</td>\n",
       "      <td>2000</td>\n",
       "      <td>-3.699698e+08</td>\n",
       "      <td>50.005715</td>\n",
       "    </tr>\n",
       "    <tr>\n",
       "      <th>2901</th>\n",
       "      <td>relu</td>\n",
       "      <td>(10, 10, 10)</td>\n",
       "      <td>0.030</td>\n",
       "      <td>500</td>\n",
       "      <td>-3.702717e+08</td>\n",
       "      <td>49.112035</td>\n",
       "    </tr>\n",
       "  </tbody>\n",
       "</table>\n",
       "</div>"
      ],
      "text/plain": [
       "     Activation  HiddenLayers  LearningRate  MaxIter           MAE         R2\n",
       "3229       relu  (30, 30, 30)         0.050      300 -3.648734e+08  50.151598\n",
       "3035       relu  (20, 20, 20)         0.010     2000 -3.659589e+08  50.382017\n",
       "3034       relu  (20, 20, 20)         0.010     1000 -3.659589e+08  50.382017\n",
       "3178       relu  (30, 30, 30)         0.009     2000 -3.668270e+08  49.915408\n",
       "3177       relu  (30, 30, 30)         0.009     1000 -3.668270e+08  49.915408\n",
       "2881       relu  (10, 10, 10)         0.010     2000 -3.676909e+08  49.886692\n",
       "3079       relu  (20, 20, 20)         0.050     2000 -3.691404e+08  49.568924\n",
       "3078       relu  (20, 20, 20)         0.050     1000 -3.691404e+08  49.568924\n",
       "3077       relu  (20, 20, 20)         0.050      500 -3.691404e+08  49.568924\n",
       "3076       relu  (20, 20, 20)         0.050      400 -3.691404e+08  49.568924\n",
       "3075       relu  (20, 20, 20)         0.050      300 -3.691404e+08  49.568924\n",
       "2902       relu  (10, 10, 10)         0.030     1000 -3.694677e+08  49.778688\n",
       "2903       relu  (10, 10, 10)         0.030     2000 -3.694677e+08  49.778688\n",
       "3232       relu  (30, 30, 30)         0.050     1000 -3.697055e+08  49.473794\n",
       "3233       relu  (30, 30, 30)         0.050     2000 -3.697055e+08  49.473794\n",
       "3230       relu  (30, 30, 30)         0.050      400 -3.697055e+08  49.473794\n",
       "3231       relu  (30, 30, 30)         0.050      500 -3.697055e+08  49.473794\n",
       "2891       relu  (10, 10, 10)         0.020     1000 -3.699698e+08  50.005715\n",
       "2892       relu  (10, 10, 10)         0.020     2000 -3.699698e+08  50.005715\n",
       "2901       relu  (10, 10, 10)         0.030      500 -3.702717e+08  49.112035"
      ]
     },
     "execution_count": 75,
     "metadata": {},
     "output_type": "execute_result"
    }
   ],
   "source": [
    "df.iloc[np.argsort(-df.MAE),].head(20)"
   ]
  },
  {
   "cell_type": "markdown",
   "metadata": {},
   "source": [
    "#### 2.3. Modelamiento variables Forward Stepwise\n",
    "Creamos un modelo de regresión MPLRegressor con tres capas de 30 neuronas cada una."
   ]
  },
  {
   "cell_type": "code",
   "execution_count": 76,
   "metadata": {},
   "outputs": [],
   "source": [
    "x_train_filtered = x_train[current_variables_forward]\n",
    "x_test_filtered = x_test[current_variables_forward]"
   ]
  },
  {
   "cell_type": "code",
   "execution_count": 77,
   "metadata": {},
   "outputs": [
    {
     "data": {
      "text/plain": [
       "MLPRegressor(activation='relu', alpha=0.0001, batch_size='auto', beta_1=0.9,\n",
       "             beta_2=0.999, early_stopping=False, epsilon=1e-08,\n",
       "             hidden_layer_sizes=(30, 30, 30), learning_rate='constant',\n",
       "             learning_rate_init=0.001, max_iter=200, momentum=0.9,\n",
       "             n_iter_no_change=10, nesterovs_momentum=True, power_t=0.5,\n",
       "             random_state=12345, shuffle=True, solver='adam', tol=0.0001,\n",
       "             validation_fraction=0.1, verbose=False, warm_start=False)"
      ]
     },
     "execution_count": 77,
     "metadata": {},
     "output_type": "execute_result"
    }
   ],
   "source": [
    "mlp = MLPRegressor(hidden_layer_sizes=(30,30,30), random_state=12345)\n",
    "mlp.fit(x_train_filtered,y_train)"
   ]
  },
  {
   "cell_type": "code",
   "execution_count": 78,
   "metadata": {},
   "outputs": [
    {
     "name": "stdout",
     "output_type": "stream",
     "text": [
      "MAE: 4224312.860371331 , R2: 0.28862198856256294\n"
     ]
    }
   ],
   "source": [
    "y_pred = mlp.predict(x_test_filtered)\n",
    "print(\"MAE:\", mean_absolute_error(y_test, y_pred), \", R2:\", r2_score(y_test, y_pred))"
   ]
  },
  {
   "cell_type": "markdown",
   "metadata": {},
   "source": [
    "Utilizando GridSearchCV, buscaremos la mejor combinación de parámetros para crear nuestra red neuronal."
   ]
  },
  {
   "cell_type": "code",
   "execution_count": 79,
   "metadata": {},
   "outputs": [],
   "source": [
    "activation_vec = ['logistic', 'relu', 'tanh']\n",
    "solver_vec = ['lbfgs', 'sgd', 'adam']\n",
    "max_iter_vec = [10, 20, 50, 75, 100, 200, 300, 400, 500, 1000, 2000]\n",
    "hidden_layer_sizes_vec = [(10,), (20,), (30,), (10, 10), (20, 20), (30, 30), (30,20),\n",
    "                          (20, 10), (10, 10, 10), (20, 20, 20), (30, 30, 30), (30, 20, 10)]\n",
    "learning_rate_init_vec = [0.001, 0.002, 0.003, 0.004, 0.005, 0.006, 0.007, 0.008, 0.009, 0.01, 0.02, 0.03, 0.04, 0.05]"
   ]
  },
  {
   "cell_type": "code",
   "execution_count": 80,
   "metadata": {},
   "outputs": [],
   "source": [
    "import time\n",
    "start = time.time() # Devuelve el tiempo actual en segundos desde el 1o de enero de 1970 (punto de referencia)\n",
    "\n",
    "np.random.seed(12345)\n",
    "parametros = {'activation': activation_vec,\n",
    "              'solver': solver_vec,\n",
    "              'max_iter':max_iter_vec,\n",
    "              'hidden_layer_sizes': hidden_layer_sizes_vec,\n",
    "              'learning_rate_init': learning_rate_init_vec\n",
    "              }\n",
    "\n",
    "scoring = {'mae':'neg_mean_absolute_error', 'r2':'r2'}\n",
    "grid = GridSearchCV(mlp, param_grid=parametros, cv=5, scoring=scoring, refit='mae', n_jobs=-1, iid=True)"
   ]
  },
  {
   "cell_type": "markdown",
   "metadata": {},
   "source": [
    "### <font color=\"red\"><b>DESDE AQUÍ: NO EJECUTAR DE NUEVO (+40 minutos)</b></font>"
   ]
  },
  {
   "cell_type": "code",
   "execution_count": 81,
   "metadata": {},
   "outputs": [
    {
     "name": "stdout",
     "output_type": "stream",
     "text": [
      "Los parámetros del mejor modelo fueron {'activation': 'relu', 'hidden_layer_sizes': (20, 20, 20), 'learning_rate_init': 0.05, 'max_iter': 400}, que permiten obtener un MAE de -3689813.27 y un R2 de 0.51\n",
      "Tiempo total: 47.70 minutos\n"
     ]
    }
   ],
   "source": [
    "grid.fit(x_train_filtered, y_train)\n",
    "\n",
    "print(\"Los parámetros del mejor modelo fueron {0}, que permiten obtener un MAE de {1:.2f} y un R2 de {2:.2f}\".format(\n",
    "    grid.best_params_, grid.best_score_, grid.cv_results_['mean_test_r2'][grid.best_index_]))\n",
    "end = time.time() # Tiempo después de finalizar el entrenamiento del modelo\n",
    "print(\"Tiempo total: {0:.2f} minutos\".format((end-start)/60))"
   ]
  },
  {
   "cell_type": "markdown",
   "metadata": {},
   "source": [
    "### <font color=\"red\"><b>HASTA ACÁ</b></font>"
   ]
  },
  {
   "cell_type": "code",
   "execution_count": 82,
   "metadata": {},
   "outputs": [],
   "source": [
    "df = pd.DataFrame([(mae*100, r2*100) for (mae, r2) in \n",
    "                   zip( \n",
    "                       grid.cv_results_['mean_test_mae'], \n",
    "                       grid.cv_results_['mean_test_r2'],\n",
    "                      )\n",
    "                   ], columns = ('MAE', 'R2'))"
   ]
  },
  {
   "cell_type": "code",
   "execution_count": 83,
   "metadata": {
    "scrolled": true
   },
   "outputs": [
    {
     "data": {
      "text/html": [
       "<div>\n",
       "<style scoped>\n",
       "    .dataframe tbody tr th:only-of-type {\n",
       "        vertical-align: middle;\n",
       "    }\n",
       "\n",
       "    .dataframe tbody tr th {\n",
       "        vertical-align: top;\n",
       "    }\n",
       "\n",
       "    .dataframe thead th {\n",
       "        text-align: right;\n",
       "    }\n",
       "</style>\n",
       "<table border=\"1\" class=\"dataframe\">\n",
       "  <thead>\n",
       "    <tr style=\"text-align: right;\">\n",
       "      <th></th>\n",
       "      <th>MAE</th>\n",
       "      <th>R2</th>\n",
       "    </tr>\n",
       "  </thead>\n",
       "  <tbody>\n",
       "    <tr>\n",
       "      <th>3076</th>\n",
       "      <td>-3.689813e+08</td>\n",
       "      <td>51.212330</td>\n",
       "    </tr>\n",
       "    <tr>\n",
       "      <th>3077</th>\n",
       "      <td>-3.689813e+08</td>\n",
       "      <td>51.212330</td>\n",
       "    </tr>\n",
       "    <tr>\n",
       "      <th>3078</th>\n",
       "      <td>-3.689813e+08</td>\n",
       "      <td>51.212330</td>\n",
       "    </tr>\n",
       "    <tr>\n",
       "      <th>3079</th>\n",
       "      <td>-3.689813e+08</td>\n",
       "      <td>51.212330</td>\n",
       "    </tr>\n",
       "    <tr>\n",
       "      <th>3228</th>\n",
       "      <td>-3.691538e+08</td>\n",
       "      <td>52.087038</td>\n",
       "    </tr>\n",
       "    <tr>\n",
       "      <th>2770</th>\n",
       "      <td>-3.704886e+08</td>\n",
       "      <td>51.521698</td>\n",
       "    </tr>\n",
       "    <tr>\n",
       "      <th>2771</th>\n",
       "      <td>-3.704886e+08</td>\n",
       "      <td>51.521698</td>\n",
       "    </tr>\n",
       "    <tr>\n",
       "      <th>3064</th>\n",
       "      <td>-3.714373e+08</td>\n",
       "      <td>51.347039</td>\n",
       "    </tr>\n",
       "    <tr>\n",
       "      <th>2462</th>\n",
       "      <td>-3.733497e+08</td>\n",
       "      <td>51.512774</td>\n",
       "    </tr>\n",
       "    <tr>\n",
       "      <th>2463</th>\n",
       "      <td>-3.733497e+08</td>\n",
       "      <td>51.512774</td>\n",
       "    </tr>\n",
       "    <tr>\n",
       "      <th>3055</th>\n",
       "      <td>-3.738445e+08</td>\n",
       "      <td>49.676733</td>\n",
       "    </tr>\n",
       "    <tr>\n",
       "      <th>3056</th>\n",
       "      <td>-3.738445e+08</td>\n",
       "      <td>49.676733</td>\n",
       "    </tr>\n",
       "    <tr>\n",
       "      <th>3057</th>\n",
       "      <td>-3.738445e+08</td>\n",
       "      <td>49.676733</td>\n",
       "    </tr>\n",
       "    <tr>\n",
       "      <th>3054</th>\n",
       "      <td>-3.743834e+08</td>\n",
       "      <td>49.852463</td>\n",
       "    </tr>\n",
       "    <tr>\n",
       "      <th>3075</th>\n",
       "      <td>-3.745626e+08</td>\n",
       "      <td>50.200739</td>\n",
       "    </tr>\n",
       "    <tr>\n",
       "      <th>2440</th>\n",
       "      <td>-3.747653e+08</td>\n",
       "      <td>50.678994</td>\n",
       "    </tr>\n",
       "    <tr>\n",
       "      <th>2441</th>\n",
       "      <td>-3.747653e+08</td>\n",
       "      <td>50.678994</td>\n",
       "    </tr>\n",
       "    <tr>\n",
       "      <th>3067</th>\n",
       "      <td>-3.751113e+08</td>\n",
       "      <td>49.092088</td>\n",
       "    </tr>\n",
       "    <tr>\n",
       "      <th>3066</th>\n",
       "      <td>-3.751113e+08</td>\n",
       "      <td>49.092088</td>\n",
       "    </tr>\n",
       "    <tr>\n",
       "      <th>3068</th>\n",
       "      <td>-3.751113e+08</td>\n",
       "      <td>49.092088</td>\n",
       "    </tr>\n",
       "    <tr>\n",
       "      <th>3065</th>\n",
       "      <td>-3.751113e+08</td>\n",
       "      <td>49.092088</td>\n",
       "    </tr>\n",
       "    <tr>\n",
       "      <th>3230</th>\n",
       "      <td>-3.754050e+08</td>\n",
       "      <td>49.401587</td>\n",
       "    </tr>\n",
       "    <tr>\n",
       "      <th>3229</th>\n",
       "      <td>-3.754050e+08</td>\n",
       "      <td>49.401587</td>\n",
       "    </tr>\n",
       "    <tr>\n",
       "      <th>3231</th>\n",
       "      <td>-3.754050e+08</td>\n",
       "      <td>49.401587</td>\n",
       "    </tr>\n",
       "    <tr>\n",
       "      <th>3232</th>\n",
       "      <td>-3.754050e+08</td>\n",
       "      <td>49.401587</td>\n",
       "    </tr>\n",
       "    <tr>\n",
       "      <th>3233</th>\n",
       "      <td>-3.754050e+08</td>\n",
       "      <td>49.401587</td>\n",
       "    </tr>\n",
       "    <tr>\n",
       "      <th>3353</th>\n",
       "      <td>-3.755013e+08</td>\n",
       "      <td>49.828666</td>\n",
       "    </tr>\n",
       "    <tr>\n",
       "      <th>3354</th>\n",
       "      <td>-3.755013e+08</td>\n",
       "      <td>49.828666</td>\n",
       "    </tr>\n",
       "    <tr>\n",
       "      <th>3024</th>\n",
       "      <td>-3.755561e+08</td>\n",
       "      <td>50.065098</td>\n",
       "    </tr>\n",
       "    <tr>\n",
       "      <th>3035</th>\n",
       "      <td>-3.765076e+08</td>\n",
       "      <td>50.299657</td>\n",
       "    </tr>\n",
       "    <tr>\n",
       "      <th>...</th>\n",
       "      <td>...</td>\n",
       "      <td>...</td>\n",
       "    </tr>\n",
       "    <tr>\n",
       "      <th>1089</th>\n",
       "      <td>-6.886547e+08</td>\n",
       "      <td>-85.807124</td>\n",
       "    </tr>\n",
       "    <tr>\n",
       "      <th>187</th>\n",
       "      <td>-6.886547e+08</td>\n",
       "      <td>-85.807125</td>\n",
       "    </tr>\n",
       "    <tr>\n",
       "      <th>770</th>\n",
       "      <td>-6.886547e+08</td>\n",
       "      <td>-85.807125</td>\n",
       "    </tr>\n",
       "    <tr>\n",
       "      <th>3850</th>\n",
       "      <td>-6.886548e+08</td>\n",
       "      <td>-85.807121</td>\n",
       "    </tr>\n",
       "    <tr>\n",
       "      <th>308</th>\n",
       "      <td>-6.886548e+08</td>\n",
       "      <td>-85.807126</td>\n",
       "    </tr>\n",
       "    <tr>\n",
       "      <th>1232</th>\n",
       "      <td>-6.886548e+08</td>\n",
       "      <td>-85.807125</td>\n",
       "    </tr>\n",
       "    <tr>\n",
       "      <th>474</th>\n",
       "      <td>-6.886548e+08</td>\n",
       "      <td>-85.807126</td>\n",
       "    </tr>\n",
       "    <tr>\n",
       "      <th>495</th>\n",
       "      <td>-6.886548e+08</td>\n",
       "      <td>-85.807127</td>\n",
       "    </tr>\n",
       "    <tr>\n",
       "      <th>1078</th>\n",
       "      <td>-6.886548e+08</td>\n",
       "      <td>-85.807129</td>\n",
       "    </tr>\n",
       "    <tr>\n",
       "      <th>176</th>\n",
       "      <td>-6.886548e+08</td>\n",
       "      <td>-85.807131</td>\n",
       "    </tr>\n",
       "    <tr>\n",
       "      <th>484</th>\n",
       "      <td>-6.886548e+08</td>\n",
       "      <td>-85.807131</td>\n",
       "    </tr>\n",
       "    <tr>\n",
       "      <th>463</th>\n",
       "      <td>-6.886548e+08</td>\n",
       "      <td>-85.807135</td>\n",
       "    </tr>\n",
       "    <tr>\n",
       "      <th>473</th>\n",
       "      <td>-6.886548e+08</td>\n",
       "      <td>-85.807135</td>\n",
       "    </tr>\n",
       "    <tr>\n",
       "      <th>165</th>\n",
       "      <td>-6.886548e+08</td>\n",
       "      <td>-85.807137</td>\n",
       "    </tr>\n",
       "    <tr>\n",
       "      <th>155</th>\n",
       "      <td>-6.886548e+08</td>\n",
       "      <td>-85.807137</td>\n",
       "    </tr>\n",
       "    <tr>\n",
       "      <th>462</th>\n",
       "      <td>-6.886548e+08</td>\n",
       "      <td>-85.807139</td>\n",
       "    </tr>\n",
       "    <tr>\n",
       "      <th>2178</th>\n",
       "      <td>-6.886548e+08</td>\n",
       "      <td>-85.807124</td>\n",
       "    </tr>\n",
       "    <tr>\n",
       "      <th>154</th>\n",
       "      <td>-6.886548e+08</td>\n",
       "      <td>-85.807143</td>\n",
       "    </tr>\n",
       "    <tr>\n",
       "      <th>2772</th>\n",
       "      <td>-6.886566e+08</td>\n",
       "      <td>-85.807767</td>\n",
       "    </tr>\n",
       "    <tr>\n",
       "      <th>2167</th>\n",
       "      <td>-6.886587e+08</td>\n",
       "      <td>-85.808433</td>\n",
       "    </tr>\n",
       "    <tr>\n",
       "      <th>2157</th>\n",
       "      <td>-6.886587e+08</td>\n",
       "      <td>-85.808443</td>\n",
       "    </tr>\n",
       "    <tr>\n",
       "      <th>1892</th>\n",
       "      <td>-6.886619e+08</td>\n",
       "      <td>-85.809791</td>\n",
       "    </tr>\n",
       "    <tr>\n",
       "      <th>1850</th>\n",
       "      <td>-6.886624e+08</td>\n",
       "      <td>-85.809972</td>\n",
       "    </tr>\n",
       "    <tr>\n",
       "      <th>2156</th>\n",
       "      <td>-6.886646e+08</td>\n",
       "      <td>-85.810441</td>\n",
       "    </tr>\n",
       "    <tr>\n",
       "      <th>1881</th>\n",
       "      <td>-6.886744e+08</td>\n",
       "      <td>-85.813945</td>\n",
       "    </tr>\n",
       "    <tr>\n",
       "      <th>1860</th>\n",
       "      <td>-6.886749e+08</td>\n",
       "      <td>-85.814106</td>\n",
       "    </tr>\n",
       "    <tr>\n",
       "      <th>1870</th>\n",
       "      <td>-6.886873e+08</td>\n",
       "      <td>-85.818233</td>\n",
       "    </tr>\n",
       "    <tr>\n",
       "      <th>1859</th>\n",
       "      <td>-6.887007e+08</td>\n",
       "      <td>-85.822661</td>\n",
       "    </tr>\n",
       "    <tr>\n",
       "      <th>1849</th>\n",
       "      <td>-6.887009e+08</td>\n",
       "      <td>-85.822745</td>\n",
       "    </tr>\n",
       "    <tr>\n",
       "      <th>1848</th>\n",
       "      <td>-6.887144e+08</td>\n",
       "      <td>-85.827239</td>\n",
       "    </tr>\n",
       "  </tbody>\n",
       "</table>\n",
       "<p>5082 rows × 2 columns</p>\n",
       "</div>"
      ],
      "text/plain": [
       "               MAE         R2\n",
       "3076 -3.689813e+08  51.212330\n",
       "3077 -3.689813e+08  51.212330\n",
       "3078 -3.689813e+08  51.212330\n",
       "3079 -3.689813e+08  51.212330\n",
       "3228 -3.691538e+08  52.087038\n",
       "2770 -3.704886e+08  51.521698\n",
       "2771 -3.704886e+08  51.521698\n",
       "3064 -3.714373e+08  51.347039\n",
       "2462 -3.733497e+08  51.512774\n",
       "2463 -3.733497e+08  51.512774\n",
       "3055 -3.738445e+08  49.676733\n",
       "3056 -3.738445e+08  49.676733\n",
       "3057 -3.738445e+08  49.676733\n",
       "3054 -3.743834e+08  49.852463\n",
       "3075 -3.745626e+08  50.200739\n",
       "2440 -3.747653e+08  50.678994\n",
       "2441 -3.747653e+08  50.678994\n",
       "3067 -3.751113e+08  49.092088\n",
       "3066 -3.751113e+08  49.092088\n",
       "3068 -3.751113e+08  49.092088\n",
       "3065 -3.751113e+08  49.092088\n",
       "3230 -3.754050e+08  49.401587\n",
       "3229 -3.754050e+08  49.401587\n",
       "3231 -3.754050e+08  49.401587\n",
       "3232 -3.754050e+08  49.401587\n",
       "3233 -3.754050e+08  49.401587\n",
       "3353 -3.755013e+08  49.828666\n",
       "3354 -3.755013e+08  49.828666\n",
       "3024 -3.755561e+08  50.065098\n",
       "3035 -3.765076e+08  50.299657\n",
       "...            ...        ...\n",
       "1089 -6.886547e+08 -85.807124\n",
       "187  -6.886547e+08 -85.807125\n",
       "770  -6.886547e+08 -85.807125\n",
       "3850 -6.886548e+08 -85.807121\n",
       "308  -6.886548e+08 -85.807126\n",
       "1232 -6.886548e+08 -85.807125\n",
       "474  -6.886548e+08 -85.807126\n",
       "495  -6.886548e+08 -85.807127\n",
       "1078 -6.886548e+08 -85.807129\n",
       "176  -6.886548e+08 -85.807131\n",
       "484  -6.886548e+08 -85.807131\n",
       "463  -6.886548e+08 -85.807135\n",
       "473  -6.886548e+08 -85.807135\n",
       "165  -6.886548e+08 -85.807137\n",
       "155  -6.886548e+08 -85.807137\n",
       "462  -6.886548e+08 -85.807139\n",
       "2178 -6.886548e+08 -85.807124\n",
       "154  -6.886548e+08 -85.807143\n",
       "2772 -6.886566e+08 -85.807767\n",
       "2167 -6.886587e+08 -85.808433\n",
       "2157 -6.886587e+08 -85.808443\n",
       "1892 -6.886619e+08 -85.809791\n",
       "1850 -6.886624e+08 -85.809972\n",
       "2156 -6.886646e+08 -85.810441\n",
       "1881 -6.886744e+08 -85.813945\n",
       "1860 -6.886749e+08 -85.814106\n",
       "1870 -6.886873e+08 -85.818233\n",
       "1859 -6.887007e+08 -85.822661\n",
       "1849 -6.887009e+08 -85.822745\n",
       "1848 -6.887144e+08 -85.827239\n",
       "\n",
       "[5082 rows x 2 columns]"
      ]
     },
     "execution_count": 83,
     "metadata": {},
     "output_type": "execute_result"
    }
   ],
   "source": [
    "df.iloc[np.argsort(-df.MAE),]"
   ]
  },
  {
   "cell_type": "code",
   "execution_count": 84,
   "metadata": {},
   "outputs": [
    {
     "data": {
      "text/plain": [
       "dict_keys(['mean_fit_time', 'std_fit_time', 'mean_score_time', 'std_score_time', 'param_activation', 'param_hidden_layer_sizes', 'param_learning_rate_init', 'param_max_iter', 'params', 'split0_test_mae', 'split1_test_mae', 'split2_test_mae', 'split3_test_mae', 'split4_test_mae', 'mean_test_mae', 'std_test_mae', 'rank_test_mae', 'split0_test_r2', 'split1_test_r2', 'split2_test_r2', 'split3_test_r2', 'split4_test_r2', 'mean_test_r2', 'std_test_r2', 'rank_test_r2'])"
      ]
     },
     "execution_count": 84,
     "metadata": {},
     "output_type": "execute_result"
    }
   ],
   "source": [
    "grid.cv_results_.keys()"
   ]
  },
  {
   "cell_type": "code",
   "execution_count": 85,
   "metadata": {},
   "outputs": [
    {
     "name": "stdout",
     "output_type": "stream",
     "text": [
      "MAE: 3736656.9226349397 , R2: 0.48821595607003765 \n",
      "\n",
      "R2 adj: 0.3735\n"
     ]
    }
   ],
   "source": [
    "y_pred = grid.best_estimator_.predict(x_test_filtered)\n",
    "print(\"MAE:\", mean_absolute_error(y_test, y_pred), \", R2:\", r2_score(y_test, y_pred), \"\\n\")\n",
    "\n",
    "r2_aj = 1 - (1-r2_score(y_test, y_pred))*(len(y_test)-1) / (len(y_test) - x_test.shape[1] - 1)\n",
    "print('R2 adj: %.4f' %r2_aj)"
   ]
  },
  {
   "cell_type": "code",
   "execution_count": 86,
   "metadata": {},
   "outputs": [],
   "source": [
    "df = pd.DataFrame([(act, hidden_layers, lr, max_iter, acc*100, kappa*100) for (act, hidden_layers, lr, max_iter, acc, kappa) in \n",
    "                   zip(\n",
    "                       grid.cv_results_['param_activation'], \n",
    "                       grid.cv_results_['param_hidden_layer_sizes'], \n",
    "                       grid.cv_results_['param_learning_rate_init'], \n",
    "                       grid.cv_results_['param_max_iter'], \n",
    "                       grid.cv_results_['mean_test_mae'], \n",
    "                       grid.cv_results_['mean_test_r2'],\n",
    "                      )\n",
    "                   ], columns = ('Activation', 'HiddenLayers', 'LearningRate', 'MaxIter', 'MAE', 'R2'))"
   ]
  },
  {
   "cell_type": "code",
   "execution_count": 87,
   "metadata": {
    "scrolled": false
   },
   "outputs": [
    {
     "data": {
      "text/html": [
       "<div>\n",
       "<style scoped>\n",
       "    .dataframe tbody tr th:only-of-type {\n",
       "        vertical-align: middle;\n",
       "    }\n",
       "\n",
       "    .dataframe tbody tr th {\n",
       "        vertical-align: top;\n",
       "    }\n",
       "\n",
       "    .dataframe thead th {\n",
       "        text-align: right;\n",
       "    }\n",
       "</style>\n",
       "<table border=\"1\" class=\"dataframe\">\n",
       "  <thead>\n",
       "    <tr style=\"text-align: right;\">\n",
       "      <th></th>\n",
       "      <th>Activation</th>\n",
       "      <th>HiddenLayers</th>\n",
       "      <th>LearningRate</th>\n",
       "      <th>MaxIter</th>\n",
       "      <th>MAE</th>\n",
       "      <th>R2</th>\n",
       "    </tr>\n",
       "  </thead>\n",
       "  <tbody>\n",
       "    <tr>\n",
       "      <th>3076</th>\n",
       "      <td>relu</td>\n",
       "      <td>(20, 20, 20)</td>\n",
       "      <td>0.05</td>\n",
       "      <td>400</td>\n",
       "      <td>-3.689813e+08</td>\n",
       "      <td>51.212330</td>\n",
       "    </tr>\n",
       "    <tr>\n",
       "      <th>3077</th>\n",
       "      <td>relu</td>\n",
       "      <td>(20, 20, 20)</td>\n",
       "      <td>0.05</td>\n",
       "      <td>500</td>\n",
       "      <td>-3.689813e+08</td>\n",
       "      <td>51.212330</td>\n",
       "    </tr>\n",
       "    <tr>\n",
       "      <th>3078</th>\n",
       "      <td>relu</td>\n",
       "      <td>(20, 20, 20)</td>\n",
       "      <td>0.05</td>\n",
       "      <td>1000</td>\n",
       "      <td>-3.689813e+08</td>\n",
       "      <td>51.212330</td>\n",
       "    </tr>\n",
       "    <tr>\n",
       "      <th>3079</th>\n",
       "      <td>relu</td>\n",
       "      <td>(20, 20, 20)</td>\n",
       "      <td>0.05</td>\n",
       "      <td>2000</td>\n",
       "      <td>-3.689813e+08</td>\n",
       "      <td>51.212330</td>\n",
       "    </tr>\n",
       "    <tr>\n",
       "      <th>3228</th>\n",
       "      <td>relu</td>\n",
       "      <td>(30, 30, 30)</td>\n",
       "      <td>0.05</td>\n",
       "      <td>200</td>\n",
       "      <td>-3.691538e+08</td>\n",
       "      <td>52.087038</td>\n",
       "    </tr>\n",
       "    <tr>\n",
       "      <th>2770</th>\n",
       "      <td>relu</td>\n",
       "      <td>(20, 10)</td>\n",
       "      <td>0.05</td>\n",
       "      <td>1000</td>\n",
       "      <td>-3.704886e+08</td>\n",
       "      <td>51.521698</td>\n",
       "    </tr>\n",
       "    <tr>\n",
       "      <th>2771</th>\n",
       "      <td>relu</td>\n",
       "      <td>(20, 10)</td>\n",
       "      <td>0.05</td>\n",
       "      <td>2000</td>\n",
       "      <td>-3.704886e+08</td>\n",
       "      <td>51.521698</td>\n",
       "    </tr>\n",
       "    <tr>\n",
       "      <th>3064</th>\n",
       "      <td>relu</td>\n",
       "      <td>(20, 20, 20)</td>\n",
       "      <td>0.04</td>\n",
       "      <td>300</td>\n",
       "      <td>-3.714373e+08</td>\n",
       "      <td>51.347039</td>\n",
       "    </tr>\n",
       "    <tr>\n",
       "      <th>2462</th>\n",
       "      <td>relu</td>\n",
       "      <td>(20, 20)</td>\n",
       "      <td>0.05</td>\n",
       "      <td>1000</td>\n",
       "      <td>-3.733497e+08</td>\n",
       "      <td>51.512774</td>\n",
       "    </tr>\n",
       "    <tr>\n",
       "      <th>2463</th>\n",
       "      <td>relu</td>\n",
       "      <td>(20, 20)</td>\n",
       "      <td>0.05</td>\n",
       "      <td>2000</td>\n",
       "      <td>-3.733497e+08</td>\n",
       "      <td>51.512774</td>\n",
       "    </tr>\n",
       "    <tr>\n",
       "      <th>3055</th>\n",
       "      <td>relu</td>\n",
       "      <td>(20, 20, 20)</td>\n",
       "      <td>0.03</td>\n",
       "      <td>500</td>\n",
       "      <td>-3.738445e+08</td>\n",
       "      <td>49.676733</td>\n",
       "    </tr>\n",
       "    <tr>\n",
       "      <th>3056</th>\n",
       "      <td>relu</td>\n",
       "      <td>(20, 20, 20)</td>\n",
       "      <td>0.03</td>\n",
       "      <td>1000</td>\n",
       "      <td>-3.738445e+08</td>\n",
       "      <td>49.676733</td>\n",
       "    </tr>\n",
       "    <tr>\n",
       "      <th>3057</th>\n",
       "      <td>relu</td>\n",
       "      <td>(20, 20, 20)</td>\n",
       "      <td>0.03</td>\n",
       "      <td>2000</td>\n",
       "      <td>-3.738445e+08</td>\n",
       "      <td>49.676733</td>\n",
       "    </tr>\n",
       "    <tr>\n",
       "      <th>3054</th>\n",
       "      <td>relu</td>\n",
       "      <td>(20, 20, 20)</td>\n",
       "      <td>0.03</td>\n",
       "      <td>400</td>\n",
       "      <td>-3.743834e+08</td>\n",
       "      <td>49.852463</td>\n",
       "    </tr>\n",
       "    <tr>\n",
       "      <th>3075</th>\n",
       "      <td>relu</td>\n",
       "      <td>(20, 20, 20)</td>\n",
       "      <td>0.05</td>\n",
       "      <td>300</td>\n",
       "      <td>-3.745626e+08</td>\n",
       "      <td>50.200739</td>\n",
       "    </tr>\n",
       "    <tr>\n",
       "      <th>2440</th>\n",
       "      <td>relu</td>\n",
       "      <td>(20, 20)</td>\n",
       "      <td>0.03</td>\n",
       "      <td>1000</td>\n",
       "      <td>-3.747653e+08</td>\n",
       "      <td>50.678994</td>\n",
       "    </tr>\n",
       "    <tr>\n",
       "      <th>2441</th>\n",
       "      <td>relu</td>\n",
       "      <td>(20, 20)</td>\n",
       "      <td>0.03</td>\n",
       "      <td>2000</td>\n",
       "      <td>-3.747653e+08</td>\n",
       "      <td>50.678994</td>\n",
       "    </tr>\n",
       "    <tr>\n",
       "      <th>3067</th>\n",
       "      <td>relu</td>\n",
       "      <td>(20, 20, 20)</td>\n",
       "      <td>0.04</td>\n",
       "      <td>1000</td>\n",
       "      <td>-3.751113e+08</td>\n",
       "      <td>49.092088</td>\n",
       "    </tr>\n",
       "    <tr>\n",
       "      <th>3066</th>\n",
       "      <td>relu</td>\n",
       "      <td>(20, 20, 20)</td>\n",
       "      <td>0.04</td>\n",
       "      <td>500</td>\n",
       "      <td>-3.751113e+08</td>\n",
       "      <td>49.092088</td>\n",
       "    </tr>\n",
       "    <tr>\n",
       "      <th>3068</th>\n",
       "      <td>relu</td>\n",
       "      <td>(20, 20, 20)</td>\n",
       "      <td>0.04</td>\n",
       "      <td>2000</td>\n",
       "      <td>-3.751113e+08</td>\n",
       "      <td>49.092088</td>\n",
       "    </tr>\n",
       "  </tbody>\n",
       "</table>\n",
       "</div>"
      ],
      "text/plain": [
       "     Activation  HiddenLayers  LearningRate  MaxIter           MAE         R2\n",
       "3076       relu  (20, 20, 20)          0.05      400 -3.689813e+08  51.212330\n",
       "3077       relu  (20, 20, 20)          0.05      500 -3.689813e+08  51.212330\n",
       "3078       relu  (20, 20, 20)          0.05     1000 -3.689813e+08  51.212330\n",
       "3079       relu  (20, 20, 20)          0.05     2000 -3.689813e+08  51.212330\n",
       "3228       relu  (30, 30, 30)          0.05      200 -3.691538e+08  52.087038\n",
       "2770       relu      (20, 10)          0.05     1000 -3.704886e+08  51.521698\n",
       "2771       relu      (20, 10)          0.05     2000 -3.704886e+08  51.521698\n",
       "3064       relu  (20, 20, 20)          0.04      300 -3.714373e+08  51.347039\n",
       "2462       relu      (20, 20)          0.05     1000 -3.733497e+08  51.512774\n",
       "2463       relu      (20, 20)          0.05     2000 -3.733497e+08  51.512774\n",
       "3055       relu  (20, 20, 20)          0.03      500 -3.738445e+08  49.676733\n",
       "3056       relu  (20, 20, 20)          0.03     1000 -3.738445e+08  49.676733\n",
       "3057       relu  (20, 20, 20)          0.03     2000 -3.738445e+08  49.676733\n",
       "3054       relu  (20, 20, 20)          0.03      400 -3.743834e+08  49.852463\n",
       "3075       relu  (20, 20, 20)          0.05      300 -3.745626e+08  50.200739\n",
       "2440       relu      (20, 20)          0.03     1000 -3.747653e+08  50.678994\n",
       "2441       relu      (20, 20)          0.03     2000 -3.747653e+08  50.678994\n",
       "3067       relu  (20, 20, 20)          0.04     1000 -3.751113e+08  49.092088\n",
       "3066       relu  (20, 20, 20)          0.04      500 -3.751113e+08  49.092088\n",
       "3068       relu  (20, 20, 20)          0.04     2000 -3.751113e+08  49.092088"
      ]
     },
     "execution_count": 87,
     "metadata": {},
     "output_type": "execute_result"
    }
   ],
   "source": [
    "df.iloc[np.argsort(-df.MAE),].head(20)"
   ]
  },
  {
   "cell_type": "markdown",
   "metadata": {},
   "source": [
    "#### 2.4. Modelamiento variables Backward Stepwise\n",
    "Creamos un modelo de regresión MPLRegressor con tres capas de 30 neuronas cada una."
   ]
  },
  {
   "cell_type": "code",
   "execution_count": 88,
   "metadata": {},
   "outputs": [],
   "source": [
    "x_train_filtered = x_train[current_variables_backward]\n",
    "x_test_filtered = x_test[current_variables_backward]"
   ]
  },
  {
   "cell_type": "code",
   "execution_count": 89,
   "metadata": {},
   "outputs": [
    {
     "data": {
      "text/plain": [
       "MLPRegressor(activation='relu', alpha=0.0001, batch_size='auto', beta_1=0.9,\n",
       "             beta_2=0.999, early_stopping=False, epsilon=1e-08,\n",
       "             hidden_layer_sizes=(30, 30, 30), learning_rate='constant',\n",
       "             learning_rate_init=0.001, max_iter=200, momentum=0.9,\n",
       "             n_iter_no_change=10, nesterovs_momentum=True, power_t=0.5,\n",
       "             random_state=12345, shuffle=True, solver='adam', tol=0.0001,\n",
       "             validation_fraction=0.1, verbose=False, warm_start=False)"
      ]
     },
     "execution_count": 89,
     "metadata": {},
     "output_type": "execute_result"
    }
   ],
   "source": [
    "mlp = MLPRegressor(hidden_layer_sizes=(30,30,30), random_state=12345)\n",
    "mlp.fit(x_train_filtered,y_train)"
   ]
  },
  {
   "cell_type": "code",
   "execution_count": 90,
   "metadata": {},
   "outputs": [
    {
     "name": "stdout",
     "output_type": "stream",
     "text": [
      "MAE: 4131911.097811052 , R2: 0.17898267086096387\n"
     ]
    }
   ],
   "source": [
    "y_pred = mlp.predict(x_test_filtered)\n",
    "print(\"MAE:\", mean_absolute_error(y_test, y_pred), \", R2:\", r2_score(y_test, y_pred))"
   ]
  },
  {
   "cell_type": "markdown",
   "metadata": {},
   "source": [
    "Utilizando GridSearchCV, buscaremos la mejor combinación de parámetros para crear nuestra red neuronal."
   ]
  },
  {
   "cell_type": "code",
   "execution_count": 91,
   "metadata": {},
   "outputs": [],
   "source": [
    "activation_vec = ['logistic', 'relu', 'tanh']\n",
    "solver_vec = ['lbfgs', 'sgd', 'adam']\n",
    "max_iter_vec = [10, 20, 50, 75, 100, 200, 300, 400, 500, 1000, 2000]\n",
    "hidden_layer_sizes_vec = [(10,), (20,), (30,), (10, 10), (20, 20), (30, 30), (30,20),\n",
    "                          (20, 10), (10, 10, 10), (20, 20, 20), (30, 30, 30), (30, 20, 10)]\n",
    "learning_rate_init_vec = [0.001, 0.002, 0.003, 0.004, 0.005, 0.006, 0.007, 0.008, 0.009, 0.01, 0.02, 0.03, 0.04, 0.05]"
   ]
  },
  {
   "cell_type": "code",
   "execution_count": 92,
   "metadata": {},
   "outputs": [],
   "source": [
    "import time\n",
    "start = time.time() # Devuelve el tiempo actual en segundos desde el 1o de enero de 1970 (punto de referencia)\n",
    "\n",
    "np.random.seed(12345)\n",
    "parametros = {'activation': activation_vec,\n",
    "              'solver': solver_vec,\n",
    "              'max_iter':max_iter_vec,\n",
    "              'hidden_layer_sizes': hidden_layer_sizes_vec,\n",
    "              'learning_rate_init': learning_rate_init_vec\n",
    "              }\n",
    "\n",
    "scoring = {'mae':'neg_mean_absolute_error', 'r2':'r2'}\n",
    "grid = GridSearchCV(mlp, param_grid=parametros, cv=5, scoring=scoring, refit='mae', n_jobs=-1, iid=True)"
   ]
  },
  {
   "cell_type": "markdown",
   "metadata": {},
   "source": [
    "### <font color=\"red\"><b>DESDE AQUÍ: NO EJECUTAR DE NUEVO (+40 minutos)</b></font>"
   ]
  },
  {
   "cell_type": "code",
   "execution_count": 93,
   "metadata": {},
   "outputs": [
    {
     "name": "stdout",
     "output_type": "stream",
     "text": [
      "Los parámetros del mejor modelo fueron {'activation': 'relu', 'hidden_layer_sizes': (20, 20), 'learning_rate_init': 0.04, 'max_iter': 1000}, que permiten obtener un MAE de -3552242.99 y un R2 de 0.54\n",
      "Tiempo total: 55.85 minutos\n"
     ]
    }
   ],
   "source": [
    "grid.fit(x_train_filtered, y_train)\n",
    "\n",
    "print(\"Los parámetros del mejor modelo fueron {0}, que permiten obtener un MAE de {1:.2f} y un R2 de {2:.2f}\".format(\n",
    "    grid.best_params_, grid.best_score_, grid.cv_results_['mean_test_r2'][grid.best_index_]))\n",
    "end = time.time() # Tiempo después de finalizar el entrenamiento del modelo\n",
    "print(\"Tiempo total: {0:.2f} minutos\".format((end-start)/60))"
   ]
  },
  {
   "cell_type": "markdown",
   "metadata": {},
   "source": [
    "### <font color=\"red\"><b>HASTA ACÁ</b></font>"
   ]
  },
  {
   "cell_type": "code",
   "execution_count": 94,
   "metadata": {},
   "outputs": [],
   "source": [
    "df = pd.DataFrame([(mae*100, r2*100) for (mae, r2) in \n",
    "                   zip( \n",
    "                       grid.cv_results_['mean_test_mae'], \n",
    "                       grid.cv_results_['mean_test_r2'],\n",
    "                      )\n",
    "                   ], columns = ('MAE', 'R2'))"
   ]
  },
  {
   "cell_type": "code",
   "execution_count": 95,
   "metadata": {
    "scrolled": true
   },
   "outputs": [
    {
     "data": {
      "text/html": [
       "<div>\n",
       "<style scoped>\n",
       "    .dataframe tbody tr th:only-of-type {\n",
       "        vertical-align: middle;\n",
       "    }\n",
       "\n",
       "    .dataframe tbody tr th {\n",
       "        vertical-align: top;\n",
       "    }\n",
       "\n",
       "    .dataframe thead th {\n",
       "        text-align: right;\n",
       "    }\n",
       "</style>\n",
       "<table border=\"1\" class=\"dataframe\">\n",
       "  <thead>\n",
       "    <tr style=\"text-align: right;\">\n",
       "      <th></th>\n",
       "      <th>MAE</th>\n",
       "      <th>R2</th>\n",
       "    </tr>\n",
       "  </thead>\n",
       "  <tbody>\n",
       "    <tr>\n",
       "      <th>2451</th>\n",
       "      <td>-3.552243e+08</td>\n",
       "      <td>53.806515</td>\n",
       "    </tr>\n",
       "    <tr>\n",
       "      <th>2452</th>\n",
       "      <td>-3.552243e+08</td>\n",
       "      <td>53.806515</td>\n",
       "    </tr>\n",
       "    <tr>\n",
       "      <th>3177</th>\n",
       "      <td>-3.568950e+08</td>\n",
       "      <td>53.839365</td>\n",
       "    </tr>\n",
       "    <tr>\n",
       "      <th>3178</th>\n",
       "      <td>-3.568950e+08</td>\n",
       "      <td>53.839365</td>\n",
       "    </tr>\n",
       "    <tr>\n",
       "      <th>3188</th>\n",
       "      <td>-3.586196e+08</td>\n",
       "      <td>53.058709</td>\n",
       "    </tr>\n",
       "    <tr>\n",
       "      <th>3189</th>\n",
       "      <td>-3.586196e+08</td>\n",
       "      <td>53.058709</td>\n",
       "    </tr>\n",
       "    <tr>\n",
       "      <th>3057</th>\n",
       "      <td>-3.610488e+08</td>\n",
       "      <td>52.347418</td>\n",
       "    </tr>\n",
       "    <tr>\n",
       "      <th>3055</th>\n",
       "      <td>-3.610488e+08</td>\n",
       "      <td>52.347418</td>\n",
       "    </tr>\n",
       "    <tr>\n",
       "      <th>3056</th>\n",
       "      <td>-3.610488e+08</td>\n",
       "      <td>52.347418</td>\n",
       "    </tr>\n",
       "    <tr>\n",
       "      <th>3054</th>\n",
       "      <td>-3.613665e+08</td>\n",
       "      <td>52.784797</td>\n",
       "    </tr>\n",
       "    <tr>\n",
       "      <th>2913</th>\n",
       "      <td>-3.620569e+08</td>\n",
       "      <td>52.174841</td>\n",
       "    </tr>\n",
       "    <tr>\n",
       "      <th>2914</th>\n",
       "      <td>-3.620569e+08</td>\n",
       "      <td>52.174841</td>\n",
       "    </tr>\n",
       "    <tr>\n",
       "      <th>2616</th>\n",
       "      <td>-3.622971e+08</td>\n",
       "      <td>52.071091</td>\n",
       "    </tr>\n",
       "    <tr>\n",
       "      <th>2617</th>\n",
       "      <td>-3.622971e+08</td>\n",
       "      <td>52.071091</td>\n",
       "    </tr>\n",
       "    <tr>\n",
       "      <th>2309</th>\n",
       "      <td>-3.624932e+08</td>\n",
       "      <td>52.734343</td>\n",
       "    </tr>\n",
       "    <tr>\n",
       "      <th>2308</th>\n",
       "      <td>-3.624932e+08</td>\n",
       "      <td>52.734343</td>\n",
       "    </tr>\n",
       "    <tr>\n",
       "      <th>3075</th>\n",
       "      <td>-3.629909e+08</td>\n",
       "      <td>51.754443</td>\n",
       "    </tr>\n",
       "    <tr>\n",
       "      <th>3076</th>\n",
       "      <td>-3.633603e+08</td>\n",
       "      <td>50.546579</td>\n",
       "    </tr>\n",
       "    <tr>\n",
       "      <th>3077</th>\n",
       "      <td>-3.633603e+08</td>\n",
       "      <td>50.546579</td>\n",
       "    </tr>\n",
       "    <tr>\n",
       "      <th>3078</th>\n",
       "      <td>-3.633603e+08</td>\n",
       "      <td>50.546579</td>\n",
       "    </tr>\n",
       "    <tr>\n",
       "      <th>3079</th>\n",
       "      <td>-3.633603e+08</td>\n",
       "      <td>50.546579</td>\n",
       "    </tr>\n",
       "    <tr>\n",
       "      <th>2287</th>\n",
       "      <td>-3.640317e+08</td>\n",
       "      <td>52.435602</td>\n",
       "    </tr>\n",
       "    <tr>\n",
       "      <th>3045</th>\n",
       "      <td>-3.649638e+08</td>\n",
       "      <td>51.270063</td>\n",
       "    </tr>\n",
       "    <tr>\n",
       "      <th>3046</th>\n",
       "      <td>-3.649638e+08</td>\n",
       "      <td>51.270063</td>\n",
       "    </tr>\n",
       "    <tr>\n",
       "      <th>3064</th>\n",
       "      <td>-3.653421e+08</td>\n",
       "      <td>51.599822</td>\n",
       "    </tr>\n",
       "    <tr>\n",
       "      <th>3373</th>\n",
       "      <td>-3.653949e+08</td>\n",
       "      <td>52.095403</td>\n",
       "    </tr>\n",
       "    <tr>\n",
       "      <th>3044</th>\n",
       "      <td>-3.655571e+08</td>\n",
       "      <td>51.408149</td>\n",
       "    </tr>\n",
       "    <tr>\n",
       "      <th>2902</th>\n",
       "      <td>-3.659862e+08</td>\n",
       "      <td>52.784013</td>\n",
       "    </tr>\n",
       "    <tr>\n",
       "      <th>2903</th>\n",
       "      <td>-3.659862e+08</td>\n",
       "      <td>52.784013</td>\n",
       "    </tr>\n",
       "    <tr>\n",
       "      <th>3365</th>\n",
       "      <td>-3.659921e+08</td>\n",
       "      <td>51.662551</td>\n",
       "    </tr>\n",
       "    <tr>\n",
       "      <th>...</th>\n",
       "      <td>...</td>\n",
       "      <td>...</td>\n",
       "    </tr>\n",
       "    <tr>\n",
       "      <th>1563</th>\n",
       "      <td>-6.886547e+08</td>\n",
       "      <td>-85.807107</td>\n",
       "    </tr>\n",
       "    <tr>\n",
       "      <th>1595</th>\n",
       "      <td>-6.886547e+08</td>\n",
       "      <td>-85.807108</td>\n",
       "    </tr>\n",
       "    <tr>\n",
       "      <th>638</th>\n",
       "      <td>-6.886547e+08</td>\n",
       "      <td>-85.807109</td>\n",
       "    </tr>\n",
       "    <tr>\n",
       "      <th>4466</th>\n",
       "      <td>-6.886547e+08</td>\n",
       "      <td>-85.807109</td>\n",
       "    </tr>\n",
       "    <tr>\n",
       "      <th>1386</th>\n",
       "      <td>-6.886547e+08</td>\n",
       "      <td>-85.807110</td>\n",
       "    </tr>\n",
       "    <tr>\n",
       "      <th>1542</th>\n",
       "      <td>-6.886547e+08</td>\n",
       "      <td>-85.807111</td>\n",
       "    </tr>\n",
       "    <tr>\n",
       "      <th>1078</th>\n",
       "      <td>-6.886547e+08</td>\n",
       "      <td>-85.807111</td>\n",
       "    </tr>\n",
       "    <tr>\n",
       "      <th>1584</th>\n",
       "      <td>-6.886547e+08</td>\n",
       "      <td>-85.807112</td>\n",
       "    </tr>\n",
       "    <tr>\n",
       "      <th>462</th>\n",
       "      <td>-6.886547e+08</td>\n",
       "      <td>-85.807112</td>\n",
       "    </tr>\n",
       "    <tr>\n",
       "      <th>176</th>\n",
       "      <td>-6.886547e+08</td>\n",
       "      <td>-85.807115</td>\n",
       "    </tr>\n",
       "    <tr>\n",
       "      <th>1552</th>\n",
       "      <td>-6.886547e+08</td>\n",
       "      <td>-85.807116</td>\n",
       "    </tr>\n",
       "    <tr>\n",
       "      <th>1573</th>\n",
       "      <td>-6.886547e+08</td>\n",
       "      <td>-85.807116</td>\n",
       "    </tr>\n",
       "    <tr>\n",
       "      <th>617</th>\n",
       "      <td>-6.886547e+08</td>\n",
       "      <td>-85.807117</td>\n",
       "    </tr>\n",
       "    <tr>\n",
       "      <th>627</th>\n",
       "      <td>-6.886547e+08</td>\n",
       "      <td>-85.807118</td>\n",
       "    </tr>\n",
       "    <tr>\n",
       "      <th>1562</th>\n",
       "      <td>-6.886547e+08</td>\n",
       "      <td>-85.807122</td>\n",
       "    </tr>\n",
       "    <tr>\n",
       "      <th>770</th>\n",
       "      <td>-6.886547e+08</td>\n",
       "      <td>-85.807122</td>\n",
       "    </tr>\n",
       "    <tr>\n",
       "      <th>3553</th>\n",
       "      <td>-6.886547e+08</td>\n",
       "      <td>-85.807121</td>\n",
       "    </tr>\n",
       "    <tr>\n",
       "      <th>3543</th>\n",
       "      <td>-6.886547e+08</td>\n",
       "      <td>-85.807122</td>\n",
       "    </tr>\n",
       "    <tr>\n",
       "      <th>155</th>\n",
       "      <td>-6.886547e+08</td>\n",
       "      <td>-85.807123</td>\n",
       "    </tr>\n",
       "    <tr>\n",
       "      <th>165</th>\n",
       "      <td>-6.886547e+08</td>\n",
       "      <td>-85.807123</td>\n",
       "    </tr>\n",
       "    <tr>\n",
       "      <th>1541</th>\n",
       "      <td>-6.886548e+08</td>\n",
       "      <td>-85.807128</td>\n",
       "    </tr>\n",
       "    <tr>\n",
       "      <th>1551</th>\n",
       "      <td>-6.886548e+08</td>\n",
       "      <td>-85.807128</td>\n",
       "    </tr>\n",
       "    <tr>\n",
       "      <th>616</th>\n",
       "      <td>-6.886548e+08</td>\n",
       "      <td>-85.807128</td>\n",
       "    </tr>\n",
       "    <tr>\n",
       "      <th>3542</th>\n",
       "      <td>-6.886548e+08</td>\n",
       "      <td>-85.807133</td>\n",
       "    </tr>\n",
       "    <tr>\n",
       "      <th>1540</th>\n",
       "      <td>-6.886548e+08</td>\n",
       "      <td>-85.807134</td>\n",
       "    </tr>\n",
       "    <tr>\n",
       "      <th>154</th>\n",
       "      <td>-6.886548e+08</td>\n",
       "      <td>-85.807136</td>\n",
       "    </tr>\n",
       "    <tr>\n",
       "      <th>3696</th>\n",
       "      <td>-6.886548e+08</td>\n",
       "      <td>-85.807137</td>\n",
       "    </tr>\n",
       "    <tr>\n",
       "      <th>3245</th>\n",
       "      <td>-6.886555e+08</td>\n",
       "      <td>-85.807409</td>\n",
       "    </tr>\n",
       "    <tr>\n",
       "      <th>1848</th>\n",
       "      <td>-6.886647e+08</td>\n",
       "      <td>-85.810416</td>\n",
       "    </tr>\n",
       "    <tr>\n",
       "      <th>3234</th>\n",
       "      <td>-6.886692e+08</td>\n",
       "      <td>-85.811979</td>\n",
       "    </tr>\n",
       "  </tbody>\n",
       "</table>\n",
       "<p>5082 rows × 2 columns</p>\n",
       "</div>"
      ],
      "text/plain": [
       "               MAE         R2\n",
       "2451 -3.552243e+08  53.806515\n",
       "2452 -3.552243e+08  53.806515\n",
       "3177 -3.568950e+08  53.839365\n",
       "3178 -3.568950e+08  53.839365\n",
       "3188 -3.586196e+08  53.058709\n",
       "3189 -3.586196e+08  53.058709\n",
       "3057 -3.610488e+08  52.347418\n",
       "3055 -3.610488e+08  52.347418\n",
       "3056 -3.610488e+08  52.347418\n",
       "3054 -3.613665e+08  52.784797\n",
       "2913 -3.620569e+08  52.174841\n",
       "2914 -3.620569e+08  52.174841\n",
       "2616 -3.622971e+08  52.071091\n",
       "2617 -3.622971e+08  52.071091\n",
       "2309 -3.624932e+08  52.734343\n",
       "2308 -3.624932e+08  52.734343\n",
       "3075 -3.629909e+08  51.754443\n",
       "3076 -3.633603e+08  50.546579\n",
       "3077 -3.633603e+08  50.546579\n",
       "3078 -3.633603e+08  50.546579\n",
       "3079 -3.633603e+08  50.546579\n",
       "2287 -3.640317e+08  52.435602\n",
       "3045 -3.649638e+08  51.270063\n",
       "3046 -3.649638e+08  51.270063\n",
       "3064 -3.653421e+08  51.599822\n",
       "3373 -3.653949e+08  52.095403\n",
       "3044 -3.655571e+08  51.408149\n",
       "2902 -3.659862e+08  52.784013\n",
       "2903 -3.659862e+08  52.784013\n",
       "3365 -3.659921e+08  51.662551\n",
       "...            ...        ...\n",
       "1563 -6.886547e+08 -85.807107\n",
       "1595 -6.886547e+08 -85.807108\n",
       "638  -6.886547e+08 -85.807109\n",
       "4466 -6.886547e+08 -85.807109\n",
       "1386 -6.886547e+08 -85.807110\n",
       "1542 -6.886547e+08 -85.807111\n",
       "1078 -6.886547e+08 -85.807111\n",
       "1584 -6.886547e+08 -85.807112\n",
       "462  -6.886547e+08 -85.807112\n",
       "176  -6.886547e+08 -85.807115\n",
       "1552 -6.886547e+08 -85.807116\n",
       "1573 -6.886547e+08 -85.807116\n",
       "617  -6.886547e+08 -85.807117\n",
       "627  -6.886547e+08 -85.807118\n",
       "1562 -6.886547e+08 -85.807122\n",
       "770  -6.886547e+08 -85.807122\n",
       "3553 -6.886547e+08 -85.807121\n",
       "3543 -6.886547e+08 -85.807122\n",
       "155  -6.886547e+08 -85.807123\n",
       "165  -6.886547e+08 -85.807123\n",
       "1541 -6.886548e+08 -85.807128\n",
       "1551 -6.886548e+08 -85.807128\n",
       "616  -6.886548e+08 -85.807128\n",
       "3542 -6.886548e+08 -85.807133\n",
       "1540 -6.886548e+08 -85.807134\n",
       "154  -6.886548e+08 -85.807136\n",
       "3696 -6.886548e+08 -85.807137\n",
       "3245 -6.886555e+08 -85.807409\n",
       "1848 -6.886647e+08 -85.810416\n",
       "3234 -6.886692e+08 -85.811979\n",
       "\n",
       "[5082 rows x 2 columns]"
      ]
     },
     "execution_count": 95,
     "metadata": {},
     "output_type": "execute_result"
    }
   ],
   "source": [
    "df.iloc[np.argsort(-df.MAE),]"
   ]
  },
  {
   "cell_type": "code",
   "execution_count": 96,
   "metadata": {},
   "outputs": [
    {
     "data": {
      "text/plain": [
       "dict_keys(['mean_fit_time', 'std_fit_time', 'mean_score_time', 'std_score_time', 'param_activation', 'param_hidden_layer_sizes', 'param_learning_rate_init', 'param_max_iter', 'params', 'split0_test_mae', 'split1_test_mae', 'split2_test_mae', 'split3_test_mae', 'split4_test_mae', 'mean_test_mae', 'std_test_mae', 'rank_test_mae', 'split0_test_r2', 'split1_test_r2', 'split2_test_r2', 'split3_test_r2', 'split4_test_r2', 'mean_test_r2', 'std_test_r2', 'rank_test_r2'])"
      ]
     },
     "execution_count": 96,
     "metadata": {},
     "output_type": "execute_result"
    }
   ],
   "source": [
    "grid.cv_results_.keys()"
   ]
  },
  {
   "cell_type": "code",
   "execution_count": 97,
   "metadata": {},
   "outputs": [
    {
     "name": "stdout",
     "output_type": "stream",
     "text": [
      "MAE: 3990082.435469344 , R2: 0.42986986464720567 \n",
      "\n",
      "R2 adj: 0.3021\n"
     ]
    }
   ],
   "source": [
    "y_pred = grid.best_estimator_.predict(x_test_filtered)\n",
    "print(\"MAE:\", mean_absolute_error(y_test, y_pred), \", R2:\", r2_score(y_test, y_pred), \"\\n\")\n",
    "\n",
    "r2_aj = 1 - (1-r2_score(y_test, y_pred))*(len(y_test)-1) / (len(y_test) - x_test.shape[1] - 1)\n",
    "print('R2 adj: %.4f' %r2_aj)"
   ]
  },
  {
   "cell_type": "code",
   "execution_count": 98,
   "metadata": {},
   "outputs": [],
   "source": [
    "df = pd.DataFrame([(act, hidden_layers, lr, max_iter, acc*100, kappa*100) for (act, hidden_layers, lr, max_iter, acc, kappa) in \n",
    "                   zip(\n",
    "                       grid.cv_results_['param_activation'], \n",
    "                       grid.cv_results_['param_hidden_layer_sizes'], \n",
    "                       grid.cv_results_['param_learning_rate_init'], \n",
    "                       grid.cv_results_['param_max_iter'], \n",
    "                       grid.cv_results_['mean_test_mae'], \n",
    "                       grid.cv_results_['mean_test_r2'],\n",
    "                      )\n",
    "                   ], columns = ('Activation', 'HiddenLayers', 'LearningRate', 'MaxIter', 'MAE', 'R2'))"
   ]
  },
  {
   "cell_type": "code",
   "execution_count": 99,
   "metadata": {
    "scrolled": false
   },
   "outputs": [
    {
     "data": {
      "text/html": [
       "<div>\n",
       "<style scoped>\n",
       "    .dataframe tbody tr th:only-of-type {\n",
       "        vertical-align: middle;\n",
       "    }\n",
       "\n",
       "    .dataframe tbody tr th {\n",
       "        vertical-align: top;\n",
       "    }\n",
       "\n",
       "    .dataframe thead th {\n",
       "        text-align: right;\n",
       "    }\n",
       "</style>\n",
       "<table border=\"1\" class=\"dataframe\">\n",
       "  <thead>\n",
       "    <tr style=\"text-align: right;\">\n",
       "      <th></th>\n",
       "      <th>Activation</th>\n",
       "      <th>HiddenLayers</th>\n",
       "      <th>LearningRate</th>\n",
       "      <th>MaxIter</th>\n",
       "      <th>MAE</th>\n",
       "      <th>R2</th>\n",
       "    </tr>\n",
       "  </thead>\n",
       "  <tbody>\n",
       "    <tr>\n",
       "      <th>2451</th>\n",
       "      <td>relu</td>\n",
       "      <td>(20, 20)</td>\n",
       "      <td>0.040</td>\n",
       "      <td>1000</td>\n",
       "      <td>-3.552243e+08</td>\n",
       "      <td>53.806515</td>\n",
       "    </tr>\n",
       "    <tr>\n",
       "      <th>2452</th>\n",
       "      <td>relu</td>\n",
       "      <td>(20, 20)</td>\n",
       "      <td>0.040</td>\n",
       "      <td>2000</td>\n",
       "      <td>-3.552243e+08</td>\n",
       "      <td>53.806515</td>\n",
       "    </tr>\n",
       "    <tr>\n",
       "      <th>3177</th>\n",
       "      <td>relu</td>\n",
       "      <td>(30, 30, 30)</td>\n",
       "      <td>0.009</td>\n",
       "      <td>1000</td>\n",
       "      <td>-3.568950e+08</td>\n",
       "      <td>53.839365</td>\n",
       "    </tr>\n",
       "    <tr>\n",
       "      <th>3178</th>\n",
       "      <td>relu</td>\n",
       "      <td>(30, 30, 30)</td>\n",
       "      <td>0.009</td>\n",
       "      <td>2000</td>\n",
       "      <td>-3.568950e+08</td>\n",
       "      <td>53.839365</td>\n",
       "    </tr>\n",
       "    <tr>\n",
       "      <th>3188</th>\n",
       "      <td>relu</td>\n",
       "      <td>(30, 30, 30)</td>\n",
       "      <td>0.010</td>\n",
       "      <td>1000</td>\n",
       "      <td>-3.586196e+08</td>\n",
       "      <td>53.058709</td>\n",
       "    </tr>\n",
       "    <tr>\n",
       "      <th>3189</th>\n",
       "      <td>relu</td>\n",
       "      <td>(30, 30, 30)</td>\n",
       "      <td>0.010</td>\n",
       "      <td>2000</td>\n",
       "      <td>-3.586196e+08</td>\n",
       "      <td>53.058709</td>\n",
       "    </tr>\n",
       "    <tr>\n",
       "      <th>3057</th>\n",
       "      <td>relu</td>\n",
       "      <td>(20, 20, 20)</td>\n",
       "      <td>0.030</td>\n",
       "      <td>2000</td>\n",
       "      <td>-3.610488e+08</td>\n",
       "      <td>52.347418</td>\n",
       "    </tr>\n",
       "    <tr>\n",
       "      <th>3055</th>\n",
       "      <td>relu</td>\n",
       "      <td>(20, 20, 20)</td>\n",
       "      <td>0.030</td>\n",
       "      <td>500</td>\n",
       "      <td>-3.610488e+08</td>\n",
       "      <td>52.347418</td>\n",
       "    </tr>\n",
       "    <tr>\n",
       "      <th>3056</th>\n",
       "      <td>relu</td>\n",
       "      <td>(20, 20, 20)</td>\n",
       "      <td>0.030</td>\n",
       "      <td>1000</td>\n",
       "      <td>-3.610488e+08</td>\n",
       "      <td>52.347418</td>\n",
       "    </tr>\n",
       "    <tr>\n",
       "      <th>3054</th>\n",
       "      <td>relu</td>\n",
       "      <td>(20, 20, 20)</td>\n",
       "      <td>0.030</td>\n",
       "      <td>400</td>\n",
       "      <td>-3.613665e+08</td>\n",
       "      <td>52.784797</td>\n",
       "    </tr>\n",
       "    <tr>\n",
       "      <th>2913</th>\n",
       "      <td>relu</td>\n",
       "      <td>(10, 10, 10)</td>\n",
       "      <td>0.040</td>\n",
       "      <td>1000</td>\n",
       "      <td>-3.620569e+08</td>\n",
       "      <td>52.174841</td>\n",
       "    </tr>\n",
       "    <tr>\n",
       "      <th>2914</th>\n",
       "      <td>relu</td>\n",
       "      <td>(10, 10, 10)</td>\n",
       "      <td>0.040</td>\n",
       "      <td>2000</td>\n",
       "      <td>-3.620569e+08</td>\n",
       "      <td>52.174841</td>\n",
       "    </tr>\n",
       "    <tr>\n",
       "      <th>2616</th>\n",
       "      <td>relu</td>\n",
       "      <td>(30, 30)</td>\n",
       "      <td>0.050</td>\n",
       "      <td>1000</td>\n",
       "      <td>-3.622971e+08</td>\n",
       "      <td>52.071091</td>\n",
       "    </tr>\n",
       "    <tr>\n",
       "      <th>2617</th>\n",
       "      <td>relu</td>\n",
       "      <td>(30, 30)</td>\n",
       "      <td>0.050</td>\n",
       "      <td>2000</td>\n",
       "      <td>-3.622971e+08</td>\n",
       "      <td>52.071091</td>\n",
       "    </tr>\n",
       "    <tr>\n",
       "      <th>2309</th>\n",
       "      <td>relu</td>\n",
       "      <td>(10, 10)</td>\n",
       "      <td>0.050</td>\n",
       "      <td>2000</td>\n",
       "      <td>-3.624932e+08</td>\n",
       "      <td>52.734343</td>\n",
       "    </tr>\n",
       "    <tr>\n",
       "      <th>2308</th>\n",
       "      <td>relu</td>\n",
       "      <td>(10, 10)</td>\n",
       "      <td>0.050</td>\n",
       "      <td>1000</td>\n",
       "      <td>-3.624932e+08</td>\n",
       "      <td>52.734343</td>\n",
       "    </tr>\n",
       "    <tr>\n",
       "      <th>3075</th>\n",
       "      <td>relu</td>\n",
       "      <td>(20, 20, 20)</td>\n",
       "      <td>0.050</td>\n",
       "      <td>300</td>\n",
       "      <td>-3.629909e+08</td>\n",
       "      <td>51.754443</td>\n",
       "    </tr>\n",
       "    <tr>\n",
       "      <th>3076</th>\n",
       "      <td>relu</td>\n",
       "      <td>(20, 20, 20)</td>\n",
       "      <td>0.050</td>\n",
       "      <td>400</td>\n",
       "      <td>-3.633603e+08</td>\n",
       "      <td>50.546579</td>\n",
       "    </tr>\n",
       "    <tr>\n",
       "      <th>3077</th>\n",
       "      <td>relu</td>\n",
       "      <td>(20, 20, 20)</td>\n",
       "      <td>0.050</td>\n",
       "      <td>500</td>\n",
       "      <td>-3.633603e+08</td>\n",
       "      <td>50.546579</td>\n",
       "    </tr>\n",
       "    <tr>\n",
       "      <th>3078</th>\n",
       "      <td>relu</td>\n",
       "      <td>(20, 20, 20)</td>\n",
       "      <td>0.050</td>\n",
       "      <td>1000</td>\n",
       "      <td>-3.633603e+08</td>\n",
       "      <td>50.546579</td>\n",
       "    </tr>\n",
       "  </tbody>\n",
       "</table>\n",
       "</div>"
      ],
      "text/plain": [
       "     Activation  HiddenLayers  LearningRate  MaxIter           MAE         R2\n",
       "2451       relu      (20, 20)         0.040     1000 -3.552243e+08  53.806515\n",
       "2452       relu      (20, 20)         0.040     2000 -3.552243e+08  53.806515\n",
       "3177       relu  (30, 30, 30)         0.009     1000 -3.568950e+08  53.839365\n",
       "3178       relu  (30, 30, 30)         0.009     2000 -3.568950e+08  53.839365\n",
       "3188       relu  (30, 30, 30)         0.010     1000 -3.586196e+08  53.058709\n",
       "3189       relu  (30, 30, 30)         0.010     2000 -3.586196e+08  53.058709\n",
       "3057       relu  (20, 20, 20)         0.030     2000 -3.610488e+08  52.347418\n",
       "3055       relu  (20, 20, 20)         0.030      500 -3.610488e+08  52.347418\n",
       "3056       relu  (20, 20, 20)         0.030     1000 -3.610488e+08  52.347418\n",
       "3054       relu  (20, 20, 20)         0.030      400 -3.613665e+08  52.784797\n",
       "2913       relu  (10, 10, 10)         0.040     1000 -3.620569e+08  52.174841\n",
       "2914       relu  (10, 10, 10)         0.040     2000 -3.620569e+08  52.174841\n",
       "2616       relu      (30, 30)         0.050     1000 -3.622971e+08  52.071091\n",
       "2617       relu      (30, 30)         0.050     2000 -3.622971e+08  52.071091\n",
       "2309       relu      (10, 10)         0.050     2000 -3.624932e+08  52.734343\n",
       "2308       relu      (10, 10)         0.050     1000 -3.624932e+08  52.734343\n",
       "3075       relu  (20, 20, 20)         0.050      300 -3.629909e+08  51.754443\n",
       "3076       relu  (20, 20, 20)         0.050      400 -3.633603e+08  50.546579\n",
       "3077       relu  (20, 20, 20)         0.050      500 -3.633603e+08  50.546579\n",
       "3078       relu  (20, 20, 20)         0.050     1000 -3.633603e+08  50.546579"
      ]
     },
     "execution_count": 99,
     "metadata": {},
     "output_type": "execute_result"
    }
   ],
   "source": [
    "df.iloc[np.argsort(-df.MAE),].head(20)"
   ]
  },
  {
   "cell_type": "markdown",
   "metadata": {},
   "source": [
    "Dado que los modelos tienen diferente número de predictores, se compararán mediante el R2 ajustado.\n",
    "\n",
    "En el primer caso, donde se usaron todas las variables independientes, el R2 ajustado fue de:\n",
    "\n",
    "* R2 adj: 0.3981\n",
    "\n",
    "En el segundo caso, donde se filtraron las variables predictoras por forward stepwise, el R2 ajustado fue de:\n",
    "\n",
    "* R2 adj: 0.3636\n",
    "\n",
    "En el tercer caso, donde se filtraron las variables predictoras por backward stepwise, el R2 ajustado fue de:\n",
    "\n",
    "* R2 adj: 0.3194\n",
    "\n",
    "Se puede observar que en el primer caso se obtuvieron las mejores métricas, y por lo tanto, las mejores predicciones del modelo."
   ]
  },
  {
   "cell_type": "markdown",
   "metadata": {},
   "source": [
    "### 3. K-Nearest Neighbors"
   ]
  },
  {
   "cell_type": "code",
   "execution_count": 130,
   "metadata": {},
   "outputs": [],
   "source": [
    "from sklearn import datasets, metrics\n",
    "from sklearn.neighbors import KNeighborsRegressor"
   ]
  },
  {
   "cell_type": "markdown",
   "metadata": {},
   "source": [
    "#### 3.0. Protocolo de evaluación"
   ]
  },
  {
   "cell_type": "code",
   "execution_count": 131,
   "metadata": {},
   "outputs": [],
   "source": [
    "x_train, x_test, y_train, y_test = train_test_split(x, y, test_size=0.3, random_state=12345)"
   ]
  },
  {
   "cell_type": "code",
   "execution_count": 132,
   "metadata": {
    "scrolled": true
   },
   "outputs": [
    {
     "data": {
      "text/plain": [
       "array([ 1,  3,  5,  7,  9, 11, 13, 15, 17, 19, 21, 23, 25, 27, 29, 31])"
      ]
     },
     "execution_count": 132,
     "metadata": {},
     "output_type": "execute_result"
    }
   ],
   "source": [
    "k_vec= np.arange(1,32,2)\n",
    "k_vec"
   ]
  },
  {
   "cell_type": "markdown",
   "metadata": {},
   "source": [
    "#### 3.1. Predicción con todas las variables"
   ]
  },
  {
   "cell_type": "code",
   "execution_count": 133,
   "metadata": {
    "scrolled": true
   },
   "outputs": [
    {
     "name": "stdout",
     "output_type": "stream",
     "text": [
      "[+] K: 1 MAE: 5546714.916083916 R2: -0.36192858068326883 R2adj: -0.6389310038730862\n",
      "[+] K: 3 MAE: 4562287.032634033 R2: 0.17238144971323688 R2adj: 0.004052253044742771\n",
      "[+] K: 5 MAE: 4339023.054545454 R2: 0.2872032282975413 R2adj: 0.1422276137139904\n",
      "[+] K: 7 MAE: 4507245.08991009 R2: 0.2694776822591587 R2adj: 0.12089687187119103\n",
      "[+] K: 9 MAE: 4466633.56954157 R2: 0.28553860378082196 R2adj: 0.1402244214989552\n",
      "[+] K: 11 MAE: 4398757.532739988 R2: 0.3040918577967099 R2adj: 0.1625512187045154\n",
      "[+] K: 13 MAE: 4571964.219472835 R2: 0.27543975115326047 R2adj: 0.128071564947144\n",
      "[+] K: 15 MAE: 4593158.663869464 R2: 0.27254603971210456 R2adj: 0.12458930202643093\n",
      "[+] K: 17 MAE: 4607615.199095023 R2: 0.26713686184734664 R2adj: 0.11807995239256974\n",
      "[+] K: 19 MAE: 4611058.952521162 R2: 0.2713441040256682 R2adj: 0.12314290484444823\n",
      "[+] K: 21 MAE: 4589483.264402265 R2: 0.2757896970470197 R2adj: 0.12849268627692212\n",
      "[+] K: 23 MAE: 4497647.758285193 R2: 0.3023967484181197 R2adj: 0.1605113413167203\n",
      "[+] K: 25 MAE: 4528586.119160839 R2: 0.29623701244307654 R2adj: 0.1530987776857361\n",
      "[+] K: 27 MAE: 4533078.714322714 R2: 0.28619048735195196 R2adj: 0.14100889155912866\n",
      "[+] K: 29 MAE: 4557307.681456475 R2: 0.29236292071583514 R2adj: 0.1484367350987169\n",
      "[+] K: 31 MAE: 4551258.086623054 R2: 0.2888716182362172 R2adj: 0.14423533719951565\n"
     ]
    }
   ],
   "source": [
    "mae_train_vec=[]\n",
    "mae_test_vec=[]\n",
    "r2_train_vec=[]\n",
    "r2_test_vec=[]\n",
    "y_pred_test_vec=[]\n",
    "y_pred_train_vec=[]\n",
    "\n",
    "for k in k_vec:\n",
    "    knn = KNeighborsRegressor(n_neighbors=k)\n",
    "    knn.fit(x_train, y_train)\n",
    "    y_pred = knn.predict(x_train)\n",
    "    y_pred_train_vec.append(y_pred)\n",
    "    mae_train_vec.append(mean_absolute_error(y_train, y_pred))\n",
    "    r2_train_vec.append(r2_score(y_train, y_pred))\n",
    "    y_pred = knn.predict(x_test)\n",
    "    y_pred_test_vec.append(y_pred)\n",
    "    mae_test_vec.append(mean_absolute_error(y_test, y_pred))\n",
    "    r2_test_vec.append(r2_score(y_test, y_pred))\n",
    "    r2_aj = 1 - (1-r2_score(y_test, y_pred))*(len(y_test)-1) / (len(y_test) - x_test.shape[1] - 1)\n",
    "    \n",
    "    print('[+] K:',k, 'MAE:', mean_absolute_error(y_test, y_pred), 'R2:', r2_score(y_test, y_pred), 'R2adj:', r2_aj)\n"
   ]
  },
  {
   "cell_type": "code",
   "execution_count": 135,
   "metadata": {},
   "outputs": [
    {
     "name": "stdout",
     "output_type": "stream",
     "text": [
      "Best K MAE (train): [1]\n",
      "Best K R2 (train): [1]\n",
      "Best K MAE(test): [5] , value: 4339023.054545454\n",
      "Best K R2 (test): [11] , value: 0.3040918577967099\n",
      "Best K R2 adj (test): 0.1626\n"
     ]
    }
   ],
   "source": [
    "mae_train_best = k_vec[np.where(mae_train_vec == np.amin(mae_train_vec))[0]]\n",
    "r2_train_best = k_vec[np.where(r2_train_vec == np.amax(r2_train_vec))[0]]\n",
    "mae_test_best = k_vec[np.where(mae_test_vec == np.amin(mae_test_vec))[0]]\n",
    "r2_test_best = k_vec[np.where(r2_test_vec == np.amax(r2_test_vec))[0]]\n",
    "print(\"Best K MAE (train):\",mae_train_best)\n",
    "print(\"Best K R2 (train):\",r2_train_best)\n",
    "print(\"Best K MAE(test):\",mae_test_best,\", value:\",np.amin(mae_test_vec))\n",
    "print(\"Best K R2 (test):\",r2_test_best,\", value:\",np.amax(r2_test_vec))\n",
    "\n",
    "best_k_y_pred = y_pred_test_vec[(np.where(r2_test_vec == np.amax(r2_test_vec))[0])[0]]\n",
    "\n",
    "r2_aj = 1 - (1-r2_score(y_test, best_k_y_pred))*(len(y_test)-1) / (len(y_test) - x_test.shape[1] - 1)\n",
    "\n",
    "print('Best K R2 adj (test): %.4f'%r2_aj)"
   ]
  },
  {
   "cell_type": "code",
   "execution_count": 136,
   "metadata": {},
   "outputs": [
    {
     "data": {
      "text/plain": [
       "<matplotlib.legend.Legend at 0x1e448d48630>"
      ]
     },
     "execution_count": 136,
     "metadata": {},
     "output_type": "execute_result"
    },
    {
     "data": {
      "image/png": "[encoded data removed]",
      "text/plain": [
       "<Figure size 720x360 with 1 Axes>"
      ]
     },
     "metadata": {
      "needs_background": "light"
     },
     "output_type": "display_data"
    }
   ],
   "source": [
    "plt.figure(figsize=(10,5))\n",
    "ax = plt.gca() # get current axis\n",
    "plt.plot(k_vec, mae_train_vec)\n",
    "plt.plot(k_vec, mae_test_vec)\n",
    "ax.set_xlim(ax.get_xlim()[::-1])  # reverse axis\n",
    "plt.axis('tight')\n",
    "plt.xlabel('k')\n",
    "plt.ylabel('Error Absoluto Medio')\n",
    "plt.title('Evolución del MAE vs complejidad del modelo k-nn (valor de k más pequeño)')\n",
    "plt.legend(['train', 'test'])"
   ]
  },
  {
   "cell_type": "code",
   "execution_count": 137,
   "metadata": {
    "scrolled": false
   },
   "outputs": [
    {
     "data": {
      "text/plain": [
       "<matplotlib.legend.Legend at 0x1e44178ca58>"
      ]
     },
     "execution_count": 137,
     "metadata": {},
     "output_type": "execute_result"
    },
    {
     "data": {
      "image/png": "[encoded data removed]",
      "text/plain": [
       "<Figure size 720x360 with 1 Axes>"
      ]
     },
     "metadata": {
      "needs_background": "light"
     },
     "output_type": "display_data"
    }
   ],
   "source": [
    "plt.figure(figsize=(10,5))\n",
    "ax = plt.gca() # get current axis\n",
    "plt.plot(k_vec, r2_train_vec)\n",
    "plt.plot(k_vec, r2_test_vec)\n",
    "ax.set_xlim(ax.get_xlim()[::-1])  # reverse axis\n",
    "plt.axis('tight')\n",
    "plt.xlabel('k')\n",
    "plt.ylabel('Coeficiente de Determinación')\n",
    "plt.title('Evolución del R2 vs complejidad del modelo k-nn (valor de k más pequeño)')\n",
    "plt.legend(['train', 'test'])"
   ]
  },
  {
   "cell_type": "markdown",
   "metadata": {},
   "source": [
    "#### 3.2. Predicción con variables Forward Stepwise"
   ]
  },
  {
   "cell_type": "code",
   "execution_count": 138,
   "metadata": {},
   "outputs": [],
   "source": [
    "x_train_filtered = x_train[current_variables_forward]\n",
    "x_test_filtered = x_test[current_variables_forward]"
   ]
  },
  {
   "cell_type": "code",
   "execution_count": 139,
   "metadata": {
    "scrolled": true
   },
   "outputs": [
    {
     "name": "stdout",
     "output_type": "stream",
     "text": [
      "[+] K: 1 \tMAE: 5207393.979020979 \tR2: -0.24892002625004284 \t\tR2adj: -0.5029376587076788\n",
      "[+] K: 3 \tMAE: 4721191.575757576 \tR2: 0.09633017018867507 \t\tR2adj: -0.0874670833322726\n",
      "[+] K: 5 \tMAE: 4456416.66993007 \tR2: 0.2625669119405709 \t\tR2adj: 0.11258052114882267\n",
      "[+] K: 7 \tMAE: 4444663.63036963 \tR2: 0.2809944890861894 \t\tR2adj: 0.1347560800867702\n",
      "[+] K: 9 \tMAE: 4492940.041958042 \tR2: 0.28008252450955384 \t\tR2adj: 0.13365863118946308\n",
      "[+] K: 11 \tMAE: 4448313.387158295 \tR2: 0.29475150800252714 \t\tR2adj: 0.1513111367488038\n",
      "[+] K: 13 \tMAE: 4561382.992469069 \tR2: 0.28547386085921367 \t\tR2adj: 0.14014651052549443\n",
      "[+] K: 15 \tMAE: 4593828.025174825 \tR2: 0.27588228942925985 \t\tR2adj: 0.12860411100809244\n",
      "[+] K: 17 \tMAE: 4587131.528177705 \tR2: 0.27321522609998916 \t\tR2adj: 0.12539459412032594\n",
      "[+] K: 19 \tMAE: 4621796.016194331 \tR2: 0.2718372972152454 \t\tR2adj: 0.1237364085132614\n",
      "[+] K: 21 \tMAE: 4577314.418581419 \tR2: 0.27651791914264867 \t\tR2adj: 0.12936902134115347\n",
      "[+] K: 23 \tMAE: 4512111.503496503 \tR2: 0.3005069174192918 \t\tR2adj: 0.1582371379113512\n",
      "[+] K: 25 \tMAE: 4534858.013146854 \tR2: 0.29477176372388514 \t\tR2adj: 0.15133551227789566\n",
      "[+] K: 27 \tMAE: 4538498.620564621 \tR2: 0.2868210085299685 \t\tR2adj: 0.1417676543326739\n",
      "[+] K: 29 \tMAE: 4558056.387026767 \tR2: 0.29199451669201404 \t\tR2adj: 0.14799340144293216\n",
      "[+] K: 31 \tMAE: 4541313.740807579 \tR2: 0.2910553042919882 \t\tR2adj: 0.14686316279205358\n"
     ]
    }
   ],
   "source": [
    "mae_train_vec=[]\n",
    "mae_test_vec=[]\n",
    "r2_train_vec=[]\n",
    "r2_test_vec=[]\n",
    "y_pred_test_vec=[]\n",
    "y_pred_train_vec=[]\n",
    "\n",
    "for k in k_vec:\n",
    "    knn = KNeighborsRegressor(n_neighbors=k)\n",
    "    knn.fit(x_train_filtered, y_train)\n",
    "    y_pred = knn.predict(x_train_filtered)\n",
    "    y_pred_train_vec.append(y_pred)\n",
    "    mae_train_vec.append(mean_absolute_error(y_train, y_pred))\n",
    "    r2_train_vec.append(r2_score(y_train, y_pred))\n",
    "    y_pred = knn.predict(x_test_filtered)\n",
    "    y_pred_test_vec.append(y_pred)\n",
    "    mae_test_vec.append(mean_absolute_error(y_test, y_pred))\n",
    "    r2_test_vec.append(r2_score(y_test, y_pred))\n",
    "    r2_aj = 1 - (1-r2_score(y_test, y_pred))*(len(y_test)-1) / (len(y_test) - x_test.shape[1] - 1)\n",
    "    \n",
    "    print('[+] K:',k, '\\tMAE:', mean_absolute_error(y_test, y_pred), '\\tR2:', r2_score(y_test, y_pred), '\\t\\tR2adj:', r2_aj)\n"
   ]
  },
  {
   "cell_type": "code",
   "execution_count": 141,
   "metadata": {},
   "outputs": [
    {
     "name": "stdout",
     "output_type": "stream",
     "text": [
      "Best K MAE (train): [1]\n",
      "Best K R2 (train): [1]\n",
      "Best K MAE(test): [7] , value: 4444663.63036963\n",
      "Best K R2 (test): [23] , value: 0.3005069174192918\n",
      "Best K R2 adj (test): 0.1582\n"
     ]
    }
   ],
   "source": [
    "mae_train_best = k_vec[np.where(mae_train_vec == np.amin(mae_train_vec))[0]]\n",
    "r2_train_best = k_vec[np.where(r2_train_vec == np.amax(r2_train_vec))[0]]\n",
    "mae_test_best = k_vec[np.where(mae_test_vec == np.amin(mae_test_vec))[0]]\n",
    "r2_test_best = k_vec[np.where(r2_test_vec == np.amax(r2_test_vec))[0]]\n",
    "print(\"Best K MAE (train):\",mae_train_best)\n",
    "print(\"Best K R2 (train):\",r2_train_best)\n",
    "print(\"Best K MAE(test):\",mae_test_best,\", value:\",np.amin(mae_test_vec))\n",
    "print(\"Best K R2 (test):\",r2_test_best,\", value:\",np.amax(r2_test_vec))\n",
    "\n",
    "best_k_y_pred = y_pred_test_vec[(np.where(r2_test_vec == np.amax(r2_test_vec))[0])[0]]\n",
    "\n",
    "r2_aj = 1 - (1-r2_score(y_test, best_k_y_pred))*(len(y_test)-1) / (len(y_test) - x_test.shape[1] - 1)\n",
    "\n",
    "print('Best K R2 adj (test): %.4f'%r2_aj)"
   ]
  },
  {
   "cell_type": "code",
   "execution_count": 142,
   "metadata": {},
   "outputs": [
    {
     "data": {
      "text/plain": [
       "<matplotlib.legend.Legend at 0x1e447085e80>"
      ]
     },
     "execution_count": 142,
     "metadata": {},
     "output_type": "execute_result"
    },
    {
     "data": {
      "image/png": "[encoded data removed]",
      "text/plain": [
       "<Figure size 720x360 with 1 Axes>"
      ]
     },
     "metadata": {
      "needs_background": "light"
     },
     "output_type": "display_data"
    }
   ],
   "source": [
    "plt.figure(figsize=(10,5))\n",
    "ax = plt.gca() # get current axis\n",
    "plt.plot(k_vec, mae_train_vec)\n",
    "plt.plot(k_vec, mae_test_vec)\n",
    "ax.set_xlim(ax.get_xlim()[::-1])  # reverse axis\n",
    "plt.axis('tight')\n",
    "plt.xlabel('k')\n",
    "plt.ylabel('Error Absoluto Medio')\n",
    "plt.title('Evolución del MAE vs complejidad del modelo k-nn (valor de k más pequeño)')\n",
    "plt.legend(['train', 'test'])"
   ]
  },
  {
   "cell_type": "code",
   "execution_count": 143,
   "metadata": {
    "scrolled": false
   },
   "outputs": [
    {
     "data": {
      "text/plain": [
       "<matplotlib.legend.Legend at 0x1e43f2d2b00>"
      ]
     },
     "execution_count": 143,
     "metadata": {},
     "output_type": "execute_result"
    },
    {
     "data": {
      "image/png": "[encoded data removed]",
      "text/plain": [
       "<Figure size 720x360 with 1 Axes>"
      ]
     },
     "metadata": {
      "needs_background": "light"
     },
     "output_type": "display_data"
    }
   ],
   "source": [
    "plt.figure(figsize=(10,5))\n",
    "ax = plt.gca() # get current axis\n",
    "plt.plot(k_vec, r2_train_vec)\n",
    "plt.plot(k_vec, r2_test_vec)\n",
    "ax.set_xlim(ax.get_xlim()[::-1])  # reverse axis\n",
    "plt.axis('tight')\n",
    "plt.xlabel('k')\n",
    "plt.ylabel('Coeficiente de Determinación')\n",
    "plt.title('Evolución del R2 vs complejidad del modelo k-nn (valor de k más pequeño)')\n",
    "plt.legend(['train', 'test'])"
   ]
  },
  {
   "cell_type": "markdown",
   "metadata": {},
   "source": [
    "#### 3.2. Predicción con variables Backward Stepwise"
   ]
  },
  {
   "cell_type": "code",
   "execution_count": 144,
   "metadata": {},
   "outputs": [],
   "source": [
    "x_train_filtered = x_train[current_variables_backward]\n",
    "x_test_filtered = x_test[current_variables_backward]"
   ]
  },
  {
   "cell_type": "code",
   "execution_count": 145,
   "metadata": {
    "scrolled": true
   },
   "outputs": [
    {
     "name": "stdout",
     "output_type": "stream",
     "text": [
      "[+] K: 1 \tMAE: 5598996.951048951 \tR2: -0.35335853364460923 \t\tR2adj: -0.6286178964197839\n",
      "[+] K: 3 \tMAE: 4570532.692307692 \tR2: 0.15348839414232474 \t\tR2adj: -0.01868345789652448\n",
      "[+] K: 5 \tMAE: 4431855.047552447 \tR2: 0.25698197323353544 \t\tR2adj: 0.10585966270476299\n",
      "[+] K: 7 \tMAE: 4490250.708291709 \tR2: 0.27256664592080093 \t\tR2adj: 0.12461409932842149\n",
      "[+] K: 9 \tMAE: 4501291.9836829845 \tR2: 0.27961873966544304 \t\tR2adj: 0.1331005172245161\n",
      "[+] K: 11 \tMAE: 4424920.462174189 \tR2: 0.30229861901754207 \t\tR2adj: 0.16039325339399124\n",
      "[+] K: 13 \tMAE: 4571883.399139322 \tR2: 0.27561875247147594 \t\tR2adj: 0.1282869733131321\n",
      "[+] K: 15 \tMAE: 4616262.173426573 \tR2: 0.270815437110961 \t\tR2adj: 0.12250671245556333\n",
      "[+] K: 17 \tMAE: 4606490.2274784045 \tR2: 0.26742236185333346 \t\tR2adj: 0.11842352019638436\n",
      "[+] K: 19 \tMAE: 4594838.881486934 \tR2: 0.273087009486348 \t\tR2adj: 0.12524029955136795\n",
      "[+] K: 21 \tMAE: 4576765.939393939 \tR2: 0.2779348472291161 \t\tR2adj: 0.13107413819097025\n",
      "[+] K: 23 \tMAE: 4516433.304043782 \tR2: 0.2995481696119775 \t\tR2adj: 0.15708339055000675\n",
      "[+] K: 25 \tMAE: 4538178.66937063 \tR2: 0.2954990189326646 \t\tR2adj: 0.1522106838003252\n",
      "[+] K: 27 \tMAE: 4533586.2419062415 \tR2: 0.28622295128366804 \t\tR2adj: 0.14104795832441408\n",
      "[+] K: 29 \tMAE: 4558517.060284543 \tR2: 0.29221078978845716 \t\tR2adj: 0.14825366228780434\n",
      "[+] K: 31 \tMAE: 4547757.382133995 \tR2: 0.2894732814046994 \t\tR2adj: 0.14495937253785862\n"
     ]
    }
   ],
   "source": [
    "mae_train_vec=[]\n",
    "mae_test_vec=[]\n",
    "r2_train_vec=[]\n",
    "r2_test_vec=[]\n",
    "y_pred_test_vec=[]\n",
    "y_pred_train_vec=[]\n",
    "\n",
    "for k in k_vec:\n",
    "    knn = KNeighborsRegressor(n_neighbors=k)\n",
    "    knn.fit(x_train_filtered, y_train)\n",
    "    y_pred = knn.predict(x_train_filtered)\n",
    "    y_pred_train_vec.append(y_pred)\n",
    "    mae_train_vec.append(mean_absolute_error(y_train, y_pred))\n",
    "    r2_train_vec.append(r2_score(y_train, y_pred))\n",
    "    y_pred = knn.predict(x_test_filtered)\n",
    "    y_pred_test_vec.append(y_pred)\n",
    "    mae_test_vec.append(mean_absolute_error(y_test, y_pred))\n",
    "    r2_test_vec.append(r2_score(y_test, y_pred))\n",
    "    r2_aj = 1 - (1-r2_score(y_test, y_pred))*(len(y_test)-1) / (len(y_test) - x_test.shape[1] - 1)\n",
    "    \n",
    "    print('[+] K:',k, '\\tMAE:', mean_absolute_error(y_test, y_pred), '\\tR2:', r2_score(y_test, y_pred), '\\t\\tR2adj:', r2_aj)\n"
   ]
  },
  {
   "cell_type": "code",
   "execution_count": 146,
   "metadata": {},
   "outputs": [
    {
     "name": "stdout",
     "output_type": "stream",
     "text": [
      "Best K MAE (train): [1]\n",
      "Best K R2 (train): [1]\n",
      "Best K MAE(test): [11] , value: 4424920.462174189\n",
      "Best K R2 (test): [11] , value: 0.30229861901754207\n",
      "Best K R2 adj (test): 0.1604\n"
     ]
    }
   ],
   "source": [
    "mae_train_best = k_vec[np.where(mae_train_vec == np.amin(mae_train_vec))[0]]\n",
    "r2_train_best = k_vec[np.where(r2_train_vec == np.amax(r2_train_vec))[0]]\n",
    "mae_test_best = k_vec[np.where(mae_test_vec == np.amin(mae_test_vec))[0]]\n",
    "r2_test_best = k_vec[np.where(r2_test_vec == np.amax(r2_test_vec))[0]]\n",
    "print(\"Best K MAE (train):\",mae_train_best)\n",
    "print(\"Best K R2 (train):\",r2_train_best)\n",
    "print(\"Best K MAE(test):\",mae_test_best,\", value:\",np.amin(mae_test_vec))\n",
    "print(\"Best K R2 (test):\",r2_test_best,\", value:\",np.amax(r2_test_vec))\n",
    "\n",
    "best_k_y_pred = y_pred_test_vec[(np.where(r2_test_vec == np.amax(r2_test_vec))[0])[0]]\n",
    "\n",
    "r2_aj = 1 - (1-r2_score(y_test, best_k_y_pred))*(len(y_test)-1) / (len(y_test) - x_test.shape[1] - 1)\n",
    "\n",
    "print('Best K R2 adj (test): %.4f'%r2_aj)"
   ]
  },
  {
   "cell_type": "code",
   "execution_count": 147,
   "metadata": {},
   "outputs": [
    {
     "data": {
      "text/plain": [
       "<matplotlib.legend.Legend at 0x1e447003f98>"
      ]
     },
     "execution_count": 147,
     "metadata": {},
     "output_type": "execute_result"
    },
    {
     "data": {
      "image/png": "[encoded data removed]",
      "text/plain": [
       "<Figure size 720x360 with 1 Axes>"
      ]
     },
     "metadata": {
      "needs_background": "light"
     },
     "output_type": "display_data"
    }
   ],
   "source": [
    "plt.figure(figsize=(10,5))\n",
    "ax = plt.gca() # get current axis\n",
    "plt.plot(k_vec, mae_train_vec)\n",
    "plt.plot(k_vec, mae_test_vec)\n",
    "ax.set_xlim(ax.get_xlim()[::-1])  # reverse axis\n",
    "plt.axis('tight')\n",
    "plt.xlabel('k')\n",
    "plt.ylabel('Error Absoluto Medio')\n",
    "plt.title('Evolución del MAE vs complejidad del modelo k-nn (valor de k más pequeño)')\n",
    "plt.legend(['train', 'test'])"
   ]
  },
  {
   "cell_type": "code",
   "execution_count": 148,
   "metadata": {
    "scrolled": true
   },
   "outputs": [
    {
     "data": {
      "text/plain": [
       "<matplotlib.legend.Legend at 0x1e43ef2dc50>"
      ]
     },
     "execution_count": 148,
     "metadata": {},
     "output_type": "execute_result"
    },
    {
     "data": {
      "image/png": "[encoded data removed]",
      "text/plain": [
       "<Figure size 720x360 with 1 Axes>"
      ]
     },
     "metadata": {
      "needs_background": "light"
     },
     "output_type": "display_data"
    }
   ],
   "source": [
    "plt.figure(figsize=(10,5))\n",
    "ax = plt.gca() # get current axis\n",
    "plt.plot(k_vec, r2_train_vec)\n",
    "plt.plot(k_vec, r2_test_vec)\n",
    "ax.set_xlim(ax.get_xlim()[::-1])  # reverse axis\n",
    "plt.axis('tight')\n",
    "plt.xlabel('k')\n",
    "plt.ylabel('Coeficiente de Determinación')\n",
    "plt.title('Evolución del R2 vs complejidad del modelo k-nn (valor de k más pequeño)')\n",
    "plt.legend(['train', 'test'])"
   ]
  },
  {
   "cell_type": "markdown",
   "metadata": {},
   "source": [
    "Dado que los modelos tienen diferente número de predictores, se compararán mediante el R2 ajustado.\n",
    "\n",
    "En el primer caso, donde se usaron todas las variables independientes, el R2 ajustado fue de:\n",
    "\n",
    "* R2 adj: 0.1626\n",
    "\n",
    "En el segundo caso, donde se filtraron las variables predictoras por forward stepwise, el R2 ajustado fue de:\n",
    "\n",
    "* R2 adj: 0.1582\n",
    "\n",
    "En el tercer caso, donde se filtraron las variables predictoras por backward stepwise, el R2 ajustado fue de:\n",
    "\n",
    "* R2 adj: 0.1604\n",
    "\n",
    "Se puede observar que en el primer caso se obtuvieron las mejores métricas, y por lo tanto, las mejores predicciones del modelo."
   ]
  },
  {
   "cell_type": "markdown",
   "metadata": {},
   "source": [
    "## Comparación de Modelos"
   ]
  },
  {
   "cell_type": "markdown",
   "metadata": {},
   "source": [
    "* R2 ajustado Regresión Lineal: 0.4396\n",
    "\n",
    "* R2 ajustado Redes Neuronales: 0.3981\n",
    "\n",
    "* R2 ajustado K-Nearest Neighbors: 0.1626\n",
    "\n",
    "Se observa que el modelo con mejor métrica es el de Regresión Lineal, y por ende, el que da las mejores predicciones."
   ]
  },
  {
   "cell_type": "markdown",
   "metadata": {},
   "source": [
    "# Maousekeherramientas para usar más adelante\n"
   ]
  },
  {
   "cell_type": "code",
   "execution_count": 117,
   "metadata": {
    "scrolled": false
   },
   "outputs": [],
   "source": [
    "# Filtrado\n",
    "#data['FTr'].sort_values(ascending=False)"
   ]
  },
  {
   "cell_type": "code",
   "execution_count": 118,
   "metadata": {},
   "outputs": [],
   "source": [
    "# Obtener registro por index\n",
    "#pd.options.display.max_columns = None\n",
    "#pd.options.display.max_rows = None\n",
    "#data.iloc[163:164]"
   ]
  },
  {
   "cell_type": "code",
   "execution_count": 119,
   "metadata": {},
   "outputs": [],
   "source": [
    "#Matriz de correlación\n",
    "#pd.plotting.scatter_matrix(data.iloc[6:], figsize=(50,50))"
   ]
  }
 ],
 "metadata": {
  "kernelspec": {
   "display_name": "Python 3",
   "language": "python",
   "name": "python3"
  },
  "language_info": {
   "codemirror_mode": {
    "name": "ipython",
    "version": 3
   },
   "file_extension": ".py",
   "mimetype": "text/x-python",
   "name": "python",
   "nbconvert_exporter": "python",
   "pygments_lexer": "ipython3",
   "version": "3.7.3"
  }
 },
 "nbformat": 4,
 "nbformat_minor": 2
}
