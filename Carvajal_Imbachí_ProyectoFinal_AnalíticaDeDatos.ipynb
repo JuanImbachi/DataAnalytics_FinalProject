{
 "cells": [
  {
   "cell_type": "markdown",
   "metadata": {},
   "source": [
    "# Proyecto Final Analítica de Datos"
   ]
  },
  {
   "cell_type": "markdown",
   "metadata": {},
   "source": [
    "#### Juan Diego Carvajal Castaño - A00135764\n",
    "#### Juan Manuel Imbachí Güengue - A00130580"
   ]
  },
  {
   "cell_type": "markdown",
   "metadata": {},
   "source": [
    "Importamos las librerías que vamos a usar"
   ]
  },
  {
   "cell_type": "code",
   "execution_count": 2,
   "metadata": {},
   "outputs": [],
   "source": [
    "import numpy as np #operaciones matriciales y con vectores\n",
    "import pandas as pd #tratamiento de datos\n",
    "import matplotlib.pyplot as plt #gráficos\n",
    "import seaborn as sns"
   ]
  },
  {
   "cell_type": "code",
   "execution_count": 3,
   "metadata": {},
   "outputs": [],
   "source": [
    "data = pd.read_csv('2017-18_NBA_salary.csv')"
   ]
  },
  {
   "cell_type": "markdown",
   "metadata": {},
   "source": [
    "## 1. Limpieza y EDA\n",
    "\n",
    "El objetivo de esta sección es evaluar la calidad de los datos y tener un entendimiento inicial de la relación entre las variables predictivas y la variable objetivo."
   ]
  },
  {
   "cell_type": "code",
   "execution_count": 4,
   "metadata": {},
   "outputs": [
    {
     "data": {
      "text/plain": [
       "(485, 28)"
      ]
     },
     "execution_count": 4,
     "metadata": {},
     "output_type": "execute_result"
    }
   ],
   "source": [
    "data.shape"
   ]
  },
  {
   "cell_type": "code",
   "execution_count": 5,
   "metadata": {},
   "outputs": [
    {
     "data": {
      "text/html": [
       "<div>\n",
       "<style scoped>\n",
       "    .dataframe tbody tr th:only-of-type {\n",
       "        vertical-align: middle;\n",
       "    }\n",
       "\n",
       "    .dataframe tbody tr th {\n",
       "        vertical-align: top;\n",
       "    }\n",
       "\n",
       "    .dataframe thead th {\n",
       "        text-align: right;\n",
       "    }\n",
       "</style>\n",
       "<table border=\"1\" class=\"dataframe\">\n",
       "  <thead>\n",
       "    <tr style=\"text-align: right;\">\n",
       "      <th></th>\n",
       "      <th>Player</th>\n",
       "      <th>Salary</th>\n",
       "      <th>NBA_Country</th>\n",
       "      <th>NBA_DraftNumber</th>\n",
       "      <th>Age</th>\n",
       "      <th>Tm</th>\n",
       "      <th>G</th>\n",
       "      <th>MP</th>\n",
       "      <th>PER</th>\n",
       "      <th>TS%</th>\n",
       "      <th>...</th>\n",
       "      <th>TOV%</th>\n",
       "      <th>USG%</th>\n",
       "      <th>OWS</th>\n",
       "      <th>DWS</th>\n",
       "      <th>WS</th>\n",
       "      <th>WS/48</th>\n",
       "      <th>OBPM</th>\n",
       "      <th>DBPM</th>\n",
       "      <th>BPM</th>\n",
       "      <th>VORP</th>\n",
       "    </tr>\n",
       "  </thead>\n",
       "  <tbody>\n",
       "    <tr>\n",
       "      <th>0</th>\n",
       "      <td>Zhou Qi</td>\n",
       "      <td>815615</td>\n",
       "      <td>China</td>\n",
       "      <td>43</td>\n",
       "      <td>22</td>\n",
       "      <td>HOU</td>\n",
       "      <td>16</td>\n",
       "      <td>87</td>\n",
       "      <td>0.6</td>\n",
       "      <td>0.303</td>\n",
       "      <td>...</td>\n",
       "      <td>18.2</td>\n",
       "      <td>19.5</td>\n",
       "      <td>-0.4</td>\n",
       "      <td>0.1</td>\n",
       "      <td>-0.2</td>\n",
       "      <td>-0.121</td>\n",
       "      <td>-10.6</td>\n",
       "      <td>0.5</td>\n",
       "      <td>-10.1</td>\n",
       "      <td>-0.2</td>\n",
       "    </tr>\n",
       "    <tr>\n",
       "      <th>1</th>\n",
       "      <td>Zaza Pachulia</td>\n",
       "      <td>3477600</td>\n",
       "      <td>Georgia</td>\n",
       "      <td>42</td>\n",
       "      <td>33</td>\n",
       "      <td>GSW</td>\n",
       "      <td>66</td>\n",
       "      <td>937</td>\n",
       "      <td>16.8</td>\n",
       "      <td>0.608</td>\n",
       "      <td>...</td>\n",
       "      <td>19.3</td>\n",
       "      <td>17.2</td>\n",
       "      <td>1.7</td>\n",
       "      <td>1.4</td>\n",
       "      <td>3.1</td>\n",
       "      <td>0.160</td>\n",
       "      <td>-0.6</td>\n",
       "      <td>1.3</td>\n",
       "      <td>0.8</td>\n",
       "      <td>0.7</td>\n",
       "    </tr>\n",
       "    <tr>\n",
       "      <th>2</th>\n",
       "      <td>Zach Randolph</td>\n",
       "      <td>12307692</td>\n",
       "      <td>USA</td>\n",
       "      <td>19</td>\n",
       "      <td>36</td>\n",
       "      <td>SAC</td>\n",
       "      <td>59</td>\n",
       "      <td>1508</td>\n",
       "      <td>17.3</td>\n",
       "      <td>0.529</td>\n",
       "      <td>...</td>\n",
       "      <td>12.5</td>\n",
       "      <td>27.6</td>\n",
       "      <td>0.3</td>\n",
       "      <td>1.1</td>\n",
       "      <td>1.4</td>\n",
       "      <td>0.046</td>\n",
       "      <td>-0.6</td>\n",
       "      <td>-1.3</td>\n",
       "      <td>-1.9</td>\n",
       "      <td>0.0</td>\n",
       "    </tr>\n",
       "    <tr>\n",
       "      <th>3</th>\n",
       "      <td>Zach LaVine</td>\n",
       "      <td>3202217</td>\n",
       "      <td>USA</td>\n",
       "      <td>13</td>\n",
       "      <td>22</td>\n",
       "      <td>CHI</td>\n",
       "      <td>24</td>\n",
       "      <td>656</td>\n",
       "      <td>14.6</td>\n",
       "      <td>0.499</td>\n",
       "      <td>...</td>\n",
       "      <td>9.7</td>\n",
       "      <td>29.5</td>\n",
       "      <td>-0.1</td>\n",
       "      <td>0.5</td>\n",
       "      <td>0.4</td>\n",
       "      <td>0.027</td>\n",
       "      <td>-0.7</td>\n",
       "      <td>-2.0</td>\n",
       "      <td>-2.6</td>\n",
       "      <td>-0.1</td>\n",
       "    </tr>\n",
       "    <tr>\n",
       "      <th>4</th>\n",
       "      <td>Zach Collins</td>\n",
       "      <td>3057240</td>\n",
       "      <td>USA</td>\n",
       "      <td>10</td>\n",
       "      <td>20</td>\n",
       "      <td>POR</td>\n",
       "      <td>62</td>\n",
       "      <td>979</td>\n",
       "      <td>8.2</td>\n",
       "      <td>0.487</td>\n",
       "      <td>...</td>\n",
       "      <td>15.6</td>\n",
       "      <td>15.5</td>\n",
       "      <td>-0.4</td>\n",
       "      <td>1.2</td>\n",
       "      <td>0.8</td>\n",
       "      <td>0.038</td>\n",
       "      <td>-3.7</td>\n",
       "      <td>0.9</td>\n",
       "      <td>-2.9</td>\n",
       "      <td>-0.2</td>\n",
       "    </tr>\n",
       "  </tbody>\n",
       "</table>\n",
       "<p>5 rows × 28 columns</p>\n",
       "</div>"
      ],
      "text/plain": [
       "          Player    Salary NBA_Country  NBA_DraftNumber  Age   Tm   G    MP  \\\n",
       "0        Zhou Qi    815615       China               43   22  HOU  16    87   \n",
       "1  Zaza Pachulia   3477600     Georgia               42   33  GSW  66   937   \n",
       "2  Zach Randolph  12307692         USA               19   36  SAC  59  1508   \n",
       "3    Zach LaVine   3202217         USA               13   22  CHI  24   656   \n",
       "4   Zach Collins   3057240         USA               10   20  POR  62   979   \n",
       "\n",
       "    PER    TS%  ...  TOV%  USG%  OWS  DWS   WS  WS/48  OBPM  DBPM   BPM  VORP  \n",
       "0   0.6  0.303  ...  18.2  19.5 -0.4  0.1 -0.2 -0.121 -10.6   0.5 -10.1  -0.2  \n",
       "1  16.8  0.608  ...  19.3  17.2  1.7  1.4  3.1  0.160  -0.6   1.3   0.8   0.7  \n",
       "2  17.3  0.529  ...  12.5  27.6  0.3  1.1  1.4  0.046  -0.6  -1.3  -1.9   0.0  \n",
       "3  14.6  0.499  ...   9.7  29.5 -0.1  0.5  0.4  0.027  -0.7  -2.0  -2.6  -0.1  \n",
       "4   8.2  0.487  ...  15.6  15.5 -0.4  1.2  0.8  0.038  -3.7   0.9  -2.9  -0.2  \n",
       "\n",
       "[5 rows x 28 columns]"
      ]
     },
     "execution_count": 5,
     "metadata": {},
     "output_type": "execute_result"
    }
   ],
   "source": [
    "data.head()"
   ]
  },
  {
   "cell_type": "markdown",
   "metadata": {},
   "source": [
    "Hay 485 registros con 28 variables.\n",
    "Ahora analizaremos si hay problemas de datos con respecto a valores faltantes y outliers."
   ]
  },
  {
   "cell_type": "code",
   "execution_count": 6,
   "metadata": {
    "scrolled": true
   },
   "outputs": [
    {
     "data": {
      "text/html": [
       "<div>\n",
       "<style scoped>\n",
       "    .dataframe tbody tr th:only-of-type {\n",
       "        vertical-align: middle;\n",
       "    }\n",
       "\n",
       "    .dataframe tbody tr th {\n",
       "        vertical-align: top;\n",
       "    }\n",
       "\n",
       "    .dataframe thead th {\n",
       "        text-align: right;\n",
       "    }\n",
       "</style>\n",
       "<table border=\"1\" class=\"dataframe\">\n",
       "  <thead>\n",
       "    <tr style=\"text-align: right;\">\n",
       "      <th></th>\n",
       "      <th>count</th>\n",
       "      <th>unique</th>\n",
       "      <th>top</th>\n",
       "      <th>freq</th>\n",
       "      <th>mean</th>\n",
       "      <th>std</th>\n",
       "      <th>min</th>\n",
       "      <th>25%</th>\n",
       "      <th>50%</th>\n",
       "      <th>75%</th>\n",
       "      <th>max</th>\n",
       "    </tr>\n",
       "  </thead>\n",
       "  <tbody>\n",
       "    <tr>\n",
       "      <th>Player</th>\n",
       "      <td>485</td>\n",
       "      <td>483</td>\n",
       "      <td>Kay Felder</td>\n",
       "      <td>3</td>\n",
       "      <td>NaN</td>\n",
       "      <td>NaN</td>\n",
       "      <td>NaN</td>\n",
       "      <td>NaN</td>\n",
       "      <td>NaN</td>\n",
       "      <td>NaN</td>\n",
       "      <td>NaN</td>\n",
       "    </tr>\n",
       "    <tr>\n",
       "      <th>Salary</th>\n",
       "      <td>485</td>\n",
       "      <td>NaN</td>\n",
       "      <td>NaN</td>\n",
       "      <td>NaN</td>\n",
       "      <td>6.63651e+06</td>\n",
       "      <td>7.3926e+06</td>\n",
       "      <td>46080</td>\n",
       "      <td>1.47138e+06</td>\n",
       "      <td>3.20222e+06</td>\n",
       "      <td>1e+07</td>\n",
       "      <td>3.46826e+07</td>\n",
       "    </tr>\n",
       "    <tr>\n",
       "      <th>NBA_Country</th>\n",
       "      <td>485</td>\n",
       "      <td>44</td>\n",
       "      <td>USA</td>\n",
       "      <td>374</td>\n",
       "      <td>NaN</td>\n",
       "      <td>NaN</td>\n",
       "      <td>NaN</td>\n",
       "      <td>NaN</td>\n",
       "      <td>NaN</td>\n",
       "      <td>NaN</td>\n",
       "      <td>NaN</td>\n",
       "    </tr>\n",
       "    <tr>\n",
       "      <th>NBA_DraftNumber</th>\n",
       "      <td>485</td>\n",
       "      <td>NaN</td>\n",
       "      <td>NaN</td>\n",
       "      <td>NaN</td>\n",
       "      <td>29.4515</td>\n",
       "      <td>21.1258</td>\n",
       "      <td>1</td>\n",
       "      <td>11</td>\n",
       "      <td>25</td>\n",
       "      <td>47</td>\n",
       "      <td>62</td>\n",
       "    </tr>\n",
       "    <tr>\n",
       "      <th>Age</th>\n",
       "      <td>485</td>\n",
       "      <td>NaN</td>\n",
       "      <td>NaN</td>\n",
       "      <td>NaN</td>\n",
       "      <td>26.2639</td>\n",
       "      <td>4.2723</td>\n",
       "      <td>19</td>\n",
       "      <td>23</td>\n",
       "      <td>26</td>\n",
       "      <td>29</td>\n",
       "      <td>41</td>\n",
       "    </tr>\n",
       "    <tr>\n",
       "      <th>Tm</th>\n",
       "      <td>485</td>\n",
       "      <td>31</td>\n",
       "      <td>TOT</td>\n",
       "      <td>55</td>\n",
       "      <td>NaN</td>\n",
       "      <td>NaN</td>\n",
       "      <td>NaN</td>\n",
       "      <td>NaN</td>\n",
       "      <td>NaN</td>\n",
       "      <td>NaN</td>\n",
       "      <td>NaN</td>\n",
       "    </tr>\n",
       "    <tr>\n",
       "      <th>G</th>\n",
       "      <td>485</td>\n",
       "      <td>NaN</td>\n",
       "      <td>NaN</td>\n",
       "      <td>NaN</td>\n",
       "      <td>50.167</td>\n",
       "      <td>24.8749</td>\n",
       "      <td>1</td>\n",
       "      <td>29</td>\n",
       "      <td>59</td>\n",
       "      <td>71</td>\n",
       "      <td>79</td>\n",
       "    </tr>\n",
       "    <tr>\n",
       "      <th>MP</th>\n",
       "      <td>485</td>\n",
       "      <td>NaN</td>\n",
       "      <td>NaN</td>\n",
       "      <td>NaN</td>\n",
       "      <td>1154.14</td>\n",
       "      <td>811.357</td>\n",
       "      <td>1</td>\n",
       "      <td>381</td>\n",
       "      <td>1134</td>\n",
       "      <td>1819</td>\n",
       "      <td>2898</td>\n",
       "    </tr>\n",
       "    <tr>\n",
       "      <th>PER</th>\n",
       "      <td>485</td>\n",
       "      <td>NaN</td>\n",
       "      <td>NaN</td>\n",
       "      <td>NaN</td>\n",
       "      <td>13.2608</td>\n",
       "      <td>8.76928</td>\n",
       "      <td>-41.1</td>\n",
       "      <td>9.8</td>\n",
       "      <td>13.2</td>\n",
       "      <td>16.5</td>\n",
       "      <td>134.1</td>\n",
       "    </tr>\n",
       "    <tr>\n",
       "      <th>TS%</th>\n",
       "      <td>483</td>\n",
       "      <td>NaN</td>\n",
       "      <td>NaN</td>\n",
       "      <td>NaN</td>\n",
       "      <td>0.535387</td>\n",
       "      <td>0.112352</td>\n",
       "      <td>0</td>\n",
       "      <td>0.5055</td>\n",
       "      <td>0.545</td>\n",
       "      <td>0.5825</td>\n",
       "      <td>1.5</td>\n",
       "    </tr>\n",
       "    <tr>\n",
       "      <th>3PAr</th>\n",
       "      <td>483</td>\n",
       "      <td>NaN</td>\n",
       "      <td>NaN</td>\n",
       "      <td>NaN</td>\n",
       "      <td>0.337383</td>\n",
       "      <td>0.226894</td>\n",
       "      <td>0</td>\n",
       "      <td>0.167</td>\n",
       "      <td>0.346</td>\n",
       "      <td>0.481</td>\n",
       "      <td>1</td>\n",
       "    </tr>\n",
       "    <tr>\n",
       "      <th>FTr</th>\n",
       "      <td>483</td>\n",
       "      <td>NaN</td>\n",
       "      <td>NaN</td>\n",
       "      <td>NaN</td>\n",
       "      <td>0.263404</td>\n",
       "      <td>0.294578</td>\n",
       "      <td>0</td>\n",
       "      <td>0.155</td>\n",
       "      <td>0.231</td>\n",
       "      <td>0.3195</td>\n",
       "      <td>5.333</td>\n",
       "    </tr>\n",
       "    <tr>\n",
       "      <th>ORB%</th>\n",
       "      <td>485</td>\n",
       "      <td>NaN</td>\n",
       "      <td>NaN</td>\n",
       "      <td>NaN</td>\n",
       "      <td>4.87381</td>\n",
       "      <td>4.58281</td>\n",
       "      <td>0</td>\n",
       "      <td>1.8</td>\n",
       "      <td>3.2</td>\n",
       "      <td>7</td>\n",
       "      <td>35.9</td>\n",
       "    </tr>\n",
       "    <tr>\n",
       "      <th>DRB%</th>\n",
       "      <td>485</td>\n",
       "      <td>NaN</td>\n",
       "      <td>NaN</td>\n",
       "      <td>NaN</td>\n",
       "      <td>14.9507</td>\n",
       "      <td>6.84753</td>\n",
       "      <td>0</td>\n",
       "      <td>10.2</td>\n",
       "      <td>14</td>\n",
       "      <td>18.8</td>\n",
       "      <td>37.6</td>\n",
       "    </tr>\n",
       "    <tr>\n",
       "      <th>TRB%</th>\n",
       "      <td>485</td>\n",
       "      <td>NaN</td>\n",
       "      <td>NaN</td>\n",
       "      <td>NaN</td>\n",
       "      <td>9.90825</td>\n",
       "      <td>4.95644</td>\n",
       "      <td>0</td>\n",
       "      <td>6.2</td>\n",
       "      <td>8.7</td>\n",
       "      <td>13.3</td>\n",
       "      <td>26.5</td>\n",
       "    </tr>\n",
       "    <tr>\n",
       "      <th>AST%</th>\n",
       "      <td>485</td>\n",
       "      <td>NaN</td>\n",
       "      <td>NaN</td>\n",
       "      <td>NaN</td>\n",
       "      <td>12.9478</td>\n",
       "      <td>9.11241</td>\n",
       "      <td>0</td>\n",
       "      <td>6.9</td>\n",
       "      <td>9.9</td>\n",
       "      <td>17.6</td>\n",
       "      <td>49.4</td>\n",
       "    </tr>\n",
       "    <tr>\n",
       "      <th>STL%</th>\n",
       "      <td>485</td>\n",
       "      <td>NaN</td>\n",
       "      <td>NaN</td>\n",
       "      <td>NaN</td>\n",
       "      <td>1.52948</td>\n",
       "      <td>0.989562</td>\n",
       "      <td>0</td>\n",
       "      <td>1</td>\n",
       "      <td>1.5</td>\n",
       "      <td>1.9</td>\n",
       "      <td>12.5</td>\n",
       "    </tr>\n",
       "    <tr>\n",
       "      <th>BLK%</th>\n",
       "      <td>485</td>\n",
       "      <td>NaN</td>\n",
       "      <td>NaN</td>\n",
       "      <td>NaN</td>\n",
       "      <td>1.7132</td>\n",
       "      <td>1.68379</td>\n",
       "      <td>0</td>\n",
       "      <td>0.6</td>\n",
       "      <td>1.2</td>\n",
       "      <td>2.2</td>\n",
       "      <td>13.4</td>\n",
       "    </tr>\n",
       "    <tr>\n",
       "      <th>TOV%</th>\n",
       "      <td>483</td>\n",
       "      <td>NaN</td>\n",
       "      <td>NaN</td>\n",
       "      <td>NaN</td>\n",
       "      <td>13.1404</td>\n",
       "      <td>6.11529</td>\n",
       "      <td>0</td>\n",
       "      <td>9.9</td>\n",
       "      <td>12.5</td>\n",
       "      <td>15.75</td>\n",
       "      <td>66.7</td>\n",
       "    </tr>\n",
       "    <tr>\n",
       "      <th>USG%</th>\n",
       "      <td>485</td>\n",
       "      <td>NaN</td>\n",
       "      <td>NaN</td>\n",
       "      <td>NaN</td>\n",
       "      <td>18.8973</td>\n",
       "      <td>5.94054</td>\n",
       "      <td>0</td>\n",
       "      <td>15</td>\n",
       "      <td>17.9</td>\n",
       "      <td>22.2</td>\n",
       "      <td>45.1</td>\n",
       "    </tr>\n",
       "    <tr>\n",
       "      <th>OWS</th>\n",
       "      <td>485</td>\n",
       "      <td>NaN</td>\n",
       "      <td>NaN</td>\n",
       "      <td>NaN</td>\n",
       "      <td>1.27546</td>\n",
       "      <td>1.88144</td>\n",
       "      <td>-2.3</td>\n",
       "      <td>0</td>\n",
       "      <td>0.8</td>\n",
       "      <td>2</td>\n",
       "      <td>11.4</td>\n",
       "    </tr>\n",
       "    <tr>\n",
       "      <th>DWS</th>\n",
       "      <td>485</td>\n",
       "      <td>NaN</td>\n",
       "      <td>NaN</td>\n",
       "      <td>NaN</td>\n",
       "      <td>1.17649</td>\n",
       "      <td>1.03458</td>\n",
       "      <td>0</td>\n",
       "      <td>0.3</td>\n",
       "      <td>1</td>\n",
       "      <td>1.8</td>\n",
       "      <td>5.6</td>\n",
       "    </tr>\n",
       "    <tr>\n",
       "      <th>WS</th>\n",
       "      <td>485</td>\n",
       "      <td>NaN</td>\n",
       "      <td>NaN</td>\n",
       "      <td>NaN</td>\n",
       "      <td>2.45526</td>\n",
       "      <td>2.67367</td>\n",
       "      <td>-1.2</td>\n",
       "      <td>0.3</td>\n",
       "      <td>1.8</td>\n",
       "      <td>3.6</td>\n",
       "      <td>15</td>\n",
       "    </tr>\n",
       "    <tr>\n",
       "      <th>WS/48</th>\n",
       "      <td>485</td>\n",
       "      <td>NaN</td>\n",
       "      <td>NaN</td>\n",
       "      <td>NaN</td>\n",
       "      <td>0.0799588</td>\n",
       "      <td>0.162992</td>\n",
       "      <td>-1.063</td>\n",
       "      <td>0.04</td>\n",
       "      <td>0.083</td>\n",
       "      <td>0.123</td>\n",
       "      <td>2.713</td>\n",
       "    </tr>\n",
       "    <tr>\n",
       "      <th>OBPM</th>\n",
       "      <td>485</td>\n",
       "      <td>NaN</td>\n",
       "      <td>NaN</td>\n",
       "      <td>NaN</td>\n",
       "      <td>-1.27072</td>\n",
       "      <td>5.02627</td>\n",
       "      <td>-36.5</td>\n",
       "      <td>-2.7</td>\n",
       "      <td>-1.1</td>\n",
       "      <td>0.4</td>\n",
       "      <td>68.7</td>\n",
       "    </tr>\n",
       "    <tr>\n",
       "      <th>DBPM</th>\n",
       "      <td>485</td>\n",
       "      <td>NaN</td>\n",
       "      <td>NaN</td>\n",
       "      <td>NaN</td>\n",
       "      <td>-0.489485</td>\n",
       "      <td>2.38934</td>\n",
       "      <td>-14.3</td>\n",
       "      <td>-1.7</td>\n",
       "      <td>-0.4</td>\n",
       "      <td>1</td>\n",
       "      <td>6.8</td>\n",
       "    </tr>\n",
       "    <tr>\n",
       "      <th>BPM</th>\n",
       "      <td>485</td>\n",
       "      <td>NaN</td>\n",
       "      <td>NaN</td>\n",
       "      <td>NaN</td>\n",
       "      <td>-1.76021</td>\n",
       "      <td>5.66145</td>\n",
       "      <td>-49.2</td>\n",
       "      <td>-3.6</td>\n",
       "      <td>-1.3</td>\n",
       "      <td>0.5</td>\n",
       "      <td>54.4</td>\n",
       "    </tr>\n",
       "    <tr>\n",
       "      <th>VORP</th>\n",
       "      <td>485</td>\n",
       "      <td>NaN</td>\n",
       "      <td>NaN</td>\n",
       "      <td>NaN</td>\n",
       "      <td>0.598763</td>\n",
       "      <td>1.24565</td>\n",
       "      <td>-1.3</td>\n",
       "      <td>-0.1</td>\n",
       "      <td>0.1</td>\n",
       "      <td>0.9</td>\n",
       "      <td>8.6</td>\n",
       "    </tr>\n",
       "  </tbody>\n",
       "</table>\n",
       "</div>"
      ],
      "text/plain": [
       "                count unique         top freq         mean         std    min  \\\n",
       "Player            485    483  Kay Felder    3          NaN         NaN    NaN   \n",
       "Salary            485    NaN         NaN  NaN  6.63651e+06  7.3926e+06  46080   \n",
       "NBA_Country       485     44         USA  374          NaN         NaN    NaN   \n",
       "NBA_DraftNumber   485    NaN         NaN  NaN      29.4515     21.1258      1   \n",
       "Age               485    NaN         NaN  NaN      26.2639      4.2723     19   \n",
       "Tm                485     31         TOT   55          NaN         NaN    NaN   \n",
       "G                 485    NaN         NaN  NaN       50.167     24.8749      1   \n",
       "MP                485    NaN         NaN  NaN      1154.14     811.357      1   \n",
       "PER               485    NaN         NaN  NaN      13.2608     8.76928  -41.1   \n",
       "TS%               483    NaN         NaN  NaN     0.535387    0.112352      0   \n",
       "3PAr              483    NaN         NaN  NaN     0.337383    0.226894      0   \n",
       "FTr               483    NaN         NaN  NaN     0.263404    0.294578      0   \n",
       "ORB%              485    NaN         NaN  NaN      4.87381     4.58281      0   \n",
       "DRB%              485    NaN         NaN  NaN      14.9507     6.84753      0   \n",
       "TRB%              485    NaN         NaN  NaN      9.90825     4.95644      0   \n",
       "AST%              485    NaN         NaN  NaN      12.9478     9.11241      0   \n",
       "STL%              485    NaN         NaN  NaN      1.52948    0.989562      0   \n",
       "BLK%              485    NaN         NaN  NaN       1.7132     1.68379      0   \n",
       "TOV%              483    NaN         NaN  NaN      13.1404     6.11529      0   \n",
       "USG%              485    NaN         NaN  NaN      18.8973     5.94054      0   \n",
       "OWS               485    NaN         NaN  NaN      1.27546     1.88144   -2.3   \n",
       "DWS               485    NaN         NaN  NaN      1.17649     1.03458      0   \n",
       "WS                485    NaN         NaN  NaN      2.45526     2.67367   -1.2   \n",
       "WS/48             485    NaN         NaN  NaN    0.0799588    0.162992 -1.063   \n",
       "OBPM              485    NaN         NaN  NaN     -1.27072     5.02627  -36.5   \n",
       "DBPM              485    NaN         NaN  NaN    -0.489485     2.38934  -14.3   \n",
       "BPM               485    NaN         NaN  NaN     -1.76021     5.66145  -49.2   \n",
       "VORP              485    NaN         NaN  NaN     0.598763     1.24565   -1.3   \n",
       "\n",
       "                         25%          50%     75%          max  \n",
       "Player                   NaN          NaN     NaN          NaN  \n",
       "Salary           1.47138e+06  3.20222e+06   1e+07  3.46826e+07  \n",
       "NBA_Country              NaN          NaN     NaN          NaN  \n",
       "NBA_DraftNumber           11           25      47           62  \n",
       "Age                       23           26      29           41  \n",
       "Tm                       NaN          NaN     NaN          NaN  \n",
       "G                         29           59      71           79  \n",
       "MP                       381         1134    1819         2898  \n",
       "PER                      9.8         13.2    16.5        134.1  \n",
       "TS%                   0.5055        0.545  0.5825          1.5  \n",
       "3PAr                   0.167        0.346   0.481            1  \n",
       "FTr                    0.155        0.231  0.3195        5.333  \n",
       "ORB%                     1.8          3.2       7         35.9  \n",
       "DRB%                    10.2           14    18.8         37.6  \n",
       "TRB%                     6.2          8.7    13.3         26.5  \n",
       "AST%                     6.9          9.9    17.6         49.4  \n",
       "STL%                       1          1.5     1.9         12.5  \n",
       "BLK%                     0.6          1.2     2.2         13.4  \n",
       "TOV%                     9.9         12.5   15.75         66.7  \n",
       "USG%                      15         17.9    22.2         45.1  \n",
       "OWS                        0          0.8       2         11.4  \n",
       "DWS                      0.3            1     1.8          5.6  \n",
       "WS                       0.3          1.8     3.6           15  \n",
       "WS/48                   0.04        0.083   0.123        2.713  \n",
       "OBPM                    -2.7         -1.1     0.4         68.7  \n",
       "DBPM                    -1.7         -0.4       1          6.8  \n",
       "BPM                     -3.6         -1.3     0.5         54.4  \n",
       "VORP                    -0.1          0.1     0.9          8.6  "
      ]
     },
     "execution_count": 6,
     "metadata": {},
     "output_type": "execute_result"
    }
   ],
   "source": [
    "data.describe(include=\"all\").transpose()"
   ]
  },
  {
   "cell_type": "markdown",
   "metadata": {},
   "source": [
    "Aparentemente no hay outliers, sin embargo, se puede observar que hay valores faltantes, puesto que el valor de la columna COUNT no es 485 para todas las variables."
   ]
  },
  {
   "cell_type": "code",
   "execution_count": 7,
   "metadata": {
    "scrolled": false
   },
   "outputs": [
    {
     "data": {
      "image/png": "[encoded data removed]",
      "text/plain": [
       "<Figure size 1080x1080 with 1 Axes>"
      ]
     },
     "metadata": {
      "needs_background": "light"
     },
     "output_type": "display_data"
    }
   ],
   "source": [
    "ax = data['Salary'].plot.hist(bins=100, orientation='horizontal', figsize = (15,15), edgecolor='white') \n",
    "ax.set_ylabel('Salaries') \n",
    "ax.ticklabel_format(useOffset=False, style='plain', axis='y')"
   ]
  },
  {
   "cell_type": "markdown",
   "metadata": {},
   "source": [
    "Como se puede observar en el histograma, los valores de la variable objetivo no están distribuidos simétricamente pues no vemos una distribución en forma de campana de Gauss."
   ]
  },
  {
   "cell_type": "code",
   "execution_count": 8,
   "metadata": {
    "scrolled": true
   },
   "outputs": [
    {
     "data": {
      "image/png": "[encoded data removed]",
      "text/plain": [
       "<Figure size 3960x180 with 22 Axes>"
      ]
     },
     "metadata": {
      "needs_background": "light"
     },
     "output_type": "display_data"
    }
   ],
   "source": [
    "import seaborn as sns\n",
    "pp = sns.pairplot(data=data,\n",
    "                  y_vars=['Salary'],\n",
    "                  x_vars=data.columns[6:])"
   ]
  },
  {
   "cell_type": "markdown",
   "metadata": {},
   "source": [
    "Con estos diagramas podemos ver la relación existente entre la variable dependiente y las variables independientes, si se observa con atención las variables independientes numéricas, podemos observar si existe una tendencia o correlación entre ella y la variable objetivo, esto puede darnos una idea de que tan bien podría explicar el comportamiento de Y."
   ]
  },
  {
   "cell_type": "markdown",
   "metadata": {},
   "source": [
    "### Variables que tienen valores faltantes\n"
   ]
  },
  {
   "cell_type": "code",
   "execution_count": 9,
   "metadata": {},
   "outputs": [
    {
     "name": "stdout",
     "output_type": "stream",
     "text": [
      "<class 'pandas.core.frame.DataFrame'>\n",
      "RangeIndex: 485 entries, 0 to 484\n",
      "Data columns (total 28 columns):\n",
      "Player             485 non-null object\n",
      "Salary             485 non-null int64\n",
      "NBA_Country        485 non-null object\n",
      "NBA_DraftNumber    485 non-null int64\n",
      "Age                485 non-null int64\n",
      "Tm                 485 non-null object\n",
      "G                  485 non-null int64\n",
      "MP                 485 non-null int64\n",
      "PER                485 non-null float64\n",
      "TS%                483 non-null float64\n",
      "3PAr               483 non-null float64\n",
      "FTr                483 non-null float64\n",
      "ORB%               485 non-null float64\n",
      "DRB%               485 non-null float64\n",
      "TRB%               485 non-null float64\n",
      "AST%               485 non-null float64\n",
      "STL%               485 non-null float64\n",
      "BLK%               485 non-null float64\n",
      "TOV%               483 non-null float64\n",
      "USG%               485 non-null float64\n",
      "OWS                485 non-null float64\n",
      "DWS                485 non-null float64\n",
      "WS                 485 non-null float64\n",
      "WS/48              485 non-null float64\n",
      "OBPM               485 non-null float64\n",
      "DBPM               485 non-null float64\n",
      "BPM                485 non-null float64\n",
      "VORP               485 non-null float64\n",
      "dtypes: float64(20), int64(5), object(3)\n",
      "memory usage: 106.2+ KB\n"
     ]
    }
   ],
   "source": [
    "data.info()"
   ]
  },
  {
   "cell_type": "code",
   "execution_count": 10,
   "metadata": {
    "scrolled": false
   },
   "outputs": [
    {
     "name": "stdout",
     "output_type": "stream",
     "text": [
      "Player             False\n",
      "Salary             False\n",
      "NBA_Country        False\n",
      "NBA_DraftNumber    False\n",
      "Age                False\n",
      "Tm                 False\n",
      "G                  False\n",
      "MP                 False\n",
      "PER                False\n",
      "TS%                 True\n",
      "3PAr                True\n",
      "FTr                 True\n",
      "ORB%               False\n",
      "DRB%               False\n",
      "TRB%               False\n",
      "AST%               False\n",
      "STL%               False\n",
      "BLK%               False\n",
      "TOV%                True\n",
      "USG%               False\n",
      "OWS                False\n",
      "DWS                False\n",
      "WS                 False\n",
      "WS/48              False\n",
      "OBPM               False\n",
      "DBPM               False\n",
      "BPM                False\n",
      "VORP               False\n",
      "dtype: bool\n",
      "Las columnas que tienen valores faltantes son:  [ 9 10 11 18]\n",
      "y corresponden a:  Index(['TS%', '3PAr', 'FTr', 'TOV%'], dtype='object')\n"
     ]
    }
   ],
   "source": [
    "print(pd.isnull(data).any(0)) #el 0 implica cualquier columna, si quisieramos las filas utilizamos 1\n",
    "print(\"Las columnas que tienen valores faltantes son: \",pd.isnull(data).any(0).to_numpy().nonzero()[0])\n",
    "print(\"y corresponden a: \", data.columns[pd.isnull(data).any(0).to_numpy().nonzero()[0]])"
   ]
  },
  {
   "cell_type": "markdown",
   "metadata": {},
   "source": [
    "#### Las columnas TS%, 3PAr, FTr, TOV% tienen valores faltantes. "
   ]
  },
  {
   "cell_type": "markdown",
   "metadata": {},
   "source": [
    "### Registros repetidos"
   ]
  },
  {
   "cell_type": "code",
   "execution_count": 11,
   "metadata": {
    "scrolled": true
   },
   "outputs": [
    {
     "data": {
      "text/plain": [
       "Kay Felder                 3\n",
       "Domantas Sabonis           1\n",
       "Bruno Caboclo              1\n",
       "Troy Williams              1\n",
       "Tobias Harris              1\n",
       "Lucas Nogueira             1\n",
       "Quincy Acy                 1\n",
       "Mike James                 1\n",
       "Tyler Lydon                1\n",
       "Denzel Valentine           1\n",
       "Kevon Looney               1\n",
       "Tyreke Evans               1\n",
       "Antonius Cleveland         1\n",
       "Bojan Bogdanovic           1\n",
       "Langston Galloway          1\n",
       "Rodney McGruder            1\n",
       "Shabazz Muhammad           1\n",
       "Mario Hezonja              1\n",
       "Damian Jones               1\n",
       "Andre Roberson             1\n",
       "Zaza Pachulia              1\n",
       "Rodney Purvis              1\n",
       "Trevor Booker              1\n",
       "Abdel Nader                1\n",
       "James Harden               1\n",
       "Danilo Gallinari           1\n",
       "Bryn Forbes                1\n",
       "Giannis Antetokounmpo      1\n",
       "Jameer Nelson              1\n",
       "Dwayne Bacon               1\n",
       "                          ..\n",
       "Jakob Poeltl               1\n",
       "Tim Frazier                1\n",
       "Dion Waiters               1\n",
       "Joe Johnson                1\n",
       "Chris Paul                 1\n",
       "Danny Green                1\n",
       "Justise Winslow            1\n",
       "Bismack Biyombo            1\n",
       "Derrick Rose               1\n",
       "Carmelo Anthony            1\n",
       "Terrence Ross              1\n",
       "John Collins               1\n",
       "Doug McDermott             1\n",
       "Evan Fournier              1\n",
       "Jerami Grant               1\n",
       "Iman Shumpert              1\n",
       "Boban Marjanovic           1\n",
       "Wilson Chandler            1\n",
       "Tony Parker                1\n",
       "Deyonta Davis              1\n",
       "Taurean Waller-Prince      1\n",
       "Georgios Papagiannis       1\n",
       "Jarrett Allen              1\n",
       "Timothe Luwawu-Cabarrot    1\n",
       "Ramon Sessions             1\n",
       "Treveon Graham             1\n",
       "Raul Neto                  1\n",
       "Dwight Buycks              1\n",
       "Jimmy Butler               1\n",
       "Rodney Hood                1\n",
       "Name: Player, Length: 483, dtype: int64"
      ]
     },
     "execution_count": 11,
     "metadata": {},
     "output_type": "execute_result"
    }
   ],
   "source": [
    "data['Player'].value_counts()"
   ]
  },
  {
   "cell_type": "code",
   "execution_count": 12,
   "metadata": {
    "scrolled": true
   },
   "outputs": [
    {
     "data": {
      "text/html": [
       "<div>\n",
       "<style scoped>\n",
       "    .dataframe tbody tr th:only-of-type {\n",
       "        vertical-align: middle;\n",
       "    }\n",
       "\n",
       "    .dataframe tbody tr th {\n",
       "        vertical-align: top;\n",
       "    }\n",
       "\n",
       "    .dataframe thead th {\n",
       "        text-align: right;\n",
       "    }\n",
       "</style>\n",
       "<table border=\"1\" class=\"dataframe\">\n",
       "  <thead>\n",
       "    <tr style=\"text-align: right;\">\n",
       "      <th></th>\n",
       "      <th>Player</th>\n",
       "      <th>Salary</th>\n",
       "      <th>NBA_Country</th>\n",
       "      <th>NBA_DraftNumber</th>\n",
       "      <th>Age</th>\n",
       "      <th>Tm</th>\n",
       "      <th>G</th>\n",
       "      <th>MP</th>\n",
       "      <th>PER</th>\n",
       "      <th>TS%</th>\n",
       "      <th>...</th>\n",
       "      <th>TOV%</th>\n",
       "      <th>USG%</th>\n",
       "      <th>OWS</th>\n",
       "      <th>DWS</th>\n",
       "      <th>WS</th>\n",
       "      <th>WS/48</th>\n",
       "      <th>OBPM</th>\n",
       "      <th>DBPM</th>\n",
       "      <th>BPM</th>\n",
       "      <th>VORP</th>\n",
       "    </tr>\n",
       "  </thead>\n",
       "  <tbody>\n",
       "    <tr>\n",
       "      <th>224</th>\n",
       "      <td>Kay Felder</td>\n",
       "      <td>1312611</td>\n",
       "      <td>USA</td>\n",
       "      <td>54</td>\n",
       "      <td>22</td>\n",
       "      <td>DET</td>\n",
       "      <td>1</td>\n",
       "      <td>3</td>\n",
       "      <td>-31.6</td>\n",
       "      <td>0.000</td>\n",
       "      <td>...</td>\n",
       "      <td>33.3</td>\n",
       "      <td>44.2</td>\n",
       "      <td>-0.1</td>\n",
       "      <td>0.0</td>\n",
       "      <td>-0.1</td>\n",
       "      <td>-1.005</td>\n",
       "      <td>-29.5</td>\n",
       "      <td>-11.9</td>\n",
       "      <td>-41.4</td>\n",
       "      <td>0.0</td>\n",
       "    </tr>\n",
       "    <tr>\n",
       "      <th>225</th>\n",
       "      <td>Kay Felder</td>\n",
       "      <td>1312611</td>\n",
       "      <td>USA</td>\n",
       "      <td>54</td>\n",
       "      <td>22</td>\n",
       "      <td>CHI</td>\n",
       "      <td>14</td>\n",
       "      <td>134</td>\n",
       "      <td>3.6</td>\n",
       "      <td>0.386</td>\n",
       "      <td>...</td>\n",
       "      <td>17.4</td>\n",
       "      <td>28.0</td>\n",
       "      <td>-0.5</td>\n",
       "      <td>0.1</td>\n",
       "      <td>-0.5</td>\n",
       "      <td>-0.166</td>\n",
       "      <td>-8.2</td>\n",
       "      <td>-3.3</td>\n",
       "      <td>-11.5</td>\n",
       "      <td>-0.3</td>\n",
       "    </tr>\n",
       "    <tr>\n",
       "      <th>226</th>\n",
       "      <td>Kay Felder</td>\n",
       "      <td>1312611</td>\n",
       "      <td>USA</td>\n",
       "      <td>54</td>\n",
       "      <td>22</td>\n",
       "      <td>TOT</td>\n",
       "      <td>15</td>\n",
       "      <td>137</td>\n",
       "      <td>2.9</td>\n",
       "      <td>0.375</td>\n",
       "      <td>...</td>\n",
       "      <td>17.9</td>\n",
       "      <td>28.4</td>\n",
       "      <td>-0.6</td>\n",
       "      <td>0.1</td>\n",
       "      <td>-0.5</td>\n",
       "      <td>-0.185</td>\n",
       "      <td>-8.7</td>\n",
       "      <td>-3.5</td>\n",
       "      <td>-12.1</td>\n",
       "      <td>-0.3</td>\n",
       "    </tr>\n",
       "  </tbody>\n",
       "</table>\n",
       "<p>3 rows × 28 columns</p>\n",
       "</div>"
      ],
      "text/plain": [
       "         Player   Salary NBA_Country  NBA_DraftNumber  Age   Tm   G   MP  \\\n",
       "224  Kay Felder  1312611         USA               54   22  DET   1    3   \n",
       "225  Kay Felder  1312611         USA               54   22  CHI  14  134   \n",
       "226  Kay Felder  1312611         USA               54   22  TOT  15  137   \n",
       "\n",
       "      PER    TS%  ...  TOV%  USG%  OWS  DWS   WS  WS/48  OBPM  DBPM   BPM  \\\n",
       "224 -31.6  0.000  ...  33.3  44.2 -0.1  0.0 -0.1 -1.005 -29.5 -11.9 -41.4   \n",
       "225   3.6  0.386  ...  17.4  28.0 -0.5  0.1 -0.5 -0.166  -8.2  -3.3 -11.5   \n",
       "226   2.9  0.375  ...  17.9  28.4 -0.6  0.1 -0.5 -0.185  -8.7  -3.5 -12.1   \n",
       "\n",
       "     VORP  \n",
       "224   0.0  \n",
       "225  -0.3  \n",
       "226  -0.3  \n",
       "\n",
       "[3 rows x 28 columns]"
      ]
     },
     "execution_count": 12,
     "metadata": {},
     "output_type": "execute_result"
    }
   ],
   "source": [
    "data[data['Player'].duplicated(keep=False)]"
   ]
  },
  {
   "cell_type": "markdown",
   "metadata": {},
   "source": [
    "#### Se encontró que el jugador Kay Felder tiene 3 registros asociados a 3 equipos diferentes durante la temporada"
   ]
  },
  {
   "cell_type": "markdown",
   "metadata": {},
   "source": [
    "# Valores atípicos\n",
    "\n",
    "Mediante diagramas de cajas y bigotes visualizamos la distribución de las variables predictoras, para así identificar los posibles valores atípicos. "
   ]
  },
  {
   "cell_type": "code",
   "execution_count": 13,
   "metadata": {
    "scrolled": false
   },
   "outputs": [
    {
     "data": {
      "image/png": "[encoded data removed]",
      "text/plain": [
       "<Figure size 1080x2880 with 20 Axes>"
      ]
     },
     "metadata": {
      "needs_background": "light"
     },
     "output_type": "display_data"
    }
   ],
   "source": [
    "fig = plt.figure(figsize=(15,40))\n",
    "i=1\n",
    "\n",
    "for var_num in data.columns[8:]:\n",
    "    ax = fig.add_subplot(8, 3, i) #Defino una tabla de 2 filas por 2 columnas, agrego el i-ésimo plot\n",
    "    sns.boxplot(y=var_num, data=data)\n",
    "    plt.title(var_num)\n",
    "    i+=1"
   ]
  },
  {
   "cell_type": "markdown",
   "metadata": {},
   "source": [
    "# Reporte Primera Entrega"
   ]
  },
  {
   "cell_type": "markdown",
   "metadata": {},
   "source": [
    "## Calidad de los Datos\n",
    "\n",
    "Al observar los datos se pudo evidenciar que:\n",
    "### Faltantes\n",
    "   Existen datos faltantes para 4 variables: TS%, 3PAr, FTr, TOV%, donde cada una tiene 2 valores nulos o NaN.\n",
    "### Atípicos\n",
    "* **PER**\n",
    "\tSe evidencia un dato atípico con valor de 134.1 , el cual se encuentre bastante alejado de su valor inmediatamente anterior que es de 38.1, por lo tanto se debe eliminar en la siguiente fase de la preparación de los datos.\n",
    "    \n",
    "    #### [-] Registro: 142.\n",
    "\n",
    "     Existen 2 datos negativos sospechosos con valores de -41.1 y -31.6, se deben evaluar más adelante y definir si se eliminarán o no.\n",
    "\n",
    "\t#### [-] Registros: 147, 224.\n",
    "\n",
    "\n",
    "* **TS%**\n",
    "\tHay un dato atípico de 1.5, se procederá a eliminarlo debido a que está bastante alejado del registro anterior, el cual tiene valor de 1.0.\n",
    "    \n",
    "\t#### [-] Registro: 142.\n",
    "\n",
    "\n",
    "* **FTr**\n",
    "\tExiste un valor atípico de 5.3, el cual está bastante alejado del registro anterior, el cual tiene valor de 2.0.\n",
    "\t Se debe eliminar el dato para que no afecte el modelo en proceso de entrenamiento.\n",
    "\t\n",
    "\tHay 2 registros con valores de 2.0, se consideran sospechosos y se definirá más adelante si borrarlos o no.\n",
    "\n",
    "\t#### [-] Registro: 165, 396, 84.\n",
    "\n",
    "\n",
    "* **ORB%**\n",
    "\tExisten 3 valores atípicos 35.9, 32.3 y 28.1. Sin embargo, no serán eliminados pues no están tan lejos ni tan aislados de los demás datos.\n",
    "\t\n",
    "\t#### [-] Registros: 224, 19, 239.\n",
    "    \n",
    "\n",
    "* **STL%**\n",
    "\tSe eliminarán el valor atípicos más extremo, correspondiente a 12.5\n",
    "\t\n",
    "\t#### [-] Registros: 231.\n",
    "\n",
    "\n",
    "* **BLK%**\n",
    "\tSe eliminará el valor atípico más extremo, correspondiente a 13.4\n",
    "\t \n",
    "\t#### [-] Registros: 19.\n",
    "\n",
    "\n",
    "* **TOV%**\n",
    "\t\n",
    "\tSe eliminará el valor atípico más extremo, correspondiente a 66.7\n",
    "\t \n",
    "\t#### [-] Registros: 188.\n",
    "    \n",
    "\n",
    "* **WS/48**\n",
    "\tSe eliminará el valor atípico más extremo, correspondientes a 2.713. Los valores atípicos -1.005 y -1.063 se evaluarán más adelante.\n",
    "\t \n",
    "\t#### [-] Registros: 142, 147, 224.\n",
    "    \n",
    "\n",
    "* **OBPM**\n",
    "\tSe eliminará el valor atípico más extremo correspondiente a 68.7.\n",
    "\t \n",
    "\t#### [-] Registros: 142.\n",
    "    \n",
    "\n",
    "* **BPM**\n",
    "\tSe eliminarán los valores atípicos más extremos, tantos positivos como negativos, correspondientes a 54.4, -41.4 y -49.2\n",
    "\t \n",
    "\t#### [-] Registros: 142, 147, 224.\n",
    "\n",
    "**Registros a eliminar**\n",
    "\n",
    "19,142,147,165,188,224,231\n",
    "\n",
    "**Total: 7**\n",
    "### Repetidos\n",
    "   Usando el atributo 'Player' como identificador del registro, se encontró que hay 3 registros repetidos con el valor'Kay Felder', aunque sabemos que es inusual que un jugador sea transferido más de una vez dentro de una misma temporada, dado que es posible realizar dicha transferencia, tomaremos estos 3 registros en el análisis.\n",
    "\n",
    "\n",
    "### Problemas de escala  \n",
    "* En el caso de los porcentajes, las variables varían en el orden de magnitud, unas presentan un orden de 10^0 y otras de 10^-1.\n",
    "* Las variables presentan diferencias significativas en sus promedios, valores mínimos y máximos.\n",
    "    \n",
    "   Estos problemas de escala pueden ser consecuencia de valores atípicos que están presentes en los datos.\n",
    "\n",
    "### Problemas de tipo\n",
    "* Las características 'NBA_Country', 'Tm' y 'Player' son las únicas de tipo string, por lo que deberían ser convertidas a variables numéricas para ser tomadas en cuenta en el estudio. Sin embargo, consideramos que 'Player' no es relevante para hacer inferencias sobre el posible salario de un jugador.\n",
    "    \n",
    "### Distribución de los datos\n",
    "* Los valores de los percentiles para cada variable varía significativamente, lo que podría indicar sesgos dentro de la distribución."
   ]
  },
  {
   "cell_type": "markdown",
   "metadata": {},
   "source": [
    "## Limpieza de los datos"
   ]
  },
  {
   "cell_type": "markdown",
   "metadata": {},
   "source": [
    "### Eliminación de registros con valores faltantes"
   ]
  },
  {
   "cell_type": "code",
   "execution_count": 14,
   "metadata": {
    "scrolled": true
   },
   "outputs": [
    {
     "name": "stdout",
     "output_type": "stream",
     "text": [
      "Datos originales:  (485, 28)\n",
      "Datos completos:  (483, 28)\n",
      "Se eliminaron 2 registos\n"
     ]
    }
   ],
   "source": [
    "cleanData = data.dropna()\n",
    "print(\"Datos originales: \", data.shape)\n",
    "print(\"Datos completos: \", cleanData.shape)\n",
    "print(\"Se eliminaron {} registos\".format(data.shape[0] - cleanData.shape[0]))"
   ]
  },
  {
   "cell_type": "markdown",
   "metadata": {},
   "source": [
    "### Eliminación de registros con valores atípicos"
   ]
  },
  {
   "cell_type": "code",
   "execution_count": 15,
   "metadata": {},
   "outputs": [
    {
     "name": "stdout",
     "output_type": "stream",
     "text": [
      "Datos resultantes:  (476, 28)\n",
      "Se eliminaron 7 registos\n"
     ]
    }
   ],
   "source": [
    "data = cleanData.drop([19,142,147,165,188,224,231],axis=0)\n",
    "print(\"Datos resultantes: \", data.shape)\n",
    "print(\"Se eliminaron {} registos\".format(cleanData.shape[0] - data.shape[0]))"
   ]
  },
  {
   "cell_type": "markdown",
   "metadata": {},
   "source": [
    "### Revisión de datos atípicos nuevo Dataset"
   ]
  },
  {
   "cell_type": "code",
   "execution_count": 16,
   "metadata": {
    "scrolled": true
   },
   "outputs": [
    {
     "data": {
      "text/plain": [
       "Text(0.5, 1.0, 'PER')"
      ]
     },
     "execution_count": 16,
     "metadata": {},
     "output_type": "execute_result"
    },
    {
     "data": {
      "image/png": "[encoded data removed]",
      "text/plain": [
       "<Figure size 360x360 with 1 Axes>"
      ]
     },
     "metadata": {
      "needs_background": "light"
     },
     "output_type": "display_data"
    }
   ],
   "source": [
    "fig = plt.figure(figsize=(5,5))\n",
    "ax = fig.add_subplot(1, 1, 1)\n",
    "sns.boxplot(y=data['PER'], data=data)\n",
    "plt.title('PER')"
   ]
  },
  {
   "cell_type": "markdown",
   "metadata": {},
   "source": [
    "Para la columna PER aún se encuentran valores atípicos, sin embargo, estan relativamente cerca a los límites y tienen sentido para el dominio de la variable, por lo tanto no se eliminarán."
   ]
  },
  {
   "cell_type": "code",
   "execution_count": 17,
   "metadata": {
    "scrolled": true
   },
   "outputs": [
    {
     "data": {
      "text/plain": [
       "Text(0.5, 1.0, 'TS%')"
      ]
     },
     "execution_count": 17,
     "metadata": {},
     "output_type": "execute_result"
    },
    {
     "data": {
      "image/png": "[encoded data removed]",
      "text/plain": [
       "<Figure size 360x360 with 1 Axes>"
      ]
     },
     "metadata": {
      "needs_background": "light"
     },
     "output_type": "display_data"
    }
   ],
   "source": [
    "fig = plt.figure(figsize=(5,5))\n",
    "ax = fig.add_subplot(1, 1, 1)\n",
    "sns.boxplot(y=data['TS%'], data=data)\n",
    "plt.title('TS%')"
   ]
  },
  {
   "cell_type": "markdown",
   "metadata": {},
   "source": [
    "Para la columna TS% aún se encuentran valores atípicos, sin embargo, estan relativamente cerca a los límites y tienen sentido para el dominio de la variable, por lo tanto no se eliminarán."
   ]
  },
  {
   "cell_type": "code",
   "execution_count": 18,
   "metadata": {
    "scrolled": true
   },
   "outputs": [
    {
     "data": {
      "text/plain": [
       "Text(0.5, 1.0, 'FTr')"
      ]
     },
     "execution_count": 18,
     "metadata": {},
     "output_type": "execute_result"
    },
    {
     "data": {
      "image/png": "[encoded data removed]",
      "text/plain": [
       "<Figure size 360x360 with 1 Axes>"
      ]
     },
     "metadata": {
      "needs_background": "light"
     },
     "output_type": "display_data"
    }
   ],
   "source": [
    "fig = plt.figure(figsize=(5,5))\n",
    "ax = fig.add_subplot(1, 1, 1)\n",
    "sns.boxplot(y=data['FTr'], data=data)\n",
    "plt.title('FTr')"
   ]
  },
  {
   "cell_type": "markdown",
   "metadata": {},
   "source": [
    "Para la columna FTr aún se encuentran valores atípicos, así que se eliminarán los registros asociados más extremos."
   ]
  },
  {
   "cell_type": "code",
   "execution_count": 19,
   "metadata": {},
   "outputs": [
    {
     "name": "stdout",
     "output_type": "stream",
     "text": [
      "Datos resultantes:  (474, 28)\n",
      "Se eliminaron 2 registos\n"
     ]
    }
   ],
   "source": [
    "cleanData = data[(data['FTr'] < 1.7)]\n",
    "print(\"Datos resultantes: \", cleanData.shape)\n",
    "print(\"Se eliminaron {} registos\".format(data.shape[0] - cleanData.shape[0]))"
   ]
  },
  {
   "cell_type": "code",
   "execution_count": 20,
   "metadata": {},
   "outputs": [
    {
     "data": {
      "text/plain": [
       "Text(0.5, 1.0, 'FTr')"
      ]
     },
     "execution_count": 20,
     "metadata": {},
     "output_type": "execute_result"
    },
    {
     "data": {
      "image/png": "[encoded data removed]",
      "text/plain": [
       "<Figure size 360x360 with 1 Axes>"
      ]
     },
     "metadata": {
      "needs_background": "light"
     },
     "output_type": "display_data"
    }
   ],
   "source": [
    "fig = plt.figure(figsize=(5,5))\n",
    "ax = fig.add_subplot(1, 1, 1)\n",
    "sns.boxplot(y=cleanData['FTr'], data=cleanData)\n",
    "plt.title('FTr')"
   ]
  },
  {
   "cell_type": "markdown",
   "metadata": {},
   "source": [
    "Aún se siguen viendo valores atípicos, sin embargo, son relativamente cercanos a los límites y no provocan que la caja se aplane. Por lo tanto se conservaron."
   ]
  },
  {
   "cell_type": "code",
   "execution_count": 21,
   "metadata": {},
   "outputs": [],
   "source": [
    "data = cleanData"
   ]
  },
  {
   "cell_type": "code",
   "execution_count": 22,
   "metadata": {
    "scrolled": true
   },
   "outputs": [
    {
     "data": {
      "text/plain": [
       "Text(0.5, 1.0, 'STL%')"
      ]
     },
     "execution_count": 22,
     "metadata": {},
     "output_type": "execute_result"
    },
    {
     "data": {
      "image/png": "[encoded data removed]",
      "text/plain": [
       "<Figure size 360x360 with 1 Axes>"
      ]
     },
     "metadata": {
      "needs_background": "light"
     },
     "output_type": "display_data"
    }
   ],
   "source": [
    "fig = plt.figure(figsize=(5,5))\n",
    "ax = fig.add_subplot(1, 1, 1)\n",
    "sns.boxplot(y=data['STL%'], data=data)\n",
    "plt.title('STL%')"
   ]
  },
  {
   "cell_type": "markdown",
   "metadata": {},
   "source": [
    "Aún se siguen viendo valores atípicos, sin embargo, son relativamente cercanos a los límites y no provocan que la caja se aplane. Por lo tanto se conservaron."
   ]
  },
  {
   "cell_type": "code",
   "execution_count": 23,
   "metadata": {
    "scrolled": true
   },
   "outputs": [
    {
     "data": {
      "text/plain": [
       "Text(0.5, 1.0, 'BLK%')"
      ]
     },
     "execution_count": 23,
     "metadata": {},
     "output_type": "execute_result"
    },
    {
     "data": {
      "image/png": "[encoded data removed]",
      "text/plain": [
       "<Figure size 360x360 with 1 Axes>"
      ]
     },
     "metadata": {
      "needs_background": "light"
     },
     "output_type": "display_data"
    }
   ],
   "source": [
    "fig = plt.figure(figsize=(5,5))\n",
    "ax = fig.add_subplot(1, 1, 1)\n",
    "sns.boxplot(y=data['BLK%'], data=data)\n",
    "plt.title('BLK%')"
   ]
  },
  {
   "cell_type": "markdown",
   "metadata": {},
   "source": [
    "Aún se siguen viendo valores atípicos, sin embargo, son relativamente cercanos a los límites y no provocan que la caja se aplane. Por lo tanto se conservaron."
   ]
  },
  {
   "cell_type": "code",
   "execution_count": 24,
   "metadata": {
    "scrolled": true
   },
   "outputs": [
    {
     "data": {
      "text/plain": [
       "Text(0.5, 1.0, 'TOV%')"
      ]
     },
     "execution_count": 24,
     "metadata": {},
     "output_type": "execute_result"
    },
    {
     "data": {
      "image/png": "[encoded data removed]",
      "text/plain": [
       "<Figure size 360x360 with 1 Axes>"
      ]
     },
     "metadata": {
      "needs_background": "light"
     },
     "output_type": "display_data"
    }
   ],
   "source": [
    "fig = plt.figure(figsize=(5,5))\n",
    "ax = fig.add_subplot(1, 1, 1)\n",
    "sns.boxplot(y=data['TOV%'], data=data)\n",
    "plt.title('TOV%')"
   ]
  },
  {
   "cell_type": "markdown",
   "metadata": {},
   "source": [
    "Aún se siguen viendo valores atípicos, sin embargo, son relativamente cercanos a los límites y no provocan que la caja se aplane. Por lo tanto se conservaron."
   ]
  },
  {
   "cell_type": "code",
   "execution_count": 25,
   "metadata": {
    "scrolled": true
   },
   "outputs": [
    {
     "data": {
      "text/plain": [
       "Text(0.5, 1.0, 'WS/48')"
      ]
     },
     "execution_count": 25,
     "metadata": {},
     "output_type": "execute_result"
    },
    {
     "data": {
      "image/png": "[encoded data removed]",
      "text/plain": [
       "<Figure size 360x360 with 1 Axes>"
      ]
     },
     "metadata": {
      "needs_background": "light"
     },
     "output_type": "display_data"
    }
   ],
   "source": [
    "fig = plt.figure(figsize=(5,5))\n",
    "ax = fig.add_subplot(1, 1, 1)\n",
    "sns.boxplot(y=data['WS/48'], data=data)\n",
    "plt.title('WS/48')"
   ]
  },
  {
   "cell_type": "markdown",
   "metadata": {},
   "source": [
    "Aún se siguen viendo valores atípicos, sin embargo, son relativamente cercanos a los límites y no provocan que la caja se aplane. Por lo tanto se conservaron."
   ]
  },
  {
   "cell_type": "code",
   "execution_count": 26,
   "metadata": {
    "scrolled": true
   },
   "outputs": [
    {
     "data": {
      "text/plain": [
       "Text(0.5, 1.0, 'OBPM')"
      ]
     },
     "execution_count": 26,
     "metadata": {},
     "output_type": "execute_result"
    },
    {
     "data": {
      "image/png": "[encoded data removed]",
      "text/plain": [
       "<Figure size 360x360 with 1 Axes>"
      ]
     },
     "metadata": {
      "needs_background": "light"
     },
     "output_type": "display_data"
    }
   ],
   "source": [
    "fig = plt.figure(figsize=(5,5))\n",
    "ax = fig.add_subplot(1, 1, 1)\n",
    "sns.boxplot(y=data['OBPM'], data=data)\n",
    "plt.title('OBPM')"
   ]
  },
  {
   "cell_type": "markdown",
   "metadata": {},
   "source": [
    "Aún se siguen viendo valores atípicos, sin embargo, son relativamente cercanos a los límites y no provocan que la caja se aplane. Por lo tanto se conservaron."
   ]
  },
  {
   "cell_type": "code",
   "execution_count": 27,
   "metadata": {
    "scrolled": true
   },
   "outputs": [
    {
     "data": {
      "text/plain": [
       "Text(0.5, 1.0, 'BPM')"
      ]
     },
     "execution_count": 27,
     "metadata": {},
     "output_type": "execute_result"
    },
    {
     "data": {
      "image/png": "[encoded data removed]",
      "text/plain": [
       "<Figure size 360x360 with 1 Axes>"
      ]
     },
     "metadata": {
      "needs_background": "light"
     },
     "output_type": "display_data"
    }
   ],
   "source": [
    "fig = plt.figure(figsize=(5,5))\n",
    "ax = fig.add_subplot(1, 1, 1)\n",
    "sns.boxplot(y=data['BPM'], data=data)\n",
    "plt.title('BPM')"
   ]
  },
  {
   "cell_type": "markdown",
   "metadata": {},
   "source": [
    "Aún se siguen viendo valores atípicos, sin embargo, son relativamente cercanos a los límites y no provocan que la caja se aplane. Por lo tanto se conservaron."
   ]
  },
  {
   "cell_type": "markdown",
   "metadata": {},
   "source": [
    "### Normalización de los datos\n",
    "\n",
    "Para normalizar los datos, se usará el Standard Scaler al momento de particionar el dataset de acuerdo con el protocolo de evaluación."
   ]
  },
  {
   "cell_type": "markdown",
   "metadata": {},
   "source": [
    "### Discretización de variables categóricas"
   ]
  },
  {
   "cell_type": "code",
   "execution_count": 28,
   "metadata": {
    "scrolled": true
   },
   "outputs": [
    {
     "data": {
      "text/html": [
       "<div>\n",
       "<style scoped>\n",
       "    .dataframe tbody tr th:only-of-type {\n",
       "        vertical-align: middle;\n",
       "    }\n",
       "\n",
       "    .dataframe tbody tr th {\n",
       "        vertical-align: top;\n",
       "    }\n",
       "\n",
       "    .dataframe thead th {\n",
       "        text-align: right;\n",
       "    }\n",
       "</style>\n",
       "<table border=\"1\" class=\"dataframe\">\n",
       "  <thead>\n",
       "    <tr style=\"text-align: right;\">\n",
       "      <th></th>\n",
       "      <th>Player</th>\n",
       "      <th>Salary</th>\n",
       "      <th>NBA_Country</th>\n",
       "      <th>NBA_DraftNumber</th>\n",
       "      <th>Age</th>\n",
       "      <th>Tm</th>\n",
       "      <th>G</th>\n",
       "      <th>MP</th>\n",
       "      <th>PER</th>\n",
       "      <th>TS%</th>\n",
       "      <th>...</th>\n",
       "      <th>OWS</th>\n",
       "      <th>DWS</th>\n",
       "      <th>WS</th>\n",
       "      <th>WS/48</th>\n",
       "      <th>OBPM</th>\n",
       "      <th>DBPM</th>\n",
       "      <th>BPM</th>\n",
       "      <th>VORP</th>\n",
       "      <th>NBA_Country2</th>\n",
       "      <th>Tm2</th>\n",
       "    </tr>\n",
       "  </thead>\n",
       "  <tbody>\n",
       "    <tr>\n",
       "      <th>0</th>\n",
       "      <td>Zhou Qi</td>\n",
       "      <td>815615</td>\n",
       "      <td>China</td>\n",
       "      <td>43</td>\n",
       "      <td>22</td>\n",
       "      <td>HOU</td>\n",
       "      <td>16</td>\n",
       "      <td>87</td>\n",
       "      <td>0.6</td>\n",
       "      <td>0.303</td>\n",
       "      <td>...</td>\n",
       "      <td>-0.4</td>\n",
       "      <td>0.1</td>\n",
       "      <td>-0.2</td>\n",
       "      <td>-0.121</td>\n",
       "      <td>-10.6</td>\n",
       "      <td>0.5</td>\n",
       "      <td>-10.1</td>\n",
       "      <td>-0.2</td>\n",
       "      <td>0</td>\n",
       "      <td>0</td>\n",
       "    </tr>\n",
       "    <tr>\n",
       "      <th>1</th>\n",
       "      <td>Zaza Pachulia</td>\n",
       "      <td>3477600</td>\n",
       "      <td>Georgia</td>\n",
       "      <td>42</td>\n",
       "      <td>33</td>\n",
       "      <td>GSW</td>\n",
       "      <td>66</td>\n",
       "      <td>937</td>\n",
       "      <td>16.8</td>\n",
       "      <td>0.608</td>\n",
       "      <td>...</td>\n",
       "      <td>1.7</td>\n",
       "      <td>1.4</td>\n",
       "      <td>3.1</td>\n",
       "      <td>0.160</td>\n",
       "      <td>-0.6</td>\n",
       "      <td>1.3</td>\n",
       "      <td>0.8</td>\n",
       "      <td>0.7</td>\n",
       "      <td>1</td>\n",
       "      <td>1</td>\n",
       "    </tr>\n",
       "    <tr>\n",
       "      <th>2</th>\n",
       "      <td>Zach Randolph</td>\n",
       "      <td>12307692</td>\n",
       "      <td>USA</td>\n",
       "      <td>19</td>\n",
       "      <td>36</td>\n",
       "      <td>SAC</td>\n",
       "      <td>59</td>\n",
       "      <td>1508</td>\n",
       "      <td>17.3</td>\n",
       "      <td>0.529</td>\n",
       "      <td>...</td>\n",
       "      <td>0.3</td>\n",
       "      <td>1.1</td>\n",
       "      <td>1.4</td>\n",
       "      <td>0.046</td>\n",
       "      <td>-0.6</td>\n",
       "      <td>-1.3</td>\n",
       "      <td>-1.9</td>\n",
       "      <td>0.0</td>\n",
       "      <td>2</td>\n",
       "      <td>2</td>\n",
       "    </tr>\n",
       "    <tr>\n",
       "      <th>3</th>\n",
       "      <td>Zach LaVine</td>\n",
       "      <td>3202217</td>\n",
       "      <td>USA</td>\n",
       "      <td>13</td>\n",
       "      <td>22</td>\n",
       "      <td>CHI</td>\n",
       "      <td>24</td>\n",
       "      <td>656</td>\n",
       "      <td>14.6</td>\n",
       "      <td>0.499</td>\n",
       "      <td>...</td>\n",
       "      <td>-0.1</td>\n",
       "      <td>0.5</td>\n",
       "      <td>0.4</td>\n",
       "      <td>0.027</td>\n",
       "      <td>-0.7</td>\n",
       "      <td>-2.0</td>\n",
       "      <td>-2.6</td>\n",
       "      <td>-0.1</td>\n",
       "      <td>2</td>\n",
       "      <td>3</td>\n",
       "    </tr>\n",
       "    <tr>\n",
       "      <th>4</th>\n",
       "      <td>Zach Collins</td>\n",
       "      <td>3057240</td>\n",
       "      <td>USA</td>\n",
       "      <td>10</td>\n",
       "      <td>20</td>\n",
       "      <td>POR</td>\n",
       "      <td>62</td>\n",
       "      <td>979</td>\n",
       "      <td>8.2</td>\n",
       "      <td>0.487</td>\n",
       "      <td>...</td>\n",
       "      <td>-0.4</td>\n",
       "      <td>1.2</td>\n",
       "      <td>0.8</td>\n",
       "      <td>0.038</td>\n",
       "      <td>-3.7</td>\n",
       "      <td>0.9</td>\n",
       "      <td>-2.9</td>\n",
       "      <td>-0.2</td>\n",
       "      <td>2</td>\n",
       "      <td>4</td>\n",
       "    </tr>\n",
       "  </tbody>\n",
       "</table>\n",
       "<p>5 rows × 30 columns</p>\n",
       "</div>"
      ],
      "text/plain": [
       "          Player    Salary NBA_Country  NBA_DraftNumber  Age   Tm   G    MP  \\\n",
       "0        Zhou Qi    815615       China               43   22  HOU  16    87   \n",
       "1  Zaza Pachulia   3477600     Georgia               42   33  GSW  66   937   \n",
       "2  Zach Randolph  12307692         USA               19   36  SAC  59  1508   \n",
       "3    Zach LaVine   3202217         USA               13   22  CHI  24   656   \n",
       "4   Zach Collins   3057240         USA               10   20  POR  62   979   \n",
       "\n",
       "    PER    TS%  ...  OWS  DWS   WS  WS/48  OBPM  DBPM   BPM  VORP  \\\n",
       "0   0.6  0.303  ... -0.4  0.1 -0.2 -0.121 -10.6   0.5 -10.1  -0.2   \n",
       "1  16.8  0.608  ...  1.7  1.4  3.1  0.160  -0.6   1.3   0.8   0.7   \n",
       "2  17.3  0.529  ...  0.3  1.1  1.4  0.046  -0.6  -1.3  -1.9   0.0   \n",
       "3  14.6  0.499  ... -0.1  0.5  0.4  0.027  -0.7  -2.0  -2.6  -0.1   \n",
       "4   8.2  0.487  ... -0.4  1.2  0.8  0.038  -3.7   0.9  -2.9  -0.2   \n",
       "\n",
       "   NBA_Country2  Tm2  \n",
       "0             0    0  \n",
       "1             1    1  \n",
       "2             2    2  \n",
       "3             2    3  \n",
       "4             2    4  \n",
       "\n",
       "[5 rows x 30 columns]"
      ]
     },
     "execution_count": 28,
     "metadata": {},
     "output_type": "execute_result"
    }
   ],
   "source": [
    "data['NBA_Country2'] = data.NBA_Country.factorize()[0]\n",
    "data['Tm2'] = data.Tm.factorize()[0]\n",
    "data.head(5)"
   ]
  },
  {
   "cell_type": "markdown",
   "metadata": {},
   "source": [
    "## Modelos Predictivos"
   ]
  },
  {
   "cell_type": "markdown",
   "metadata": {},
   "source": [
    "### Modelo de Referencia (Baseline)"
   ]
  },
  {
   "cell_type": "markdown",
   "metadata": {},
   "source": [
    "### Variables independientes y objetivo"
   ]
  },
  {
   "cell_type": "code",
   "execution_count": 29,
   "metadata": {},
   "outputs": [
    {
     "name": "stdout",
     "output_type": "stream",
     "text": [
      "(474, 26)\n",
      "(474, 1)\n"
     ]
    }
   ],
   "source": [
    "x = data.iloc[:,2:].drop(columns = ['NBA_Country', 'Tm'])\n",
    "y = data.iloc[:,1:2]\n",
    "print(x.shape)\n",
    "print(y.shape)"
   ]
  },
  {
   "cell_type": "markdown",
   "metadata": {},
   "source": [
    "### 1. Regresión Lineal"
   ]
  },
  {
   "cell_type": "markdown",
   "metadata": {},
   "source": [
    "#### Protocolo de Evaluación"
   ]
  },
  {
   "cell_type": "code",
   "execution_count": 30,
   "metadata": {},
   "outputs": [],
   "source": [
    "from sklearn.model_selection import train_test_split #metodo de particionamiento de datasets para evaluación\n",
    "from sklearn import datasets, linear_model #datasets y modelos de aprendizaje automático (ML)\n",
    "from sklearn.metrics import mean_squared_error, mean_absolute_error, r2_score\n",
    "from scipy import stats #para poder hacer cálculos científicos --> valores p\n",
    "import statsmodels.api as sm\n",
    "from math import sqrt"
   ]
  },
  {
   "cell_type": "code",
   "execution_count": 31,
   "metadata": {},
   "outputs": [],
   "source": [
    "x_train, x_test, y_train, y_test = train_test_split(x, y, test_size=0.30, random_state=12345)"
   ]
  },
  {
   "cell_type": "code",
   "execution_count": 32,
   "metadata": {
    "scrolled": true
   },
   "outputs": [
    {
     "name": "stdout",
     "output_type": "stream",
     "text": [
      "x_train:  (331, 26)\n",
      "x_test:  (143, 26)\n",
      "y_train:  (331, 1)\n",
      "y_train:  (143, 1)\n"
     ]
    }
   ],
   "source": [
    "print(\"x_train: \",x_train.shape)\n",
    "print(\"x_test: \",x_test.shape)\n",
    "print(\"y_train: \",y_train.shape)\n",
    "print(\"y_train: \",y_test.shape)"
   ]
  },
  {
   "cell_type": "markdown",
   "metadata": {},
   "source": [
    "#### 1.0. Predicción baseline"
   ]
  },
  {
   "cell_type": "code",
   "execution_count": 32,
   "metadata": {},
   "outputs": [
    {
     "name": "stdout",
     "output_type": "stream",
     "text": [
      "MSE: 52196848600524.48 , R2: -0.0013460163761327415\n",
      "\n",
      "R2 adj: -0.2258\n"
     ]
    }
   ],
   "source": [
    "y_pred = np.full(x_test.shape[0], np.mean(data.Salary))\n",
    "print(\"MSE:\", mean_squared_error(y_test, y_pred), \", R2:\", r2_score(y_test, y_pred))\n",
    "\n",
    "r2_aj = 1 - (1-r2_score(y_test, y_pred))*(len(y_test)-1) / (len(y_test) - x_test.shape[1] - 1)\n",
    "print('\\nR2 adj: %.4f' %r2_aj)"
   ]
  },
  {
   "cell_type": "markdown",
   "metadata": {},
   "source": [
    "#### 1.1. Predicción usando todas las variables"
   ]
  },
  {
   "cell_type": "code",
   "execution_count": 33,
   "metadata": {
    "scrolled": true
   },
   "outputs": [
    {
     "data": {
      "text/plain": [
       "LinearRegression(copy_X=True, fit_intercept=True, n_jobs=None, normalize=True)"
      ]
     },
     "execution_count": 33,
     "metadata": {},
     "output_type": "execute_result"
    }
   ],
   "source": [
    "linear_reg = linear_model.LinearRegression(normalize=True)\n",
    "linear_reg.fit(x_train, y_train)"
   ]
  },
  {
   "cell_type": "code",
   "execution_count": 34,
   "metadata": {},
   "outputs": [
    {
     "name": "stdout",
     "output_type": "stream",
     "text": [
      "(331, 1)\n",
      "(143, 1)\n"
     ]
    }
   ],
   "source": [
    "y_train_pred = linear_reg.predict(x_train)\n",
    "y_test_pred = linear_reg.predict(x_test)\n",
    "print(y_train_pred.shape)\n",
    "print(y_test_pred.shape)"
   ]
  },
  {
   "cell_type": "markdown",
   "metadata": {},
   "source": [
    "##### 1.1.1. Métricas"
   ]
  },
  {
   "cell_type": "code",
   "execution_count": 35,
   "metadata": {},
   "outputs": [
    {
     "name": "stdout",
     "output_type": "stream",
     "text": [
      "MSE (train): 24078857339843.3125\n",
      "MSE (test) : 28729153976646.1680\n",
      "R2  (train): 0.5712\n",
      "R2  (test) : 0.4489\n"
     ]
    }
   ],
   "source": [
    "print(\"MSE (train): %.4f\" % mean_squared_error(y_train, y_train_pred))\n",
    "print(\"MSE (test) : %.4f\" % mean_squared_error(y_test, y_test_pred))\n",
    "print('R2  (train): %.4f' % r2_score(y_train, y_train_pred))\n",
    "print('R2  (test) : %.4f' % r2_score(y_test, y_test_pred))"
   ]
  },
  {
   "cell_type": "code",
   "execution_count": 36,
   "metadata": {
    "scrolled": true
   },
   "outputs": [
    {
     "name": "stdout",
     "output_type": "stream",
     "text": [
      "R2 adj (train): 0.5345\n",
      "R2 adj (test): 0.3253\n"
     ]
    }
   ],
   "source": [
    "r2_aj_train = 1 - (1-r2_score(y_train, y_train_pred))*(len(y_train)-1) / (len(y_train) - x_train.shape[1] - 1)\n",
    "print('R2 adj (train): %.4f' %r2_aj_train)\n",
    "r2_aj_test = 1 - (1-r2_score(y_test, y_test_pred))*(len(y_test)-1) / (len(y_test) - x_test.shape[1] - 1)\n",
    "print('R2 adj (test): %.4f' %r2_aj_test)"
   ]
  },
  {
   "cell_type": "markdown",
   "metadata": {},
   "source": [
    "#### 1.1.2. Análisis de los coeficientes"
   ]
  },
  {
   "cell_type": "code",
   "execution_count": 37,
   "metadata": {
    "scrolled": true
   },
   "outputs": [
    {
     "name": "stdout",
     "output_type": "stream",
     "text": [
      "     const  NBA_DraftNumber  Age   G    MP   PER    TS%   3PAr    FTr  ORB%  \\\n",
      "3      1.0               13   22  24   656  14.6  0.499  0.346  0.301   1.4   \n",
      "228    1.0                1   22  78  2770  24.8  0.645  0.249  0.351   9.3   \n",
      "301    1.0                9   22  78  1429  17.0  0.648  0.006  0.272  12.4   \n",
      "286    1.0               22   34  58  1483  11.2  0.487  0.193  0.167   1.5   \n",
      "399    1.0               27   29  19   141   8.4  0.559  0.489  0.064   2.4   \n",
      "\n",
      "     ...  OWS  DWS    WS  WS/48  OBPM  DBPM  BPM  VORP  NBA_Country2  Tm2  \n",
      "3    ... -0.1  0.5   0.4  0.027  -0.7  -2.0 -2.6  -0.1             2    3  \n",
      "228  ...  9.8  3.1  13.0  0.225   4.3   1.0  5.3   5.1             2   15  \n",
      "301  ...  2.9  2.2   5.1  0.170   0.3   2.9  3.2   1.9            34   30  \n",
      "286  ...  0.3  0.7   1.0  0.032  -2.0  -1.6 -3.6  -0.6             2   19  \n",
      "399  ... -0.2  0.1   0.0 -0.012  -3.5  -1.1 -4.6  -0.1             2    8  \n",
      "\n",
      "[5 rows x 27 columns]\n"
     ]
    },
    {
     "name": "stderr",
     "output_type": "stream",
     "text": [
      "C:\\Users\\juand\\Anaconda3\\lib\\site-packages\\numpy\\core\\fromnumeric.py:2389: FutureWarning: Method .ptp is deprecated and will be removed in a future version. Use numpy.ptp instead.\n",
      "  return ptp(axis=axis, out=out, **kwargs)\n"
     ]
    }
   ],
   "source": [
    "x2_train = sm.add_constant(x_train)\n",
    "print(x2_train.head())"
   ]
  },
  {
   "cell_type": "code",
   "execution_count": 38,
   "metadata": {
    "scrolled": true
   },
   "outputs": [
    {
     "data": {
      "text/html": [
       "<table class=\"simpletable\">\n",
       "<caption>OLS Regression Results</caption>\n",
       "<tr>\n",
       "  <th>Dep. Variable:</th>         <td>Salary</td>      <th>  R-squared:         </th> <td>   0.571</td> \n",
       "</tr>\n",
       "<tr>\n",
       "  <th>Model:</th>                   <td>OLS</td>       <th>  Adj. R-squared:    </th> <td>   0.535</td> \n",
       "</tr>\n",
       "<tr>\n",
       "  <th>Method:</th>             <td>Least Squares</td>  <th>  F-statistic:       </th> <td>   15.57</td> \n",
       "</tr>\n",
       "<tr>\n",
       "  <th>Date:</th>             <td>Tue, 03 Nov 2020</td> <th>  Prob (F-statistic):</th> <td>8.52e-42</td> \n",
       "</tr>\n",
       "<tr>\n",
       "  <th>Time:</th>                 <td>00:18:23</td>     <th>  Log-Likelihood:    </th> <td> -5569.1</td> \n",
       "</tr>\n",
       "<tr>\n",
       "  <th>No. Observations:</th>      <td>   331</td>      <th>  AIC:               </th> <td>1.119e+04</td>\n",
       "</tr>\n",
       "<tr>\n",
       "  <th>Df Residuals:</th>          <td>   304</td>      <th>  BIC:               </th> <td>1.129e+04</td>\n",
       "</tr>\n",
       "<tr>\n",
       "  <th>Df Model:</th>              <td>    26</td>      <th>                     </th>     <td> </td>    \n",
       "</tr>\n",
       "<tr>\n",
       "  <th>Covariance Type:</th>      <td>nonrobust</td>    <th>                     </th>     <td> </td>    \n",
       "</tr>\n",
       "</table>\n",
       "<table class=\"simpletable\">\n",
       "<tr>\n",
       "         <td></td>            <th>coef</th>     <th>std err</th>      <th>t</th>      <th>P>|t|</th>  <th>[0.025</th>    <th>0.975]</th>  \n",
       "</tr>\n",
       "<tr>\n",
       "  <th>const</th>           <td> 4.616e+06</td> <td> 7.16e+06</td> <td>    0.644</td> <td> 0.520</td> <td>-9.48e+06</td> <td> 1.87e+07</td>\n",
       "</tr>\n",
       "<tr>\n",
       "  <th>NBA_DraftNumber</th> <td>-6.471e+04</td> <td> 1.63e+04</td> <td>   -3.982</td> <td> 0.000</td> <td>-9.67e+04</td> <td>-3.27e+04</td>\n",
       "</tr>\n",
       "<tr>\n",
       "  <th>Age</th>             <td> 6.163e+05</td> <td> 7.06e+04</td> <td>    8.724</td> <td> 0.000</td> <td> 4.77e+05</td> <td> 7.55e+05</td>\n",
       "</tr>\n",
       "<tr>\n",
       "  <th>G</th>               <td>-1.805e+05</td> <td>  3.1e+04</td> <td>   -5.828</td> <td> 0.000</td> <td>-2.41e+05</td> <td> -1.2e+05</td>\n",
       "</tr>\n",
       "<tr>\n",
       "  <th>MP</th>              <td> 6651.9938</td> <td> 1418.699</td> <td>    4.689</td> <td> 0.000</td> <td> 3860.281</td> <td> 9443.706</td>\n",
       "</tr>\n",
       "<tr>\n",
       "  <th>PER</th>             <td>-5.214e+05</td> <td> 4.26e+05</td> <td>   -1.223</td> <td> 0.222</td> <td>-1.36e+06</td> <td> 3.18e+05</td>\n",
       "</tr>\n",
       "<tr>\n",
       "  <th>TS%</th>             <td>-1.797e+07</td> <td>  9.9e+06</td> <td>   -1.815</td> <td> 0.071</td> <td>-3.75e+07</td> <td> 1.51e+06</td>\n",
       "</tr>\n",
       "<tr>\n",
       "  <th>3PAr</th>            <td>-4.964e+06</td> <td> 3.21e+06</td> <td>   -1.545</td> <td> 0.123</td> <td>-1.13e+07</td> <td> 1.36e+06</td>\n",
       "</tr>\n",
       "<tr>\n",
       "  <th>FTr</th>             <td> 6.611e+05</td> <td> 2.91e+06</td> <td>    0.227</td> <td> 0.820</td> <td>-5.06e+06</td> <td> 6.38e+06</td>\n",
       "</tr>\n",
       "<tr>\n",
       "  <th>ORB%</th>            <td>-1.952e+05</td> <td> 1.11e+06</td> <td>   -0.175</td> <td> 0.861</td> <td>-2.39e+06</td> <td>    2e+06</td>\n",
       "</tr>\n",
       "<tr>\n",
       "  <th>DRB%</th>            <td> 2.774e+05</td> <td> 1.14e+06</td> <td>    0.244</td> <td> 0.808</td> <td>-1.96e+06</td> <td> 2.52e+06</td>\n",
       "</tr>\n",
       "<tr>\n",
       "  <th>TRB%</th>            <td>-1.604e+05</td> <td> 2.25e+06</td> <td>   -0.071</td> <td> 0.943</td> <td>-4.59e+06</td> <td> 4.26e+06</td>\n",
       "</tr>\n",
       "<tr>\n",
       "  <th>AST%</th>            <td>-1.788e+05</td> <td> 7.29e+04</td> <td>   -2.455</td> <td> 0.015</td> <td>-3.22e+05</td> <td>-3.55e+04</td>\n",
       "</tr>\n",
       "<tr>\n",
       "  <th>STL%</th>            <td>-5.573e+04</td> <td> 5.93e+05</td> <td>   -0.094</td> <td> 0.925</td> <td>-1.22e+06</td> <td> 1.11e+06</td>\n",
       "</tr>\n",
       "<tr>\n",
       "  <th>BLK%</th>            <td> 1.405e+05</td> <td> 4.01e+05</td> <td>    0.350</td> <td> 0.726</td> <td>-6.49e+05</td> <td>  9.3e+05</td>\n",
       "</tr>\n",
       "<tr>\n",
       "  <th>TOV%</th>            <td> 1.844e+05</td> <td> 1.11e+05</td> <td>    1.659</td> <td> 0.098</td> <td>-3.43e+04</td> <td> 4.03e+05</td>\n",
       "</tr>\n",
       "<tr>\n",
       "  <th>USG%</th>            <td> 2.127e+05</td> <td> 1.64e+05</td> <td>    1.296</td> <td> 0.196</td> <td> -1.1e+05</td> <td> 5.36e+05</td>\n",
       "</tr>\n",
       "<tr>\n",
       "  <th>OWS</th>             <td>  5.33e+06</td> <td>  5.5e+06</td> <td>    0.969</td> <td> 0.334</td> <td> -5.5e+06</td> <td> 1.62e+07</td>\n",
       "</tr>\n",
       "<tr>\n",
       "  <th>DWS</th>             <td> 5.207e+06</td> <td>  5.5e+06</td> <td>    0.947</td> <td> 0.344</td> <td>-5.61e+06</td> <td>  1.6e+07</td>\n",
       "</tr>\n",
       "<tr>\n",
       "  <th>WS</th>              <td>-5.564e+06</td> <td> 5.49e+06</td> <td>   -1.014</td> <td> 0.311</td> <td>-1.64e+07</td> <td> 5.23e+06</td>\n",
       "</tr>\n",
       "<tr>\n",
       "  <th>WS/48</th>           <td> 3.209e+07</td> <td> 2.33e+07</td> <td>    1.379</td> <td> 0.169</td> <td>-1.37e+07</td> <td> 7.79e+07</td>\n",
       "</tr>\n",
       "<tr>\n",
       "  <th>OBPM</th>            <td> 5.305e+06</td> <td>    6e+06</td> <td>    0.884</td> <td> 0.377</td> <td> -6.5e+06</td> <td> 1.71e+07</td>\n",
       "</tr>\n",
       "<tr>\n",
       "  <th>DBPM</th>            <td>  4.08e+06</td> <td> 5.91e+06</td> <td>    0.691</td> <td> 0.490</td> <td>-7.54e+06</td> <td> 1.57e+07</td>\n",
       "</tr>\n",
       "<tr>\n",
       "  <th>BPM</th>             <td> -4.33e+06</td> <td> 5.93e+06</td> <td>   -0.731</td> <td> 0.465</td> <td> -1.6e+07</td> <td> 7.33e+06</td>\n",
       "</tr>\n",
       "<tr>\n",
       "  <th>VORP</th>            <td> 1.466e+06</td> <td> 8.06e+05</td> <td>    1.818</td> <td> 0.070</td> <td> -1.2e+05</td> <td> 3.05e+06</td>\n",
       "</tr>\n",
       "<tr>\n",
       "  <th>NBA_Country2</th>    <td>-3362.0581</td> <td> 3.37e+04</td> <td>   -0.100</td> <td> 0.921</td> <td>-6.96e+04</td> <td> 6.29e+04</td>\n",
       "</tr>\n",
       "<tr>\n",
       "  <th>Tm2</th>             <td> 1.309e+04</td> <td>  3.3e+04</td> <td>    0.397</td> <td> 0.692</td> <td>-5.18e+04</td> <td>  7.8e+04</td>\n",
       "</tr>\n",
       "</table>\n",
       "<table class=\"simpletable\">\n",
       "<tr>\n",
       "  <th>Omnibus:</th>       <td>27.306</td> <th>  Durbin-Watson:     </th> <td>   1.936</td>\n",
       "</tr>\n",
       "<tr>\n",
       "  <th>Prob(Omnibus):</th> <td> 0.000</td> <th>  Jarque-Bera (JB):  </th> <td>  44.085</td>\n",
       "</tr>\n",
       "<tr>\n",
       "  <th>Skew:</th>          <td> 0.531</td> <th>  Prob(JB):          </th> <td>2.67e-10</td>\n",
       "</tr>\n",
       "<tr>\n",
       "  <th>Kurtosis:</th>      <td> 4.438</td> <th>  Cond. No.          </th> <td>1.16e+05</td>\n",
       "</tr>\n",
       "</table><br/><br/>Warnings:<br/>[1] Standard Errors assume that the covariance matrix of the errors is correctly specified.<br/>[2] The condition number is large, 1.16e+05. This might indicate that there are<br/>strong multicollinearity or other numerical problems."
      ],
      "text/plain": [
       "<class 'statsmodels.iolib.summary.Summary'>\n",
       "\"\"\"\n",
       "                            OLS Regression Results                            \n",
       "==============================================================================\n",
       "Dep. Variable:                 Salary   R-squared:                       0.571\n",
       "Model:                            OLS   Adj. R-squared:                  0.535\n",
       "Method:                 Least Squares   F-statistic:                     15.57\n",
       "Date:                Tue, 03 Nov 2020   Prob (F-statistic):           8.52e-42\n",
       "Time:                        00:18:23   Log-Likelihood:                -5569.1\n",
       "No. Observations:                 331   AIC:                         1.119e+04\n",
       "Df Residuals:                     304   BIC:                         1.129e+04\n",
       "Df Model:                          26                                         \n",
       "Covariance Type:            nonrobust                                         \n",
       "===================================================================================\n",
       "                      coef    std err          t      P>|t|      [0.025      0.975]\n",
       "-----------------------------------------------------------------------------------\n",
       "const            4.616e+06   7.16e+06      0.644      0.520   -9.48e+06    1.87e+07\n",
       "NBA_DraftNumber -6.471e+04   1.63e+04     -3.982      0.000   -9.67e+04   -3.27e+04\n",
       "Age              6.163e+05   7.06e+04      8.724      0.000    4.77e+05    7.55e+05\n",
       "G               -1.805e+05    3.1e+04     -5.828      0.000   -2.41e+05    -1.2e+05\n",
       "MP               6651.9938   1418.699      4.689      0.000    3860.281    9443.706\n",
       "PER             -5.214e+05   4.26e+05     -1.223      0.222   -1.36e+06    3.18e+05\n",
       "TS%             -1.797e+07    9.9e+06     -1.815      0.071   -3.75e+07    1.51e+06\n",
       "3PAr            -4.964e+06   3.21e+06     -1.545      0.123   -1.13e+07    1.36e+06\n",
       "FTr              6.611e+05   2.91e+06      0.227      0.820   -5.06e+06    6.38e+06\n",
       "ORB%            -1.952e+05   1.11e+06     -0.175      0.861   -2.39e+06       2e+06\n",
       "DRB%             2.774e+05   1.14e+06      0.244      0.808   -1.96e+06    2.52e+06\n",
       "TRB%            -1.604e+05   2.25e+06     -0.071      0.943   -4.59e+06    4.26e+06\n",
       "AST%            -1.788e+05   7.29e+04     -2.455      0.015   -3.22e+05   -3.55e+04\n",
       "STL%            -5.573e+04   5.93e+05     -0.094      0.925   -1.22e+06    1.11e+06\n",
       "BLK%             1.405e+05   4.01e+05      0.350      0.726   -6.49e+05     9.3e+05\n",
       "TOV%             1.844e+05   1.11e+05      1.659      0.098   -3.43e+04    4.03e+05\n",
       "USG%             2.127e+05   1.64e+05      1.296      0.196    -1.1e+05    5.36e+05\n",
       "OWS               5.33e+06    5.5e+06      0.969      0.334    -5.5e+06    1.62e+07\n",
       "DWS              5.207e+06    5.5e+06      0.947      0.344   -5.61e+06     1.6e+07\n",
       "WS              -5.564e+06   5.49e+06     -1.014      0.311   -1.64e+07    5.23e+06\n",
       "WS/48            3.209e+07   2.33e+07      1.379      0.169   -1.37e+07    7.79e+07\n",
       "OBPM             5.305e+06      6e+06      0.884      0.377    -6.5e+06    1.71e+07\n",
       "DBPM              4.08e+06   5.91e+06      0.691      0.490   -7.54e+06    1.57e+07\n",
       "BPM              -4.33e+06   5.93e+06     -0.731      0.465    -1.6e+07    7.33e+06\n",
       "VORP             1.466e+06   8.06e+05      1.818      0.070    -1.2e+05    3.05e+06\n",
       "NBA_Country2    -3362.0581   3.37e+04     -0.100      0.921   -6.96e+04    6.29e+04\n",
       "Tm2              1.309e+04    3.3e+04      0.397      0.692   -5.18e+04     7.8e+04\n",
       "==============================================================================\n",
       "Omnibus:                       27.306   Durbin-Watson:                   1.936\n",
       "Prob(Omnibus):                  0.000   Jarque-Bera (JB):               44.085\n",
       "Skew:                           0.531   Prob(JB):                     2.67e-10\n",
       "Kurtosis:                       4.438   Cond. No.                     1.16e+05\n",
       "==============================================================================\n",
       "\n",
       "Warnings:\n",
       "[1] Standard Errors assume that the covariance matrix of the errors is correctly specified.\n",
       "[2] The condition number is large, 1.16e+05. This might indicate that there are\n",
       "strong multicollinearity or other numerical problems.\n",
       "\"\"\""
      ]
     },
     "execution_count": 38,
     "metadata": {},
     "output_type": "execute_result"
    }
   ],
   "source": [
    "modeloStats = sm.OLS(y_train, x2_train)\n",
    "results = modeloStats.fit();\n",
    "#Consultamos la calidad del modelo a partir de sus estadísticas\n",
    "results.summary()"
   ]
  },
  {
   "cell_type": "markdown",
   "metadata": {},
   "source": [
    "Como puede verse en el resultado de las pruebas de hipótesis los coeficientes que son significativos para el modelo son:\n",
    "NBA_DraftNumber, Age, G, MP, AST%.\n",
    "\n",
    "También es posible que haya problemas de multicolinealidad como lo especifica la advertencia #2. A continuación construiremos una matriz de correlación para dar mayor claridad sobre la relación entre las variables."
   ]
  },
  {
   "cell_type": "code",
   "execution_count": 41,
   "metadata": {},
   "outputs": [
    {
     "data": {
      "text/html": [
       "<div>\n",
       "<style scoped>\n",
       "    .dataframe tbody tr th:only-of-type {\n",
       "        vertical-align: middle;\n",
       "    }\n",
       "\n",
       "    .dataframe tbody tr th {\n",
       "        vertical-align: top;\n",
       "    }\n",
       "\n",
       "    .dataframe thead th {\n",
       "        text-align: right;\n",
       "    }\n",
       "</style>\n",
       "<table border=\"1\" class=\"dataframe\">\n",
       "  <thead>\n",
       "    <tr style=\"text-align: right;\">\n",
       "      <th></th>\n",
       "      <th>NBA_DraftNumber</th>\n",
       "      <th>Age</th>\n",
       "      <th>G</th>\n",
       "      <th>MP</th>\n",
       "      <th>PER</th>\n",
       "      <th>TS%</th>\n",
       "      <th>3PAr</th>\n",
       "      <th>FTr</th>\n",
       "      <th>ORB%</th>\n",
       "      <th>DRB%</th>\n",
       "      <th>...</th>\n",
       "      <th>DWS</th>\n",
       "      <th>WS</th>\n",
       "      <th>WS/48</th>\n",
       "      <th>OBPM</th>\n",
       "      <th>DBPM</th>\n",
       "      <th>BPM</th>\n",
       "      <th>VORP</th>\n",
       "      <th>NBA_Country2</th>\n",
       "      <th>Tm2</th>\n",
       "      <th>Salary</th>\n",
       "    </tr>\n",
       "  </thead>\n",
       "  <tbody>\n",
       "    <tr>\n",
       "      <th>NBA_DraftNumber</th>\n",
       "      <td>1.000000</td>\n",
       "      <td>0.027979</td>\n",
       "      <td>-0.282847</td>\n",
       "      <td>-0.346984</td>\n",
       "      <td>-0.366332</td>\n",
       "      <td>-0.164489</td>\n",
       "      <td>0.223567</td>\n",
       "      <td>-0.088247</td>\n",
       "      <td>-0.086241</td>\n",
       "      <td>-0.176484</td>\n",
       "      <td>...</td>\n",
       "      <td>-0.323039</td>\n",
       "      <td>-0.324691</td>\n",
       "      <td>-0.272885</td>\n",
       "      <td>-0.311156</td>\n",
       "      <td>-0.144516</td>\n",
       "      <td>-0.313881</td>\n",
       "      <td>-0.269370</td>\n",
       "      <td>0.046761</td>\n",
       "      <td>0.010675</td>\n",
       "      <td>-0.349851</td>\n",
       "    </tr>\n",
       "    <tr>\n",
       "      <th>Age</th>\n",
       "      <td>0.027979</td>\n",
       "      <td>1.000000</td>\n",
       "      <td>0.093667</td>\n",
       "      <td>0.116491</td>\n",
       "      <td>0.101049</td>\n",
       "      <td>0.090524</td>\n",
       "      <td>0.012019</td>\n",
       "      <td>-0.005010</td>\n",
       "      <td>0.007495</td>\n",
       "      <td>0.012696</td>\n",
       "      <td>...</td>\n",
       "      <td>0.103481</td>\n",
       "      <td>0.155976</td>\n",
       "      <td>0.116450</td>\n",
       "      <td>0.139185</td>\n",
       "      <td>0.009553</td>\n",
       "      <td>0.110655</td>\n",
       "      <td>0.129026</td>\n",
       "      <td>-0.021452</td>\n",
       "      <td>-0.075753</td>\n",
       "      <td>0.396991</td>\n",
       "    </tr>\n",
       "    <tr>\n",
       "      <th>G</th>\n",
       "      <td>-0.282847</td>\n",
       "      <td>0.093667</td>\n",
       "      <td>1.000000</td>\n",
       "      <td>0.862070</td>\n",
       "      <td>0.384300</td>\n",
       "      <td>0.350116</td>\n",
       "      <td>-0.050334</td>\n",
       "      <td>0.041416</td>\n",
       "      <td>-0.071499</td>\n",
       "      <td>0.116889</td>\n",
       "      <td>...</td>\n",
       "      <td>0.715296</td>\n",
       "      <td>0.609628</td>\n",
       "      <td>0.433377</td>\n",
       "      <td>0.524234</td>\n",
       "      <td>0.363787</td>\n",
       "      <td>0.597482</td>\n",
       "      <td>0.399211</td>\n",
       "      <td>0.046334</td>\n",
       "      <td>0.026233</td>\n",
       "      <td>0.236444</td>\n",
       "    </tr>\n",
       "    <tr>\n",
       "      <th>MP</th>\n",
       "      <td>-0.346984</td>\n",
       "      <td>0.116491</td>\n",
       "      <td>0.862070</td>\n",
       "      <td>1.000000</td>\n",
       "      <td>0.480185</td>\n",
       "      <td>0.312502</td>\n",
       "      <td>-0.027325</td>\n",
       "      <td>0.050476</td>\n",
       "      <td>-0.121408</td>\n",
       "      <td>0.088846</td>\n",
       "      <td>...</td>\n",
       "      <td>0.827779</td>\n",
       "      <td>0.770320</td>\n",
       "      <td>0.420969</td>\n",
       "      <td>0.622569</td>\n",
       "      <td>0.288868</td>\n",
       "      <td>0.631052</td>\n",
       "      <td>0.622455</td>\n",
       "      <td>0.015245</td>\n",
       "      <td>0.010725</td>\n",
       "      <td>0.474630</td>\n",
       "    </tr>\n",
       "    <tr>\n",
       "      <th>PER</th>\n",
       "      <td>-0.366332</td>\n",
       "      <td>0.101049</td>\n",
       "      <td>0.384300</td>\n",
       "      <td>0.480185</td>\n",
       "      <td>1.000000</td>\n",
       "      <td>0.698256</td>\n",
       "      <td>-0.458469</td>\n",
       "      <td>0.436331</td>\n",
       "      <td>0.295666</td>\n",
       "      <td>0.399348</td>\n",
       "      <td>...</td>\n",
       "      <td>0.547306</td>\n",
       "      <td>0.687396</td>\n",
       "      <td>0.879845</td>\n",
       "      <td>0.823685</td>\n",
       "      <td>0.289361</td>\n",
       "      <td>0.783842</td>\n",
       "      <td>0.627185</td>\n",
       "      <td>0.120323</td>\n",
       "      <td>0.033889</td>\n",
       "      <td>0.430147</td>\n",
       "    </tr>\n",
       "    <tr>\n",
       "      <th>TS%</th>\n",
       "      <td>-0.164489</td>\n",
       "      <td>0.090524</td>\n",
       "      <td>0.350116</td>\n",
       "      <td>0.312502</td>\n",
       "      <td>0.698256</td>\n",
       "      <td>1.000000</td>\n",
       "      <td>-0.267145</td>\n",
       "      <td>0.293733</td>\n",
       "      <td>0.186795</td>\n",
       "      <td>0.131359</td>\n",
       "      <td>...</td>\n",
       "      <td>0.307520</td>\n",
       "      <td>0.407011</td>\n",
       "      <td>0.772303</td>\n",
       "      <td>0.715744</td>\n",
       "      <td>0.128692</td>\n",
       "      <td>0.614508</td>\n",
       "      <td>0.316493</td>\n",
       "      <td>0.075709</td>\n",
       "      <td>0.072167</td>\n",
       "      <td>0.199065</td>\n",
       "    </tr>\n",
       "    <tr>\n",
       "      <th>3PAr</th>\n",
       "      <td>0.223567</td>\n",
       "      <td>0.012019</td>\n",
       "      <td>-0.050334</td>\n",
       "      <td>-0.027325</td>\n",
       "      <td>-0.458469</td>\n",
       "      <td>-0.267145</td>\n",
       "      <td>1.000000</td>\n",
       "      <td>-0.487637</td>\n",
       "      <td>-0.649981</td>\n",
       "      <td>-0.406625</td>\n",
       "      <td>...</td>\n",
       "      <td>-0.165107</td>\n",
       "      <td>-0.177394</td>\n",
       "      <td>-0.356335</td>\n",
       "      <td>-0.039190</td>\n",
       "      <td>-0.311530</td>\n",
       "      <td>-0.200303</td>\n",
       "      <td>-0.117409</td>\n",
       "      <td>-0.089969</td>\n",
       "      <td>-0.028918</td>\n",
       "      <td>-0.082234</td>\n",
       "    </tr>\n",
       "    <tr>\n",
       "      <th>FTr</th>\n",
       "      <td>-0.088247</td>\n",
       "      <td>-0.005010</td>\n",
       "      <td>0.041416</td>\n",
       "      <td>0.050476</td>\n",
       "      <td>0.436331</td>\n",
       "      <td>0.293733</td>\n",
       "      <td>-0.487637</td>\n",
       "      <td>1.000000</td>\n",
       "      <td>0.376237</td>\n",
       "      <td>0.374880</td>\n",
       "      <td>...</td>\n",
       "      <td>0.175601</td>\n",
       "      <td>0.253749</td>\n",
       "      <td>0.431972</td>\n",
       "      <td>0.174290</td>\n",
       "      <td>0.275865</td>\n",
       "      <td>0.283443</td>\n",
       "      <td>0.227880</td>\n",
       "      <td>0.078293</td>\n",
       "      <td>0.081604</td>\n",
       "      <td>0.148761</td>\n",
       "    </tr>\n",
       "    <tr>\n",
       "      <th>ORB%</th>\n",
       "      <td>-0.086241</td>\n",
       "      <td>0.007495</td>\n",
       "      <td>-0.071499</td>\n",
       "      <td>-0.121408</td>\n",
       "      <td>0.295666</td>\n",
       "      <td>0.186795</td>\n",
       "      <td>-0.649981</td>\n",
       "      <td>0.376237</td>\n",
       "      <td>1.000000</td>\n",
       "      <td>0.516542</td>\n",
       "      <td>...</td>\n",
       "      <td>0.078804</td>\n",
       "      <td>0.128061</td>\n",
       "      <td>0.298359</td>\n",
       "      <td>-0.043829</td>\n",
       "      <td>0.218056</td>\n",
       "      <td>0.086198</td>\n",
       "      <td>0.091348</td>\n",
       "      <td>0.152930</td>\n",
       "      <td>0.008741</td>\n",
       "      <td>0.010086</td>\n",
       "    </tr>\n",
       "    <tr>\n",
       "      <th>DRB%</th>\n",
       "      <td>-0.176484</td>\n",
       "      <td>0.012696</td>\n",
       "      <td>0.116889</td>\n",
       "      <td>0.088846</td>\n",
       "      <td>0.399348</td>\n",
       "      <td>0.131359</td>\n",
       "      <td>-0.406625</td>\n",
       "      <td>0.374880</td>\n",
       "      <td>0.516542</td>\n",
       "      <td>1.000000</td>\n",
       "      <td>...</td>\n",
       "      <td>0.330343</td>\n",
       "      <td>0.301070</td>\n",
       "      <td>0.355371</td>\n",
       "      <td>0.011491</td>\n",
       "      <td>0.468630</td>\n",
       "      <td>0.264630</td>\n",
       "      <td>0.263941</td>\n",
       "      <td>0.229703</td>\n",
       "      <td>-0.025278</td>\n",
       "      <td>0.189913</td>\n",
       "    </tr>\n",
       "    <tr>\n",
       "      <th>TRB%</th>\n",
       "      <td>-0.162394</td>\n",
       "      <td>0.014169</td>\n",
       "      <td>0.050298</td>\n",
       "      <td>0.009255</td>\n",
       "      <td>0.412085</td>\n",
       "      <td>0.178457</td>\n",
       "      <td>-0.572047</td>\n",
       "      <td>0.427664</td>\n",
       "      <td>0.804058</td>\n",
       "      <td>0.923803</td>\n",
       "      <td>...</td>\n",
       "      <td>0.270174</td>\n",
       "      <td>0.272229</td>\n",
       "      <td>0.385500</td>\n",
       "      <td>-0.007683</td>\n",
       "      <td>0.424439</td>\n",
       "      <td>0.226123</td>\n",
       "      <td>0.229989</td>\n",
       "      <td>0.228279</td>\n",
       "      <td>-0.011337</td>\n",
       "      <td>0.139816</td>\n",
       "    </tr>\n",
       "    <tr>\n",
       "      <th>AST%</th>\n",
       "      <td>-0.158010</td>\n",
       "      <td>0.142118</td>\n",
       "      <td>0.151270</td>\n",
       "      <td>0.317834</td>\n",
       "      <td>0.419010</td>\n",
       "      <td>0.134270</td>\n",
       "      <td>-0.064131</td>\n",
       "      <td>0.041309</td>\n",
       "      <td>-0.325799</td>\n",
       "      <td>-0.179509</td>\n",
       "      <td>...</td>\n",
       "      <td>0.254229</td>\n",
       "      <td>0.296369</td>\n",
       "      <td>0.230548</td>\n",
       "      <td>0.499529</td>\n",
       "      <td>0.035182</td>\n",
       "      <td>0.398376</td>\n",
       "      <td>0.388312</td>\n",
       "      <td>-0.038992</td>\n",
       "      <td>-0.009693</td>\n",
       "      <td>0.265646</td>\n",
       "    </tr>\n",
       "    <tr>\n",
       "      <th>STL%</th>\n",
       "      <td>0.056804</td>\n",
       "      <td>-0.017142</td>\n",
       "      <td>-0.013477</td>\n",
       "      <td>0.036045</td>\n",
       "      <td>0.027833</td>\n",
       "      <td>-0.173507</td>\n",
       "      <td>0.029335</td>\n",
       "      <td>0.065095</td>\n",
       "      <td>-0.136726</td>\n",
       "      <td>-0.124681</td>\n",
       "      <td>...</td>\n",
       "      <td>0.113204</td>\n",
       "      <td>0.045958</td>\n",
       "      <td>-0.033803</td>\n",
       "      <td>0.040692</td>\n",
       "      <td>0.413208</td>\n",
       "      <td>0.258236</td>\n",
       "      <td>0.154708</td>\n",
       "      <td>-0.112294</td>\n",
       "      <td>-0.041235</td>\n",
       "      <td>0.003143</td>\n",
       "    </tr>\n",
       "    <tr>\n",
       "      <th>BLK%</th>\n",
       "      <td>-0.155943</td>\n",
       "      <td>-0.016172</td>\n",
       "      <td>0.096625</td>\n",
       "      <td>0.026337</td>\n",
       "      <td>0.344947</td>\n",
       "      <td>0.209140</td>\n",
       "      <td>-0.400307</td>\n",
       "      <td>0.345928</td>\n",
       "      <td>0.438741</td>\n",
       "      <td>0.478901</td>\n",
       "      <td>...</td>\n",
       "      <td>0.268555</td>\n",
       "      <td>0.211225</td>\n",
       "      <td>0.347432</td>\n",
       "      <td>0.026496</td>\n",
       "      <td>0.628922</td>\n",
       "      <td>0.364251</td>\n",
       "      <td>0.226049</td>\n",
       "      <td>0.149483</td>\n",
       "      <td>0.037560</td>\n",
       "      <td>0.075643</td>\n",
       "    </tr>\n",
       "    <tr>\n",
       "      <th>TOV%</th>\n",
       "      <td>0.094204</td>\n",
       "      <td>0.091413</td>\n",
       "      <td>-0.098175</td>\n",
       "      <td>-0.089888</td>\n",
       "      <td>0.016545</td>\n",
       "      <td>0.297401</td>\n",
       "      <td>-0.234648</td>\n",
       "      <td>0.215346</td>\n",
       "      <td>0.088774</td>\n",
       "      <td>-0.013454</td>\n",
       "      <td>...</td>\n",
       "      <td>-0.012292</td>\n",
       "      <td>-0.088163</td>\n",
       "      <td>-0.023987</td>\n",
       "      <td>-0.054442</td>\n",
       "      <td>0.216181</td>\n",
       "      <td>0.077767</td>\n",
       "      <td>0.001221</td>\n",
       "      <td>0.030680</td>\n",
       "      <td>-0.003942</td>\n",
       "      <td>-0.022240</td>\n",
       "    </tr>\n",
       "    <tr>\n",
       "      <th>USG%</th>\n",
       "      <td>-0.295603</td>\n",
       "      <td>0.030952</td>\n",
       "      <td>0.097326</td>\n",
       "      <td>0.323294</td>\n",
       "      <td>0.574616</td>\n",
       "      <td>0.137761</td>\n",
       "      <td>-0.164851</td>\n",
       "      <td>0.146550</td>\n",
       "      <td>-0.061331</td>\n",
       "      <td>0.108120</td>\n",
       "      <td>...</td>\n",
       "      <td>0.288771</td>\n",
       "      <td>0.343452</td>\n",
       "      <td>0.192047</td>\n",
       "      <td>0.430451</td>\n",
       "      <td>-0.174300</td>\n",
       "      <td>0.231104</td>\n",
       "      <td>0.365696</td>\n",
       "      <td>0.015903</td>\n",
       "      <td>-0.031058</td>\n",
       "      <td>0.352269</td>\n",
       "    </tr>\n",
       "    <tr>\n",
       "      <th>OWS</th>\n",
       "      <td>-0.284015</td>\n",
       "      <td>0.164191</td>\n",
       "      <td>0.476901</td>\n",
       "      <td>0.643131</td>\n",
       "      <td>0.677412</td>\n",
       "      <td>0.410018</td>\n",
       "      <td>-0.163125</td>\n",
       "      <td>0.264655</td>\n",
       "      <td>0.139018</td>\n",
       "      <td>0.248228</td>\n",
       "      <td>...</td>\n",
       "      <td>0.654334</td>\n",
       "      <td>0.957613</td>\n",
       "      <td>0.669799</td>\n",
       "      <td>0.695771</td>\n",
       "      <td>0.242684</td>\n",
       "      <td>0.661754</td>\n",
       "      <td>0.875522</td>\n",
       "      <td>0.088285</td>\n",
       "      <td>0.018544</td>\n",
       "      <td>0.528523</td>\n",
       "    </tr>\n",
       "    <tr>\n",
       "      <th>DWS</th>\n",
       "      <td>-0.323039</td>\n",
       "      <td>0.103481</td>\n",
       "      <td>0.715296</td>\n",
       "      <td>0.827779</td>\n",
       "      <td>0.547306</td>\n",
       "      <td>0.307520</td>\n",
       "      <td>-0.165107</td>\n",
       "      <td>0.175601</td>\n",
       "      <td>0.078804</td>\n",
       "      <td>0.330343</td>\n",
       "      <td>...</td>\n",
       "      <td>1.000000</td>\n",
       "      <td>0.843893</td>\n",
       "      <td>0.546566</td>\n",
       "      <td>0.529354</td>\n",
       "      <td>0.531191</td>\n",
       "      <td>0.692819</td>\n",
       "      <td>0.755026</td>\n",
       "      <td>0.099165</td>\n",
       "      <td>0.066164</td>\n",
       "      <td>0.474727</td>\n",
       "    </tr>\n",
       "    <tr>\n",
       "      <th>WS</th>\n",
       "      <td>-0.324691</td>\n",
       "      <td>0.155976</td>\n",
       "      <td>0.609628</td>\n",
       "      <td>0.770320</td>\n",
       "      <td>0.687396</td>\n",
       "      <td>0.407011</td>\n",
       "      <td>-0.177394</td>\n",
       "      <td>0.253749</td>\n",
       "      <td>0.128061</td>\n",
       "      <td>0.301070</td>\n",
       "      <td>...</td>\n",
       "      <td>0.843893</td>\n",
       "      <td>1.000000</td>\n",
       "      <td>0.681652</td>\n",
       "      <td>0.693634</td>\n",
       "      <td>0.374497</td>\n",
       "      <td>0.732123</td>\n",
       "      <td>0.908269</td>\n",
       "      <td>0.099908</td>\n",
       "      <td>0.039192</td>\n",
       "      <td>0.554719</td>\n",
       "    </tr>\n",
       "    <tr>\n",
       "      <th>WS/48</th>\n",
       "      <td>-0.272885</td>\n",
       "      <td>0.116450</td>\n",
       "      <td>0.433377</td>\n",
       "      <td>0.420969</td>\n",
       "      <td>0.879845</td>\n",
       "      <td>0.772303</td>\n",
       "      <td>-0.356335</td>\n",
       "      <td>0.431972</td>\n",
       "      <td>0.298359</td>\n",
       "      <td>0.355371</td>\n",
       "      <td>...</td>\n",
       "      <td>0.546566</td>\n",
       "      <td>0.681652</td>\n",
       "      <td>1.000000</td>\n",
       "      <td>0.807184</td>\n",
       "      <td>0.378904</td>\n",
       "      <td>0.820515</td>\n",
       "      <td>0.587863</td>\n",
       "      <td>0.133790</td>\n",
       "      <td>0.095805</td>\n",
       "      <td>0.352352</td>\n",
       "    </tr>\n",
       "    <tr>\n",
       "      <th>OBPM</th>\n",
       "      <td>-0.311156</td>\n",
       "      <td>0.139185</td>\n",
       "      <td>0.524234</td>\n",
       "      <td>0.622569</td>\n",
       "      <td>0.823685</td>\n",
       "      <td>0.715744</td>\n",
       "      <td>-0.039190</td>\n",
       "      <td>0.174290</td>\n",
       "      <td>-0.043829</td>\n",
       "      <td>0.011491</td>\n",
       "      <td>...</td>\n",
       "      <td>0.529354</td>\n",
       "      <td>0.693634</td>\n",
       "      <td>0.807184</td>\n",
       "      <td>1.000000</td>\n",
       "      <td>0.147155</td>\n",
       "      <td>0.840391</td>\n",
       "      <td>0.643501</td>\n",
       "      <td>0.035593</td>\n",
       "      <td>0.045787</td>\n",
       "      <td>0.436432</td>\n",
       "    </tr>\n",
       "    <tr>\n",
       "      <th>DBPM</th>\n",
       "      <td>-0.144516</td>\n",
       "      <td>0.009553</td>\n",
       "      <td>0.363787</td>\n",
       "      <td>0.288868</td>\n",
       "      <td>0.289361</td>\n",
       "      <td>0.128692</td>\n",
       "      <td>-0.311530</td>\n",
       "      <td>0.275865</td>\n",
       "      <td>0.218056</td>\n",
       "      <td>0.468630</td>\n",
       "      <td>...</td>\n",
       "      <td>0.531191</td>\n",
       "      <td>0.374497</td>\n",
       "      <td>0.378904</td>\n",
       "      <td>0.147155</td>\n",
       "      <td>1.000000</td>\n",
       "      <td>0.659602</td>\n",
       "      <td>0.404210</td>\n",
       "      <td>0.084392</td>\n",
       "      <td>0.016976</td>\n",
       "      <td>0.150196</td>\n",
       "    </tr>\n",
       "    <tr>\n",
       "      <th>BPM</th>\n",
       "      <td>-0.313881</td>\n",
       "      <td>0.110655</td>\n",
       "      <td>0.597482</td>\n",
       "      <td>0.631052</td>\n",
       "      <td>0.783842</td>\n",
       "      <td>0.614508</td>\n",
       "      <td>-0.200303</td>\n",
       "      <td>0.283443</td>\n",
       "      <td>0.086198</td>\n",
       "      <td>0.264630</td>\n",
       "      <td>...</td>\n",
       "      <td>0.692819</td>\n",
       "      <td>0.732123</td>\n",
       "      <td>0.820515</td>\n",
       "      <td>0.840391</td>\n",
       "      <td>0.659602</td>\n",
       "      <td>1.000000</td>\n",
       "      <td>0.710433</td>\n",
       "      <td>0.073053</td>\n",
       "      <td>0.045068</td>\n",
       "      <td>0.413073</td>\n",
       "    </tr>\n",
       "    <tr>\n",
       "      <th>VORP</th>\n",
       "      <td>-0.269370</td>\n",
       "      <td>0.129026</td>\n",
       "      <td>0.399211</td>\n",
       "      <td>0.622455</td>\n",
       "      <td>0.627185</td>\n",
       "      <td>0.316493</td>\n",
       "      <td>-0.117409</td>\n",
       "      <td>0.227880</td>\n",
       "      <td>0.091348</td>\n",
       "      <td>0.263941</td>\n",
       "      <td>...</td>\n",
       "      <td>0.755026</td>\n",
       "      <td>0.908269</td>\n",
       "      <td>0.587863</td>\n",
       "      <td>0.643501</td>\n",
       "      <td>0.404210</td>\n",
       "      <td>0.710433</td>\n",
       "      <td>1.000000</td>\n",
       "      <td>0.088962</td>\n",
       "      <td>0.035477</td>\n",
       "      <td>0.561972</td>\n",
       "    </tr>\n",
       "    <tr>\n",
       "      <th>NBA_Country2</th>\n",
       "      <td>0.046761</td>\n",
       "      <td>-0.021452</td>\n",
       "      <td>0.046334</td>\n",
       "      <td>0.015245</td>\n",
       "      <td>0.120323</td>\n",
       "      <td>0.075709</td>\n",
       "      <td>-0.089969</td>\n",
       "      <td>0.078293</td>\n",
       "      <td>0.152930</td>\n",
       "      <td>0.229703</td>\n",
       "      <td>...</td>\n",
       "      <td>0.099165</td>\n",
       "      <td>0.099908</td>\n",
       "      <td>0.133790</td>\n",
       "      <td>0.035593</td>\n",
       "      <td>0.084392</td>\n",
       "      <td>0.073053</td>\n",
       "      <td>0.088962</td>\n",
       "      <td>1.000000</td>\n",
       "      <td>0.017994</td>\n",
       "      <td>0.013785</td>\n",
       "    </tr>\n",
       "    <tr>\n",
       "      <th>Tm2</th>\n",
       "      <td>0.010675</td>\n",
       "      <td>-0.075753</td>\n",
       "      <td>0.026233</td>\n",
       "      <td>0.010725</td>\n",
       "      <td>0.033889</td>\n",
       "      <td>0.072167</td>\n",
       "      <td>-0.028918</td>\n",
       "      <td>0.081604</td>\n",
       "      <td>0.008741</td>\n",
       "      <td>-0.025278</td>\n",
       "      <td>...</td>\n",
       "      <td>0.066164</td>\n",
       "      <td>0.039192</td>\n",
       "      <td>0.095805</td>\n",
       "      <td>0.045787</td>\n",
       "      <td>0.016976</td>\n",
       "      <td>0.045068</td>\n",
       "      <td>0.035477</td>\n",
       "      <td>0.017994</td>\n",
       "      <td>1.000000</td>\n",
       "      <td>-0.004918</td>\n",
       "    </tr>\n",
       "    <tr>\n",
       "      <th>Salary</th>\n",
       "      <td>-0.349851</td>\n",
       "      <td>0.396991</td>\n",
       "      <td>0.236444</td>\n",
       "      <td>0.474630</td>\n",
       "      <td>0.430147</td>\n",
       "      <td>0.199065</td>\n",
       "      <td>-0.082234</td>\n",
       "      <td>0.148761</td>\n",
       "      <td>0.010086</td>\n",
       "      <td>0.189913</td>\n",
       "      <td>...</td>\n",
       "      <td>0.474727</td>\n",
       "      <td>0.554719</td>\n",
       "      <td>0.352352</td>\n",
       "      <td>0.436432</td>\n",
       "      <td>0.150196</td>\n",
       "      <td>0.413073</td>\n",
       "      <td>0.561972</td>\n",
       "      <td>0.013785</td>\n",
       "      <td>-0.004918</td>\n",
       "      <td>1.000000</td>\n",
       "    </tr>\n",
       "  </tbody>\n",
       "</table>\n",
       "<p>27 rows × 27 columns</p>\n",
       "</div>"
      ],
      "text/plain": [
       "                 NBA_DraftNumber       Age         G        MP       PER  \\\n",
       "NBA_DraftNumber         1.000000  0.027979 -0.282847 -0.346984 -0.366332   \n",
       "Age                     0.027979  1.000000  0.093667  0.116491  0.101049   \n",
       "G                      -0.282847  0.093667  1.000000  0.862070  0.384300   \n",
       "MP                     -0.346984  0.116491  0.862070  1.000000  0.480185   \n",
       "PER                    -0.366332  0.101049  0.384300  0.480185  1.000000   \n",
       "TS%                    -0.164489  0.090524  0.350116  0.312502  0.698256   \n",
       "3PAr                    0.223567  0.012019 -0.050334 -0.027325 -0.458469   \n",
       "FTr                    -0.088247 -0.005010  0.041416  0.050476  0.436331   \n",
       "ORB%                   -0.086241  0.007495 -0.071499 -0.121408  0.295666   \n",
       "DRB%                   -0.176484  0.012696  0.116889  0.088846  0.399348   \n",
       "TRB%                   -0.162394  0.014169  0.050298  0.009255  0.412085   \n",
       "AST%                   -0.158010  0.142118  0.151270  0.317834  0.419010   \n",
       "STL%                    0.056804 -0.017142 -0.013477  0.036045  0.027833   \n",
       "BLK%                   -0.155943 -0.016172  0.096625  0.026337  0.344947   \n",
       "TOV%                    0.094204  0.091413 -0.098175 -0.089888  0.016545   \n",
       "USG%                   -0.295603  0.030952  0.097326  0.323294  0.574616   \n",
       "OWS                    -0.284015  0.164191  0.476901  0.643131  0.677412   \n",
       "DWS                    -0.323039  0.103481  0.715296  0.827779  0.547306   \n",
       "WS                     -0.324691  0.155976  0.609628  0.770320  0.687396   \n",
       "WS/48                  -0.272885  0.116450  0.433377  0.420969  0.879845   \n",
       "OBPM                   -0.311156  0.139185  0.524234  0.622569  0.823685   \n",
       "DBPM                   -0.144516  0.009553  0.363787  0.288868  0.289361   \n",
       "BPM                    -0.313881  0.110655  0.597482  0.631052  0.783842   \n",
       "VORP                   -0.269370  0.129026  0.399211  0.622455  0.627185   \n",
       "NBA_Country2            0.046761 -0.021452  0.046334  0.015245  0.120323   \n",
       "Tm2                     0.010675 -0.075753  0.026233  0.010725  0.033889   \n",
       "Salary                 -0.349851  0.396991  0.236444  0.474630  0.430147   \n",
       "\n",
       "                      TS%      3PAr       FTr      ORB%      DRB%  ...  \\\n",
       "NBA_DraftNumber -0.164489  0.223567 -0.088247 -0.086241 -0.176484  ...   \n",
       "Age              0.090524  0.012019 -0.005010  0.007495  0.012696  ...   \n",
       "G                0.350116 -0.050334  0.041416 -0.071499  0.116889  ...   \n",
       "MP               0.312502 -0.027325  0.050476 -0.121408  0.088846  ...   \n",
       "PER              0.698256 -0.458469  0.436331  0.295666  0.399348  ...   \n",
       "TS%              1.000000 -0.267145  0.293733  0.186795  0.131359  ...   \n",
       "3PAr            -0.267145  1.000000 -0.487637 -0.649981 -0.406625  ...   \n",
       "FTr              0.293733 -0.487637  1.000000  0.376237  0.374880  ...   \n",
       "ORB%             0.186795 -0.649981  0.376237  1.000000  0.516542  ...   \n",
       "DRB%             0.131359 -0.406625  0.374880  0.516542  1.000000  ...   \n",
       "TRB%             0.178457 -0.572047  0.427664  0.804058  0.923803  ...   \n",
       "AST%             0.134270 -0.064131  0.041309 -0.325799 -0.179509  ...   \n",
       "STL%            -0.173507  0.029335  0.065095 -0.136726 -0.124681  ...   \n",
       "BLK%             0.209140 -0.400307  0.345928  0.438741  0.478901  ...   \n",
       "TOV%             0.297401 -0.234648  0.215346  0.088774 -0.013454  ...   \n",
       "USG%             0.137761 -0.164851  0.146550 -0.061331  0.108120  ...   \n",
       "OWS              0.410018 -0.163125  0.264655  0.139018  0.248228  ...   \n",
       "DWS              0.307520 -0.165107  0.175601  0.078804  0.330343  ...   \n",
       "WS               0.407011 -0.177394  0.253749  0.128061  0.301070  ...   \n",
       "WS/48            0.772303 -0.356335  0.431972  0.298359  0.355371  ...   \n",
       "OBPM             0.715744 -0.039190  0.174290 -0.043829  0.011491  ...   \n",
       "DBPM             0.128692 -0.311530  0.275865  0.218056  0.468630  ...   \n",
       "BPM              0.614508 -0.200303  0.283443  0.086198  0.264630  ...   \n",
       "VORP             0.316493 -0.117409  0.227880  0.091348  0.263941  ...   \n",
       "NBA_Country2     0.075709 -0.089969  0.078293  0.152930  0.229703  ...   \n",
       "Tm2              0.072167 -0.028918  0.081604  0.008741 -0.025278  ...   \n",
       "Salary           0.199065 -0.082234  0.148761  0.010086  0.189913  ...   \n",
       "\n",
       "                      DWS        WS     WS/48      OBPM      DBPM       BPM  \\\n",
       "NBA_DraftNumber -0.323039 -0.324691 -0.272885 -0.311156 -0.144516 -0.313881   \n",
       "Age              0.103481  0.155976  0.116450  0.139185  0.009553  0.110655   \n",
       "G                0.715296  0.609628  0.433377  0.524234  0.363787  0.597482   \n",
       "MP               0.827779  0.770320  0.420969  0.622569  0.288868  0.631052   \n",
       "PER              0.547306  0.687396  0.879845  0.823685  0.289361  0.783842   \n",
       "TS%              0.307520  0.407011  0.772303  0.715744  0.128692  0.614508   \n",
       "3PAr            -0.165107 -0.177394 -0.356335 -0.039190 -0.311530 -0.200303   \n",
       "FTr              0.175601  0.253749  0.431972  0.174290  0.275865  0.283443   \n",
       "ORB%             0.078804  0.128061  0.298359 -0.043829  0.218056  0.086198   \n",
       "DRB%             0.330343  0.301070  0.355371  0.011491  0.468630  0.264630   \n",
       "TRB%             0.270174  0.272229  0.385500 -0.007683  0.424439  0.226123   \n",
       "AST%             0.254229  0.296369  0.230548  0.499529  0.035182  0.398376   \n",
       "STL%             0.113204  0.045958 -0.033803  0.040692  0.413208  0.258236   \n",
       "BLK%             0.268555  0.211225  0.347432  0.026496  0.628922  0.364251   \n",
       "TOV%            -0.012292 -0.088163 -0.023987 -0.054442  0.216181  0.077767   \n",
       "USG%             0.288771  0.343452  0.192047  0.430451 -0.174300  0.231104   \n",
       "OWS              0.654334  0.957613  0.669799  0.695771  0.242684  0.661754   \n",
       "DWS              1.000000  0.843893  0.546566  0.529354  0.531191  0.692819   \n",
       "WS               0.843893  1.000000  0.681652  0.693634  0.374497  0.732123   \n",
       "WS/48            0.546566  0.681652  1.000000  0.807184  0.378904  0.820515   \n",
       "OBPM             0.529354  0.693634  0.807184  1.000000  0.147155  0.840391   \n",
       "DBPM             0.531191  0.374497  0.378904  0.147155  1.000000  0.659602   \n",
       "BPM              0.692819  0.732123  0.820515  0.840391  0.659602  1.000000   \n",
       "VORP             0.755026  0.908269  0.587863  0.643501  0.404210  0.710433   \n",
       "NBA_Country2     0.099165  0.099908  0.133790  0.035593  0.084392  0.073053   \n",
       "Tm2              0.066164  0.039192  0.095805  0.045787  0.016976  0.045068   \n",
       "Salary           0.474727  0.554719  0.352352  0.436432  0.150196  0.413073   \n",
       "\n",
       "                     VORP  NBA_Country2       Tm2    Salary  \n",
       "NBA_DraftNumber -0.269370      0.046761  0.010675 -0.349851  \n",
       "Age              0.129026     -0.021452 -0.075753  0.396991  \n",
       "G                0.399211      0.046334  0.026233  0.236444  \n",
       "MP               0.622455      0.015245  0.010725  0.474630  \n",
       "PER              0.627185      0.120323  0.033889  0.430147  \n",
       "TS%              0.316493      0.075709  0.072167  0.199065  \n",
       "3PAr            -0.117409     -0.089969 -0.028918 -0.082234  \n",
       "FTr              0.227880      0.078293  0.081604  0.148761  \n",
       "ORB%             0.091348      0.152930  0.008741  0.010086  \n",
       "DRB%             0.263941      0.229703 -0.025278  0.189913  \n",
       "TRB%             0.229989      0.228279 -0.011337  0.139816  \n",
       "AST%             0.388312     -0.038992 -0.009693  0.265646  \n",
       "STL%             0.154708     -0.112294 -0.041235  0.003143  \n",
       "BLK%             0.226049      0.149483  0.037560  0.075643  \n",
       "TOV%             0.001221      0.030680 -0.003942 -0.022240  \n",
       "USG%             0.365696      0.015903 -0.031058  0.352269  \n",
       "OWS              0.875522      0.088285  0.018544  0.528523  \n",
       "DWS              0.755026      0.099165  0.066164  0.474727  \n",
       "WS               0.908269      0.099908  0.039192  0.554719  \n",
       "WS/48            0.587863      0.133790  0.095805  0.352352  \n",
       "OBPM             0.643501      0.035593  0.045787  0.436432  \n",
       "DBPM             0.404210      0.084392  0.016976  0.150196  \n",
       "BPM              0.710433      0.073053  0.045068  0.413073  \n",
       "VORP             1.000000      0.088962  0.035477  0.561972  \n",
       "NBA_Country2     0.088962      1.000000  0.017994  0.013785  \n",
       "Tm2              0.035477      0.017994  1.000000 -0.004918  \n",
       "Salary           0.561972      0.013785 -0.004918  1.000000  \n",
       "\n",
       "[27 rows x 27 columns]"
      ]
     },
     "execution_count": 41,
     "metadata": {},
     "output_type": "execute_result"
    }
   ],
   "source": [
    "# Calculamos la matriz de correlaciones\n",
    "corr_matrix = x_train.join(y_train).corr()\n",
    "corr_matrix"
   ]
  },
  {
   "cell_type": "code",
   "execution_count": 42,
   "metadata": {},
   "outputs": [
    {
     "data": {
      "text/plain": [
       "<matplotlib.axes._subplots.AxesSubplot at 0x24d621e1fd0>"
      ]
     },
     "execution_count": 42,
     "metadata": {},
     "output_type": "execute_result"
    },
    {
     "data": {
      "image/png": "[encoded data removed]",
      "text/plain": [
       "<Figure size 792x648 with 2 Axes>"
      ]
     },
     "metadata": {
      "needs_background": "light"
     },
     "output_type": "display_data"
    }
   ],
   "source": [
    "# Set up the matplotlib figure\n",
    "f, ax = plt.subplots(figsize=(11, 9))\n",
    "\n",
    "# Generate a custom diverging colormap\n",
    "cmap = sns.diverging_palette(220, 10, as_cmap=True)\n",
    "\n",
    "sns.heatmap(corr_matrix, cmap=cmap, vmax=.3, center=0,\n",
    "            square=True, linewidths=.5, cbar_kws={\"shrink\": .5})"
   ]
  },
  {
   "cell_type": "markdown",
   "metadata": {},
   "source": [
    "Como se puede observar, la variable 3PAr esta fuertemente correlacionada con las variables independientes FTr, ORB%, DRB% y TRB%, por lo que es recomendable eliminarlas al momento de construir el modelo. Sin embargo, se realizará un proceso de selección de variables por medio de forward stepwise."
   ]
  },
  {
   "cell_type": "markdown",
   "metadata": {},
   "source": [
    "#### 1.1.3. Selección de variables"
   ]
  },
  {
   "cell_type": "code",
   "execution_count": 43,
   "metadata": {},
   "outputs": [
    {
     "data": {
      "text/plain": [
       "Salary             1.000000\n",
       "VORP               0.561972\n",
       "WS                 0.554719\n",
       "OWS                0.528523\n",
       "DWS                0.474727\n",
       "MP                 0.474630\n",
       "OBPM               0.436432\n",
       "PER                0.430147\n",
       "BPM                0.413073\n",
       "Age                0.396991\n",
       "WS/48              0.352352\n",
       "USG%               0.352269\n",
       "AST%               0.265646\n",
       "G                  0.236444\n",
       "TS%                0.199065\n",
       "DRB%               0.189913\n",
       "DBPM               0.150196\n",
       "FTr                0.148761\n",
       "TRB%               0.139816\n",
       "BLK%               0.075643\n",
       "NBA_Country2       0.013785\n",
       "ORB%               0.010086\n",
       "STL%               0.003143\n",
       "Tm2               -0.004918\n",
       "TOV%              -0.022240\n",
       "3PAr              -0.082234\n",
       "NBA_DraftNumber   -0.349851\n",
       "Name: Salary, dtype: float64"
      ]
     },
     "execution_count": 43,
     "metadata": {},
     "output_type": "execute_result"
    }
   ],
   "source": [
    "corr_matrix['Salary'].sort_values(ascending=False)"
   ]
  },
  {
   "cell_type": "markdown",
   "metadata": {},
   "source": [
    "##### 1.1.3.1. Forward Stepwise"
   ]
  },
  {
   "cell_type": "code",
   "execution_count": 44,
   "metadata": {
    "scrolled": false
   },
   "outputs": [
    {
     "data": {
      "text/plain": [
       "array(['VORP', 'WS', 'OWS', 'DWS', 'MP', 'OBPM', 'PER', 'BPM', 'Age',\n",
       "       'WS/48', 'USG%', 'AST%', 'G', 'TS%', 'DRB%', 'DBPM', 'FTr', 'TRB%',\n",
       "       'BLK%', 'NBA_Country2', 'ORB%', 'STL%', 'Tm2', 'TOV%', '3PAr',\n",
       "       'NBA_DraftNumber'], dtype=object)"
      ]
     },
     "execution_count": 44,
     "metadata": {},
     "output_type": "execute_result"
    }
   ],
   "source": [
    "variables = corr_matrix['Salary'].sort_values(ascending=False).index[1:].values\n",
    "variables"
   ]
  },
  {
   "cell_type": "code",
   "execution_count": 45,
   "metadata": {
    "scrolled": false
   },
   "outputs": [
    {
     "name": "stderr",
     "output_type": "stream",
     "text": [
      "F:\\icesi\\Anaconda3\\lib\\site-packages\\numpy\\core\\fromnumeric.py:2389: FutureWarning: Method .ptp is deprecated and will be removed in a future version. Use numpy.ptp instead.\n",
      "  return ptp(axis=axis, out=out, **kwargs)\n"
     ]
    },
    {
     "name": "stdout",
     "output_type": "stream",
     "text": [
      "\n",
      "R2 adj: 0.3137 ['VORP']\n",
      "\n",
      "R2 adj: 0.4194 ['VORP' 'Age']\n",
      "\n",
      "R2 adj: 0.4701 ['VORP' 'Age' 'NBA_DraftNumber']\n",
      "\n",
      "R2 adj: 0.4821 ['VORP' 'Age' 'NBA_DraftNumber' 'USG%']\n",
      "\n",
      "R2 adj: 0.4875 ['VORP' 'Age' 'NBA_DraftNumber' 'USG%' 'MP']\n",
      "\n",
      "R2 adj: 0.5334 ['VORP' 'Age' 'NBA_DraftNumber' 'USG%' 'MP' 'G']\n",
      "\n",
      "R2 adj: 0.5391 ['VORP' 'Age' 'NBA_DraftNumber' 'USG%' 'MP' 'G' 'DRB%']\n",
      "\n",
      "R2 adj: 0.5402 ['VORP' 'Age' 'NBA_DraftNumber' 'USG%' 'MP' 'G' 'DRB%' 'WS/48']\n",
      "\n",
      "R2 adj: 0.5440 ['VORP' 'Age' 'NBA_DraftNumber' 'USG%' 'MP' 'G' 'DRB%' 'WS/48' 'PER']\n",
      "\n",
      "R2 adj: 0.5441 ['VORP' 'Age' 'NBA_DraftNumber' 'USG%' 'MP' 'G' 'DRB%' 'WS/48' 'PER' 'DWS']\n",
      "\n",
      "\n",
      "Selected variables: ['VORP' 'Age' 'NBA_DraftNumber' 'USG%' 'MP' 'G' 'DRB%' 'WS/48' 'PER' 'DWS']\n"
     ]
    }
   ],
   "source": [
    "import sys\n",
    "current_variables_forward = np.array([])\n",
    "max_r2 = -sys.maxsize - 1\n",
    "\n",
    "while(variables.size > 0):\n",
    "    max_r2_temp = -sys.maxsize - 1\n",
    "    max_r2_index = -1\n",
    "    for j in range(variables.size): \n",
    "        \n",
    "        test_variables = np.copy(current_variables_forward)\n",
    "        #test_variables.append(variables[j])\n",
    "        new_test_variable=[variables[j]]\n",
    "        test_variables = np.concatenate((test_variables, new_test_variable), axis=0)\n",
    "        x2_train = x_train[test_variables]\n",
    "        x2_train = sm.add_constant(x2_train)\n",
    "        modeloStats = sm.OLS(y_train, x2_train)\n",
    "        results = modeloStats.fit();\n",
    "        \n",
    "        if results.rsquared_adj > max_r2_temp:\n",
    "            max_r2_temp = results.rsquared_adj\n",
    "            max_r2_index = j\n",
    "            \n",
    "        #print('R2_temp adj: %.4f' %results.rsquared_adj,test_variables)\n",
    "        \n",
    "    if max_r2 < max_r2_temp:\n",
    "        max_r2 = max_r2_temp\n",
    "        new_current_variable=[variables[max_r2_index]]\n",
    "        current_variables_forward = np.concatenate((current_variables_forward, new_current_variable), axis=0)\n",
    "        variables = np.delete(variables, max_r2_index)\n",
    "    else:\n",
    "        break\n",
    "        \n",
    "    print('\\nR2 adj: %.4f' %max_r2,current_variables_forward)\n",
    "\n",
    "print(\"\\n\\nSelected variables:\",current_variables_forward)"
   ]
  },
  {
   "cell_type": "markdown",
   "metadata": {},
   "source": [
    "#### 1.1.3.2. Backward Stepwise"
   ]
  },
  {
   "cell_type": "code",
   "execution_count": 46,
   "metadata": {
    "scrolled": false
   },
   "outputs": [
    {
     "data": {
      "text/plain": [
       "array(['VORP', 'WS', 'OWS', 'DWS', 'MP', 'OBPM', 'PER', 'BPM', 'Age',\n",
       "       'WS/48', 'USG%', 'AST%', 'G', 'TS%', 'DRB%', 'DBPM', 'FTr', 'TRB%',\n",
       "       'BLK%', 'NBA_Country2', 'ORB%', 'STL%', 'Tm2', 'TOV%', '3PAr',\n",
       "       'NBA_DraftNumber'], dtype=object)"
      ]
     },
     "execution_count": 46,
     "metadata": {},
     "output_type": "execute_result"
    }
   ],
   "source": [
    "variables = corr_matrix['Salary'].sort_values(ascending=False).index[1:].values\n",
    "variables"
   ]
  },
  {
   "cell_type": "code",
   "execution_count": 47,
   "metadata": {
    "scrolled": false
   },
   "outputs": [
    {
     "name": "stdout",
     "output_type": "stream",
     "text": [
      "\n",
      "R2 adj: 0.5360 ['VORP' 'WS' 'OWS' 'DWS' 'MP' 'OBPM' 'PER' 'BPM' 'Age' 'WS/48' 'USG%'\n",
      " 'AST%' 'G' 'TS%' 'DRB%' 'DBPM' 'FTr' 'BLK%' 'NBA_Country2' 'ORB%' 'STL%'\n",
      " 'Tm2' 'TOV%' '3PAr' 'NBA_DraftNumber']\n",
      "\n",
      "R2 adj: 0.5375 ['VORP' 'WS' 'OWS' 'DWS' 'MP' 'OBPM' 'PER' 'BPM' 'Age' 'WS/48' 'USG%'\n",
      " 'AST%' 'G' 'TS%' 'DRB%' 'DBPM' 'FTr' 'BLK%' 'ORB%' 'STL%' 'Tm2' 'TOV%'\n",
      " '3PAr' 'NBA_DraftNumber']\n",
      "\n",
      "R2 adj: 0.5390 ['VORP' 'WS' 'OWS' 'DWS' 'MP' 'OBPM' 'PER' 'BPM' 'Age' 'WS/48' 'USG%'\n",
      " 'AST%' 'G' 'TS%' 'DRB%' 'DBPM' 'FTr' 'BLK%' 'ORB%' 'Tm2' 'TOV%' '3PAr'\n",
      " 'NBA_DraftNumber']\n",
      "\n",
      "R2 adj: 0.5404 ['VORP' 'WS' 'OWS' 'DWS' 'MP' 'OBPM' 'PER' 'BPM' 'Age' 'WS/48' 'USG%'\n",
      " 'AST%' 'G' 'TS%' 'DRB%' 'DBPM' 'BLK%' 'ORB%' 'Tm2' 'TOV%' '3PAr'\n",
      " 'NBA_DraftNumber']\n",
      "\n",
      "R2 adj: 0.5417 ['VORP' 'WS' 'OWS' 'DWS' 'MP' 'OBPM' 'PER' 'BPM' 'Age' 'WS/48' 'USG%'\n",
      " 'AST%' 'G' 'TS%' 'DRB%' 'DBPM' 'BLK%' 'ORB%' 'TOV%' '3PAr'\n",
      " 'NBA_DraftNumber']\n",
      "\n",
      "R2 adj: 0.5428 ['VORP' 'WS' 'OWS' 'DWS' 'MP' 'OBPM' 'PER' 'BPM' 'Age' 'WS/48' 'USG%'\n",
      " 'AST%' 'G' 'TS%' 'DRB%' 'DBPM' 'ORB%' 'TOV%' '3PAr' 'NBA_DraftNumber']\n",
      "\n",
      "R2 adj: 0.5435 ['VORP' 'WS' 'OWS' 'DWS' 'MP' 'OBPM' 'PER' 'BPM' 'Age' 'WS/48' 'USG%'\n",
      " 'AST%' 'G' 'TS%' 'DRB%' 'ORB%' 'TOV%' '3PAr' 'NBA_DraftNumber']\n",
      "\n",
      "R2 adj: 0.5442 ['VORP' 'WS' 'OWS' 'DWS' 'MP' 'OBPM' 'PER' 'Age' 'WS/48' 'USG%' 'AST%' 'G'\n",
      " 'TS%' 'DRB%' 'ORB%' 'TOV%' '3PAr' 'NBA_DraftNumber']\n",
      "\n",
      "R2 adj: 0.5445 ['VORP' 'WS' 'OWS' 'MP' 'OBPM' 'PER' 'Age' 'WS/48' 'USG%' 'AST%' 'G' 'TS%'\n",
      " 'DRB%' 'ORB%' 'TOV%' '3PAr' 'NBA_DraftNumber']\n",
      "\n",
      "R2 adj: 0.5452 ['VORP' 'WS' 'MP' 'OBPM' 'PER' 'Age' 'WS/48' 'USG%' 'AST%' 'G' 'TS%'\n",
      " 'DRB%' 'ORB%' 'TOV%' '3PAr' 'NBA_DraftNumber']\n",
      "\n",
      "R2 adj: 0.5464 ['VORP' 'MP' 'OBPM' 'PER' 'Age' 'WS/48' 'USG%' 'AST%' 'G' 'TS%' 'DRB%'\n",
      " 'ORB%' 'TOV%' '3PAr' 'NBA_DraftNumber']\n",
      "\n",
      "\n",
      "Selected variables: ['VORP' 'MP' 'OBPM' 'PER' 'Age' 'WS/48' 'USG%' 'AST%' 'G' 'TS%' 'DRB%'\n",
      " 'ORB%' 'TOV%' '3PAr' 'NBA_DraftNumber']\n"
     ]
    }
   ],
   "source": [
    "current_variables_backward = np.copy(variables)\n",
    "max_r2 = -sys.maxsize - 1\n",
    "\n",
    "while(variables.size > 0):\n",
    "    max_r2_temp = -sys.maxsize - 1\n",
    "    max_r2_index = -1\n",
    "    for j in range(variables.size): \n",
    "        \n",
    "        test_variables = np.copy(current_variables_backward)\n",
    "        #test_variables.append(variables[j])\n",
    "        test_variables = np.delete(test_variables, j)\n",
    "        x2_train = x_train[test_variables]\n",
    "        x2_train = sm.add_constant(x2_train)\n",
    "        modeloStats = sm.OLS(y_train, x2_train)\n",
    "        results = modeloStats.fit();\n",
    "        \n",
    "        if results.rsquared_adj > max_r2_temp:\n",
    "            max_r2_temp = results.rsquared_adj\n",
    "            max_r2_index = j\n",
    "            \n",
    "        #print('R2_temp adj: %.4f' %results.rsquared_adj,test_variables)\n",
    "        \n",
    "    if max_r2 < max_r2_temp:\n",
    "        max_r2 = max_r2_temp\n",
    "        current_variables_backward = np.delete(current_variables_backward, max_r2_index)\n",
    "        variables = np.delete(variables, max_r2_index)\n",
    "    else:\n",
    "        break\n",
    "        \n",
    "    print('\\nR2 adj: %.4f' %max_r2,current_variables_backward)    \n",
    "\n",
    "print(\"\\n\\nSelected variables:\",current_variables_backward)"
   ]
  },
  {
   "cell_type": "markdown",
   "metadata": {},
   "source": [
    "#### 1.2. Predicción usando variables seleccionadas (Forward Stepwise)"
   ]
  },
  {
   "cell_type": "code",
   "execution_count": 48,
   "metadata": {},
   "outputs": [
    {
     "data": {
      "text/plain": [
       "array(['VORP', 'Age', 'NBA_DraftNumber', 'USG%', 'MP', 'G', 'DRB%',\n",
       "       'WS/48', 'PER', 'DWS'], dtype='<U32')"
      ]
     },
     "execution_count": 48,
     "metadata": {},
     "output_type": "execute_result"
    }
   ],
   "source": [
    "current_variables_forward"
   ]
  },
  {
   "cell_type": "code",
   "execution_count": 47,
   "metadata": {},
   "outputs": [],
   "source": [
    "x_train_filtered = x_train[current_variables_forward]\n",
    "x_test_filtered = x_test[current_variables_forward]"
   ]
  },
  {
   "cell_type": "code",
   "execution_count": 48,
   "metadata": {
    "scrolled": true
   },
   "outputs": [
    {
     "data": {
      "text/plain": [
       "LinearRegression(copy_X=True, fit_intercept=True, n_jobs=None, normalize=True)"
      ]
     },
     "execution_count": 48,
     "metadata": {},
     "output_type": "execute_result"
    }
   ],
   "source": [
    "linear_reg = linear_model.LinearRegression(normalize=True)\n",
    "linear_reg.fit(x_train_filtered, y_train)"
   ]
  },
  {
   "cell_type": "code",
   "execution_count": 49,
   "metadata": {},
   "outputs": [
    {
     "name": "stdout",
     "output_type": "stream",
     "text": [
      "(331, 1)\n",
      "(143, 1)\n"
     ]
    }
   ],
   "source": [
    "y_train_filtered_pred = linear_reg.predict(x_train_filtered)\n",
    "y_test_filtered_pred = linear_reg.predict(x_test_filtered)\n",
    "print(y_train_filtered_pred.shape)\n",
    "print(y_test_filtered_pred.shape)"
   ]
  },
  {
   "cell_type": "markdown",
   "metadata": {},
   "source": [
    "##### 1.2.1. Métricas"
   ]
  },
  {
   "cell_type": "code",
   "execution_count": 50,
   "metadata": {},
   "outputs": [
    {
     "name": "stdout",
     "output_type": "stream",
     "text": [
      "MSE (train_filtered): 24822466638925.6211\n",
      "MSE (test_filtered) : 27153913381541.7500\n",
      "R2  (train_filtered): 0.5579\n",
      "R2  (test_filtered) : 0.4791\n"
     ]
    }
   ],
   "source": [
    "print(\"MSE (train_filtered): %.4f\" % mean_squared_error(y_train, y_train_filtered_pred))\n",
    "print(\"MSE (test_filtered) : %.4f\" % mean_squared_error(y_test, y_test_filtered_pred))\n",
    "print('R2  (train_filtered): %.4f' % r2_score(y_train, y_train_filtered_pred))\n",
    "print('R2  (test_filtered) : %.4f' % r2_score(y_test, y_test_filtered_pred))"
   ]
  },
  {
   "cell_type": "code",
   "execution_count": 51,
   "metadata": {
    "scrolled": true
   },
   "outputs": [
    {
     "name": "stdout",
     "output_type": "stream",
     "text": [
      "R2 adj (train_filtered): 0.5441\n",
      "R2 adj (test_filtered): 0.4396\n"
     ]
    }
   ],
   "source": [
    "r2_aj_train_filtered = 1 - (1-r2_score(y_train, y_train_filtered_pred))*(len(y_train)-1) / (len(y_train) - x_train_filtered.shape[1] - 1)\n",
    "print('R2 adj (train_filtered): %.4f' %r2_aj_train_filtered)\n",
    "r2_aj_test_filtered = 1 - (1-r2_score(y_test, y_test_filtered_pred))*(len(y_test)-1) / (len(y_test) - x_test_filtered.shape[1] - 1)\n",
    "print('R2 adj (test_filtered): %.4f' %r2_aj_test_filtered)"
   ]
  },
  {
   "cell_type": "markdown",
   "metadata": {},
   "source": [
    "#### 1.2. Predicción usando variables seleccionadas (Backward Stepwise)"
   ]
  },
  {
   "cell_type": "code",
   "execution_count": 52,
   "metadata": {},
   "outputs": [
    {
     "data": {
      "text/plain": [
       "array(['VORP', 'MP', 'OBPM', 'PER', 'Age', 'WS/48', 'USG%', 'AST%', 'G',\n",
       "       'TS%', 'DRB%', 'ORB%', 'TOV%', '3PAr', 'NBA_DraftNumber'],\n",
       "      dtype=object)"
      ]
     },
     "execution_count": 52,
     "metadata": {},
     "output_type": "execute_result"
    }
   ],
   "source": [
    "current_variables_backward"
   ]
  },
  {
   "cell_type": "code",
   "execution_count": 53,
   "metadata": {},
   "outputs": [],
   "source": [
    "x_train_filtered = x_train[current_variables_backward]\n",
    "x_test_filtered = x_test[current_variables_backward]"
   ]
  },
  {
   "cell_type": "code",
   "execution_count": 54,
   "metadata": {
    "scrolled": true
   },
   "outputs": [
    {
     "data": {
      "text/plain": [
       "LinearRegression(copy_X=True, fit_intercept=True, n_jobs=None, normalize=True)"
      ]
     },
     "execution_count": 54,
     "metadata": {},
     "output_type": "execute_result"
    }
   ],
   "source": [
    "linear_reg = linear_model.LinearRegression(normalize=True)\n",
    "linear_reg.fit(x_train_filtered, y_train)"
   ]
  },
  {
   "cell_type": "code",
   "execution_count": 55,
   "metadata": {},
   "outputs": [
    {
     "name": "stdout",
     "output_type": "stream",
     "text": [
      "(331, 1)\n",
      "(143, 1)\n"
     ]
    }
   ],
   "source": [
    "y_train_filtered_pred = linear_reg.predict(x_train_filtered)\n",
    "y_test_filtered_pred = linear_reg.predict(x_test_filtered)\n",
    "print(y_train_filtered_pred.shape)\n",
    "print(y_test_filtered_pred.shape)"
   ]
  },
  {
   "cell_type": "markdown",
   "metadata": {},
   "source": [
    "##### 1.2.1. Métricas"
   ]
  },
  {
   "cell_type": "code",
   "execution_count": 56,
   "metadata": {},
   "outputs": [
    {
     "name": "stdout",
     "output_type": "stream",
     "text": [
      "MSE (train_filtered): 24310471692470.5078\n",
      "MSE (test_filtered) : 28225421746979.5312\n",
      "R2  (train_filtered): 0.5671\n",
      "R2  (test_filtered) : 0.4585\n"
     ]
    }
   ],
   "source": [
    "print(\"MSE (train_filtered): %.4f\" % mean_squared_error(y_train, y_train_filtered_pred))\n",
    "print(\"MSE (test_filtered) : %.4f\" % mean_squared_error(y_test, y_test_filtered_pred))\n",
    "print('R2  (train_filtered): %.4f' % r2_score(y_train, y_train_filtered_pred))\n",
    "print('R2  (test_filtered) : %.4f' % r2_score(y_test, y_test_filtered_pred))"
   ]
  },
  {
   "cell_type": "code",
   "execution_count": 57,
   "metadata": {
    "scrolled": true
   },
   "outputs": [
    {
     "name": "stdout",
     "output_type": "stream",
     "text": [
      "R2 adj (train_filtered): 0.5464\n",
      "R2 adj (test_filtered): 0.3946\n"
     ]
    }
   ],
   "source": [
    "r2_aj_train_filtered = 1 - (1-r2_score(y_train, y_train_filtered_pred))*(len(y_train)-1) / (len(y_train) - x_train_filtered.shape[1] - 1)\n",
    "print('R2 adj (train_filtered): %.4f' %r2_aj_train_filtered)\n",
    "r2_aj_test_filtered = 1 - (1-r2_score(y_test, y_test_filtered_pred))*(len(y_test)-1) / (len(y_test) - x_test_filtered.shape[1] - 1)\n",
    "print('R2 adj (test_filtered): %.4f' %r2_aj_test_filtered)"
   ]
  },
  {
   "cell_type": "markdown",
   "metadata": {},
   "source": [
    "Dado que los modelos tienen diferente número de predictores, se compararán mediante el R2 ajustado.\n",
    "\n",
    "En el primer caso, donde se usaron todas las variables independientes, el R2 ajustado para train y test fue de:\n",
    "\n",
    "* R2 adj (train): 0.5345\n",
    "\n",
    "* R2 adj (test): 0.3253\n",
    "\n",
    "En el segundo caso, donde se filtraron las variables predictoras por forward stepwise, el R2 ajustado para train y test fue de:\n",
    "\n",
    "* R2 adj (train_filtered): 0.5441\n",
    "\n",
    "* R2 adj (test_filtered): 0.4396\n",
    "\n",
    "En el tercer caso, donde se filtraron las variables predictoras por backward stepwise, el R2 ajustado para train y test fue de:\n",
    "\n",
    "* R2 adj (train_filtered): 0.5464\n",
    "\n",
    "* R2 adj (test_filtered): 0.3946\n",
    "\n",
    "Se puede observar que en el segundo caso se obtuvo una mejora en las métricas, y por lo tanto, en las predicciones del modelo."
   ]
  },
  {
   "cell_type": "markdown",
   "metadata": {},
   "source": [
    "__NOTA:__ \n",
    "\n",
    "En cuanto a las variables que al inicio pensábamos que generarían un problema de multicolinealidad (3PAr, FTr, ORB%, DRB% y TRB%), tres quedaron seleccionadas al realizar el backward stepwise.\n",
    "\n",
    "Al eliminarlas se mejoraba el R2 ajustado para el backward, sin embargo, el R2 ajustado del forward seguía siendo mayor."
   ]
  },
  {
   "cell_type": "markdown",
   "metadata": {},
   "source": [
    "### 2. Red Neuronal"
   ]
  },
  {
   "cell_type": "code",
   "execution_count": 58,
   "metadata": {},
   "outputs": [],
   "source": [
    "import warnings\n",
    "warnings.filterwarnings('ignore')\n",
    "\n",
    "import sklearn as sl\n",
    "from sklearn.neural_network import MLPRegressor\n",
    "from sklearn.model_selection import GridSearchCV #permite buscar la mejor configuración de parámetros con C-V\n",
    "from sklearn.metrics import mean_squared_error, mean_absolute_error, r2_score\n",
    "from math import sqrt\n",
    "#from sklearn.preprocessing import StandardScaler"
   ]
  },
  {
   "cell_type": "markdown",
   "metadata": {},
   "source": [
    "#### 2.0. Protocolo de evaluación"
   ]
  },
  {
   "cell_type": "code",
   "execution_count": 59,
   "metadata": {},
   "outputs": [],
   "source": [
    "x_train, x_test, y_train, y_test = train_test_split(x, y, test_size=0.30, random_state=12345)"
   ]
  },
  {
   "cell_type": "code",
   "execution_count": 60,
   "metadata": {},
   "outputs": [
    {
     "name": "stdout",
     "output_type": "stream",
     "text": [
      "x_train:  (331, 26)\n",
      "x_test:  (143, 26)\n",
      "y_train:  (331, 1)\n",
      "y_train:  (143, 1)\n"
     ]
    }
   ],
   "source": [
    "print(\"x_train: \",x_train.shape)\n",
    "print(\"x_test: \",x_test.shape)\n",
    "print(\"y_train: \",y_train.shape)\n",
    "print(\"y_train: \",y_test.shape)"
   ]
  },
  {
   "cell_type": "code",
   "execution_count": 61,
   "metadata": {},
   "outputs": [],
   "source": [
    "#scaler = StandardScaler()\n",
    "#scaler.fit(x_train)\n",
    "#x_train = scaler.transform(x_train)\n",
    "#x_test = scaler.transform(x_test)"
   ]
  },
  {
   "cell_type": "markdown",
   "metadata": {},
   "source": [
    "#### 2.1. Predicción baseline"
   ]
  },
  {
   "cell_type": "code",
   "execution_count": 62,
   "metadata": {
    "scrolled": true
   },
   "outputs": [
    {
     "name": "stdout",
     "output_type": "stream",
     "text": [
      "El baseline (promedio) para la variable objetivo será de: $USD 6,772,112\n"
     ]
    }
   ],
   "source": [
    "print('El baseline (promedio) para la variable objetivo será de: $USD {:,.0f}'.format(data['Salary'].mean()))"
   ]
  },
  {
   "cell_type": "code",
   "execution_count": 63,
   "metadata": {},
   "outputs": [
    {
     "name": "stdout",
     "output_type": "stream",
     "text": [
      "RMSE: 7224738.652748934 , MAE: 5568031.739930955 , R2: -0.0013460163761327415\n"
     ]
    }
   ],
   "source": [
    "y_pred = np.full(x_test.shape[0], np.mean(data.Salary))\n",
    "print(\"RMSE:\", sqrt(mean_squared_error(y_test, y_pred)), \", MAE:\", mean_absolute_error(y_test, y_pred), \", R2:\", r2_score(y_test, y_pred))"
   ]
  },
  {
   "cell_type": "markdown",
   "metadata": {},
   "source": [
    "#### 2.2. Modelamiento, con todas las variables\n",
    "Creamos un modelo de regresión MPLRegressor con tres capas de 30 neuronas cada una."
   ]
  },
  {
   "cell_type": "code",
   "execution_count": 64,
   "metadata": {},
   "outputs": [
    {
     "data": {
      "text/plain": [
       "MLPRegressor(activation='relu', alpha=0.0001, batch_size='auto', beta_1=0.9,\n",
       "             beta_2=0.999, early_stopping=False, epsilon=1e-08,\n",
       "             hidden_layer_sizes=(30, 30, 30), learning_rate='constant',\n",
       "             learning_rate_init=0.001, max_iter=200, momentum=0.9,\n",
       "             n_iter_no_change=10, nesterovs_momentum=True, power_t=0.5,\n",
       "             random_state=1, shuffle=True, solver='adam', tol=0.0001,\n",
       "             validation_fraction=0.1, verbose=False, warm_start=False)"
      ]
     },
     "execution_count": 64,
     "metadata": {},
     "output_type": "execute_result"
    }
   ],
   "source": [
    "np.random.seed(12345)\n",
    "mlp = MLPRegressor(hidden_layer_sizes=(30,30,30), random_state=1)\n",
    "mlp.fit(x_train,y_train)"
   ]
  },
  {
   "cell_type": "code",
   "execution_count": 65,
   "metadata": {},
   "outputs": [
    {
     "name": "stdout",
     "output_type": "stream",
     "text": [
      "RMSE: 6333374.361086492 , MAE: 4132819.825475772 , R2: 0.2304971892653458\n"
     ]
    }
   ],
   "source": [
    "y_pred = mlp.predict(x_test)\n",
    "print(\"RMSE:\", sqrt(mean_squared_error(y_test, y_pred)), \", MAE:\", mean_absolute_error(y_test, y_pred), \", R2:\", r2_score(y_test, y_pred))"
   ]
  },
  {
   "cell_type": "markdown",
   "metadata": {},
   "source": [
    "Utilizando GridSearchCV, buscaremos la mejor combinación de parámetros para crear nuestra red neuronal."
   ]
  },
  {
   "cell_type": "code",
   "execution_count": 66,
   "metadata": {},
   "outputs": [],
   "source": [
    "activation_vec = ['logistic', 'relu', 'tanh']\n",
    "max_iter_vec = [10, 20, 50, 75, 100, 200, 300, 400, 500, 1000, 2000]\n",
    "hidden_layer_sizes_vec = [(10,), (20,), (30,), (10, 10), (20, 20), (30, 30), (20, 10), \n",
    "                          (10, 10, 10), (20, 20, 20), (30, 30, 30), (30, 20, 10)]\n",
    "learning_rate_init_vec = [0.001, 0.002, 0.003, 0.004, 0.005, 0.006, 0.007, 0.008, 0.009, 0.01, 0.02, 0.03, 0.04, 0.05]"
   ]
  },
  {
   "cell_type": "code",
   "execution_count": 67,
   "metadata": {},
   "outputs": [],
   "source": [
    "import time\n",
    "start = time.time() # Devuelve el tiempo actual en segundos desde el 1o de enero de 1970 (punto de referencia)\n",
    "\n",
    "np.random.seed(12345)\n",
    "parametros = {'activation': activation_vec,\n",
    "              'max_iter':max_iter_vec,\n",
    "              'hidden_layer_sizes': hidden_layer_sizes_vec,\n",
    "              'learning_rate_init': learning_rate_init_vec\n",
    "              }\n",
    "\n",
    "scoring = {'mae':'neg_mean_absolute_error', 'r2':'r2'}\n",
    "grid = GridSearchCV(mlp, param_grid=parametros, cv=5, scoring=scoring, refit='mae', n_jobs=-1, iid=True)"
   ]
  },
  {
   "cell_type": "markdown",
   "metadata": {},
   "source": [
    "### <font color=\"red\"><b>DESDE AQUÍ: NO EJECUTAR DE NUEVO (+20 minutos)</b></font>"
   ]
  },
  {
   "cell_type": "code",
   "execution_count": 68,
   "metadata": {},
   "outputs": [
    {
     "name": "stdout",
     "output_type": "stream",
     "text": [
      "Los parámetros del mejor modelo fueron {'activation': 'relu', 'hidden_layer_sizes': (20, 20, 20), 'learning_rate_init': 0.05, 'max_iter': 400}, que permiten obtener un MAE de -362951727.14% y un R2 de 49.55\n",
      "Tiempo total: 49.00 minutos\n"
     ]
    }
   ],
   "source": [
    "grid.fit(x_train, y_train)\n",
    "\n",
    "print(\"Los parámetros del mejor modelo fueron {0}, que permiten obtener un MAE de {1:.2f}% y un R2 de {2:.2f}\".format(\n",
    "    grid.best_params_, grid.best_score_*100, grid.cv_results_['mean_test_r2'][grid.best_index_]*100))\n",
    "end = time.time() # Tiempo después de finalizar el entrenamiento del modelo\n",
    "print(\"Tiempo total: {0:.2f} minutos\".format((end-start)/60))"
   ]
  },
  {
   "cell_type": "markdown",
   "metadata": {},
   "source": [
    "### <font color=\"red\"><b>HASTA ACÁ</b></font>"
   ]
  },
  {
   "cell_type": "code",
   "execution_count": 69,
   "metadata": {},
   "outputs": [],
   "source": [
    "df = pd.DataFrame([(mae*100, r2*100) for (mae, r2) in \n",
    "                   zip( \n",
    "                       grid.cv_results_['mean_test_mae'], \n",
    "                       grid.cv_results_['mean_test_r2'],\n",
    "                      )\n",
    "                   ], columns = ('MAE', 'R2'))"
   ]
  },
  {
   "cell_type": "code",
   "execution_count": 70,
   "metadata": {},
   "outputs": [
    {
     "data": {
      "text/html": [
       "<div>\n",
       "<style scoped>\n",
       "    .dataframe tbody tr th:only-of-type {\n",
       "        vertical-align: middle;\n",
       "    }\n",
       "\n",
       "    .dataframe tbody tr th {\n",
       "        vertical-align: top;\n",
       "    }\n",
       "\n",
       "    .dataframe thead th {\n",
       "        text-align: right;\n",
       "    }\n",
       "</style>\n",
       "<table border=\"1\" class=\"dataframe\">\n",
       "  <thead>\n",
       "    <tr style=\"text-align: right;\">\n",
       "      <th></th>\n",
       "      <th>MAE</th>\n",
       "      <th>R2</th>\n",
       "    </tr>\n",
       "  </thead>\n",
       "  <tbody>\n",
       "    <tr>\n",
       "      <td>3079</td>\n",
       "      <td>-3.629517e+08</td>\n",
       "      <td>49.549522</td>\n",
       "    </tr>\n",
       "    <tr>\n",
       "      <td>3078</td>\n",
       "      <td>-3.629517e+08</td>\n",
       "      <td>49.549522</td>\n",
       "    </tr>\n",
       "    <tr>\n",
       "      <td>3077</td>\n",
       "      <td>-3.629517e+08</td>\n",
       "      <td>49.549522</td>\n",
       "    </tr>\n",
       "    <tr>\n",
       "      <td>3076</td>\n",
       "      <td>-3.629517e+08</td>\n",
       "      <td>49.549522</td>\n",
       "    </tr>\n",
       "    <tr>\n",
       "      <td>2606</td>\n",
       "      <td>-3.636026e+08</td>\n",
       "      <td>50.583520</td>\n",
       "    </tr>\n",
       "    <tr>\n",
       "      <td>...</td>\n",
       "      <td>...</td>\n",
       "      <td>...</td>\n",
       "    </tr>\n",
       "    <tr>\n",
       "      <td>308</td>\n",
       "      <td>-6.886548e+08</td>\n",
       "      <td>-85.807135</td>\n",
       "    </tr>\n",
       "    <tr>\n",
       "      <td>462</td>\n",
       "      <td>-6.886548e+08</td>\n",
       "      <td>-85.807135</td>\n",
       "    </tr>\n",
       "    <tr>\n",
       "      <td>3696</td>\n",
       "      <td>-6.886548e+08</td>\n",
       "      <td>-85.807152</td>\n",
       "    </tr>\n",
       "    <tr>\n",
       "      <td>2618</td>\n",
       "      <td>-6.886595e+08</td>\n",
       "      <td>-85.808841</td>\n",
       "    </tr>\n",
       "    <tr>\n",
       "      <td>2002</td>\n",
       "      <td>-6.886636e+08</td>\n",
       "      <td>-85.810281</td>\n",
       "    </tr>\n",
       "  </tbody>\n",
       "</table>\n",
       "<p>5082 rows × 2 columns</p>\n",
       "</div>"
      ],
      "text/plain": [
       "               MAE         R2\n",
       "3079 -3.629517e+08  49.549522\n",
       "3078 -3.629517e+08  49.549522\n",
       "3077 -3.629517e+08  49.549522\n",
       "3076 -3.629517e+08  49.549522\n",
       "2606 -3.636026e+08  50.583520\n",
       "...            ...        ...\n",
       "308  -6.886548e+08 -85.807135\n",
       "462  -6.886548e+08 -85.807135\n",
       "3696 -6.886548e+08 -85.807152\n",
       "2618 -6.886595e+08 -85.808841\n",
       "2002 -6.886636e+08 -85.810281\n",
       "\n",
       "[5082 rows x 2 columns]"
      ]
     },
     "execution_count": 70,
     "metadata": {},
     "output_type": "execute_result"
    }
   ],
   "source": [
    "df.iloc[np.argsort(-df.MAE),]"
   ]
  },
  {
   "cell_type": "code",
   "execution_count": 71,
   "metadata": {},
   "outputs": [
    {
     "data": {
      "text/plain": [
       "dict_keys(['mean_fit_time', 'std_fit_time', 'mean_score_time', 'std_score_time', 'param_activation', 'param_hidden_layer_sizes', 'param_learning_rate_init', 'param_max_iter', 'params', 'split0_test_mae', 'split1_test_mae', 'split2_test_mae', 'split3_test_mae', 'split4_test_mae', 'mean_test_mae', 'std_test_mae', 'rank_test_mae', 'split0_test_r2', 'split1_test_r2', 'split2_test_r2', 'split3_test_r2', 'split4_test_r2', 'mean_test_r2', 'std_test_r2', 'rank_test_r2'])"
      ]
     },
     "execution_count": 71,
     "metadata": {},
     "output_type": "execute_result"
    }
   ],
   "source": [
    "grid.cv_results_.keys()"
   ]
  },
  {
   "cell_type": "code",
   "execution_count": 72,
   "metadata": {},
   "outputs": [
    {
     "name": "stdout",
     "output_type": "stream",
     "text": [
      "MAE: 3708353.3413155107 , R2: 0.5083236694362824 \n",
      "\n",
      "R2 adj: 0.3981\n"
     ]
    }
   ],
   "source": [
    "y_pred = grid.best_estimator_.predict(x_test)\n",
    "print(\"MAE:\", mean_absolute_error(y_test, y_pred), \", R2:\", r2_score(y_test, y_pred), \"\\n\")\n",
    "\n",
    "r2_aj = 1 - (1-r2_score(y_test, y_pred))*(len(y_test)-1) / (len(y_test) - x_test.shape[1] - 1)\n",
    "print('R2 adj: %.4f' %r2_aj)"
   ]
  },
  {
   "cell_type": "code",
   "execution_count": 73,
   "metadata": {},
   "outputs": [],
   "source": [
    "df = pd.DataFrame([(act, hidden_layers, lr, max_iter, acc*100, kappa*100) for (act, hidden_layers, lr, max_iter, acc, kappa) in \n",
    "                   zip(\n",
    "                       grid.cv_results_['param_activation'], \n",
    "                       grid.cv_results_['param_hidden_layer_sizes'], \n",
    "                       grid.cv_results_['param_learning_rate_init'], \n",
    "                       grid.cv_results_['param_max_iter'], \n",
    "                       grid.cv_results_['mean_test_mae'], \n",
    "                       grid.cv_results_['mean_test_r2'],\n",
    "                      )\n",
    "                   ], columns = ('Activation', 'HiddenLayers', 'LearningRate', 'MaxIter', 'MAE', 'R2'))"
   ]
  },
  {
   "cell_type": "code",
   "execution_count": 74,
   "metadata": {
    "scrolled": false
   },
   "outputs": [
    {
     "data": {
      "text/html": [
       "<div>\n",
       "<style scoped>\n",
       "    .dataframe tbody tr th:only-of-type {\n",
       "        vertical-align: middle;\n",
       "    }\n",
       "\n",
       "    .dataframe tbody tr th {\n",
       "        vertical-align: top;\n",
       "    }\n",
       "\n",
       "    .dataframe thead th {\n",
       "        text-align: right;\n",
       "    }\n",
       "</style>\n",
       "<table border=\"1\" class=\"dataframe\">\n",
       "  <thead>\n",
       "    <tr style=\"text-align: right;\">\n",
       "      <th></th>\n",
       "      <th>Activation</th>\n",
       "      <th>HiddenLayers</th>\n",
       "      <th>LearningRate</th>\n",
       "      <th>MaxIter</th>\n",
       "      <th>MAE</th>\n",
       "      <th>R2</th>\n",
       "    </tr>\n",
       "  </thead>\n",
       "  <tbody>\n",
       "    <tr>\n",
       "      <td>3079</td>\n",
       "      <td>relu</td>\n",
       "      <td>(20, 20, 20)</td>\n",
       "      <td>0.050</td>\n",
       "      <td>2000</td>\n",
       "      <td>-3.629517e+08</td>\n",
       "      <td>49.549522</td>\n",
       "    </tr>\n",
       "    <tr>\n",
       "      <td>3078</td>\n",
       "      <td>relu</td>\n",
       "      <td>(20, 20, 20)</td>\n",
       "      <td>0.050</td>\n",
       "      <td>1000</td>\n",
       "      <td>-3.629517e+08</td>\n",
       "      <td>49.549522</td>\n",
       "    </tr>\n",
       "    <tr>\n",
       "      <td>3077</td>\n",
       "      <td>relu</td>\n",
       "      <td>(20, 20, 20)</td>\n",
       "      <td>0.050</td>\n",
       "      <td>500</td>\n",
       "      <td>-3.629517e+08</td>\n",
       "      <td>49.549522</td>\n",
       "    </tr>\n",
       "    <tr>\n",
       "      <td>3076</td>\n",
       "      <td>relu</td>\n",
       "      <td>(20, 20, 20)</td>\n",
       "      <td>0.050</td>\n",
       "      <td>400</td>\n",
       "      <td>-3.629517e+08</td>\n",
       "      <td>49.549522</td>\n",
       "    </tr>\n",
       "    <tr>\n",
       "      <td>2606</td>\n",
       "      <td>relu</td>\n",
       "      <td>(30, 30)</td>\n",
       "      <td>0.040</td>\n",
       "      <td>2000</td>\n",
       "      <td>-3.636026e+08</td>\n",
       "      <td>50.583520</td>\n",
       "    </tr>\n",
       "    <tr>\n",
       "      <td>2605</td>\n",
       "      <td>relu</td>\n",
       "      <td>(30, 30)</td>\n",
       "      <td>0.040</td>\n",
       "      <td>1000</td>\n",
       "      <td>-3.636026e+08</td>\n",
       "      <td>50.583520</td>\n",
       "    </tr>\n",
       "    <tr>\n",
       "      <td>3075</td>\n",
       "      <td>relu</td>\n",
       "      <td>(20, 20, 20)</td>\n",
       "      <td>0.050</td>\n",
       "      <td>300</td>\n",
       "      <td>-3.679790e+08</td>\n",
       "      <td>49.154639</td>\n",
       "    </tr>\n",
       "    <tr>\n",
       "      <td>3332</td>\n",
       "      <td>relu</td>\n",
       "      <td>(30, 20, 10)</td>\n",
       "      <td>0.009</td>\n",
       "      <td>2000</td>\n",
       "      <td>-3.688890e+08</td>\n",
       "      <td>49.965061</td>\n",
       "    </tr>\n",
       "    <tr>\n",
       "      <td>3221</td>\n",
       "      <td>relu</td>\n",
       "      <td>(30, 30, 30)</td>\n",
       "      <td>0.040</td>\n",
       "      <td>1000</td>\n",
       "      <td>-3.691219e+08</td>\n",
       "      <td>48.820179</td>\n",
       "    </tr>\n",
       "    <tr>\n",
       "      <td>3222</td>\n",
       "      <td>relu</td>\n",
       "      <td>(30, 30, 30)</td>\n",
       "      <td>0.040</td>\n",
       "      <td>2000</td>\n",
       "      <td>-3.691219e+08</td>\n",
       "      <td>48.820179</td>\n",
       "    </tr>\n",
       "    <tr>\n",
       "      <td>3219</td>\n",
       "      <td>relu</td>\n",
       "      <td>(30, 30, 30)</td>\n",
       "      <td>0.040</td>\n",
       "      <td>400</td>\n",
       "      <td>-3.691219e+08</td>\n",
       "      <td>48.820179</td>\n",
       "    </tr>\n",
       "    <tr>\n",
       "      <td>3218</td>\n",
       "      <td>relu</td>\n",
       "      <td>(30, 30, 30)</td>\n",
       "      <td>0.040</td>\n",
       "      <td>300</td>\n",
       "      <td>-3.691219e+08</td>\n",
       "      <td>48.820179</td>\n",
       "    </tr>\n",
       "    <tr>\n",
       "      <td>3220</td>\n",
       "      <td>relu</td>\n",
       "      <td>(30, 30, 30)</td>\n",
       "      <td>0.040</td>\n",
       "      <td>500</td>\n",
       "      <td>-3.691219e+08</td>\n",
       "      <td>48.820179</td>\n",
       "    </tr>\n",
       "    <tr>\n",
       "      <td>2451</td>\n",
       "      <td>relu</td>\n",
       "      <td>(20, 20)</td>\n",
       "      <td>0.040</td>\n",
       "      <td>1000</td>\n",
       "      <td>-3.695355e+08</td>\n",
       "      <td>50.123537</td>\n",
       "    </tr>\n",
       "    <tr>\n",
       "      <td>2452</td>\n",
       "      <td>relu</td>\n",
       "      <td>(20, 20)</td>\n",
       "      <td>0.040</td>\n",
       "      <td>2000</td>\n",
       "      <td>-3.695355e+08</td>\n",
       "      <td>50.123537</td>\n",
       "    </tr>\n",
       "    <tr>\n",
       "      <td>2462</td>\n",
       "      <td>relu</td>\n",
       "      <td>(20, 20)</td>\n",
       "      <td>0.050</td>\n",
       "      <td>1000</td>\n",
       "      <td>-3.700231e+08</td>\n",
       "      <td>49.887012</td>\n",
       "    </tr>\n",
       "    <tr>\n",
       "      <td>2463</td>\n",
       "      <td>relu</td>\n",
       "      <td>(20, 20)</td>\n",
       "      <td>0.050</td>\n",
       "      <td>2000</td>\n",
       "      <td>-3.700231e+08</td>\n",
       "      <td>49.887012</td>\n",
       "    </tr>\n",
       "    <tr>\n",
       "      <td>3046</td>\n",
       "      <td>relu</td>\n",
       "      <td>(20, 20, 20)</td>\n",
       "      <td>0.020</td>\n",
       "      <td>2000</td>\n",
       "      <td>-3.700434e+08</td>\n",
       "      <td>49.713331</td>\n",
       "    </tr>\n",
       "    <tr>\n",
       "      <td>3045</td>\n",
       "      <td>relu</td>\n",
       "      <td>(20, 20, 20)</td>\n",
       "      <td>0.020</td>\n",
       "      <td>1000</td>\n",
       "      <td>-3.700434e+08</td>\n",
       "      <td>49.713331</td>\n",
       "    </tr>\n",
       "    <tr>\n",
       "      <td>2595</td>\n",
       "      <td>relu</td>\n",
       "      <td>(30, 30)</td>\n",
       "      <td>0.030</td>\n",
       "      <td>2000</td>\n",
       "      <td>-3.701622e+08</td>\n",
       "      <td>49.669476</td>\n",
       "    </tr>\n",
       "  </tbody>\n",
       "</table>\n",
       "</div>"
      ],
      "text/plain": [
       "     Activation  HiddenLayers  LearningRate  MaxIter           MAE         R2\n",
       "3079       relu  (20, 20, 20)         0.050     2000 -3.629517e+08  49.549522\n",
       "3078       relu  (20, 20, 20)         0.050     1000 -3.629517e+08  49.549522\n",
       "3077       relu  (20, 20, 20)         0.050      500 -3.629517e+08  49.549522\n",
       "3076       relu  (20, 20, 20)         0.050      400 -3.629517e+08  49.549522\n",
       "2606       relu      (30, 30)         0.040     2000 -3.636026e+08  50.583520\n",
       "2605       relu      (30, 30)         0.040     1000 -3.636026e+08  50.583520\n",
       "3075       relu  (20, 20, 20)         0.050      300 -3.679790e+08  49.154639\n",
       "3332       relu  (30, 20, 10)         0.009     2000 -3.688890e+08  49.965061\n",
       "3221       relu  (30, 30, 30)         0.040     1000 -3.691219e+08  48.820179\n",
       "3222       relu  (30, 30, 30)         0.040     2000 -3.691219e+08  48.820179\n",
       "3219       relu  (30, 30, 30)         0.040      400 -3.691219e+08  48.820179\n",
       "3218       relu  (30, 30, 30)         0.040      300 -3.691219e+08  48.820179\n",
       "3220       relu  (30, 30, 30)         0.040      500 -3.691219e+08  48.820179\n",
       "2451       relu      (20, 20)         0.040     1000 -3.695355e+08  50.123537\n",
       "2452       relu      (20, 20)         0.040     2000 -3.695355e+08  50.123537\n",
       "2462       relu      (20, 20)         0.050     1000 -3.700231e+08  49.887012\n",
       "2463       relu      (20, 20)         0.050     2000 -3.700231e+08  49.887012\n",
       "3046       relu  (20, 20, 20)         0.020     2000 -3.700434e+08  49.713331\n",
       "3045       relu  (20, 20, 20)         0.020     1000 -3.700434e+08  49.713331\n",
       "2595       relu      (30, 30)         0.030     2000 -3.701622e+08  49.669476"
      ]
     },
     "execution_count": 74,
     "metadata": {},
     "output_type": "execute_result"
    }
   ],
   "source": [
    "df.iloc[np.argsort(-df.MAE),].head(20)"
   ]
  },
  {
   "cell_type": "markdown",
   "metadata": {},
   "source": [
    "#### 2.3. Modelamiento variables Forward Stepwise\n",
    "Creamos un modelo de regresión MPLRegressor con tres capas de 30 neuronas cada una."
   ]
  },
  {
   "cell_type": "code",
   "execution_count": 75,
   "metadata": {},
   "outputs": [],
   "source": [
    "x_train_filtered = x_train[current_variables_forward]\n",
    "x_test_filtered = x_test[current_variables_forward]"
   ]
  },
  {
   "cell_type": "code",
   "execution_count": 76,
   "metadata": {},
   "outputs": [
    {
     "data": {
      "text/plain": [
       "MLPRegressor(activation='relu', alpha=0.0001, batch_size='auto', beta_1=0.9,\n",
       "             beta_2=0.999, early_stopping=False, epsilon=1e-08,\n",
       "             hidden_layer_sizes=(30, 30, 30), learning_rate='constant',\n",
       "             learning_rate_init=0.001, max_iter=200, momentum=0.9,\n",
       "             n_iter_no_change=10, nesterovs_momentum=True, power_t=0.5,\n",
       "             random_state=1, shuffle=True, solver='adam', tol=0.0001,\n",
       "             validation_fraction=0.1, verbose=False, warm_start=False)"
      ]
     },
     "execution_count": 76,
     "metadata": {},
     "output_type": "execute_result"
    }
   ],
   "source": [
    "np.random.seed(12345)\n",
    "mlp = MLPRegressor(hidden_layer_sizes=(30,30,30), random_state=1)\n",
    "mlp.fit(x_train_filtered,y_train)"
   ]
  },
  {
   "cell_type": "code",
   "execution_count": 77,
   "metadata": {},
   "outputs": [
    {
     "name": "stdout",
     "output_type": "stream",
     "text": [
      "RMSE: 6468267.035402895 , MAE: 4136105.709975174 , R2: 0.1973692887276488\n"
     ]
    }
   ],
   "source": [
    "y_pred = mlp.predict(x_test_filtered)\n",
    "print(\"RMSE:\", sqrt(mean_squared_error(y_test, y_pred)), \", MAE:\", mean_absolute_error(y_test, y_pred), \", R2:\", r2_score(y_test, y_pred))"
   ]
  },
  {
   "cell_type": "markdown",
   "metadata": {},
   "source": [
    "Utilizando GridSearchCV, buscaremos la mejor combinación de parámetros para crear nuestra red neuronal."
   ]
  },
  {
   "cell_type": "code",
   "execution_count": 78,
   "metadata": {},
   "outputs": [],
   "source": [
    "activation_vec = ['logistic', 'relu', 'tanh']\n",
    "max_iter_vec = [10, 20, 50, 75, 100, 200, 300, 400, 500, 1000, 2000]\n",
    "hidden_layer_sizes_vec = [(10,), (20,), (30,), (10, 10), (20, 20), (30, 30), (20, 10), \n",
    "                          (10, 10, 10), (20, 20, 20), (30, 30, 30), (30, 20, 10)]\n",
    "learning_rate_init_vec = [0.001, 0.002, 0.003, 0.004, 0.005, 0.006, 0.007, 0.008, 0.009, 0.01, 0.02, 0.03, 0.04, 0.05]"
   ]
  },
  {
   "cell_type": "code",
   "execution_count": 79,
   "metadata": {},
   "outputs": [],
   "source": [
    "import time\n",
    "start = time.time() # Devuelve el tiempo actual en segundos desde el 1o de enero de 1970 (punto de referencia)\n",
    "\n",
    "np.random.seed(12345)\n",
    "parametros = {'activation': activation_vec,\n",
    "              'max_iter':max_iter_vec,\n",
    "              'hidden_layer_sizes': hidden_layer_sizes_vec,\n",
    "              'learning_rate_init': learning_rate_init_vec\n",
    "              }\n",
    "\n",
    "scoring = {'mae':'neg_mean_absolute_error', 'r2':'r2'}\n",
    "grid = GridSearchCV(mlp, param_grid=parametros, cv=5, scoring=scoring, refit='mae', n_jobs=-1, iid=True)"
   ]
  },
  {
   "cell_type": "markdown",
   "metadata": {},
   "source": [
    "### <font color=\"red\"><b>DESDE AQUÍ: NO EJECUTAR DE NUEVO (+20 minutos)</b></font>"
   ]
  },
  {
   "cell_type": "code",
   "execution_count": 80,
   "metadata": {},
   "outputs": [
    {
     "name": "stdout",
     "output_type": "stream",
     "text": [
      "Los parámetros del mejor modelo fueron {'activation': 'relu', 'hidden_layer_sizes': (30, 20, 10), 'learning_rate_init': 0.04, 'max_iter': 500}, que permiten obtener un MAE de -370304642.29% y un R2 de 50.94\n",
      "Tiempo total: 45.99 minutos\n"
     ]
    }
   ],
   "source": [
    "grid.fit(x_train_filtered, y_train)\n",
    "\n",
    "print(\"Los parámetros del mejor modelo fueron {0}, que permiten obtener un MAE de {1:.2f}% y un R2 de {2:.2f}\".format(\n",
    "    grid.best_params_, grid.best_score_*100, grid.cv_results_['mean_test_r2'][grid.best_index_]*100))\n",
    "end = time.time() # Tiempo después de finalizar el entrenamiento del modelo\n",
    "print(\"Tiempo total: {0:.2f} minutos\".format((end-start)/60))"
   ]
  },
  {
   "cell_type": "markdown",
   "metadata": {},
   "source": [
    "### <font color=\"red\"><b>HASTA ACÁ</b></font>"
   ]
  },
  {
   "cell_type": "code",
   "execution_count": 81,
   "metadata": {},
   "outputs": [],
   "source": [
    "df = pd.DataFrame([(mae*100, r2*100) for (mae, r2) in \n",
    "                   zip( \n",
    "                       grid.cv_results_['mean_test_mae'], \n",
    "                       grid.cv_results_['mean_test_r2'],\n",
    "                      )\n",
    "                   ], columns = ('MAE', 'R2'))"
   ]
  },
  {
   "cell_type": "code",
   "execution_count": 82,
   "metadata": {},
   "outputs": [
    {
     "data": {
      "text/html": [
       "<div>\n",
       "<style scoped>\n",
       "    .dataframe tbody tr th:only-of-type {\n",
       "        vertical-align: middle;\n",
       "    }\n",
       "\n",
       "    .dataframe tbody tr th {\n",
       "        vertical-align: top;\n",
       "    }\n",
       "\n",
       "    .dataframe thead th {\n",
       "        text-align: right;\n",
       "    }\n",
       "</style>\n",
       "<table border=\"1\" class=\"dataframe\">\n",
       "  <thead>\n",
       "    <tr style=\"text-align: right;\">\n",
       "      <th></th>\n",
       "      <th>MAE</th>\n",
       "      <th>R2</th>\n",
       "    </tr>\n",
       "  </thead>\n",
       "  <tbody>\n",
       "    <tr>\n",
       "      <td>3376</td>\n",
       "      <td>-3.703046e+08</td>\n",
       "      <td>50.943619</td>\n",
       "    </tr>\n",
       "    <tr>\n",
       "      <td>3375</td>\n",
       "      <td>-3.703046e+08</td>\n",
       "      <td>50.943619</td>\n",
       "    </tr>\n",
       "    <tr>\n",
       "      <td>3374</td>\n",
       "      <td>-3.703046e+08</td>\n",
       "      <td>50.943619</td>\n",
       "    </tr>\n",
       "    <tr>\n",
       "      <td>3353</td>\n",
       "      <td>-3.712884e+08</td>\n",
       "      <td>51.537324</td>\n",
       "    </tr>\n",
       "    <tr>\n",
       "      <td>3354</td>\n",
       "      <td>-3.712884e+08</td>\n",
       "      <td>51.537324</td>\n",
       "    </tr>\n",
       "    <tr>\n",
       "      <td>...</td>\n",
       "      <td>...</td>\n",
       "      <td>...</td>\n",
       "    </tr>\n",
       "    <tr>\n",
       "      <td>1705</td>\n",
       "      <td>-6.886557e+08</td>\n",
       "      <td>-85.807414</td>\n",
       "    </tr>\n",
       "    <tr>\n",
       "      <td>1695</td>\n",
       "      <td>-6.886557e+08</td>\n",
       "      <td>-85.807416</td>\n",
       "    </tr>\n",
       "    <tr>\n",
       "      <td>3234</td>\n",
       "      <td>-6.886562e+08</td>\n",
       "      <td>-85.807645</td>\n",
       "    </tr>\n",
       "    <tr>\n",
       "      <td>2310</td>\n",
       "      <td>-6.886635e+08</td>\n",
       "      <td>-85.810154</td>\n",
       "    </tr>\n",
       "    <tr>\n",
       "      <td>1694</td>\n",
       "      <td>-6.886638e+08</td>\n",
       "      <td>-85.810088</td>\n",
       "    </tr>\n",
       "  </tbody>\n",
       "</table>\n",
       "<p>5082 rows × 2 columns</p>\n",
       "</div>"
      ],
      "text/plain": [
       "               MAE         R2\n",
       "3376 -3.703046e+08  50.943619\n",
       "3375 -3.703046e+08  50.943619\n",
       "3374 -3.703046e+08  50.943619\n",
       "3353 -3.712884e+08  51.537324\n",
       "3354 -3.712884e+08  51.537324\n",
       "...            ...        ...\n",
       "1705 -6.886557e+08 -85.807414\n",
       "1695 -6.886557e+08 -85.807416\n",
       "3234 -6.886562e+08 -85.807645\n",
       "2310 -6.886635e+08 -85.810154\n",
       "1694 -6.886638e+08 -85.810088\n",
       "\n",
       "[5082 rows x 2 columns]"
      ]
     },
     "execution_count": 82,
     "metadata": {},
     "output_type": "execute_result"
    }
   ],
   "source": [
    "df.iloc[np.argsort(-df.MAE),]"
   ]
  },
  {
   "cell_type": "code",
   "execution_count": 83,
   "metadata": {},
   "outputs": [
    {
     "data": {
      "text/plain": [
       "dict_keys(['mean_fit_time', 'std_fit_time', 'mean_score_time', 'std_score_time', 'param_activation', 'param_hidden_layer_sizes', 'param_learning_rate_init', 'param_max_iter', 'params', 'split0_test_mae', 'split1_test_mae', 'split2_test_mae', 'split3_test_mae', 'split4_test_mae', 'mean_test_mae', 'std_test_mae', 'rank_test_mae', 'split0_test_r2', 'split1_test_r2', 'split2_test_r2', 'split3_test_r2', 'split4_test_r2', 'mean_test_r2', 'std_test_r2', 'rank_test_r2'])"
      ]
     },
     "execution_count": 83,
     "metadata": {},
     "output_type": "execute_result"
    }
   ],
   "source": [
    "grid.cv_results_.keys()"
   ]
  },
  {
   "cell_type": "code",
   "execution_count": 84,
   "metadata": {},
   "outputs": [
    {
     "name": "stdout",
     "output_type": "stream",
     "text": [
      "MAE: 3782838.6725617857 , R2: 0.4801372297888593 \n",
      "\n",
      "R2 adj: 0.3636\n"
     ]
    }
   ],
   "source": [
    "y_pred = grid.best_estimator_.predict(x_test_filtered)\n",
    "print(\"MAE:\", mean_absolute_error(y_test, y_pred), \", R2:\", r2_score(y_test, y_pred), \"\\n\")\n",
    "\n",
    "r2_aj = 1 - (1-r2_score(y_test, y_pred))*(len(y_test)-1) / (len(y_test) - x_test.shape[1] - 1)\n",
    "print('R2 adj: %.4f' %r2_aj)"
   ]
  },
  {
   "cell_type": "code",
   "execution_count": 85,
   "metadata": {},
   "outputs": [],
   "source": [
    "df = pd.DataFrame([(act, hidden_layers, lr, max_iter, acc*100, kappa*100) for (act, hidden_layers, lr, max_iter, acc, kappa) in \n",
    "                   zip(\n",
    "                       grid.cv_results_['param_activation'], \n",
    "                       grid.cv_results_['param_hidden_layer_sizes'], \n",
    "                       grid.cv_results_['param_learning_rate_init'], \n",
    "                       grid.cv_results_['param_max_iter'], \n",
    "                       grid.cv_results_['mean_test_mae'], \n",
    "                       grid.cv_results_['mean_test_r2'],\n",
    "                      )\n",
    "                   ], columns = ('Activation', 'HiddenLayers', 'LearningRate', 'MaxIter', 'MAE', 'R2'))"
   ]
  },
  {
   "cell_type": "code",
   "execution_count": 86,
   "metadata": {
    "scrolled": false
   },
   "outputs": [
    {
     "data": {
      "text/html": [
       "<div>\n",
       "<style scoped>\n",
       "    .dataframe tbody tr th:only-of-type {\n",
       "        vertical-align: middle;\n",
       "    }\n",
       "\n",
       "    .dataframe tbody tr th {\n",
       "        vertical-align: top;\n",
       "    }\n",
       "\n",
       "    .dataframe thead th {\n",
       "        text-align: right;\n",
       "    }\n",
       "</style>\n",
       "<table border=\"1\" class=\"dataframe\">\n",
       "  <thead>\n",
       "    <tr style=\"text-align: right;\">\n",
       "      <th></th>\n",
       "      <th>Activation</th>\n",
       "      <th>HiddenLayers</th>\n",
       "      <th>LearningRate</th>\n",
       "      <th>MaxIter</th>\n",
       "      <th>MAE</th>\n",
       "      <th>R2</th>\n",
       "    </tr>\n",
       "  </thead>\n",
       "  <tbody>\n",
       "    <tr>\n",
       "      <td>3376</td>\n",
       "      <td>relu</td>\n",
       "      <td>(30, 20, 10)</td>\n",
       "      <td>0.04</td>\n",
       "      <td>2000</td>\n",
       "      <td>-3.703046e+08</td>\n",
       "      <td>50.943619</td>\n",
       "    </tr>\n",
       "    <tr>\n",
       "      <td>3375</td>\n",
       "      <td>relu</td>\n",
       "      <td>(30, 20, 10)</td>\n",
       "      <td>0.04</td>\n",
       "      <td>1000</td>\n",
       "      <td>-3.703046e+08</td>\n",
       "      <td>50.943619</td>\n",
       "    </tr>\n",
       "    <tr>\n",
       "      <td>3374</td>\n",
       "      <td>relu</td>\n",
       "      <td>(30, 20, 10)</td>\n",
       "      <td>0.04</td>\n",
       "      <td>500</td>\n",
       "      <td>-3.703046e+08</td>\n",
       "      <td>50.943619</td>\n",
       "    </tr>\n",
       "    <tr>\n",
       "      <td>3353</td>\n",
       "      <td>relu</td>\n",
       "      <td>(30, 20, 10)</td>\n",
       "      <td>0.02</td>\n",
       "      <td>1000</td>\n",
       "      <td>-3.712884e+08</td>\n",
       "      <td>51.537324</td>\n",
       "    </tr>\n",
       "    <tr>\n",
       "      <td>3354</td>\n",
       "      <td>relu</td>\n",
       "      <td>(30, 20, 10)</td>\n",
       "      <td>0.02</td>\n",
       "      <td>2000</td>\n",
       "      <td>-3.712884e+08</td>\n",
       "      <td>51.537324</td>\n",
       "    </tr>\n",
       "    <tr>\n",
       "      <td>2913</td>\n",
       "      <td>relu</td>\n",
       "      <td>(10, 10, 10)</td>\n",
       "      <td>0.04</td>\n",
       "      <td>1000</td>\n",
       "      <td>-3.723793e+08</td>\n",
       "      <td>51.230561</td>\n",
       "    </tr>\n",
       "    <tr>\n",
       "      <td>2914</td>\n",
       "      <td>relu</td>\n",
       "      <td>(10, 10, 10)</td>\n",
       "      <td>0.04</td>\n",
       "      <td>2000</td>\n",
       "      <td>-3.723793e+08</td>\n",
       "      <td>51.230561</td>\n",
       "    </tr>\n",
       "    <tr>\n",
       "      <td>2912</td>\n",
       "      <td>relu</td>\n",
       "      <td>(10, 10, 10)</td>\n",
       "      <td>0.04</td>\n",
       "      <td>500</td>\n",
       "      <td>-3.723793e+08</td>\n",
       "      <td>51.230561</td>\n",
       "    </tr>\n",
       "    <tr>\n",
       "      <td>2903</td>\n",
       "      <td>relu</td>\n",
       "      <td>(10, 10, 10)</td>\n",
       "      <td>0.03</td>\n",
       "      <td>2000</td>\n",
       "      <td>-3.724968e+08</td>\n",
       "      <td>50.991296</td>\n",
       "    </tr>\n",
       "    <tr>\n",
       "      <td>2902</td>\n",
       "      <td>relu</td>\n",
       "      <td>(10, 10, 10)</td>\n",
       "      <td>0.03</td>\n",
       "      <td>1000</td>\n",
       "      <td>-3.724968e+08</td>\n",
       "      <td>50.991296</td>\n",
       "    </tr>\n",
       "    <tr>\n",
       "      <td>3373</td>\n",
       "      <td>relu</td>\n",
       "      <td>(30, 20, 10)</td>\n",
       "      <td>0.04</td>\n",
       "      <td>400</td>\n",
       "      <td>-3.733932e+08</td>\n",
       "      <td>50.129701</td>\n",
       "    </tr>\n",
       "    <tr>\n",
       "      <td>3233</td>\n",
       "      <td>relu</td>\n",
       "      <td>(30, 30, 30)</td>\n",
       "      <td>0.05</td>\n",
       "      <td>2000</td>\n",
       "      <td>-3.742468e+08</td>\n",
       "      <td>48.979860</td>\n",
       "    </tr>\n",
       "    <tr>\n",
       "      <td>3231</td>\n",
       "      <td>relu</td>\n",
       "      <td>(30, 30, 30)</td>\n",
       "      <td>0.05</td>\n",
       "      <td>500</td>\n",
       "      <td>-3.742468e+08</td>\n",
       "      <td>48.979860</td>\n",
       "    </tr>\n",
       "    <tr>\n",
       "      <td>3230</td>\n",
       "      <td>relu</td>\n",
       "      <td>(30, 30, 30)</td>\n",
       "      <td>0.05</td>\n",
       "      <td>400</td>\n",
       "      <td>-3.742468e+08</td>\n",
       "      <td>48.979860</td>\n",
       "    </tr>\n",
       "    <tr>\n",
       "      <td>3229</td>\n",
       "      <td>relu</td>\n",
       "      <td>(30, 30, 30)</td>\n",
       "      <td>0.05</td>\n",
       "      <td>300</td>\n",
       "      <td>-3.742468e+08</td>\n",
       "      <td>48.979860</td>\n",
       "    </tr>\n",
       "    <tr>\n",
       "      <td>3232</td>\n",
       "      <td>relu</td>\n",
       "      <td>(30, 30, 30)</td>\n",
       "      <td>0.05</td>\n",
       "      <td>1000</td>\n",
       "      <td>-3.742468e+08</td>\n",
       "      <td>48.979860</td>\n",
       "    </tr>\n",
       "    <tr>\n",
       "      <td>3078</td>\n",
       "      <td>relu</td>\n",
       "      <td>(20, 20, 20)</td>\n",
       "      <td>0.05</td>\n",
       "      <td>1000</td>\n",
       "      <td>-3.749345e+08</td>\n",
       "      <td>50.677316</td>\n",
       "    </tr>\n",
       "    <tr>\n",
       "      <td>3077</td>\n",
       "      <td>relu</td>\n",
       "      <td>(20, 20, 20)</td>\n",
       "      <td>0.05</td>\n",
       "      <td>500</td>\n",
       "      <td>-3.749345e+08</td>\n",
       "      <td>50.677316</td>\n",
       "    </tr>\n",
       "    <tr>\n",
       "      <td>3079</td>\n",
       "      <td>relu</td>\n",
       "      <td>(20, 20, 20)</td>\n",
       "      <td>0.05</td>\n",
       "      <td>2000</td>\n",
       "      <td>-3.749345e+08</td>\n",
       "      <td>50.677316</td>\n",
       "    </tr>\n",
       "    <tr>\n",
       "      <td>3075</td>\n",
       "      <td>relu</td>\n",
       "      <td>(20, 20, 20)</td>\n",
       "      <td>0.05</td>\n",
       "      <td>300</td>\n",
       "      <td>-3.749345e+08</td>\n",
       "      <td>50.677316</td>\n",
       "    </tr>\n",
       "  </tbody>\n",
       "</table>\n",
       "</div>"
      ],
      "text/plain": [
       "     Activation  HiddenLayers  LearningRate  MaxIter           MAE         R2\n",
       "3376       relu  (30, 20, 10)          0.04     2000 -3.703046e+08  50.943619\n",
       "3375       relu  (30, 20, 10)          0.04     1000 -3.703046e+08  50.943619\n",
       "3374       relu  (30, 20, 10)          0.04      500 -3.703046e+08  50.943619\n",
       "3353       relu  (30, 20, 10)          0.02     1000 -3.712884e+08  51.537324\n",
       "3354       relu  (30, 20, 10)          0.02     2000 -3.712884e+08  51.537324\n",
       "2913       relu  (10, 10, 10)          0.04     1000 -3.723793e+08  51.230561\n",
       "2914       relu  (10, 10, 10)          0.04     2000 -3.723793e+08  51.230561\n",
       "2912       relu  (10, 10, 10)          0.04      500 -3.723793e+08  51.230561\n",
       "2903       relu  (10, 10, 10)          0.03     2000 -3.724968e+08  50.991296\n",
       "2902       relu  (10, 10, 10)          0.03     1000 -3.724968e+08  50.991296\n",
       "3373       relu  (30, 20, 10)          0.04      400 -3.733932e+08  50.129701\n",
       "3233       relu  (30, 30, 30)          0.05     2000 -3.742468e+08  48.979860\n",
       "3231       relu  (30, 30, 30)          0.05      500 -3.742468e+08  48.979860\n",
       "3230       relu  (30, 30, 30)          0.05      400 -3.742468e+08  48.979860\n",
       "3229       relu  (30, 30, 30)          0.05      300 -3.742468e+08  48.979860\n",
       "3232       relu  (30, 30, 30)          0.05     1000 -3.742468e+08  48.979860\n",
       "3078       relu  (20, 20, 20)          0.05     1000 -3.749345e+08  50.677316\n",
       "3077       relu  (20, 20, 20)          0.05      500 -3.749345e+08  50.677316\n",
       "3079       relu  (20, 20, 20)          0.05     2000 -3.749345e+08  50.677316\n",
       "3075       relu  (20, 20, 20)          0.05      300 -3.749345e+08  50.677316"
      ]
     },
     "execution_count": 86,
     "metadata": {},
     "output_type": "execute_result"
    }
   ],
   "source": [
    "df.iloc[np.argsort(-df.MAE),].head(20)"
   ]
  },
  {
   "cell_type": "markdown",
   "metadata": {},
   "source": [
    "#### 2.4. Modelamiento variables Backward Stepwise\n",
    "Creamos un modelo de regresión MPLRegressor con tres capas de 30 neuronas cada una."
   ]
  },
  {
   "cell_type": "code",
   "execution_count": 87,
   "metadata": {},
   "outputs": [],
   "source": [
    "x_train_filtered = x_train[current_variables_backward]\n",
    "x_test_filtered = x_test[current_variables_backward]"
   ]
  },
  {
   "cell_type": "code",
   "execution_count": 88,
   "metadata": {},
   "outputs": [
    {
     "data": {
      "text/plain": [
       "MLPRegressor(activation='relu', alpha=0.0001, batch_size='auto', beta_1=0.9,\n",
       "             beta_2=0.999, early_stopping=False, epsilon=1e-08,\n",
       "             hidden_layer_sizes=(30, 30, 30), learning_rate='constant',\n",
       "             learning_rate_init=0.001, max_iter=200, momentum=0.9,\n",
       "             n_iter_no_change=10, nesterovs_momentum=True, power_t=0.5,\n",
       "             random_state=1, shuffle=True, solver='adam', tol=0.0001,\n",
       "             validation_fraction=0.1, verbose=False, warm_start=False)"
      ]
     },
     "execution_count": 88,
     "metadata": {},
     "output_type": "execute_result"
    }
   ],
   "source": [
    "np.random.seed(12345)\n",
    "mlp = MLPRegressor(hidden_layer_sizes=(30,30,30), random_state=1)\n",
    "mlp.fit(x_train_filtered,y_train)"
   ]
  },
  {
   "cell_type": "code",
   "execution_count": 89,
   "metadata": {},
   "outputs": [
    {
     "name": "stdout",
     "output_type": "stream",
     "text": [
      "RMSE: 6218857.224700251 , MAE: 4163051.97743421 , R2: 0.25807319203932044\n"
     ]
    }
   ],
   "source": [
    "y_pred = mlp.predict(x_test_filtered)\n",
    "print(\"RMSE:\", sqrt(mean_squared_error(y_test, y_pred)), \", MAE:\", mean_absolute_error(y_test, y_pred), \", R2:\", r2_score(y_test, y_pred))"
   ]
  },
  {
   "cell_type": "markdown",
   "metadata": {},
   "source": [
    "Utilizando GridSearchCV, buscaremos la mejor combinación de parámetros para crear nuestra red neuronal."
   ]
  },
  {
   "cell_type": "code",
   "execution_count": 90,
   "metadata": {},
   "outputs": [],
   "source": [
    "activation_vec = ['logistic', 'relu', 'tanh']\n",
    "max_iter_vec = [10, 20, 50, 75, 100, 200, 300, 400, 500, 1000, 2000]\n",
    "hidden_layer_sizes_vec = [(10,), (20,), (30,), (10, 10), (20, 20), (30, 30), (20, 10), \n",
    "                          (10, 10, 10), (20, 20, 20), (30, 30, 30), (30, 20, 10)]\n",
    "learning_rate_init_vec = [0.001, 0.002, 0.003, 0.004, 0.005, 0.006, 0.007, 0.008, 0.009, 0.01, 0.02, 0.03, 0.04, 0.05]"
   ]
  },
  {
   "cell_type": "code",
   "execution_count": 91,
   "metadata": {},
   "outputs": [],
   "source": [
    "import time\n",
    "start = time.time() # Devuelve el tiempo actual en segundos desde el 1o de enero de 1970 (punto de referencia)\n",
    "\n",
    "np.random.seed(12345)\n",
    "parametros = {'activation': activation_vec,\n",
    "              'max_iter':max_iter_vec,\n",
    "              'hidden_layer_sizes': hidden_layer_sizes_vec,\n",
    "              'learning_rate_init': learning_rate_init_vec\n",
    "              }\n",
    "\n",
    "scoring = {'mae':'neg_mean_absolute_error', 'r2':'r2'}\n",
    "grid = GridSearchCV(mlp, param_grid=parametros, cv=5, scoring=scoring, refit='mae', n_jobs=-1, iid=True)"
   ]
  },
  {
   "cell_type": "markdown",
   "metadata": {},
   "source": [
    "### <font color=\"red\"><b>DESDE AQUÍ: NO EJECUTAR DE NUEVO (+20 minutos)</b></font>"
   ]
  },
  {
   "cell_type": "code",
   "execution_count": 92,
   "metadata": {},
   "outputs": [
    {
     "name": "stdout",
     "output_type": "stream",
     "text": [
      "Los parámetros del mejor modelo fueron {'activation': 'relu', 'hidden_layer_sizes': (10, 10, 10), 'learning_rate_init': 0.05, 'max_iter': 400}, que permiten obtener un MAE de -355310487.95% y un R2 de 53.13\n",
      "Tiempo total: 46.92 minutos\n"
     ]
    }
   ],
   "source": [
    "grid.fit(x_train_filtered, y_train)\n",
    "\n",
    "print(\"Los parámetros del mejor modelo fueron {0}, que permiten obtener un MAE de {1:.2f}% y un R2 de {2:.2f}\".format(\n",
    "    grid.best_params_, grid.best_score_*100, grid.cv_results_['mean_test_r2'][grid.best_index_]*100))\n",
    "end = time.time() # Tiempo después de finalizar el entrenamiento del modelo\n",
    "print(\"Tiempo total: {0:.2f} minutos\".format((end-start)/60))"
   ]
  },
  {
   "cell_type": "markdown",
   "metadata": {},
   "source": [
    "### <font color=\"red\"><b>HASTA ACÁ</b></font>"
   ]
  },
  {
   "cell_type": "code",
   "execution_count": 93,
   "metadata": {},
   "outputs": [],
   "source": [
    "df = pd.DataFrame([(mae*100, r2*100) for (mae, r2) in \n",
    "                   zip( \n",
    "                       grid.cv_results_['mean_test_mae'], \n",
    "                       grid.cv_results_['mean_test_r2'],\n",
    "                      )\n",
    "                   ], columns = ('MAE', 'R2'))"
   ]
  },
  {
   "cell_type": "code",
   "execution_count": 94,
   "metadata": {},
   "outputs": [
    {
     "data": {
      "text/html": [
       "<div>\n",
       "<style scoped>\n",
       "    .dataframe tbody tr th:only-of-type {\n",
       "        vertical-align: middle;\n",
       "    }\n",
       "\n",
       "    .dataframe tbody tr th {\n",
       "        vertical-align: top;\n",
       "    }\n",
       "\n",
       "    .dataframe thead th {\n",
       "        text-align: right;\n",
       "    }\n",
       "</style>\n",
       "<table border=\"1\" class=\"dataframe\">\n",
       "  <thead>\n",
       "    <tr style=\"text-align: right;\">\n",
       "      <th></th>\n",
       "      <th>MAE</th>\n",
       "      <th>R2</th>\n",
       "    </tr>\n",
       "  </thead>\n",
       "  <tbody>\n",
       "    <tr>\n",
       "      <td>2924</td>\n",
       "      <td>-3.553105e+08</td>\n",
       "      <td>53.134349</td>\n",
       "    </tr>\n",
       "    <tr>\n",
       "      <td>2925</td>\n",
       "      <td>-3.553105e+08</td>\n",
       "      <td>53.134349</td>\n",
       "    </tr>\n",
       "    <tr>\n",
       "      <td>2923</td>\n",
       "      <td>-3.553105e+08</td>\n",
       "      <td>53.134349</td>\n",
       "    </tr>\n",
       "    <tr>\n",
       "      <td>2922</td>\n",
       "      <td>-3.553105e+08</td>\n",
       "      <td>53.134349</td>\n",
       "    </tr>\n",
       "    <tr>\n",
       "      <td>3155</td>\n",
       "      <td>-3.571383e+08</td>\n",
       "      <td>53.385984</td>\n",
       "    </tr>\n",
       "    <tr>\n",
       "      <td>...</td>\n",
       "      <td>...</td>\n",
       "      <td>...</td>\n",
       "    </tr>\n",
       "    <tr>\n",
       "      <td>1079</td>\n",
       "      <td>-6.886548e+08</td>\n",
       "      <td>-85.807131</td>\n",
       "    </tr>\n",
       "    <tr>\n",
       "      <td>1089</td>\n",
       "      <td>-6.886548e+08</td>\n",
       "      <td>-85.807131</td>\n",
       "    </tr>\n",
       "    <tr>\n",
       "      <td>0</td>\n",
       "      <td>-6.886548e+08</td>\n",
       "      <td>-85.807134</td>\n",
       "    </tr>\n",
       "    <tr>\n",
       "      <td>1078</td>\n",
       "      <td>-6.886548e+08</td>\n",
       "      <td>-85.807136</td>\n",
       "    </tr>\n",
       "    <tr>\n",
       "      <td>2310</td>\n",
       "      <td>-6.886596e+08</td>\n",
       "      <td>-85.808752</td>\n",
       "    </tr>\n",
       "  </tbody>\n",
       "</table>\n",
       "<p>5082 rows × 2 columns</p>\n",
       "</div>"
      ],
      "text/plain": [
       "               MAE         R2\n",
       "2924 -3.553105e+08  53.134349\n",
       "2925 -3.553105e+08  53.134349\n",
       "2923 -3.553105e+08  53.134349\n",
       "2922 -3.553105e+08  53.134349\n",
       "3155 -3.571383e+08  53.385984\n",
       "...            ...        ...\n",
       "1079 -6.886548e+08 -85.807131\n",
       "1089 -6.886548e+08 -85.807131\n",
       "0    -6.886548e+08 -85.807134\n",
       "1078 -6.886548e+08 -85.807136\n",
       "2310 -6.886596e+08 -85.808752\n",
       "\n",
       "[5082 rows x 2 columns]"
      ]
     },
     "execution_count": 94,
     "metadata": {},
     "output_type": "execute_result"
    }
   ],
   "source": [
    "df.iloc[np.argsort(-df.MAE),]"
   ]
  },
  {
   "cell_type": "code",
   "execution_count": 95,
   "metadata": {},
   "outputs": [
    {
     "data": {
      "text/plain": [
       "dict_keys(['mean_fit_time', 'std_fit_time', 'mean_score_time', 'std_score_time', 'param_activation', 'param_hidden_layer_sizes', 'param_learning_rate_init', 'param_max_iter', 'params', 'split0_test_mae', 'split1_test_mae', 'split2_test_mae', 'split3_test_mae', 'split4_test_mae', 'mean_test_mae', 'std_test_mae', 'rank_test_mae', 'split0_test_r2', 'split1_test_r2', 'split2_test_r2', 'split3_test_r2', 'split4_test_r2', 'mean_test_r2', 'std_test_r2', 'rank_test_r2'])"
      ]
     },
     "execution_count": 95,
     "metadata": {},
     "output_type": "execute_result"
    }
   ],
   "source": [
    "grid.cv_results_.keys()"
   ]
  },
  {
   "cell_type": "code",
   "execution_count": 96,
   "metadata": {},
   "outputs": [
    {
     "name": "stdout",
     "output_type": "stream",
     "text": [
      "MAE: 3952525.1313872146 , R2: 0.44400082841060495 \n",
      "\n",
      "R2 adj: 0.3194\n"
     ]
    }
   ],
   "source": [
    "y_pred = grid.best_estimator_.predict(x_test_filtered)\n",
    "print(\"MAE:\", mean_absolute_error(y_test, y_pred), \", R2:\", r2_score(y_test, y_pred), \"\\n\")\n",
    "\n",
    "r2_aj = 1 - (1-r2_score(y_test, y_pred))*(len(y_test)-1) / (len(y_test) - x_test.shape[1] - 1)\n",
    "print('R2 adj: %.4f' %r2_aj)"
   ]
  },
  {
   "cell_type": "code",
   "execution_count": 97,
   "metadata": {},
   "outputs": [],
   "source": [
    "df = pd.DataFrame([(act, hidden_layers, lr, max_iter, acc*100, kappa*100) for (act, hidden_layers, lr, max_iter, acc, kappa) in \n",
    "                   zip(\n",
    "                       grid.cv_results_['param_activation'], \n",
    "                       grid.cv_results_['param_hidden_layer_sizes'], \n",
    "                       grid.cv_results_['param_learning_rate_init'], \n",
    "                       grid.cv_results_['param_max_iter'], \n",
    "                       grid.cv_results_['mean_test_mae'], \n",
    "                       grid.cv_results_['mean_test_r2'],\n",
    "                      )\n",
    "                   ], columns = ('Activation', 'HiddenLayers', 'LearningRate', 'MaxIter', 'MAE', 'R2'))"
   ]
  },
  {
   "cell_type": "code",
   "execution_count": 98,
   "metadata": {
    "scrolled": false
   },
   "outputs": [
    {
     "data": {
      "text/html": [
       "<div>\n",
       "<style scoped>\n",
       "    .dataframe tbody tr th:only-of-type {\n",
       "        vertical-align: middle;\n",
       "    }\n",
       "\n",
       "    .dataframe tbody tr th {\n",
       "        vertical-align: top;\n",
       "    }\n",
       "\n",
       "    .dataframe thead th {\n",
       "        text-align: right;\n",
       "    }\n",
       "</style>\n",
       "<table border=\"1\" class=\"dataframe\">\n",
       "  <thead>\n",
       "    <tr style=\"text-align: right;\">\n",
       "      <th></th>\n",
       "      <th>Activation</th>\n",
       "      <th>HiddenLayers</th>\n",
       "      <th>LearningRate</th>\n",
       "      <th>MaxIter</th>\n",
       "      <th>MAE</th>\n",
       "      <th>R2</th>\n",
       "    </tr>\n",
       "  </thead>\n",
       "  <tbody>\n",
       "    <tr>\n",
       "      <td>2924</td>\n",
       "      <td>relu</td>\n",
       "      <td>(10, 10, 10)</td>\n",
       "      <td>0.050</td>\n",
       "      <td>1000</td>\n",
       "      <td>-3.553105e+08</td>\n",
       "      <td>53.134349</td>\n",
       "    </tr>\n",
       "    <tr>\n",
       "      <td>2925</td>\n",
       "      <td>relu</td>\n",
       "      <td>(10, 10, 10)</td>\n",
       "      <td>0.050</td>\n",
       "      <td>2000</td>\n",
       "      <td>-3.553105e+08</td>\n",
       "      <td>53.134349</td>\n",
       "    </tr>\n",
       "    <tr>\n",
       "      <td>2923</td>\n",
       "      <td>relu</td>\n",
       "      <td>(10, 10, 10)</td>\n",
       "      <td>0.050</td>\n",
       "      <td>500</td>\n",
       "      <td>-3.553105e+08</td>\n",
       "      <td>53.134349</td>\n",
       "    </tr>\n",
       "    <tr>\n",
       "      <td>2922</td>\n",
       "      <td>relu</td>\n",
       "      <td>(10, 10, 10)</td>\n",
       "      <td>0.050</td>\n",
       "      <td>400</td>\n",
       "      <td>-3.553105e+08</td>\n",
       "      <td>53.134349</td>\n",
       "    </tr>\n",
       "    <tr>\n",
       "      <td>3155</td>\n",
       "      <td>relu</td>\n",
       "      <td>(30, 30, 30)</td>\n",
       "      <td>0.007</td>\n",
       "      <td>1000</td>\n",
       "      <td>-3.571383e+08</td>\n",
       "      <td>53.385984</td>\n",
       "    </tr>\n",
       "    <tr>\n",
       "      <td>3156</td>\n",
       "      <td>relu</td>\n",
       "      <td>(30, 30, 30)</td>\n",
       "      <td>0.007</td>\n",
       "      <td>2000</td>\n",
       "      <td>-3.571383e+08</td>\n",
       "      <td>53.385984</td>\n",
       "    </tr>\n",
       "    <tr>\n",
       "      <td>2308</td>\n",
       "      <td>relu</td>\n",
       "      <td>(10, 10)</td>\n",
       "      <td>0.050</td>\n",
       "      <td>1000</td>\n",
       "      <td>-3.620313e+08</td>\n",
       "      <td>52.873004</td>\n",
       "    </tr>\n",
       "    <tr>\n",
       "      <td>2309</td>\n",
       "      <td>relu</td>\n",
       "      <td>(10, 10)</td>\n",
       "      <td>0.050</td>\n",
       "      <td>2000</td>\n",
       "      <td>-3.620313e+08</td>\n",
       "      <td>52.873004</td>\n",
       "    </tr>\n",
       "    <tr>\n",
       "      <td>3354</td>\n",
       "      <td>relu</td>\n",
       "      <td>(30, 20, 10)</td>\n",
       "      <td>0.020</td>\n",
       "      <td>2000</td>\n",
       "      <td>-3.630984e+08</td>\n",
       "      <td>52.669656</td>\n",
       "    </tr>\n",
       "    <tr>\n",
       "      <td>3353</td>\n",
       "      <td>relu</td>\n",
       "      <td>(30, 20, 10)</td>\n",
       "      <td>0.020</td>\n",
       "      <td>1000</td>\n",
       "      <td>-3.630984e+08</td>\n",
       "      <td>52.669656</td>\n",
       "    </tr>\n",
       "    <tr>\n",
       "      <td>3363</td>\n",
       "      <td>relu</td>\n",
       "      <td>(30, 20, 10)</td>\n",
       "      <td>0.030</td>\n",
       "      <td>500</td>\n",
       "      <td>-3.636451e+08</td>\n",
       "      <td>51.898843</td>\n",
       "    </tr>\n",
       "    <tr>\n",
       "      <td>3364</td>\n",
       "      <td>relu</td>\n",
       "      <td>(30, 20, 10)</td>\n",
       "      <td>0.030</td>\n",
       "      <td>1000</td>\n",
       "      <td>-3.636451e+08</td>\n",
       "      <td>51.898843</td>\n",
       "    </tr>\n",
       "    <tr>\n",
       "      <td>3365</td>\n",
       "      <td>relu</td>\n",
       "      <td>(30, 20, 10)</td>\n",
       "      <td>0.030</td>\n",
       "      <td>2000</td>\n",
       "      <td>-3.636451e+08</td>\n",
       "      <td>51.898843</td>\n",
       "    </tr>\n",
       "    <tr>\n",
       "      <td>2759</td>\n",
       "      <td>relu</td>\n",
       "      <td>(20, 10)</td>\n",
       "      <td>0.040</td>\n",
       "      <td>1000</td>\n",
       "      <td>-3.642243e+08</td>\n",
       "      <td>52.508505</td>\n",
       "    </tr>\n",
       "    <tr>\n",
       "      <td>2760</td>\n",
       "      <td>relu</td>\n",
       "      <td>(20, 10)</td>\n",
       "      <td>0.040</td>\n",
       "      <td>2000</td>\n",
       "      <td>-3.642243e+08</td>\n",
       "      <td>52.508505</td>\n",
       "    </tr>\n",
       "    <tr>\n",
       "      <td>3189</td>\n",
       "      <td>relu</td>\n",
       "      <td>(30, 30, 30)</td>\n",
       "      <td>0.010</td>\n",
       "      <td>2000</td>\n",
       "      <td>-3.650157e+08</td>\n",
       "      <td>52.026723</td>\n",
       "    </tr>\n",
       "    <tr>\n",
       "      <td>3188</td>\n",
       "      <td>relu</td>\n",
       "      <td>(30, 30, 30)</td>\n",
       "      <td>0.010</td>\n",
       "      <td>1000</td>\n",
       "      <td>-3.650157e+08</td>\n",
       "      <td>52.026723</td>\n",
       "    </tr>\n",
       "    <tr>\n",
       "      <td>2902</td>\n",
       "      <td>relu</td>\n",
       "      <td>(10, 10, 10)</td>\n",
       "      <td>0.030</td>\n",
       "      <td>1000</td>\n",
       "      <td>-3.652220e+08</td>\n",
       "      <td>52.087530</td>\n",
       "    </tr>\n",
       "    <tr>\n",
       "      <td>2903</td>\n",
       "      <td>relu</td>\n",
       "      <td>(10, 10, 10)</td>\n",
       "      <td>0.030</td>\n",
       "      <td>2000</td>\n",
       "      <td>-3.652220e+08</td>\n",
       "      <td>52.087530</td>\n",
       "    </tr>\n",
       "    <tr>\n",
       "      <td>2901</td>\n",
       "      <td>relu</td>\n",
       "      <td>(10, 10, 10)</td>\n",
       "      <td>0.030</td>\n",
       "      <td>500</td>\n",
       "      <td>-3.652893e+08</td>\n",
       "      <td>52.454905</td>\n",
       "    </tr>\n",
       "  </tbody>\n",
       "</table>\n",
       "</div>"
      ],
      "text/plain": [
       "     Activation  HiddenLayers  LearningRate  MaxIter           MAE         R2\n",
       "2924       relu  (10, 10, 10)         0.050     1000 -3.553105e+08  53.134349\n",
       "2925       relu  (10, 10, 10)         0.050     2000 -3.553105e+08  53.134349\n",
       "2923       relu  (10, 10, 10)         0.050      500 -3.553105e+08  53.134349\n",
       "2922       relu  (10, 10, 10)         0.050      400 -3.553105e+08  53.134349\n",
       "3155       relu  (30, 30, 30)         0.007     1000 -3.571383e+08  53.385984\n",
       "3156       relu  (30, 30, 30)         0.007     2000 -3.571383e+08  53.385984\n",
       "2308       relu      (10, 10)         0.050     1000 -3.620313e+08  52.873004\n",
       "2309       relu      (10, 10)         0.050     2000 -3.620313e+08  52.873004\n",
       "3354       relu  (30, 20, 10)         0.020     2000 -3.630984e+08  52.669656\n",
       "3353       relu  (30, 20, 10)         0.020     1000 -3.630984e+08  52.669656\n",
       "3363       relu  (30, 20, 10)         0.030      500 -3.636451e+08  51.898843\n",
       "3364       relu  (30, 20, 10)         0.030     1000 -3.636451e+08  51.898843\n",
       "3365       relu  (30, 20, 10)         0.030     2000 -3.636451e+08  51.898843\n",
       "2759       relu      (20, 10)         0.040     1000 -3.642243e+08  52.508505\n",
       "2760       relu      (20, 10)         0.040     2000 -3.642243e+08  52.508505\n",
       "3189       relu  (30, 30, 30)         0.010     2000 -3.650157e+08  52.026723\n",
       "3188       relu  (30, 30, 30)         0.010     1000 -3.650157e+08  52.026723\n",
       "2902       relu  (10, 10, 10)         0.030     1000 -3.652220e+08  52.087530\n",
       "2903       relu  (10, 10, 10)         0.030     2000 -3.652220e+08  52.087530\n",
       "2901       relu  (10, 10, 10)         0.030      500 -3.652893e+08  52.454905"
      ]
     },
     "execution_count": 98,
     "metadata": {},
     "output_type": "execute_result"
    }
   ],
   "source": [
    "df.iloc[np.argsort(-df.MAE),].head(20)"
   ]
  },
  {
   "cell_type": "markdown",
   "metadata": {},
   "source": [
    "Dado que los modelos tienen diferente número de predictores, se compararán mediante el R2 ajustado.\n",
    "\n",
    "En el primer caso, donde se usaron todas las variables independientes, el R2 ajustado fue de:\n",
    "\n",
    "* R2 adj: 0.3981\n",
    "\n",
    "En el segundo caso, donde se filtraron las variables predictoras por forward stepwise, el R2 ajustado fue de:\n",
    "\n",
    "* R2 adj: 0.3636\n",
    "\n",
    "En el tercer caso, donde se filtraron las variables predictoras por backward stepwise, el R2 ajustado fue de:\n",
    "\n",
    "* R2 adj: 0.3194\n",
    "\n",
    "Se puede observar que en el primer caso se obtuvieron las mejores métricas, y por lo tanto, las mejores predicciones del modelo."
   ]
  },
  {
   "cell_type": "markdown",
   "metadata": {},
   "source": [
    "### 3. K-Nearest Neighbors"
   ]
  },
  {
   "cell_type": "code",
   "execution_count": 33,
   "metadata": {},
   "outputs": [],
   "source": [
    "from sklearn import datasets, metrics\n",
    "from sklearn.neighbors import KNeighborsRegressor"
   ]
  },
  {
   "cell_type": "markdown",
   "metadata": {},
   "source": [
    "#### 3.0. Protocolo de evaluación"
   ]
  },
  {
   "cell_type": "code",
   "execution_count": 34,
   "metadata": {},
   "outputs": [],
   "source": [
    "x_train, x_test, y_train, y_test = train_test_split(x, y, test_size=0.3, random_state=12345)"
   ]
  },
  {
   "cell_type": "code",
   "execution_count": 35,
   "metadata": {
    "scrolled": true
   },
   "outputs": [
    {
     "data": {
      "text/plain": [
       "array([ 1,  3,  5,  7,  9, 11, 13, 15, 17, 19, 21, 23, 25, 27, 29])"
      ]
     },
     "execution_count": 35,
     "metadata": {},
     "output_type": "execute_result"
    }
   ],
   "source": [
    "k_vec= np.arange(1,31,2)\n",
    "k_vec"
   ]
  },
  {
   "cell_type": "markdown",
   "metadata": {},
   "source": [
    "#### 3.1. Predicción con todas las variables"
   ]
  },
  {
   "cell_type": "code",
   "execution_count": 36,
   "metadata": {
    "scrolled": true
   },
   "outputs": [
    {
     "name": "stdout",
     "output_type": "stream",
     "text": [
      "[0.0, 3443215.66163142, 3834901.2205438064, 4077458.971946482, 4230970.722390064, 4297081.285086515, 4438087.204973275, 4556883.55407855, 4644774.336946864, 4702283.778025123, 4708921.85757445, 4701135.584263759, 4733363.677703928, 4722035.321696319, 4752319.160225024]\n",
      "[1.0, 0.5706485145011853, 0.476383140678453, 0.41751255061077885, 0.3936782149356416, 0.3718779878312216, 0.34372987485681006, 0.3226109131264041, 0.30616592090099837, 0.2947294823850287, 0.2965337375687055, 0.3032393898442399, 0.29776881745295225, 0.3034524676666577, 0.291266822965065]\n",
      "[5262401.8811188815, 4423048.156177157, 4405396.339860139, 4559785.643356644, 4495231.190365192, 4431106.506675144, 4566788.250672404, 4643879.628904427, 4642935.145207734, 4617137.158262789, 4622153.269064269, 4516314.9236850105, 4524188.175944056, 4524399.532504532, 4556695.012056909]\n",
      "[-0.26223231159631366, 0.21294156219520477, 0.28607265413168814, 0.24560162283024767, 0.2729610173649045, 0.30392086538735374, 0.2788767729533498, 0.2668872177055215, 0.2667904518103672, 0.2727688769218152, 0.27385886937794246, 0.3016929411068696, 0.2962828435081153, 0.2877404849433387, 0.2916190060337772]\n",
      "[ 1  3  5  7  9 11 13 15 17 19 21 23 25 27 29]\n"
     ]
    }
   ],
   "source": [
    "mae_train_vec=[]\n",
    "mae_test_vec=[]\n",
    "r2_train_vec=[]\n",
    "r2_test_vec=[]\n",
    "y_pred_test_vec=[]\n",
    "y_pred_train_vec=[]\n",
    "\n",
    "for k in k_vec:\n",
    "    knn = KNeighborsRegressor(n_neighbors=k)\n",
    "    knn.fit(x_train, y_train)\n",
    "    y_pred = knn.predict(x_train)\n",
    "    y_pred_train_vec.append(y_pred)\n",
    "    mae_train_vec.append(mean_absolute_error(y_train, y_pred))\n",
    "    r2_train_vec.append(r2_score(y_train, y_pred))\n",
    "    y_pred = knn.predict(x_test)\n",
    "    y_pred_test_vec.append(y_pred)\n",
    "    mae_test_vec.append(mean_absolute_error(y_test, y_pred))\n",
    "    r2_test_vec.append(r2_score(y_test, y_pred))\n",
    "print(mae_train_vec)\n",
    "print(r2_train_vec)\n",
    "print(mae_test_vec)\n",
    "print(r2_test_vec)\n",
    "print(k_vec)"
   ]
  },
  {
   "cell_type": "code",
   "execution_count": 37,
   "metadata": {},
   "outputs": [
    {
     "name": "stdout",
     "output_type": "stream",
     "text": [
      "Best K MAE (train): [1]\n",
      "Best K R2 (train): [1]\n",
      "Best K MAE(test): [5] , value: 4405396.339860139\n",
      "Best K R2 (test): [11] , value: 0.30392086538735374\n",
      "Best K R2 adj (test): 0.1479\n"
     ]
    }
   ],
   "source": [
    "mae_train_best = k_vec[np.where(mae_train_vec == np.amin(mae_train_vec))[0]]\n",
    "r2_train_best = k_vec[np.where(r2_train_vec == np.amax(r2_train_vec))[0]]\n",
    "mae_test_best = k_vec[np.where(mae_test_vec == np.amin(mae_test_vec))[0]]\n",
    "r2_test_best = k_vec[np.where(r2_test_vec == np.amax(r2_test_vec))[0]]\n",
    "print(\"Best K MAE (train):\",mae_train_best)\n",
    "print(\"Best K R2 (train):\",r2_train_best)\n",
    "print(\"Best K MAE(test):\",mae_test_best,\", value:\",np.amin(mae_test_vec))\n",
    "print(\"Best K R2 (test):\",r2_test_best,\", value:\",np.amax(r2_test_vec))\n",
    "\n",
    "best_k_y_pred = y_pred_test_vec[(np.where(r2_test_vec == np.amax(r2_test_vec))[0])[0]]\n",
    "\n",
    "r2_aj = 1 - (1-r2_score(y_test, best_k_y_pred))*(len(y_test)-1) / (len(y_test) - x_test.shape[1] - 1)\n",
    "\n",
    "print('Best K R2 adj (test): %.4f'%r2_aj)"
   ]
  },
  {
   "cell_type": "code",
   "execution_count": 38,
   "metadata": {},
   "outputs": [
    {
     "data": {
      "text/plain": [
       "<matplotlib.legend.Legend at 0x24d621157b8>"
      ]
     },
     "execution_count": 38,
     "metadata": {},
     "output_type": "execute_result"
    },
    {
     "data": {
      "image/png": "[encoded data removed]",
      "text/plain": [
       "<Figure size 720x360 with 1 Axes>"
      ]
     },
     "metadata": {
      "needs_background": "light"
     },
     "output_type": "display_data"
    }
   ],
   "source": [
    "plt.figure(figsize=(10,5))\n",
    "ax = plt.gca() # get current axis\n",
    "plt.plot(k_vec, mae_train_vec)\n",
    "plt.plot(k_vec, mae_test_vec)\n",
    "ax.set_xlim(ax.get_xlim()[::-1])  # reverse axis\n",
    "plt.axis('tight')\n",
    "plt.xlabel('k')\n",
    "plt.ylabel('Error Absoluto Medio')\n",
    "plt.title('Evolución del MAE vs complejidad del modelo k-nn (valor de k más pequeño)')\n",
    "plt.legend(['train', 'test'])"
   ]
  },
  {
   "cell_type": "code",
   "execution_count": 39,
   "metadata": {
    "scrolled": false
   },
   "outputs": [
    {
     "data": {
      "text/plain": [
       "<matplotlib.legend.Legend at 0x24d6218a860>"
      ]
     },
     "execution_count": 39,
     "metadata": {},
     "output_type": "execute_result"
    },
    {
     "data": {
      "image/png": "[encoded data removed]",
      "text/plain": [
       "<Figure size 720x360 with 1 Axes>"
      ]
     },
     "metadata": {
      "needs_background": "light"
     },
     "output_type": "display_data"
    }
   ],
   "source": [
    "plt.figure(figsize=(10,5))\n",
    "ax = plt.gca() # get current axis\n",
    "plt.plot(k_vec, r2_train_vec)\n",
    "plt.plot(k_vec, r2_test_vec)\n",
    "ax.set_xlim(ax.get_xlim()[::-1])  # reverse axis\n",
    "plt.axis('tight')\n",
    "plt.xlabel('k')\n",
    "plt.ylabel('Coeficiente de Determinación')\n",
    "plt.title('Evolución del R2 vs complejidad del modelo k-nn (valor de k más pequeño)')\n",
    "plt.legend(['train', 'test'])"
   ]
  },
  {
   "cell_type": "markdown",
   "metadata": {},
   "source": [
    "#### 3.2. Predicción con variables Forward Stepwise"
   ]
  },
  {
   "cell_type": "code",
   "execution_count": 49,
   "metadata": {},
   "outputs": [],
   "source": [
    "x_train_filtered = x_train[current_variables_forward]\n",
    "x_test_filtered = x_test[current_variables_forward]"
   ]
  },
  {
   "cell_type": "code",
   "execution_count": 50,
   "metadata": {
    "scrolled": true
   },
   "outputs": [
    {
     "name": "stdout",
     "output_type": "stream",
     "text": [
      "[0.0, 3484378.0825780467, 3801134.4628398786, 4007691.4592145015, 4222115.357166835, 4255379.271628674, 4416840.303276784, 4522661.456394763, 4654210.786209348, 4720765.474320241, 4704971.187886635, 4704949.935505058, 4721805.942598187, 4716789.970907464, 4746819.924992187]\n",
      "[1.0, 0.5695826941887346, 0.48666633756820765, 0.4346273385513091, 0.39738734549078525, 0.3769816111027986, 0.34381227131435166, 0.3211152640700303, 0.30056424797199277, 0.291424462754038, 0.29950757852360765, 0.30263110784515423, 0.2989420192389449, 0.3018945298174027, 0.29216087218029674]\n",
      "[5207393.979020979, 4721191.575757576, 4456416.66993007, 4444663.63036963, 4492940.041958042, 4448313.387158295, 4561382.992469069, 4593828.025174825, 4587131.528177705, 4621796.016194331, 4577314.418581419, 4512111.503496503, 4534858.013146854, 4538498.620564621, 4558056.387026767]\n",
      "[-0.24892002625004284, 0.09633017018867507, 0.2625669119405709, 0.2809944890861894, 0.28008252450955384, 0.29475150800252714, 0.28547386085921367, 0.27588228942925985, 0.27321522609998916, 0.2718372972152454, 0.27651791914264867, 0.3005069174192918, 0.29477176372388514, 0.2868210085299685, 0.29199451669201404]\n",
      "[ 1  3  5  7  9 11 13 15 17 19 21 23 25 27 29]\n"
     ]
    }
   ],
   "source": [
    "mae_train_vec=[]\n",
    "mae_test_vec=[]\n",
    "r2_train_vec=[]\n",
    "r2_test_vec=[]\n",
    "y_pred_test_vec=[]\n",
    "y_pred_train_vec=[]\n",
    "\n",
    "for k in k_vec:\n",
    "    knn = KNeighborsRegressor(n_neighbors=k)\n",
    "    knn.fit(x_train_filtered, y_train)\n",
    "    y_pred = knn.predict(x_train_filtered)\n",
    "    y_pred_train_vec.append(y_pred)\n",
    "    mae_train_vec.append(mean_absolute_error(y_train, y_pred))\n",
    "    r2_train_vec.append(r2_score(y_train, y_pred))\n",
    "    y_pred = knn.predict(x_test_filtered)\n",
    "    y_pred_test_vec.append(y_pred)\n",
    "    mae_test_vec.append(mean_absolute_error(y_test, y_pred))\n",
    "    r2_test_vec.append(r2_score(y_test, y_pred))\n",
    "print(mae_train_vec)\n",
    "print(r2_train_vec)\n",
    "print(mae_test_vec)\n",
    "print(r2_test_vec)\n",
    "print(k_vec)"
   ]
  },
  {
   "cell_type": "code",
   "execution_count": 51,
   "metadata": {},
   "outputs": [
    {
     "name": "stdout",
     "output_type": "stream",
     "text": [
      "Best K MAE (train): [1]\n",
      "Best K R2 (train): [1]\n",
      "Best K MAE(test): [7] , value: 4444663.63036963\n",
      "Best K R2 (test): [23] , value: 0.3005069174192918\n",
      "Best K R2 adj (test): 0.1437\n"
     ]
    }
   ],
   "source": [
    "mae_train_best = k_vec[np.where(mae_train_vec == np.amin(mae_train_vec))[0]]\n",
    "r2_train_best = k_vec[np.where(r2_train_vec == np.amax(r2_train_vec))[0]]\n",
    "mae_test_best = k_vec[np.where(mae_test_vec == np.amin(mae_test_vec))[0]]\n",
    "r2_test_best = k_vec[np.where(r2_test_vec == np.amax(r2_test_vec))[0]]\n",
    "print(\"Best K MAE (train):\",mae_train_best)\n",
    "print(\"Best K R2 (train):\",r2_train_best)\n",
    "print(\"Best K MAE(test):\",mae_test_best,\", value:\",np.amin(mae_test_vec))\n",
    "print(\"Best K R2 (test):\",r2_test_best,\", value:\",np.amax(r2_test_vec))\n",
    "\n",
    "best_k_y_pred = y_pred_test_vec[(np.where(r2_test_vec == np.amax(r2_test_vec))[0])[0]]\n",
    "\n",
    "r2_aj = 1 - (1-r2_score(y_test, best_k_y_pred))*(len(y_test)-1) / (len(y_test) - x_test.shape[1] - 1)\n",
    "\n",
    "print('Best K R2 adj (test): %.4f'%r2_aj)"
   ]
  },
  {
   "cell_type": "code",
   "execution_count": 52,
   "metadata": {},
   "outputs": [
    {
     "data": {
      "text/plain": [
       "<matplotlib.legend.Legend at 0x24d62673f98>"
      ]
     },
     "execution_count": 52,
     "metadata": {},
     "output_type": "execute_result"
    },
    {
     "data": {
      "image/png": "[encoded data removed]",
      "text/plain": [
       "<Figure size 720x360 with 1 Axes>"
      ]
     },
     "metadata": {
      "needs_background": "light"
     },
     "output_type": "display_data"
    }
   ],
   "source": [
    "plt.figure(figsize=(10,5))\n",
    "ax = plt.gca() # get current axis\n",
    "plt.plot(k_vec, mae_train_vec)\n",
    "plt.plot(k_vec, mae_test_vec)\n",
    "ax.set_xlim(ax.get_xlim()[::-1])  # reverse axis\n",
    "plt.axis('tight')\n",
    "plt.xlabel('k')\n",
    "plt.ylabel('Error Absoluto Medio')\n",
    "plt.title('Evolución del MAE vs complejidad del modelo k-nn (valor de k más pequeño)')\n",
    "plt.legend(['train', 'test'])"
   ]
  },
  {
   "cell_type": "code",
   "execution_count": 53,
   "metadata": {
    "scrolled": false
   },
   "outputs": [
    {
     "data": {
      "text/plain": [
       "<matplotlib.legend.Legend at 0x24d626cba20>"
      ]
     },
     "execution_count": 53,
     "metadata": {},
     "output_type": "execute_result"
    },
    {
     "data": {
      "image/png": "[encoded data removed]",
      "text/plain": [
       "<Figure size 720x360 with 1 Axes>"
      ]
     },
     "metadata": {
      "needs_background": "light"
     },
     "output_type": "display_data"
    }
   ],
   "source": [
    "plt.figure(figsize=(10,5))\n",
    "ax = plt.gca() # get current axis\n",
    "plt.plot(k_vec, r2_train_vec)\n",
    "plt.plot(k_vec, r2_test_vec)\n",
    "ax.set_xlim(ax.get_xlim()[::-1])  # reverse axis\n",
    "plt.axis('tight')\n",
    "plt.xlabel('k')\n",
    "plt.ylabel('Coeficiente de Determinación')\n",
    "plt.title('Evolución del R2 vs complejidad del modelo k-nn (valor de k más pequeño)')\n",
    "plt.legend(['train', 'test'])"
   ]
  },
  {
   "cell_type": "markdown",
   "metadata": {},
   "source": [
    "#### 3.2. Predicción con variables Backward Stepwise"
   ]
  },
  {
   "cell_type": "code",
   "execution_count": 54,
   "metadata": {},
   "outputs": [],
   "source": [
    "x_train_filtered = x_train[current_variables_backward]\n",
    "x_test_filtered = x_test[current_variables_backward]"
   ]
  },
  {
   "cell_type": "code",
   "execution_count": 55,
   "metadata": {
    "scrolled": true
   },
   "outputs": [
    {
     "name": "stdout",
     "output_type": "stream",
     "text": [
      "[0.0, 3465756.93856999, 3724241.486404834, 4041485.4911523513, 4210044.856998992, 4306671.423784674, 4433744.315826168, 4545344.636455186, 4658080.86991292, 4715902.2878041025, 4696405.807509711, 4702680.577827401, 4718042.223927492, 4723358.006713662, 4749053.3735805815]\n",
      "[1.0, 0.5701802311185593, 0.48999158320743774, 0.4216379443959072, 0.39679732742990337, 0.3717841581117346, 0.3473254596849431, 0.32097497699605115, 0.30249345460031873, 0.2924170573536451, 0.30075769423444565, 0.30335369452887195, 0.2989472764030472, 0.3011590566339565, 0.291348125474714]\n",
      "[5598996.951048951, 4570532.692307692, 4431855.047552447, 4490250.708291709, 4501291.9836829845, 4424920.462174189, 4571883.399139322, 4616262.173426573, 4606490.2274784045, 4594838.881486934, 4576765.939393939, 4516433.304043782, 4538178.66937063, 4533586.2419062415, 4558517.060284543]\n",
      "[-0.35335853364460923, 0.15348839414232474, 0.25698197323353544, 0.27256664592080093, 0.27961873966544304, 0.30229861901754207, 0.27561875247147594, 0.270815437110961, 0.26742236185333346, 0.273087009486348, 0.2779348472291161, 0.2995481696119775, 0.2954990189326646, 0.28622295128366804, 0.29221078978845716]\n",
      "[ 1  3  5  7  9 11 13 15 17 19 21 23 25 27 29]\n"
     ]
    }
   ],
   "source": [
    "mae_train_vec=[]\n",
    "mae_test_vec=[]\n",
    "r2_train_vec=[]\n",
    "r2_test_vec=[]\n",
    "y_pred_test_vec=[]\n",
    "y_pred_train_vec=[]\n",
    "\n",
    "for k in k_vec:\n",
    "    knn = KNeighborsRegressor(n_neighbors=k)\n",
    "    knn.fit(x_train_filtered, y_train)\n",
    "    y_pred = knn.predict(x_train_filtered)\n",
    "    y_pred_train_vec.append(y_pred)\n",
    "    mae_train_vec.append(mean_absolute_error(y_train, y_pred))\n",
    "    r2_train_vec.append(r2_score(y_train, y_pred))\n",
    "    y_pred = knn.predict(x_test_filtered)\n",
    "    y_pred_test_vec.append(y_pred)\n",
    "    mae_test_vec.append(mean_absolute_error(y_test, y_pred))\n",
    "    r2_test_vec.append(r2_score(y_test, y_pred))\n",
    "print(mae_train_vec)\n",
    "print(r2_train_vec)\n",
    "print(mae_test_vec)\n",
    "print(r2_test_vec)\n",
    "print(k_vec)"
   ]
  },
  {
   "cell_type": "code",
   "execution_count": 56,
   "metadata": {},
   "outputs": [
    {
     "name": "stdout",
     "output_type": "stream",
     "text": [
      "Best K MAE (train): [1]\n",
      "Best K R2 (train): [1]\n",
      "Best K MAE(test): [11] , value: 4424920.462174189\n",
      "Best K R2 (test): [11] , value: 0.30229861901754207\n",
      "Best K R2 adj (test): 0.1459\n"
     ]
    }
   ],
   "source": [
    "mae_train_best = k_vec[np.where(mae_train_vec == np.amin(mae_train_vec))[0]]\n",
    "r2_train_best = k_vec[np.where(r2_train_vec == np.amax(r2_train_vec))[0]]\n",
    "mae_test_best = k_vec[np.where(mae_test_vec == np.amin(mae_test_vec))[0]]\n",
    "r2_test_best = k_vec[np.where(r2_test_vec == np.amax(r2_test_vec))[0]]\n",
    "print(\"Best K MAE (train):\",mae_train_best)\n",
    "print(\"Best K R2 (train):\",r2_train_best)\n",
    "print(\"Best K MAE(test):\",mae_test_best,\", value:\",np.amin(mae_test_vec))\n",
    "print(\"Best K R2 (test):\",r2_test_best,\", value:\",np.amax(r2_test_vec))\n",
    "\n",
    "best_k_y_pred = y_pred_test_vec[(np.where(r2_test_vec == np.amax(r2_test_vec))[0])[0]]\n",
    "\n",
    "r2_aj = 1 - (1-r2_score(y_test, best_k_y_pred))*(len(y_test)-1) / (len(y_test) - x_test.shape[1] - 1)\n",
    "\n",
    "print('Best K R2 adj (test): %.4f'%r2_aj)"
   ]
  },
  {
   "cell_type": "code",
   "execution_count": 57,
   "metadata": {},
   "outputs": [
    {
     "data": {
      "text/plain": [
       "<matplotlib.legend.Legend at 0x24d6274b908>"
      ]
     },
     "execution_count": 57,
     "metadata": {},
     "output_type": "execute_result"
    },
    {
     "data": {
      "image/png": "[encoded data removed]",
      "text/plain": [
       "<Figure size 720x360 with 1 Axes>"
      ]
     },
     "metadata": {
      "needs_background": "light"
     },
     "output_type": "display_data"
    }
   ],
   "source": [
    "plt.figure(figsize=(10,5))\n",
    "ax = plt.gca() # get current axis\n",
    "plt.plot(k_vec, mae_train_vec)\n",
    "plt.plot(k_vec, mae_test_vec)\n",
    "ax.set_xlim(ax.get_xlim()[::-1])  # reverse axis\n",
    "plt.axis('tight')\n",
    "plt.xlabel('k')\n",
    "plt.ylabel('Error Absoluto Medio')\n",
    "plt.title('Evolución del MAE vs complejidad del modelo k-nn (valor de k más pequeño)')\n",
    "plt.legend(['train', 'test'])"
   ]
  },
  {
   "cell_type": "code",
   "execution_count": 58,
   "metadata": {
    "scrolled": true
   },
   "outputs": [
    {
     "data": {
      "text/plain": [
       "<matplotlib.legend.Legend at 0x24d627b00f0>"
      ]
     },
     "execution_count": 58,
     "metadata": {},
     "output_type": "execute_result"
    },
    {
     "data": {
      "image/png": "[encoded data removed]",
      "text/plain": [
       "<Figure size 720x360 with 1 Axes>"
      ]
     },
     "metadata": {
      "needs_background": "light"
     },
     "output_type": "display_data"
    }
   ],
   "source": [
    "plt.figure(figsize=(10,5))\n",
    "ax = plt.gca() # get current axis\n",
    "plt.plot(k_vec, r2_train_vec)\n",
    "plt.plot(k_vec, r2_test_vec)\n",
    "ax.set_xlim(ax.get_xlim()[::-1])  # reverse axis\n",
    "plt.axis('tight')\n",
    "plt.xlabel('k')\n",
    "plt.ylabel('Coeficiente de Determinación')\n",
    "plt.title('Evolución del R2 vs complejidad del modelo k-nn (valor de k más pequeño)')\n",
    "plt.legend(['train', 'test'])"
   ]
  },
  {
   "cell_type": "markdown",
   "metadata": {},
   "source": [
    "Dado que los modelos tienen diferente número de predictores, se compararán mediante el R2 ajustado.\n",
    "\n",
    "En el primer caso, donde se usaron todas las variables independientes, el R2 ajustado fue de:\n",
    "\n",
    "* R2 adj: 0.1479\n",
    "\n",
    "En el segundo caso, donde se filtraron las variables predictoras por forward stepwise, el R2 ajustado fue de:\n",
    "\n",
    "* R2 adj: 0.1437\n",
    "\n",
    "En el tercer caso, donde se filtraron las variables predictoras por backward stepwise, el R2 ajustado fue de:\n",
    "\n",
    "* R2 adj: 0.1459\n",
    "\n",
    "Se puede observar que en el primer caso se obtuvieron las métricas, y por lo tanto, las mejores predicciones del modelo."
   ]
  },
  {
   "cell_type": "markdown",
   "metadata": {},
   "source": [
    "## Comparación de Modelos"
   ]
  },
  {
   "cell_type": "markdown",
   "metadata": {},
   "source": [
    "* R2 ajustado Regresión Lineal: 0.4396\n",
    "\n",
    "* R2 ajustado Redes Neuronales: 0.3981\n",
    "\n",
    "* R2 ajustado K-Nearest Neighbors: 0.1479\n",
    "\n",
    "Se observa que el modelo con mejor métrica es el de Regresión Lineal, y por ende, el que da las mejores predicciones."
   ]
  },
  {
   "cell_type": "markdown",
   "metadata": {},
   "source": [
    "# Maousekeherramientas para usar más adelante\n"
   ]
  },
  {
   "cell_type": "code",
   "execution_count": 107,
   "metadata": {
    "scrolled": false
   },
   "outputs": [],
   "source": [
    "# Filtrado\n",
    "#data['FTr'].sort_values(ascending=False)"
   ]
  },
  {
   "cell_type": "code",
   "execution_count": 108,
   "metadata": {},
   "outputs": [],
   "source": [
    "# Obtener registro por index\n",
    "#pd.options.display.max_columns = None\n",
    "#pd.options.display.max_rows = None\n",
    "#data.iloc[163:164]"
   ]
  },
  {
   "cell_type": "code",
   "execution_count": 109,
   "metadata": {},
   "outputs": [],
   "source": [
    "#Matriz de correlación\n",
    "#pd.plotting.scatter_matrix(data.iloc[6:], figsize=(50,50))"
   ]
  }
 ],
 "metadata": {
  "kernelspec": {
   "display_name": "Python 3",
   "language": "python",
   "name": "python3"
  },
  "language_info": {
   "codemirror_mode": {
    "name": "ipython",
    "version": 3
   },
   "file_extension": ".py",
   "mimetype": "text/x-python",
   "name": "python",
   "nbconvert_exporter": "python",
   "pygments_lexer": "ipython3",
   "version": "3.7.3"
  }
 },
 "nbformat": 4,
 "nbformat_minor": 2
}
